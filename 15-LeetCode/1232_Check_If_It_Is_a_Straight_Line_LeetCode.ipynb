{
  "nbformat": 4,
  "nbformat_minor": 0,
  "metadata": {
    "colab": {
      "name": "1232 Check If It Is a Straight Line LeetCode.ipynb",
      "provenance": [],
      "authorship_tag": "ABX9TyMjn1gClQ1TVFIx7oRew3fy",
      "include_colab_link": true
    },
    "kernelspec": {
      "name": "python3",
      "display_name": "Python 3"
    },
    "language_info": {
      "name": "python"
    }
  },
  "cells": [
    {
      "cell_type": "markdown",
      "metadata": {
        "id": "view-in-github",
        "colab_type": "text"
      },
      "source": [
        "<a href=\"https://colab.research.google.com/github/plthiyagu/AI-Engineering/blob/master/15-LeetCode/1232_Check_If_It_Is_a_Straight_Line_LeetCode.ipynb\" target=\"_parent\"><img src=\"https://colab.research.google.com/assets/colab-badge.svg\" alt=\"Open In Colab\"/></a>"
      ]
    },
    {
      "cell_type": "code",
      "execution_count": 1,
      "metadata": {
        "id": "xGsTEVX-kP4B"
      },
      "outputs": [],
      "source": [
        "from typing import List\n",
        "\n",
        "class Solution:\n",
        "    def checkStraightLine(self, coordinates: List[List[int]]) -> bool:\n",
        "        dy = coordinates[1][1] - coordinates[0][1]\n",
        "        dx = coordinates[1][0] - coordinates[0][0]\n",
        "        for i in range(2, len(coordinates)):\n",
        "            dyp = coordinates[i][1] - coordinates[0][1]\n",
        "            dxp = coordinates[i][0] - coordinates[0][0]\n",
        "            if dy * dxp != dx * dyp:\n",
        "                return False\n",
        "        return True"
      ]
    },
    {
      "cell_type": "code",
      "source": [
        "coordinates = [[1,2],[2,3],[3,4],[4,5],[5,6],[6,7]]\n",
        "sol = Solution()\n",
        "sol.checkStraightLine(coordinates)"
      ],
      "metadata": {
        "colab": {
          "base_uri": "https://localhost:8080/"
        },
        "id": "TaW30Y0zkTOH",
        "outputId": "4991d936-46da-4de4-9aaa-9ce1c7214a57"
      },
      "execution_count": 3,
      "outputs": [
        {
          "output_type": "execute_result",
          "data": {
            "text/plain": [
              "True"
            ]
          },
          "metadata": {},
          "execution_count": 3
        }
      ]
    },
    {
      "cell_type": "code",
      "source": [
        ""
      ],
      "metadata": {
        "id": "6sHTezW2kwqp"
      },
      "execution_count": null,
      "outputs": []
    }
  ]
}