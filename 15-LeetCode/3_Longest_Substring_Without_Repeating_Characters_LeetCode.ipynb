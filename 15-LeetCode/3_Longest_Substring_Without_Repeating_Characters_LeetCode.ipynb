{
  "nbformat": 4,
  "nbformat_minor": 0,
  "metadata": {
    "colab": {
      "name": "3 Longest Substring Without Repeating Characters LeetCode.ipynb",
      "provenance": [],
      "authorship_tag": "ABX9TyPSv9YqoHgOK+7evvTfg7iu",
      "include_colab_link": true
    },
    "kernelspec": {
      "name": "python3",
      "display_name": "Python 3"
    },
    "language_info": {
      "name": "python"
    }
  },
  "cells": [
    {
      "cell_type": "markdown",
      "metadata": {
        "id": "view-in-github",
        "colab_type": "text"
      },
      "source": [
        "<a href=\"https://colab.research.google.com/github/plthiyagu/AI-Engineering/blob/master/15-LeetCode/3_Longest_Substring_Without_Repeating_Characters_LeetCode.ipynb\" target=\"_parent\"><img src=\"https://colab.research.google.com/assets/colab-badge.svg\" alt=\"Open In Colab\"/></a>"
      ]
    },
    {
      "cell_type": "code",
      "execution_count": 4,
      "metadata": {
        "id": "xeNztJNFVNae"
      },
      "outputs": [],
      "source": [
        "class Solution:\n",
        "    def lengthOfLongestSubstring(self, s: str) -> int:\n",
        "\n",
        "      chars =[None] * 128\n",
        "      left = right =0\n",
        "      res =0\n",
        "\n",
        "      while right < len(s):\n",
        "        r = s[right]\n",
        "        index = chars[ord(r)]\n",
        "        if index != None  and index >= left and index <right:\n",
        "          left = index +1\n",
        "        res = max(res,  right -left +1 )\n",
        "        chars[ord(r)] = right\n",
        "        right += 1\n",
        "      return res\n"
      ]
    },
    {
      "cell_type": "code",
      "source": [
        "s = \"bbbbb\"\n",
        "sol= Solution()\n",
        "sol.lengthOfLongestSubstring(s)"
      ],
      "metadata": {
        "colab": {
          "base_uri": "https://localhost:8080/"
        },
        "id": "TuhTYeQTd3v9",
        "outputId": "195ccda5-4daa-44b5-8530-b205250a6396"
      },
      "execution_count": 5,
      "outputs": [
        {
          "output_type": "execute_result",
          "data": {
            "text/plain": [
              "1"
            ]
          },
          "metadata": {},
          "execution_count": 5
        }
      ]
    },
    {
      "cell_type": "code",
      "source": [
        ""
      ],
      "metadata": {
        "id": "9oo2KE2od-OX"
      },
      "execution_count": null,
      "outputs": []
    },
    {
      "cell_type": "code",
      "source": [
        ""
      ],
      "metadata": {
        "id": "oS_LwefZdBER"
      },
      "execution_count": null,
      "outputs": []
    }
  ]
}