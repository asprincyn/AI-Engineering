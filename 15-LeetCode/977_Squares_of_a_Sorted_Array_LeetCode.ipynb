{
  "nbformat": 4,
  "nbformat_minor": 0,
  "metadata": {
    "colab": {
      "name": "977 Squares of a Sorted Array LeetCode.ipynb",
      "provenance": [],
      "authorship_tag": "ABX9TyMy8CkZsmZD2N3ATFPtYvQo",
      "include_colab_link": true
    },
    "kernelspec": {
      "name": "python3",
      "display_name": "Python 3"
    },
    "language_info": {
      "name": "python"
    }
  },
  "cells": [
    {
      "cell_type": "markdown",
      "metadata": {
        "id": "view-in-github",
        "colab_type": "text"
      },
      "source": [
        "<a href=\"https://colab.research.google.com/github/plthiyagu/AI-Engineering/blob/master/15-LeetCode/977_Squares_of_a_Sorted_Array_LeetCode.ipynb\" target=\"_parent\"><img src=\"https://colab.research.google.com/assets/colab-badge.svg\" alt=\"Open In Colab\"/></a>"
      ]
    },
    {
      "cell_type": "code",
      "execution_count": 4,
      "metadata": {
        "id": "hlfu3NGEJnc2"
      },
      "outputs": [],
      "source": [
        "from typing import List\n",
        "class Solution:\n",
        "    def sortedSquares(self, nums: List[int]) -> List[int]:\n",
        "       return sorted([ n**2 for n in nums])"
      ]
    },
    {
      "cell_type": "code",
      "source": [
        "nums = [-4,-1,0,3,10]\n",
        "sol = Solution()\n",
        "sol.sortedSquares(nums)"
      ],
      "metadata": {
        "colab": {
          "base_uri": "https://localhost:8080/"
        },
        "id": "tKuhUxIZJwXr",
        "outputId": "94eabb93-d6bb-454e-90ec-85f20a3ac72a"
      },
      "execution_count": 5,
      "outputs": [
        {
          "output_type": "execute_result",
          "data": {
            "text/plain": [
              "[0, 1, 9, 16, 100]"
            ]
          },
          "metadata": {},
          "execution_count": 5
        }
      ]
    },
    {
      "cell_type": "code",
      "source": [
        "class Solution:\n",
        "    def sortedSquares(self, nums: List[int]) -> List[int]:\n",
        "      n= len(nums)\n",
        "      result = [0] * n\n",
        "      left =0\n",
        "      right = n-1\n",
        "      for i in range(n-1,-1,-1):\n",
        "        if abs(nums[left] < abs(nums[right])):\n",
        "          square = nums[right]\n",
        "          right -=1\n",
        "        else:\n",
        "          square = nums[left]\n",
        "          left += 1\n",
        "        result[i] = square * square\n",
        "      return sorted(result)"
      ],
      "metadata": {
        "id": "akquhNfFJ9u3"
      },
      "execution_count": 9,
      "outputs": []
    },
    {
      "cell_type": "code",
      "source": [
        "nums = [-4,-1,0,3,10]\n",
        "sol = Solution()\n",
        "sol.sortedSquares(nums)"
      ],
      "metadata": {
        "colab": {
          "base_uri": "https://localhost:8080/"
        },
        "id": "DKpjdU40OSoA",
        "outputId": "23aad581-7a60-4623-825c-1c1fcbbf105a"
      },
      "execution_count": 10,
      "outputs": [
        {
          "output_type": "execute_result",
          "data": {
            "text/plain": [
              "[0, 1, 9, 16, 100]"
            ]
          },
          "metadata": {},
          "execution_count": 10
        }
      ]
    },
    {
      "cell_type": "code",
      "source": [
        ""
      ],
      "metadata": {
        "id": "JGRlbztyOTId"
      },
      "execution_count": null,
      "outputs": []
    }
  ]
}