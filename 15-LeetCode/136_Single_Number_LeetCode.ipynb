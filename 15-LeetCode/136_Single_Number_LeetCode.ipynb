{
  "nbformat": 4,
  "nbformat_minor": 0,
  "metadata": {
    "colab": {
      "name": "136 Single Number LeetCode.ipynb",
      "provenance": [],
      "collapsed_sections": [],
      "authorship_tag": "ABX9TyMJzkIEZ6BLUMyc41sCp0pY",
      "include_colab_link": true
    },
    "kernelspec": {
      "name": "python3",
      "display_name": "Python 3"
    },
    "language_info": {
      "name": "python"
    }
  },
  "cells": [
    {
      "cell_type": "markdown",
      "metadata": {
        "id": "view-in-github",
        "colab_type": "text"
      },
      "source": [
        "<a href=\"https://colab.research.google.com/github/plthiyagu/AI-Engineering/blob/master/15-LeetCode/136_Single_Number_LeetCode.ipynb\" target=\"_parent\"><img src=\"https://colab.research.google.com/assets/colab-badge.svg\" alt=\"Open In Colab\"/></a>"
      ]
    },
    {
      "cell_type": "code",
      "execution_count": 3,
      "metadata": {
        "id": "WtcNf3y7vOS5"
      },
      "outputs": [],
      "source": [
        "from typing import List\n",
        "import collections\n",
        "class Solution:\n",
        "    def singleNumber(self, nums: List[int]) -> int:\n",
        "      hash_table = collections.defaultdict(int)\n",
        "      for num in nums:\n",
        "        hash_table[num] +=1\n",
        "      for i in hash_table:\n",
        "        if hash_table[i]==1:\n",
        "          return i\n"
      ]
    },
    {
      "cell_type": "code",
      "source": [
        "nums = [2,2,1]\n",
        "sol = Solution()\n",
        "sol.singleNumber(nums)"
      ],
      "metadata": {
        "colab": {
          "base_uri": "https://localhost:8080/"
        },
        "id": "W7fHNDCo1ZlD",
        "outputId": "b0a2c07a-f590-473b-e6da-17720cef9330"
      },
      "execution_count": 4,
      "outputs": [
        {
          "output_type": "execute_result",
          "data": {
            "text/plain": [
              "1"
            ]
          },
          "metadata": {},
          "execution_count": 4
        }
      ]
    },
    {
      "cell_type": "code",
      "source": [
        ""
      ],
      "metadata": {
        "id": "aBavuwrO13ou"
      },
      "execution_count": null,
      "outputs": []
    }
  ]
}