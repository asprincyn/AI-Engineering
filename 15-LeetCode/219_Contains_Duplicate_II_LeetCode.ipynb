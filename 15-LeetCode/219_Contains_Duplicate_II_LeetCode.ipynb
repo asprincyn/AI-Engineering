{
  "nbformat": 4,
  "nbformat_minor": 0,
  "metadata": {
    "colab": {
      "name": "219 Contains Duplicate II LeetCode.ipynb",
      "provenance": [],
      "authorship_tag": "ABX9TyOM+bGse1xOe10BmVc3Xthq",
      "include_colab_link": true
    },
    "kernelspec": {
      "name": "python3",
      "display_name": "Python 3"
    },
    "language_info": {
      "name": "python"
    }
  },
  "cells": [
    {
      "cell_type": "markdown",
      "metadata": {
        "id": "view-in-github",
        "colab_type": "text"
      },
      "source": [
        "<a href=\"https://colab.research.google.com/github/plthiyagu/AI-Engineering/blob/master/15-LeetCode/219_Contains_Duplicate_II_LeetCode.ipynb\" target=\"_parent\"><img src=\"https://colab.research.google.com/assets/colab-badge.svg\" alt=\"Open In Colab\"/></a>"
      ]
    },
    {
      "cell_type": "code",
      "execution_count": 3,
      "metadata": {
        "id": "Sx2WWoB9x3Or"
      },
      "outputs": [],
      "source": [
        "from typing import List\n",
        "class Solution:\n",
        "    def containsNearbyDuplicate(self, nums: List[int], k: int) -> bool:\n",
        "        index_map = {}\n",
        "\n",
        "        for i in range(len(nums)):\n",
        "            num = nums[i]\n",
        "            if num in index_map and i - index_map[num] <= k:\n",
        "                return True\n",
        "            index_map[num] = i\n",
        "\n",
        "        return False"
      ]
    },
    {
      "cell_type": "code",
      "source": [
        "nums = [1,2,3,1]\n",
        "k = 3\n",
        "sol = Solution()\n",
        "sol.containsNearbyDuplicate(nums,k)"
      ],
      "metadata": {
        "colab": {
          "base_uri": "https://localhost:8080/"
        },
        "id": "HN1wz1vhx42U",
        "outputId": "ff6b1a31-d61e-4fb1-d71b-9f75e0f783d8"
      },
      "execution_count": 4,
      "outputs": [
        {
          "output_type": "execute_result",
          "data": {
            "text/plain": [
              "True"
            ]
          },
          "metadata": {},
          "execution_count": 4
        }
      ]
    },
    {
      "cell_type": "code",
      "source": [
        ""
      ],
      "metadata": {
        "id": "HviVAKOvyNYL"
      },
      "execution_count": null,
      "outputs": []
    }
  ]
}