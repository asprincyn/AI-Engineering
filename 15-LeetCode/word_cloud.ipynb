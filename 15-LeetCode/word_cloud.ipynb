{
  "nbformat": 4,
  "nbformat_minor": 0,
  "metadata": {
    "colab": {
      "name": "word cloud.ipynb",
      "provenance": [],
      "authorship_tag": "ABX9TyPypXM3QZwoe4Ugz0uBvcND",
      "include_colab_link": true
    },
    "kernelspec": {
      "name": "python3",
      "display_name": "Python 3"
    },
    "language_info": {
      "name": "python"
    }
  },
  "cells": [
    {
      "cell_type": "markdown",
      "metadata": {
        "id": "view-in-github",
        "colab_type": "text"
      },
      "source": [
        "<a href=\"https://colab.research.google.com/github/plthiyagu/AI-Engineering/blob/master/15-LeetCode/word_cloud.ipynb\" target=\"_parent\"><img src=\"https://colab.research.google.com/assets/colab-badge.svg\" alt=\"Open In Colab\"/></a>"
      ]
    },
    {
      "cell_type": "code",
      "execution_count": null,
      "metadata": {
        "id": "A1FIucgHPd5V"
      },
      "outputs": [],
      "source": [
        "class WordCloudData:\n",
        "\n",
        "  def __init__(self, input_string):\n",
        "      self.words_to_counts = {}\n",
        "      self.populate_words_to_counts(input_string)\n",
        "\n",
        "  def populate_words_to_counts(self, input_string):\n",
        "      # Iterates over each character in the input string, splitting\n",
        "      # words and passing them to add_word_to_dictionary()\n",
        "      current_word_start_index = 0\n",
        "      current_word_length = 0\n",
        "      for i, character in enumerate(input_string):\n",
        "\n",
        "          # If we reached the end of the string we check if the last\n",
        "          # character is a letter and add the last word to our dictionary\n",
        "          if i == len(input_string) - 1:\n",
        "              if character.isalpha():\n",
        "                  current_word_length += 1\n",
        "              if current_word_length > 0:\n",
        "                  current_word = input_string[current_word_start_index:\n",
        "                      current_word_start_index + current_word_length]\n",
        "                  self.add_word_to_dictionary(current_word)\n",
        "\n",
        "          # If we reach a space or emdash we know we're at the end of a word\n",
        "          # so we add it to our dictionary and reset our current word\n",
        "          elif character == ' ' or character == u'\\u2014':\n",
        "              if current_word_length > 0:\n",
        "                  current_word = input_string[current_word_start_index:\n",
        "                      current_word_start_index + current_word_length]\n",
        "                  self.add_word_to_dictionary(current_word)\n",
        "                  current_word_length = 0\n",
        "\n",
        "          # We want to make sure we split on ellipses so if we get two periods in\n",
        "          # a row we add the current word to our dictionary and reset our current word\n",
        "          elif character == '.':\n",
        "              if i < len(input_string) - 1 and input_string[i + 1] == '.':\n",
        "                  if current_word_length > 0:\n",
        "                      current_word = input_string[current_word_start_index:\n",
        "                          current_word_start_index + current_word_length]\n",
        "                      self.add_word_to_dictionary(current_word)\n",
        "                      current_word_length = 0\n",
        "\n",
        "          # If the character is a letter or an apostrophe, we add it to our current word\n",
        "          elif character.isalpha() or character == '\\'':\n",
        "              if current_word_length == 0:\n",
        "                  current_word_start_index = i\n",
        "              current_word_length += 1\n",
        "\n",
        "          # If the character is a hyphen, we want to check if it's surrounded by letters\n",
        "          # If it is, we add it to our current word\n",
        "          elif character == '-':\n",
        "              if i > 0 and input_string[i - 1].isalpha() and \\\n",
        "                      input_string[i + 1].isalpha():\n",
        "                  current_word_length += 1\n",
        "              else:\n",
        "                  if current_word_length > 0:\n",
        "                      current_word = input_string[current_word_start_index:\n",
        "                          current_word_start_index + current_word_length]\n",
        "                      self.add_word_to_dictionary(current_word)\n",
        "                      current_word_length = 0\n",
        "\n",
        "\n",
        "  def add_word_to_dictionary(self, word):\n",
        "      # If the word is already in the dictionary we increment its count\n",
        "      if word in self.words_to_counts:\n",
        "          self.words_to_counts[word] += 1\n",
        "\n",
        "      # If a lowercase version is in the dictionary, we know our input word must be uppercase\n",
        "      # but we only include uppercase words if they're always uppercase\n",
        "      # so we just increment the lowercase version's count\n",
        "      elif word.lower() in self.words_to_counts:\n",
        "          self.words_to_counts[word.lower()] += 1\n",
        "\n",
        "      # If an uppercase version is in the dictionary, we know our input word must be lowercase.\n",
        "      # since we only include uppercase words if they're always uppercase, we add the\n",
        "      # lowercase version and give it the uppercase version's count\n",
        "      elif word.capitalize() in self.words_to_counts:\n",
        "          self.words_to_counts[word] = 1\n",
        "          self.words_to_counts[word] += self.words_to_counts[word.capitalize()]\n",
        "          del self.words_to_counts[word.capitalize()]\n",
        "\n",
        "      # Otherwise, the word is not in the dictionary at all, lowercase or uppercase\n",
        "      # so we add it to the dictionary\n",
        "      else:\n",
        "          self.words_to_counts[word] = 1"
      ]
    }
  ]
}