{
  "nbformat": 4,
  "nbformat_minor": 0,
  "metadata": {
    "colab": {
      "name": "567 Permutation in String LeetCode.ipynb",
      "provenance": [],
      "authorship_tag": "ABX9TyMGr0cyA4thLIXdlscJEjq/",
      "include_colab_link": true
    },
    "kernelspec": {
      "name": "python3",
      "display_name": "Python 3"
    },
    "language_info": {
      "name": "python"
    }
  },
  "cells": [
    {
      "cell_type": "markdown",
      "metadata": {
        "id": "view-in-github",
        "colab_type": "text"
      },
      "source": [
        "<a href=\"https://colab.research.google.com/github/plthiyagu/AI-Engineering/blob/master/15-LeetCode/567_Permutation_in_String_LeetCode.ipynb\" target=\"_parent\"><img src=\"https://colab.research.google.com/assets/colab-badge.svg\" alt=\"Open In Colab\"/></a>"
      ]
    },
    {
      "cell_type": "code",
      "execution_count": 3,
      "metadata": {
        "id": "jJk8Y-ekoIOS"
      },
      "outputs": [],
      "source": [
        "import collections\n",
        "\n",
        "def checkInclusion( s1: str, s2: str) -> bool:\n",
        "    s1_counter = collections.Counter(s1)\n",
        "    \n",
        "    s1_len = len(s1)\n",
        "    \n",
        "    for i in range(len(s2) - s1_len + 1):\n",
        "        if collections.Counter(s2[i:i+s1_len]) == s1_counter:\n",
        "            return True\n",
        "        \n",
        "    return False"
      ]
    },
    {
      "cell_type": "code",
      "source": [
        "s1 = \"ab\"\n",
        "s2 = \"eidbaooo\"\n",
        "checkInclusion(s1,s2)"
      ],
      "metadata": {
        "colab": {
          "base_uri": "https://localhost:8080/"
        },
        "id": "EJaYvXxdoMqG",
        "outputId": "e23bbcc0-1628-4da4-e0b7-01891d05cb05"
      },
      "execution_count": 4,
      "outputs": [
        {
          "output_type": "execute_result",
          "data": {
            "text/plain": [
              "True"
            ]
          },
          "metadata": {},
          "execution_count": 4
        }
      ]
    },
    {
      "cell_type": "code",
      "source": [
        ""
      ],
      "metadata": {
        "id": "P5C8ZOTcoUmq"
      },
      "execution_count": null,
      "outputs": []
    }
  ]
}