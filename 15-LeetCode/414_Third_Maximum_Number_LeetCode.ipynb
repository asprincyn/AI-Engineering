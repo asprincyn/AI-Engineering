{
  "nbformat": 4,
  "nbformat_minor": 0,
  "metadata": {
    "colab": {
      "name": "414 Third Maximum Number LeetCode.ipynb",
      "provenance": [],
      "authorship_tag": "ABX9TyMbNySpFUid/8KfVM+qJ6aQ",
      "include_colab_link": true
    },
    "kernelspec": {
      "name": "python3",
      "display_name": "Python 3"
    },
    "language_info": {
      "name": "python"
    }
  },
  "cells": [
    {
      "cell_type": "markdown",
      "metadata": {
        "id": "view-in-github",
        "colab_type": "text"
      },
      "source": [
        "<a href=\"https://colab.research.google.com/github/plthiyagu/AI-Engineering/blob/master/414_Third_Maximum_Number_LeetCode.ipynb\" target=\"_parent\"><img src=\"https://colab.research.google.com/assets/colab-badge.svg\" alt=\"Open In Colab\"/></a>"
      ]
    },
    {
      "cell_type": "code",
      "execution_count": 2,
      "metadata": {
        "id": "yBniSBpZ94tN"
      },
      "outputs": [],
      "source": [
        "from typing import List\n",
        "class Solution:\n",
        "    def thirdMax(self, nums: List[int]) -> int:\n",
        "        nums = list(set(nums))\n",
        "        nums = sorted(nums)\n",
        "        \n",
        "        if len(nums) < 3:\n",
        "            return nums[-1]\n",
        "        \n",
        "        return nums[-3]"
      ]
    },
    {
      "cell_type": "code",
      "source": [
        "nums = [3,2,1]\n",
        "sol =Solution()\n",
        "sol.thirdMax(nums)"
      ],
      "metadata": {
        "colab": {
          "base_uri": "https://localhost:8080/"
        },
        "id": "ns0YImCV96JF",
        "outputId": "eff38c7c-427a-4b23-d31f-f3a7b66bd8fb"
      },
      "execution_count": 3,
      "outputs": [
        {
          "output_type": "execute_result",
          "data": {
            "text/plain": [
              "1"
            ]
          },
          "metadata": {},
          "execution_count": 3
        }
      ]
    },
    {
      "cell_type": "code",
      "source": [
        ""
      ],
      "metadata": {
        "id": "LzciW-Uf-FDl"
      },
      "execution_count": null,
      "outputs": []
    }
  ]
}