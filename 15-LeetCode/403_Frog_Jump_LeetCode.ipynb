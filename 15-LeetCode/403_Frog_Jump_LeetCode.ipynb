{
  "nbformat": 4,
  "nbformat_minor": 0,
  "metadata": {
    "colab": {
      "name": "403 Frog Jump LeetCode.ipynb",
      "provenance": [],
      "authorship_tag": "ABX9TyNZ+jDtHvPjxjNWsHrIJJle",
      "include_colab_link": true
    },
    "kernelspec": {
      "name": "python3",
      "display_name": "Python 3"
    },
    "language_info": {
      "name": "python"
    }
  },
  "cells": [
    {
      "cell_type": "markdown",
      "metadata": {
        "id": "view-in-github",
        "colab_type": "text"
      },
      "source": [
        "<a href=\"https://colab.research.google.com/github/plthiyagu/AI-Engineering/blob/master/15-LeetCode/403_Frog_Jump_LeetCode.ipynb\" target=\"_parent\"><img src=\"https://colab.research.google.com/assets/colab-badge.svg\" alt=\"Open In Colab\"/></a>"
      ]
    },
    {
      "cell_type": "code",
      "execution_count": 2,
      "metadata": {
        "id": "WJLakb4eQcXF"
      },
      "outputs": [],
      "source": [
        "from typing import List\n",
        "def canCross( stones: List[int]) -> bool:\n",
        "    stages = {x: set() for x in stones}\n",
        "    stages[0] = {0}\n",
        "    end = stones[-1]\n",
        "\n",
        "    for key in stones:\n",
        "        steps = stages[key]\n",
        "        #  steps  False\n",
        "        if not steps:\n",
        "            return False\n",
        "        #  steps  step step \n",
        "        #  True\n",
        "        if any(map(lambda step: __jump(stages, step, key, end), steps)):\n",
        "            return True\n",
        "\n",
        "    return False\n",
        "\n",
        "def __jump( stages, step, start, end):\n",
        "\n",
        "    steps = (step - 1, step, step + 1)\n",
        "    for s in filter(lambda x: x > 0 and start + x in stages, steps):\n",
        "        stages[start + s].add(s)\n",
        "        if start + s == end:\n",
        "            return True\n",
        "\n",
        "    return False"
      ]
    },
    {
      "cell_type": "code",
      "source": [
        "stones = [0,1,3,5,6,8,12,17]\n",
        "canCross(stones)"
      ],
      "metadata": {
        "colab": {
          "base_uri": "https://localhost:8080/"
        },
        "id": "EXA-03CPQocR",
        "outputId": "aefeee1d-79d7-4a1f-9e2a-d76ca77d1bd7"
      },
      "execution_count": 3,
      "outputs": [
        {
          "output_type": "execute_result",
          "data": {
            "text/plain": [
              "True"
            ]
          },
          "metadata": {},
          "execution_count": 3
        }
      ]
    },
    {
      "cell_type": "code",
      "source": [
        ""
      ],
      "metadata": {
        "id": "6IEbz_cXQzql"
      },
      "execution_count": null,
      "outputs": []
    }
  ]
}