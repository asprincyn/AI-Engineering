{
  "nbformat": 4,
  "nbformat_minor": 0,
  "metadata": {
    "colab": {
      "name": "88 Merge Sorted Array LeetCode.ipynb",
      "provenance": [],
      "authorship_tag": "ABX9TyN99lol5kF78VPehd+LVBM7",
      "include_colab_link": true
    },
    "kernelspec": {
      "name": "python3",
      "display_name": "Python 3"
    },
    "language_info": {
      "name": "python"
    }
  },
  "cells": [
    {
      "cell_type": "markdown",
      "metadata": {
        "id": "view-in-github",
        "colab_type": "text"
      },
      "source": [
        "<a href=\"https://colab.research.google.com/github/plthiyagu/AI-Engineering/blob/master/15-LeetCode/88_Merge_Sorted_Array_LeetCode.ipynb\" target=\"_parent\"><img src=\"https://colab.research.google.com/assets/colab-badge.svg\" alt=\"Open In Colab\"/></a>"
      ]
    },
    {
      "cell_type": "code",
      "execution_count": 2,
      "metadata": {
        "id": "fmgFlcmsio8r"
      },
      "outputs": [],
      "source": [
        "from typing import List\n",
        "class Solution:\n",
        "    def merge(self, nums1: List[int], m: int, nums2: List[int], n: int) -> None:\n",
        "        \"\"\"\n",
        "        Do not return anything, modify nums1 in-place instead.\n",
        "        \"\"\"\n",
        "         # Write the elements of num2 into the end of nums1.\n",
        "        for i in range(n):\n",
        "            nums1[i + m] = nums2[i]\n",
        "        \n",
        "        # Sort nums1 list in-place.\n",
        "        nums1.sort()\n",
        "        "
      ]
    },
    {
      "cell_type": "code",
      "source": [
        "nums1 = [1,2,3,0,0,0]\n",
        "m = 3\n",
        "nums2 = [2,5,6]\n",
        "n = 3\n",
        "sol= Solution()\n",
        "sol.merge(nums1,m, nums2, n)"
      ],
      "metadata": {
        "id": "OpxW8goWip_L"
      },
      "execution_count": 4,
      "outputs": []
    },
    {
      "cell_type": "code",
      "source": [
        "nums1"
      ],
      "metadata": {
        "colab": {
          "base_uri": "https://localhost:8080/"
        },
        "id": "YRVe6CjnjKIt",
        "outputId": "0599cd78-101b-4b15-a077-ebddc2a5bd69"
      },
      "execution_count": 5,
      "outputs": [
        {
          "output_type": "execute_result",
          "data": {
            "text/plain": [
              "[1, 2, 2, 3, 5, 6]"
            ]
          },
          "metadata": {},
          "execution_count": 5
        }
      ]
    },
    {
      "cell_type": "code",
      "source": [
        "class Solution:\n",
        "    def merge(self, nums1: List[int], m: int, nums2: List[int], n: int) -> None:\n",
        "        \"\"\" Do not return anything, modify nums1 in-place instead. \"\"\"\n",
        "        i, j, k = m - 1, n - 1, m + n - 1\n",
        "        while i >= 0 and j >= 0:\n",
        "            if nums1[i] > nums2[j]:\n",
        "                nums1[k] = nums1[i]\n",
        "                i, k = i - 1, k - 1\n",
        "            else:\n",
        "                nums1[k] = nums2[j]\n",
        "                j, k = j - 1, k - 1\n",
        "        while j >= 0:\n",
        "            nums1[k] = nums2[j]\n",
        "            j, k = j - 1, k - 1"
      ],
      "metadata": {
        "id": "B1mVAiygjOxJ"
      },
      "execution_count": 6,
      "outputs": []
    },
    {
      "cell_type": "code",
      "source": [
        ""
      ],
      "metadata": {
        "id": "N5Lt1A9rjD2Z"
      },
      "execution_count": null,
      "outputs": []
    }
  ]
}