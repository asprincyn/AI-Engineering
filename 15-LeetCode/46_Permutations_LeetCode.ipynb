{
  "nbformat": 4,
  "nbformat_minor": 0,
  "metadata": {
    "colab": {
      "name": "46 Permutations LeetCode.ipynb",
      "provenance": [],
      "collapsed_sections": [],
      "authorship_tag": "ABX9TyPLU+8NkswUwh5Bs00QgChc",
      "include_colab_link": true
    },
    "kernelspec": {
      "name": "python3",
      "display_name": "Python 3"
    },
    "language_info": {
      "name": "python"
    }
  },
  "cells": [
    {
      "cell_type": "markdown",
      "metadata": {
        "id": "view-in-github",
        "colab_type": "text"
      },
      "source": [
        "<a href=\"https://colab.research.google.com/github/plthiyagu/AI-Engineering/blob/master/15-LeetCode/46_Permutations_LeetCode.ipynb\" target=\"_parent\"><img src=\"https://colab.research.google.com/assets/colab-badge.svg\" alt=\"Open In Colab\"/></a>"
      ]
    },
    {
      "cell_type": "code",
      "execution_count": 2,
      "metadata": {
        "id": "LN4bcWYQzO-L"
      },
      "outputs": [],
      "source": [
        "from typing import List\n",
        "class Solution:\n",
        "    def permute(self, nums: List[int]) -> List[List[int]]:\n",
        "        def backtrack(first = 0):\n",
        "            # if all integers are used up\n",
        "            if first == n:  \n",
        "                output.append(nums[:])\n",
        "            for i in range(first, n):\n",
        "                # place i-th integer first \n",
        "                # in the current permutation\n",
        "                nums[first], nums[i] = nums[i], nums[first]\n",
        "                # use next integers to complete the permutations\n",
        "                backtrack(first + 1)\n",
        "                # backtrack\n",
        "                nums[first], nums[i] = nums[i], nums[first]\n",
        "        \n",
        "        n = len(nums)\n",
        "        output = []\n",
        "        backtrack()\n",
        "        return output\n",
        "        "
      ]
    },
    {
      "cell_type": "code",
      "source": [
        "nums = [1,2,3]\n",
        "sol= Solution()\n",
        "sol.permute(nums)"
      ],
      "metadata": {
        "colab": {
          "base_uri": "https://localhost:8080/"
        },
        "id": "qRsIREATzmjf",
        "outputId": "5cdba3ff-0f0b-4d38-f4c6-5460eb69704b"
      },
      "execution_count": 3,
      "outputs": [
        {
          "output_type": "execute_result",
          "data": {
            "text/plain": [
              "[[1, 2, 3], [1, 3, 2], [2, 1, 3], [2, 3, 1], [3, 2, 1], [3, 1, 2]]"
            ]
          },
          "metadata": {},
          "execution_count": 3
        }
      ]
    },
    {
      "cell_type": "code",
      "source": [
        ""
      ],
      "metadata": {
        "id": "donEGorMzvvp"
      },
      "execution_count": null,
      "outputs": []
    }
  ]
}