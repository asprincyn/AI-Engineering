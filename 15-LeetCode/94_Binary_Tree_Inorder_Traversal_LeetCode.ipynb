{
  "nbformat": 4,
  "nbformat_minor": 0,
  "metadata": {
    "colab": {
      "name": "94 Binary Tree Inorder Traversal LeetCode.ipynb",
      "provenance": [],
      "authorship_tag": "ABX9TyMMSSwq0Qu7f0gPtY8RP+LY",
      "include_colab_link": true
    },
    "kernelspec": {
      "name": "python3",
      "display_name": "Python 3"
    },
    "language_info": {
      "name": "python"
    }
  },
  "cells": [
    {
      "cell_type": "markdown",
      "metadata": {
        "id": "view-in-github",
        "colab_type": "text"
      },
      "source": [
        "<a href=\"https://colab.research.google.com/github/plthiyagu/AI-Engineering/blob/master/15-LeetCode/94_Binary_Tree_Inorder_Traversal_LeetCode.ipynb\" target=\"_parent\"><img src=\"https://colab.research.google.com/assets/colab-badge.svg\" alt=\"Open In Colab\"/></a>"
      ]
    },
    {
      "cell_type": "code",
      "execution_count": 4,
      "metadata": {
        "id": "igdsKbImd2BY"
      },
      "outputs": [],
      "source": [
        "from typing import Optional,List\n",
        "# Definition for a binary tree node.\n",
        "class TreeNode:\n",
        "    def __init__(self, val=0, left=None, right=None):\n",
        "        self.val = val\n",
        "        self.left = left\n",
        "        self.right = right\n",
        "class Solution:\n",
        "    def inorderTraversal(self, root: Optional[TreeNode]) -> List[int]:\n",
        "        if root is None: return []\n",
        "        def dfs(root,res):\n",
        "            if root is None: return\n",
        "            dfs(root.left,res)\n",
        "            res.append(root.val)\n",
        "            dfs(root.right,res)\n",
        "            return res\n",
        "        return dfs(root,[])"
      ]
    },
    {
      "cell_type": "code",
      "source": [
        ""
      ],
      "metadata": {
        "id": "qKqhNL_9ex3_"
      },
      "execution_count": null,
      "outputs": []
    },
    {
      "cell_type": "code",
      "source": [
        ""
      ],
      "metadata": {
        "id": "jqEAw_rfejI7"
      },
      "execution_count": null,
      "outputs": []
    }
  ]
}