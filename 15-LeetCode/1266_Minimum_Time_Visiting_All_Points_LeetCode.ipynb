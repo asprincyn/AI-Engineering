{
  "nbformat": 4,
  "nbformat_minor": 0,
  "metadata": {
    "colab": {
      "name": "1266 Minimum Time Visiting All Points LeetCode.ipynb",
      "provenance": [],
      "authorship_tag": "ABX9TyPAyEN0KB8SyzGitGcqkzaq",
      "include_colab_link": true
    },
    "kernelspec": {
      "name": "python3",
      "display_name": "Python 3"
    },
    "language_info": {
      "name": "python"
    }
  },
  "cells": [
    {
      "cell_type": "markdown",
      "metadata": {
        "id": "view-in-github",
        "colab_type": "text"
      },
      "source": [
        "<a href=\"https://colab.research.google.com/github/plthiyagu/AI-Engineering/blob/master/15-LeetCode/1266_Minimum_Time_Visiting_All_Points_LeetCode.ipynb\" target=\"_parent\"><img src=\"https://colab.research.google.com/assets/colab-badge.svg\" alt=\"Open In Colab\"/></a>"
      ]
    },
    {
      "cell_type": "code",
      "execution_count": 2,
      "metadata": {
        "id": "g_QFiqIgToIC"
      },
      "outputs": [],
      "source": [
        "from typing import  List\n",
        "class Solution:\n",
        "    def minTimeToVisitAllPoints(self, points: List[List[int]]) -> int:\n",
        "        size=len(points)\n",
        "        total_t=0\n",
        "        for i in range(size-1):\n",
        "            x=abs(points[i][0]-points[i+1][0])\n",
        "            y=abs(points[i][1]-points[i+1][1])\n",
        "            total_t+=max(x,y)\n",
        "        return total_t\n"
      ]
    },
    {
      "cell_type": "code",
      "source": [
        "points = [[3,2],[-2,2]]\n",
        "sol= Solution()\n",
        "sol.minTimeToVisitAllPoints(points)\n"
      ],
      "metadata": {
        "colab": {
          "base_uri": "https://localhost:8080/"
        },
        "id": "rHKIIurbTpw3",
        "outputId": "4e572694-082f-4293-b542-0dc96400f8d1"
      },
      "execution_count": 3,
      "outputs": [
        {
          "output_type": "execute_result",
          "data": {
            "text/plain": [
              "5"
            ]
          },
          "metadata": {},
          "execution_count": 3
        }
      ]
    },
    {
      "cell_type": "code",
      "source": [
        ""
      ],
      "metadata": {
        "id": "-k7bGNhvUN9h"
      },
      "execution_count": null,
      "outputs": []
    }
  ]
}