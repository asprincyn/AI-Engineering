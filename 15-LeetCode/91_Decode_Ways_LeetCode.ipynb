{
  "nbformat": 4,
  "nbformat_minor": 0,
  "metadata": {
    "colab": {
      "name": "91 Decode Ways LeetCode.ipynb",
      "provenance": [],
      "authorship_tag": "ABX9TyOVhOnNxN7WI3Op6+F3qOJj",
      "include_colab_link": true
    },
    "kernelspec": {
      "name": "python3",
      "display_name": "Python 3"
    },
    "language_info": {
      "name": "python"
    }
  },
  "cells": [
    {
      "cell_type": "markdown",
      "metadata": {
        "id": "view-in-github",
        "colab_type": "text"
      },
      "source": [
        "<a href=\"https://colab.research.google.com/github/plthiyagu/AI-Engineering/blob/master/15-LeetCode/91_Decode_Ways_LeetCode.ipynb\" target=\"_parent\"><img src=\"https://colab.research.google.com/assets/colab-badge.svg\" alt=\"Open In Colab\"/></a>"
      ]
    },
    {
      "cell_type": "code",
      "execution_count": 2,
      "metadata": {
        "id": "JQF-2dLU6Tta"
      },
      "outputs": [],
      "source": [
        "def numDecodings(s: str) -> int:\n",
        "    dp = [0] * (len(s) + 1)\n",
        "    dp[0] = 1\n",
        "    for i in range(1, len(dp)):\n",
        "        if int(s[i-1]) != 0:\n",
        "            dp[i] = dp[i-1]\n",
        "        if i != 1 and '09' < s[i-2:i] < '27':\n",
        "            dp[i] += dp[i-2]\n",
        "    return dp[-1]"
      ]
    },
    {
      "cell_type": "code",
      "source": [
        "s = \"12\"\n",
        "numDecodings(s)"
      ],
      "metadata": {
        "colab": {
          "base_uri": "https://localhost:8080/"
        },
        "id": "xnL6dBBG6X8K",
        "outputId": "887981ad-d855-490d-9126-1fc649c71238"
      },
      "execution_count": 3,
      "outputs": [
        {
          "output_type": "execute_result",
          "data": {
            "text/plain": [
              "2"
            ]
          },
          "metadata": {},
          "execution_count": 3
        }
      ]
    },
    {
      "cell_type": "code",
      "source": [
        ""
      ],
      "metadata": {
        "id": "llGc6Ud36mvp"
      },
      "execution_count": null,
      "outputs": []
    }
  ]
}