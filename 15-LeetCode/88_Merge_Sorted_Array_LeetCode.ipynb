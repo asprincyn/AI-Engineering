{
  "nbformat": 4,
  "nbformat_minor": 0,
  "metadata": {
    "colab": {
      "name": "88 Merge Sorted Array LeetCode.ipynb",
      "provenance": [],
      "authorship_tag": "ABX9TyM5BOhlV0nlBsVLgnOoE2+l",
      "include_colab_link": true
    },
    "kernelspec": {
      "name": "python3",
      "display_name": "Python 3"
    },
    "language_info": {
      "name": "python"
    }
  },
  "cells": [
    {
      "cell_type": "markdown",
      "metadata": {
        "id": "view-in-github",
        "colab_type": "text"
      },
      "source": [
        "<a href=\"https://colab.research.google.com/github/plthiyagu/AI-Engineering/blob/master/15-LeetCode/88_Merge_Sorted_Array_LeetCode.ipynb\" target=\"_parent\"><img src=\"https://colab.research.google.com/assets/colab-badge.svg\" alt=\"Open In Colab\"/></a>"
      ]
    },
    {
      "cell_type": "code",
      "execution_count": 1,
      "metadata": {
        "id": "2m58y53juTyO"
      },
      "outputs": [],
      "source": [
        "\n",
        "from typing import List\n",
        "class Solution:\n",
        "    def merge(self, nums1: List[int], m: int, nums2: List[int], n: int) -> None:\n",
        "        \"\"\"\n",
        "        Do not return anything, modify nums1 in-place instead.\n",
        "        \"\"\"\n",
        "        p1 = m-1\n",
        "        p2 = n-1\n",
        "        \n",
        "        for p in range(n+m-1,-1,-1):\n",
        "            \n",
        "            if p2 <0:\n",
        "                break\n",
        "            if p1 >=0 and nums1[p1] > nums2[p2]:\n",
        "                nums1[p] = nums1[p1]\n",
        "                p1 -=1\n",
        "            else:\n",
        "                nums1[p] = nums2[p2]\n",
        "                p2 -=1\n",
        "                "
      ]
    },
    {
      "cell_type": "code",
      "source": [
        "sol = Solution()\n",
        "nums1 = [1,2,3,0,0,0]\n",
        "m = 3\n",
        "nums2 = [2,5,6]\n",
        "n = 3\n",
        "sol.merge(nums1,m,nums2,n)"
      ],
      "metadata": {
        "id": "OuDmdoVkuipb"
      },
      "execution_count": 4,
      "outputs": []
    },
    {
      "cell_type": "code",
      "source": [
        ""
      ],
      "metadata": {
        "id": "HXM17m13uw2W"
      },
      "execution_count": null,
      "outputs": []
    }
  ]
}