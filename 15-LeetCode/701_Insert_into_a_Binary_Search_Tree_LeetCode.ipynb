{
  "nbformat": 4,
  "nbformat_minor": 0,
  "metadata": {
    "colab": {
      "name": "701 Insert into a Binary Search Tree LeetCode.ipynb",
      "provenance": [],
      "authorship_tag": "ABX9TyMXLLumpLSNw07sGFnKQRDU",
      "include_colab_link": true
    },
    "kernelspec": {
      "name": "python3",
      "display_name": "Python 3"
    },
    "language_info": {
      "name": "python"
    }
  },
  "cells": [
    {
      "cell_type": "markdown",
      "metadata": {
        "id": "view-in-github",
        "colab_type": "text"
      },
      "source": [
        "<a href=\"https://colab.research.google.com/github/plthiyagu/AI-Engineering/blob/master/15-LeetCode/701_Insert_into_a_Binary_Search_Tree_LeetCode.ipynb\" target=\"_parent\"><img src=\"https://colab.research.google.com/assets/colab-badge.svg\" alt=\"Open In Colab\"/></a>"
      ]
    },
    {
      "cell_type": "code",
      "execution_count": 5,
      "metadata": {
        "id": "tk5kCHPvc4QE"
      },
      "outputs": [],
      "source": [
        "from typing import Optional\n",
        "# Definition for a binary tree node.\n",
        "class TreeNode:\n",
        "    def __init__(self, val=0, left=None, right=None):\n",
        "        self.val = val\n",
        "        self.left = left\n",
        "        self.right = right\n",
        "class Solution:\n",
        "    def insertIntoBST(self, root: Optional[TreeNode], val: int) -> Optional[TreeNode]:\n",
        "        if not root:\n",
        "            return TreeNode(val)\n",
        "        if val > root.val:\n",
        "            root.right = self.insertIntoBST(root.right, val)\n",
        "        else:\n",
        "            root.left = self.insertIntoBST(root.left, val)\n",
        "        return root"
      ]
    },
    {
      "cell_type": "code",
      "source": [
        ""
      ],
      "metadata": {
        "id": "6PKdHBNGdmfi"
      },
      "execution_count": null,
      "outputs": []
    },
    {
      "cell_type": "code",
      "source": [
        ""
      ],
      "metadata": {
        "id": "3E860Uuac74g"
      },
      "execution_count": null,
      "outputs": []
    }
  ]
}