{
  "nbformat": 4,
  "nbformat_minor": 0,
  "metadata": {
    "colab": {
      "name": "1572 Matrix Diagonal Sum LeetCode.ipynb",
      "provenance": [],
      "collapsed_sections": [],
      "authorship_tag": "ABX9TyN3uFZt9NDIppJT7WbOGdre",
      "include_colab_link": true
    },
    "kernelspec": {
      "name": "python3",
      "display_name": "Python 3"
    },
    "language_info": {
      "name": "python"
    }
  },
  "cells": [
    {
      "cell_type": "markdown",
      "metadata": {
        "id": "view-in-github",
        "colab_type": "text"
      },
      "source": [
        "<a href=\"https://colab.research.google.com/github/plthiyagu/AI-Engineering/blob/master/15-LeetCode/1572_Matrix_Diagonal_Sum_LeetCode.ipynb\" target=\"_parent\"><img src=\"https://colab.research.google.com/assets/colab-badge.svg\" alt=\"Open In Colab\"/></a>"
      ]
    },
    {
      "cell_type": "code",
      "execution_count": 2,
      "metadata": {
        "id": "zgDtydGLNAn5"
      },
      "outputs": [],
      "source": [
        "from typing import List\n",
        "class Solution:\n",
        "    def diagonalSum(self, mat: List[List[int]]) -> int:\n",
        "      result =0\n",
        "      for i in range(len(mat)):\n",
        "        for j in range(len(mat[0])):\n",
        "          if i==j or j ==len(mat)-1-i:\n",
        "             result += mat[i][j]\n",
        "      return result"
      ]
    },
    {
      "cell_type": "code",
      "source": [
        "sol = Solution()\n",
        "mat =[[1,2,3],[4,5,6],[7,8,9]]\n",
        "sol.diagonalSum(mat)"
      ],
      "metadata": {
        "colab": {
          "base_uri": "https://localhost:8080/"
        },
        "id": "eCV5UnEWNrEe",
        "outputId": "f5f0bc55-5836-46f5-810b-f495561ba849"
      },
      "execution_count": 3,
      "outputs": [
        {
          "output_type": "execute_result",
          "data": {
            "text/plain": [
              "25"
            ]
          },
          "metadata": {},
          "execution_count": 3
        }
      ]
    },
    {
      "cell_type": "code",
      "source": [
        ""
      ],
      "metadata": {
        "id": "u7QvLPunOB0O"
      },
      "execution_count": null,
      "outputs": []
    }
  ]
}