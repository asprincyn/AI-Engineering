{
  "nbformat": 4,
  "nbformat_minor": 0,
  "metadata": {
    "colab": {
      "name": "delete_nth.ipynb",
      "provenance": [],
      "collapsed_sections": [],
      "authorship_tag": "ABX9TyP2vObxKvCErb7l0UIu6/as",
      "include_colab_link": true
    },
    "kernelspec": {
      "name": "python3",
      "display_name": "Python 3"
    },
    "language_info": {
      "name": "python"
    }
  },
  "cells": [
    {
      "cell_type": "markdown",
      "metadata": {
        "id": "view-in-github",
        "colab_type": "text"
      },
      "source": [
        "<a href=\"https://colab.research.google.com/github/plthiyagu/AI-Engineering/blob/master/15-LeetCode/delete_nth.ipynb\" target=\"_parent\"><img src=\"https://colab.research.google.com/assets/colab-badge.svg\" alt=\"Open In Colab\"/></a>"
      ]
    },
    {
      "cell_type": "markdown",
      "source": [
        "\"\"\"\n",
        "Given a list lst and a number N, create a new list\n",
        "that contains each number of the list at most N times without reordering.\n",
        "\n",
        "For example if N = 2, and the input is [1,2,3,1,2,1,2,3], you take [1,2,3,1,2], \n",
        "drop the next [1,2] since this would lead to 1 and 2 being in the result 3 times, and then take 3, \n",
        "which leads to [1,2,3,1,2,3]\n",
        "\"\"\""
      ],
      "metadata": {
        "id": "HCYvI4mzzu6I"
      }
    },
    {
      "cell_type": "code",
      "execution_count": 1,
      "metadata": {
        "id": "dIePqPskzuZJ"
      },
      "outputs": [],
      "source": [
        "import collections\n",
        "\n",
        "\n",
        "# Time complexity O(n^2)\n",
        "def delete_nth_naive(array, n):\n",
        "  ans = []\n",
        "  for num in array:\n",
        "    if ans.count(num) <n:\n",
        "      ans.append(num)\n",
        "  return ans"
      ]
    },
    {
      "cell_type": "code",
      "source": [
        "array=[1,2,3,1,2,1,2,3]\n",
        "n=2\n",
        "delete_nth_naive(array, n)"
      ],
      "metadata": {
        "colab": {
          "base_uri": "https://localhost:8080/"
        },
        "id": "_chg4s860FI8",
        "outputId": "46810232-2287-46da-8340-9a703b689f2d"
      },
      "execution_count": 2,
      "outputs": [
        {
          "output_type": "execute_result",
          "data": {
            "text/plain": [
              "[1, 2, 3, 1, 2, 3]"
            ]
          },
          "metadata": {},
          "execution_count": 2
        }
      ]
    },
    {
      "cell_type": "code",
      "source": [
        "def delete_nth_naive(array, n):\n",
        "  result = []\n",
        "  counts = collections.defaultdict(int)\n",
        "  for num in array:\n",
        "    if counts[num] < n:\n",
        "      result.append(num)\n",
        "      counts[num] +=1\n",
        "  return result"
      ],
      "metadata": {
        "id": "USWOr29i0NFn"
      },
      "execution_count": 5,
      "outputs": []
    },
    {
      "cell_type": "code",
      "source": [
        "array=[1,2,3,1,2,1,2,3]\n",
        "n=2\n",
        "delete_nth_naive(array, n)"
      ],
      "metadata": {
        "colab": {
          "base_uri": "https://localhost:8080/"
        },
        "id": "6jP6cKpjBnb-",
        "outputId": "3abac72a-5276-4b85-80a8-ecf77e945abd"
      },
      "execution_count": 6,
      "outputs": [
        {
          "output_type": "execute_result",
          "data": {
            "text/plain": [
              "[1, 2, 3, 1, 2, 3]"
            ]
          },
          "metadata": {},
          "execution_count": 6
        }
      ]
    },
    {
      "cell_type": "code",
      "source": [
        ""
      ],
      "metadata": {
        "id": "VESxtZFiBpTu"
      },
      "execution_count": null,
      "outputs": []
    }
  ]
}