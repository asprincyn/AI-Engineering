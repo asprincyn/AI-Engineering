{
  "nbformat": 4,
  "nbformat_minor": 0,
  "metadata": {
    "colab": {
      "name": "404 Sum of Left Leaves LeetCode.ipynb",
      "provenance": [],
      "authorship_tag": "ABX9TyMx3sq80ABlrXgG0E1dFqco",
      "include_colab_link": true
    },
    "kernelspec": {
      "name": "python3",
      "display_name": "Python 3"
    },
    "language_info": {
      "name": "python"
    }
  },
  "cells": [
    {
      "cell_type": "markdown",
      "metadata": {
        "id": "view-in-github",
        "colab_type": "text"
      },
      "source": [
        "<a href=\"https://colab.research.google.com/github/plthiyagu/AI-Engineering/blob/master/15-LeetCode/404_Sum_of_Left_Leaves_LeetCode.ipynb\" target=\"_parent\"><img src=\"https://colab.research.google.com/assets/colab-badge.svg\" alt=\"Open In Colab\"/></a>"
      ]
    },
    {
      "cell_type": "code",
      "metadata": {
        "id": "JE6agE7beWgT"
      },
      "source": [
        "# Definition for a binary tree node.\n",
        "# class TreeNode:\n",
        "#     def __init__(self, val=0, left=None, right=None):\n",
        "#         self.val = val\n",
        "#         self.left = left\n",
        "#         self.right = right\n",
        "class Solution:\n",
        "    def sumOfLeftLeaves(self, root: Optional[TreeNode]) -> int:\n",
        "        leaves_sum = 0\n",
        "        # base case\n",
        "        if root is None:\n",
        "            return 0\n",
        "        if root.left is not None and root.left.left is None and root.left.right is None:\n",
        "            leaves_sum += root.left.val\n",
        "        else:\n",
        "            leaves_sum += self.sumOfLeftLeaves(root.left)\n",
        "        \n",
        "        if root.right is not None:\n",
        "            if root.right.left is not None or root.right.right is not None:\n",
        "                leaves_sum += self.sumOfLeftLeaves(root.right)\n",
        "        \n",
        "        \n",
        "        return leaves_sum"
      ],
      "execution_count": null,
      "outputs": []
    }
  ]
}