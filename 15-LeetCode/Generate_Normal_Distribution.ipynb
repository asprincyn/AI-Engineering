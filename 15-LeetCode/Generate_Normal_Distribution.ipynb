{
  "nbformat": 4,
  "nbformat_minor": 0,
  "metadata": {
    "colab": {
      "name": "Generate Normal Distribution.ipynb",
      "provenance": [],
      "authorship_tag": "ABX9TyOspFlLZGoA3i+h+S9LoyP7",
      "include_colab_link": true
    },
    "kernelspec": {
      "name": "python3",
      "display_name": "Python 3"
    },
    "language_info": {
      "name": "python"
    }
  },
  "cells": [
    {
      "cell_type": "markdown",
      "metadata": {
        "id": "view-in-github",
        "colab_type": "text"
      },
      "source": [
        "<a href=\"https://colab.research.google.com/github/plthiyagu/AI-Engineering/blob/master/15-LeetCode/Generate_Normal_Distribution.ipynb\" target=\"_parent\"><img src=\"https://colab.research.google.com/assets/colab-badge.svg\" alt=\"Open In Colab\"/></a>"
      ]
    },
    {
      "cell_type": "code",
      "execution_count": 1,
      "metadata": {
        "colab": {
          "base_uri": "https://localhost:8080/",
          "height": 265
        },
        "id": "9Aqq8Ioez2Wy",
        "outputId": "89e8594e-54a1-46b1-8f21-a7fdef4f1641"
      },
      "outputs": [
        {
          "output_type": "display_data",
          "data": {
            "text/plain": [
              "<Figure size 432x288 with 1 Axes>"
            ],
            "image/png": "[encoded data removed]"
          },
          "metadata": {
            "needs_background": "light"
          }
        }
      ],
      "source": [
        "import numpy as np\n",
        "import matplotlib.pyplot as plt\n",
        "from scipy import stats\n",
        "\n",
        "N = 100000\n",
        "# x = np.random.randn(N)\n",
        "x = stats.norm.rvs(size=N)\n",
        "num_bins = 20\n",
        "plt.hist(x, bins=num_bins, facecolor='blue', alpha=0.5)\n",
        "\n",
        "y = np.linspace(-4, 4, 1000)\n",
        "bin_width = (x.max() - x.min()) / num_bins\n",
        "plt.plot(y, stats.norm.pdf(y) * N * bin_width)\n",
        "\n",
        "plt.show()"
      ]
    },
    {
      "cell_type": "code",
      "source": [
        "# Generate Normal Distribution\n",
        "import scipy.stats\n",
        "import numpy as np\n",
        "import random\n",
        "import matplotlib.pyplot as plt\n",
        "\n",
        "\n",
        "def sample_from_norm(N): \n",
        "    dist = scipy.stats.norm(0, 1)\n",
        "    samples = dist.rvs(N)\n",
        "    plt.hist(samples)\n",
        "    plt.xlabel(str(N)+' samples')\n",
        "    plt.ylabel('Count')\n",
        "    plt.show()\n",
        "\n",
        "    return samples\n",
        "\n",
        "sample_from_norm(1000000)"
      ],
      "metadata": {
        "colab": {
          "base_uri": "https://localhost:8080/",
          "height": 314
        },
        "id": "P-OOKgKwz3hF",
        "outputId": "78ccb665-c239-4a1f-9212-785037a034d3"
      },
      "execution_count": 3,
      "outputs": [
        {
          "output_type": "display_data",
          "data": {
            "text/plain": [
              "<Figure size 432x288 with 1 Axes>"
            ],
            "image/png": "[encoded data removed]"
          },
          "metadata": {
            "needs_background": "light"
          }
        },
        {
          "output_type": "execute_result",
          "data": {
            "text/plain": [
              "array([-1.35175697,  0.30119794,  0.55173973, ...,  0.30823811,\n",
              "        0.53317082,  1.19644456])"
            ]
          },
          "metadata": {},
          "execution_count": 3
        }
      ]
    },
    {
      "cell_type": "code",
      "source": [
        ""
      ],
      "metadata": {
        "id": "EFfGroRY0l8t"
      },
      "execution_count": null,
      "outputs": []
    }
  ]
}