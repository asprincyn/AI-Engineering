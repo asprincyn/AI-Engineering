{
  "nbformat": 4,
  "nbformat_minor": 0,
  "metadata": {
    "colab": {
      "name": "258 Add Digits LeetCode.ipynb",
      "provenance": [],
      "authorship_tag": "ABX9TyP5Leeiyo/UfcSJFxjZfVDl",
      "include_colab_link": true
    },
    "kernelspec": {
      "name": "python3",
      "display_name": "Python 3"
    },
    "language_info": {
      "name": "python"
    }
  },
  "cells": [
    {
      "cell_type": "markdown",
      "metadata": {
        "id": "view-in-github",
        "colab_type": "text"
      },
      "source": [
        "<a href=\"https://colab.research.google.com/github/plthiyagu/AI-Engineering/blob/master/15-LeetCode/258_Add_Digits_LeetCode.ipynb\" target=\"_parent\"><img src=\"https://colab.research.google.com/assets/colab-badge.svg\" alt=\"Open In Colab\"/></a>"
      ]
    },
    {
      "cell_type": "code",
      "execution_count": 1,
      "metadata": {
        "id": "CE1ZTlAM6PRr"
      },
      "outputs": [],
      "source": [
        "class Solution:\n",
        "    def addDigits(self, num: int) -> int:\n",
        "        return 1+ (num-1) %9 if num else 0\n",
        "        "
      ]
    },
    {
      "cell_type": "code",
      "source": [
        "class Solution:\n",
        "    def addDigits(self, num: int) -> int:\n",
        "        if num == 0:\n",
        "            return 0\n",
        "        if num % 9 == 0:\n",
        "            return 9\n",
        "        return num % 9"
      ],
      "metadata": {
        "id": "Q6VeY4wu6QSn"
      },
      "execution_count": 2,
      "outputs": []
    },
    {
      "cell_type": "code",
      "source": [
        "sol = Solution()\n",
        "num =38\n",
        "sol.addDigits(num)"
      ],
      "metadata": {
        "colab": {
          "base_uri": "https://localhost:8080/"
        },
        "id": "0v23ieYK6SWn",
        "outputId": "4aa931b7-0d76-474d-c1e3-1c3e6f344787"
      },
      "execution_count": 3,
      "outputs": [
        {
          "output_type": "execute_result",
          "data": {
            "text/plain": [
              "2"
            ]
          },
          "metadata": {},
          "execution_count": 3
        }
      ]
    },
    {
      "cell_type": "code",
      "source": [
        ""
      ],
      "metadata": {
        "id": "Q8F9Ko3x6ag3"
      },
      "execution_count": null,
      "outputs": []
    }
  ]
}