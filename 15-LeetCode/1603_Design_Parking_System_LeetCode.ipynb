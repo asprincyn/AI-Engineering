{
  "nbformat": 4,
  "nbformat_minor": 0,
  "metadata": {
    "colab": {
      "name": "1603 Design Parking System LeetCode.ipynb",
      "provenance": [],
      "authorship_tag": "ABX9TyMVJelcpkNbhmqLSC2P0YZh",
      "include_colab_link": true
    },
    "kernelspec": {
      "name": "python3",
      "display_name": "Python 3"
    },
    "language_info": {
      "name": "python"
    }
  },
  "cells": [
    {
      "cell_type": "markdown",
      "metadata": {
        "id": "view-in-github",
        "colab_type": "text"
      },
      "source": [
        "<a href=\"https://colab.research.google.com/github/plthiyagu/AI-Engineering/blob/master/15-LeetCode/1603_Design_Parking_System_LeetCode.ipynb\" target=\"_parent\"><img src=\"https://colab.research.google.com/assets/colab-badge.svg\" alt=\"Open In Colab\"/></a>"
      ]
    },
    {
      "cell_type": "code",
      "execution_count": 1,
      "metadata": {
        "id": "LehMZpN92bmQ"
      },
      "outputs": [],
      "source": [
        "class ParkingSystem:\n",
        "\n",
        "    def __init__(self, big: int, medium: int, small: int):\n",
        "        self.slots = {1: big, 2: medium, 3: small}\n",
        "        \n",
        "\n",
        "    def addCar(self, carType: int) -> bool:\n",
        "        if self.slots[carType] == 0:\n",
        "            return False\n",
        "        else:\n",
        "            self.slots[carType] -= 1\n",
        "        return True\n",
        "        \n",
        "\n",
        "\n",
        "# Your ParkingSystem object will be instantiated and called as such:\n",
        "# obj = ParkingSystem(big, medium, small)\n",
        "# param_1 = obj.addCar(carType)"
      ]
    },
    {
      "cell_type": "code",
      "source": [
        "obj = ParkingSystem(big, medium, small)"
      ],
      "metadata": {
        "id": "m7X35KF-2dGS"
      },
      "execution_count": null,
      "outputs": []
    }
  ]
}