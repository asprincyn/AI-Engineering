{
  "nbformat": 4,
  "nbformat_minor": 0,
  "metadata": {
    "colab": {
      "name": "2057 Smallest Index With Equal Value LeetCode.ipynb",
      "provenance": [],
      "collapsed_sections": [],
      "authorship_tag": "ABX9TyOzcVIoNkSMZqPTd0/5ecYp",
      "include_colab_link": true
    },
    "kernelspec": {
      "name": "python3",
      "display_name": "Python 3"
    },
    "language_info": {
      "name": "python"
    }
  },
  "cells": [
    {
      "cell_type": "markdown",
      "metadata": {
        "id": "view-in-github",
        "colab_type": "text"
      },
      "source": [
        "<a href=\"https://colab.research.google.com/github/plthiyagu/AI-Engineering/blob/master/15-LeetCode/2057_Smallest_Index_With_Equal_Value_LeetCode.ipynb\" target=\"_parent\"><img src=\"https://colab.research.google.com/assets/colab-badge.svg\" alt=\"Open In Colab\"/></a>"
      ]
    },
    {
      "cell_type": "code",
      "execution_count": 2,
      "metadata": {
        "id": "ONWTwTUjoRjE"
      },
      "outputs": [],
      "source": [
        "from typing import List\n",
        "\n",
        "class Solution:\n",
        "    def smallestEqual(self, nums: List[int]) -> int:\n",
        "        \n",
        "        ans = []\n",
        "        \n",
        "        for i in range (len(nums)):\n",
        "            \n",
        "            if i %10 ==nums[i]:\n",
        "                ans.append(i)\n",
        "            if ans:\n",
        "                return min(ans)\n",
        "            else:\n",
        "                return -1\n",
        "            "
      ]
    },
    {
      "cell_type": "code",
      "source": [
        "sol = Solution()\n",
        "nums = [0,1,2]\n",
        "sol.smallestEqual(nums)"
      ],
      "metadata": {
        "colab": {
          "base_uri": "https://localhost:8080/"
        },
        "id": "vz_Ho8_xoVMC",
        "outputId": "b0562e94-0873-4437-8b2f-18482bea7f10"
      },
      "execution_count": 3,
      "outputs": [
        {
          "output_type": "execute_result",
          "data": {
            "text/plain": [
              "0"
            ]
          },
          "metadata": {},
          "execution_count": 3
        }
      ]
    },
    {
      "cell_type": "code",
      "source": [
        "class Solution:\n",
        "    def smallestEqual(self, nums: List[int]) -> int:\n",
        "        return next((i for i, x in enumerate(nums) if i%10 == x), -1)"
      ],
      "metadata": {
        "id": "AskeYV3Vogoj"
      },
      "execution_count": 4,
      "outputs": []
    },
    {
      "cell_type": "code",
      "source": [
        "sol = Solution()\n",
        "nums = [0,1,2]\n",
        "sol.smallestEqual(nums)"
      ],
      "metadata": {
        "colab": {
          "base_uri": "https://localhost:8080/"
        },
        "id": "kwrfIj_8oktO",
        "outputId": "a792d0ef-aacc-4ef3-f491-eaa09667133c"
      },
      "execution_count": 5,
      "outputs": [
        {
          "output_type": "execute_result",
          "data": {
            "text/plain": [
              "0"
            ]
          },
          "metadata": {},
          "execution_count": 5
        }
      ]
    },
    {
      "cell_type": "code",
      "source": [
        ""
      ],
      "metadata": {
        "id": "49YdoSm2ol6m"
      },
      "execution_count": null,
      "outputs": []
    }
  ]
}