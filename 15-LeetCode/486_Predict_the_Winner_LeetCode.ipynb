{
  "nbformat": 4,
  "nbformat_minor": 0,
  "metadata": {
    "colab": {
      "name": "486 Predict the Winner LeetCode.ipynb",
      "provenance": [],
      "authorship_tag": "ABX9TyPs9bL8Y4o4TTrVDwZyrMfz",
      "include_colab_link": true
    },
    "kernelspec": {
      "name": "python3",
      "display_name": "Python 3"
    },
    "language_info": {
      "name": "python"
    }
  },
  "cells": [
    {
      "cell_type": "markdown",
      "metadata": {
        "id": "view-in-github",
        "colab_type": "text"
      },
      "source": [
        "<a href=\"https://colab.research.google.com/github/plthiyagu/AI-Engineering/blob/master/15-LeetCode/486_Predict_the_Winner_LeetCode.ipynb\" target=\"_parent\"><img src=\"https://colab.research.google.com/assets/colab-badge.svg\" alt=\"Open In Colab\"/></a>"
      ]
    },
    {
      "cell_type": "code",
      "execution_count": 5,
      "metadata": {
        "id": "mZVVzqcmePzS"
      },
      "outputs": [],
      "source": [
        "from typing import List\n",
        "f_map, s_map = dict(), dict()\n",
        "\n",
        "\n",
        "def PredictTheWinner(nums: List[int]) -> bool:\n",
        "    _sum = sum(nums)\n",
        "    player1 = f(nums, 0, len(nums)-1)\n",
        "    return player1 >= _sum / 2.0\n",
        "\n",
        "def f( nums, start, end):\n",
        "    if start == end:\n",
        "        return nums[start]\n",
        "    if (start, end) not in f_map:\n",
        "        f_val = max(nums[start] + s(nums, start+1, end), nums[end] + s(nums, start, end-1))\n",
        "        f_map[(start, end)] = f_val\n",
        "    return f_map[(start, end)]\n",
        "\n",
        "def s( nums, start, end):\n",
        "    if start == end:\n",
        "        return 0\n",
        "    if (start, end) not in s_map:\n",
        "        s_val = min(f(nums, start+1, end), f(nums, start, end-1))\n",
        "        s_map[(start, end)] = s_val\n",
        "    return s_map[(start, end)]\n",
        "\n",
        "    "
      ]
    },
    {
      "cell_type": "code",
      "source": [
        "nums = [1,5,2]\n",
        "PredictTheWinner(nums)"
      ],
      "metadata": {
        "colab": {
          "base_uri": "https://localhost:8080/"
        },
        "id": "0uQbkSzretWj",
        "outputId": "2f8b75c4-2dc6-48eb-b313-6403028b7701"
      },
      "execution_count": 8,
      "outputs": [
        {
          "output_type": "execute_result",
          "data": {
            "text/plain": [
              "False"
            ]
          },
          "metadata": {},
          "execution_count": 8
        }
      ]
    },
    {
      "cell_type": "code",
      "source": [
        ""
      ],
      "metadata": {
        "id": "A-R07xEbflCK"
      },
      "execution_count": null,
      "outputs": []
    }
  ]
}