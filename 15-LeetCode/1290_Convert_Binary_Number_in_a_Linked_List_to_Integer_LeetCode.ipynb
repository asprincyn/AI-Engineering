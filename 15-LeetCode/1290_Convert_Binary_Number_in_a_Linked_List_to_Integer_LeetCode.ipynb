{
  "nbformat": 4,
  "nbformat_minor": 0,
  "metadata": {
    "colab": {
      "name": "1290 Convert Binary Number in a Linked List to Integer LeetCode.ipynb",
      "provenance": [],
      "authorship_tag": "ABX9TyPJqO1pBUYxq0N8DUP8FUEH",
      "include_colab_link": true
    },
    "kernelspec": {
      "name": "python3",
      "display_name": "Python 3"
    },
    "language_info": {
      "name": "python"
    }
  },
  "cells": [
    {
      "cell_type": "markdown",
      "metadata": {
        "id": "view-in-github",
        "colab_type": "text"
      },
      "source": [
        "<a href=\"https://colab.research.google.com/github/plthiyagu/AI-Engineering/blob/master/15-LeetCode/1290_Convert_Binary_Number_in_a_Linked_List_to_Integer_LeetCode.ipynb\" target=\"_parent\"><img src=\"https://colab.research.google.com/assets/colab-badge.svg\" alt=\"Open In Colab\"/></a>"
      ]
    },
    {
      "cell_type": "code",
      "execution_count": null,
      "metadata": {
        "id": "F_PzpI_1Hy3g"
      },
      "outputs": [],
      "source": [
        "# Definition for singly-linked list.\n",
        "class ListNode:\n",
        "    def __init__(self, val=0, next=None):\n",
        "        self.val = val\n",
        "        self.next = next\n",
        "class Solution:\n",
        "    def getDecimalValue(self, head: ListNode) -> int:\n",
        "        num = head.val\n",
        "        while head.next:\n",
        "            num= num *2 + head.next.val\n",
        "            head = head.next\n",
        "        return num"
      ]
    }
  ]
}