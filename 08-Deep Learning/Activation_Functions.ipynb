{
  "nbformat": 4,
  "nbformat_minor": 0,
  "metadata": {
    "colab": {
      "name": "Activation Functions.ipynb",
      "provenance": [],
      "authorship_tag": "ABX9TyNw+BmFGGLHcfoWWZC4PI5V",
      "include_colab_link": true
    },
    "kernelspec": {
      "name": "python3",
      "display_name": "Python 3"
    },
    "language_info": {
      "name": "python"
    }
  },
  "cells": [
    {
      "cell_type": "markdown",
      "metadata": {
        "id": "view-in-github",
        "colab_type": "text"
      },
      "source": [
        "<a href=\"https://colab.research.google.com/github/plthiyagu/AI-Engineering/blob/master/08-Deep%20Learning/Activation_Functions.ipynb\" target=\"_parent\"><img src=\"https://colab.research.google.com/assets/colab-badge.svg\" alt=\"Open In Colab\"/></a>"
      ]
    },
    {
      "cell_type": "code",
      "execution_count": 1,
      "metadata": {
        "id": "oBD12fofK2cE"
      },
      "outputs": [],
      "source": [
        "import numpy as np"
      ]
    },
    {
      "cell_type": "code",
      "source": [
        "def sigmoid(z):\n",
        "  exp_fn = np.exp(-z)\n",
        "  fn = 1/(1+ exp_fn)\n",
        "  return(fn)"
      ],
      "metadata": {
        "id": "mN40KkaxK3RW"
      },
      "execution_count": 2,
      "outputs": []
    },
    {
      "cell_type": "code",
      "source": [
        "def softmax(z):\n",
        "  exp_fn = np.exp(z)\n",
        "  sum_exp_fn = np.sum(np.exp(z))\n",
        "  fn = exp_fn/sum_exp_fn\n",
        "  return(fn)"
      ],
      "metadata": {
        "id": "vaYHSJbDK_14"
      },
      "execution_count": 3,
      "outputs": []
    },
    {
      "cell_type": "code",
      "source": [
        "def tanh(z):\n",
        "  exp_fn_1 = np.exp(z)\n",
        "  exp_fn_2 = np.exp(-z)\n",
        "  fn = (exp_fn_1-exp_fn_2)/(exp_fn_1+exp_fn_2)\n",
        "  return(fn)"
      ],
      "metadata": {
        "id": "dMBIRuaWL8Ec"
      },
      "execution_count": 4,
      "outputs": []
    },
    {
      "cell_type": "code",
      "source": [
        "def ReLU(z):\n",
        "  fn =np.max(0,z)\n",
        "  return(fn)"
      ],
      "metadata": {
        "id": "9WTsp9XKMDPU"
      },
      "execution_count": 5,
      "outputs": []
    },
    {
      "cell_type": "code",
      "source": [
        "def LReLU(z):\n",
        "  #fn =np.max(0.01z,z)\n",
        "  fn =np.max(0.01,z)\n",
        "  return(fn)"
      ],
      "metadata": {
        "id": "HQnmeIE2MKuB"
      },
      "execution_count": 6,
      "outputs": []
    },
    {
      "cell_type": "code",
      "source": [
        "def PReLU(z,α):\n",
        "  #fn =np.max(αz,z)\n",
        "  fn =np.max(α*z,z)\n",
        "  return(fn)"
      ],
      "metadata": {
        "id": "PiVDXoizMUi3"
      },
      "execution_count": 7,
      "outputs": []
    },
    {
      "cell_type": "code",
      "source": [
        "def ELU(z,α):\n",
        "  if(z>0 ):\n",
        "    fn = z\n",
        "  else:\n",
        "    fn = α * (np.exp(z) - 1)\n",
        "  return(fn)\n"
      ],
      "metadata": {
        "id": "PVGvVqNBMoNf"
      },
      "execution_count": 8,
      "outputs": []
    },
    {
      "cell_type": "code",
      "source": [
        "def ELU(z,α):\n",
        "  if(z>0 ):\n",
        "    fn = λ * z\n",
        "  else:\n",
        "    fn = λ*α * (np.exp(z) - 1)\n",
        "  return fn\n"
      ],
      "metadata": {
        "id": "OxoieAQqM4Dw"
      },
      "execution_count": 9,
      "outputs": []
    },
    {
      "cell_type": "code",
      "source": [
        "def swish(z):\n",
        "  exp_fn = np.exp(-z)\n",
        "  fn = x/(1+ exp_fn)\n",
        "  return(fn)\n",
        "  "
      ],
      "metadata": {
        "id": "u96OUmB3NHNd"
      },
      "execution_count": 10,
      "outputs": []
    },
    {
      "cell_type": "code",
      "source": [
        "def sinusoidal(z):\n",
        "  fn = np.sin(z)\n",
        "  return(fn)"
      ],
      "metadata": {
        "id": "rvmPuZuVNT_g"
      },
      "execution_count": 11,
      "outputs": []
    },
    {
      "cell_type": "code",
      "source": [
        ""
      ],
      "metadata": {
        "id": "oExNsCxxNX03"
      },
      "execution_count": null,
      "outputs": []
    }
  ]
}