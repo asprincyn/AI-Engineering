{
  "nbformat": 4,
  "nbformat_minor": 0,
  "metadata": {
    "colab": {
      "name": "Activation Functions.ipynb",
      "provenance": [],
      "authorship_tag": "ABX9TyOwxTkEsTF/QRPlq/nWkBH1",
      "include_colab_link": true
    },
    "kernelspec": {
      "name": "python3",
      "display_name": "Python 3"
    },
    "language_info": {
      "name": "python"
    }
  },
  "cells": [
    {
      "cell_type": "markdown",
      "metadata": {
        "id": "view-in-github",
        "colab_type": "text"
      },
      "source": [
        "<a href=\"https://colab.research.google.com/github/plthiyagu/AI-Engineering/blob/master/08-Deep%20Learning/Activation_Functions.ipynb\" target=\"_parent\"><img src=\"https://colab.research.google.com/assets/colab-badge.svg\" alt=\"Open In Colab\"/></a>"
      ]
    },
    {
      "cell_type": "code",
      "execution_count": null,
      "metadata": {
        "id": "oBD12fofK2cE"
      },
      "outputs": [],
      "source": [
        "import numpy as np"
      ]
    },
    {
      "cell_type": "code",
      "source": [
        "def sigmoid(z):\n",
        "  exp_fn = np.exp(-z)\n",
        "  fn = 1/(1+ exp_fn)\n",
        "  return(fn)"
      ],
      "metadata": {
        "id": "mN40KkaxK3RW"
      },
      "execution_count": null,
      "outputs": []
    },
    {
      "cell_type": "code",
      "source": [
        "def softmax(z):\n",
        "  exp_fn = np.exp(z)\n",
        "  sum_exp_fn = np.sum(np.exp(z))\n",
        "  fn = exp_fn/sum_exp_fn\n",
        "  return(fn)"
      ],
      "metadata": {
        "id": "vaYHSJbDK_14"
      },
      "execution_count": null,
      "outputs": []
    },
    {
      "cell_type": "code",
      "source": [
        "def tanh(z):\n",
        "  exp_fn_1 = np.exp(z)\n",
        "  exp_fn_2 = np.exp(-z)\n",
        "  fn = (exp_fn_1-exp_fn_2)/(exp_fn_1+exp_fn_2)\n",
        "  return(fn)"
      ],
      "metadata": {
        "id": "dMBIRuaWL8Ec"
      },
      "execution_count": null,
      "outputs": []
    },
    {
      "cell_type": "code",
      "source": [
        "def ReLU(z):\n",
        "  fn =np.max(0,z)\n",
        "  return(fn)"
      ],
      "metadata": {
        "id": "9WTsp9XKMDPU"
      },
      "execution_count": null,
      "outputs": []
    },
    {
      "cell_type": "code",
      "source": [
        "def LReLU(z):\n",
        "  #fn =np.max(0.01z,z)\n",
        "  fn =np.max(0.01,z)\n",
        "  return(fn)"
      ],
      "metadata": {
        "id": "HQnmeIE2MKuB"
      },
      "execution_count": null,
      "outputs": []
    },
    {
      "cell_type": "code",
      "source": [
        "def PReLU(z,α):\n",
        "  #fn =np.max(αz,z)\n",
        "  fn =np.max(α*z,z)\n",
        "  return(fn)"
      ],
      "metadata": {
        "id": "PiVDXoizMUi3"
      },
      "execution_count": null,
      "outputs": []
    },
    {
      "cell_type": "code",
      "source": [
        "def ELU(z,α):\n",
        "  if(z>0 ):\n",
        "    fn = z\n",
        "  else:\n",
        "    fn = α * (np.exp(z) - 1)\n",
        "  return(fn)\n"
      ],
      "metadata": {
        "id": "PVGvVqNBMoNf"
      },
      "execution_count": null,
      "outputs": []
    },
    {
      "cell_type": "code",
      "source": [
        "def ELU(z,α):\n",
        "  if(z>0 ):\n",
        "    fn = λ * z\n",
        "  else:\n",
        "    fn = λ*α * (np.exp(z) - 1)\n",
        "  return fn\n"
      ],
      "metadata": {
        "id": "OxoieAQqM4Dw"
      },
      "execution_count": null,
      "outputs": []
    },
    {
      "cell_type": "code",
      "source": [
        "def swish(z):\n",
        "  exp_fn = np.exp(-z)\n",
        "  fn = x/(1+ exp_fn)\n",
        "  return(fn)\n",
        "  "
      ],
      "metadata": {
        "id": "u96OUmB3NHNd"
      },
      "execution_count": null,
      "outputs": []
    },
    {
      "cell_type": "code",
      "source": [
        "def sinusoidal(z):\n",
        "  fn = np.sin(z)\n",
        "  return(fn)"
      ],
      "metadata": {
        "id": "rvmPuZuVNT_g"
      },
      "execution_count": null,
      "outputs": []
    },
    {
      "cell_type": "code",
      "source": [
        "import numpy as np\n",
        "\n",
        "def softmax(x):\n",
        "    \"\"\"Compute softmax values for each sets of scores in x.\"\"\"\n",
        "    e_x = np.exp(x - np.max(x))\n",
        "    return e_x / e_x.sum()\n",
        "\n",
        "scores = [3.0, 1.0, 0.2]\n",
        "print(softmax(scores))"
      ],
      "metadata": {
        "id": "oExNsCxxNX03",
        "colab": {
          "base_uri": "https://localhost:8080/"
        },
        "outputId": "374cec7c-b7f2-4363-c4ea-06c8fddc142c"
      },
      "execution_count": 1,
      "outputs": [
        {
          "output_type": "stream",
          "name": "stdout",
          "text": [
            "[0.8360188  0.11314284 0.05083836]\n"
          ]
        }
      ]
    },
    {
      "cell_type": "code",
      "source": [
        ""
      ],
      "metadata": {
        "id": "MhYXPXlEO4IS"
      },
      "execution_count": null,
      "outputs": []
    }
  ]
}