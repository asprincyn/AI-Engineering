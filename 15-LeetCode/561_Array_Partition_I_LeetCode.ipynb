{
  "nbformat": 4,
  "nbformat_minor": 0,
  "metadata": {
    "colab": {
      "name": "561 Array Partition I LeetCode.ipynb",
      "provenance": [],
      "authorship_tag": "ABX9TyPKv2XZDjDlzWXxs9989pbg",
      "include_colab_link": true
    },
    "kernelspec": {
      "name": "python3",
      "display_name": "Python 3"
    },
    "language_info": {
      "name": "python"
    }
  },
  "cells": [
    {
      "cell_type": "markdown",
      "metadata": {
        "id": "view-in-github",
        "colab_type": "text"
      },
      "source": [
        "<a href=\"https://colab.research.google.com/github/plthiyagu/AI-Engineering/blob/master/15-LeetCode/561_Array_Partition_I_LeetCode.ipynb\" target=\"_parent\"><img src=\"https://colab.research.google.com/assets/colab-badge.svg\" alt=\"Open In Colab\"/></a>"
      ]
    },
    {
      "cell_type": "code",
      "execution_count": 3,
      "metadata": {
        "id": "JS-w8MEizIF1"
      },
      "outputs": [],
      "source": [
        "class Solution:\n",
        "    def arrayPairSum(self, nums):\n",
        "        \"\"\"\n",
        "        :type nums: List[int]\n",
        "        :rtype: int\n",
        "        \"\"\"\n",
        "        nums.sort()\n",
        "        res =0\n",
        "        while nums:\n",
        "          res += min(nums.pop(), nums.pop())\n",
        "        return res"
      ]
    },
    {
      "cell_type": "code",
      "source": [
        "sol = Solution()\n",
        "nums = [1,4,3,2]\n",
        "sol.arrayPairSum(nums)"
      ],
      "metadata": {
        "colab": {
          "base_uri": "https://localhost:8080/"
        },
        "id": "DAajwifUzhYz",
        "outputId": "73c449eb-a6be-4047-cc32-6cdb0482cd69"
      },
      "execution_count": 4,
      "outputs": [
        {
          "output_type": "execute_result",
          "data": {
            "text/plain": [
              "4"
            ]
          },
          "metadata": {},
          "execution_count": 4
        }
      ]
    },
    {
      "cell_type": "code",
      "source": [
        "class Solution:\n",
        "    def arrayPairSum(self, nums):\n",
        "        \"\"\"\n",
        "        :type nums: List[int]\n",
        "        :rtype: int\n",
        "        \"\"\"\n",
        "        nums.sort()\n",
        "        return sum(nums[::2])"
      ],
      "metadata": {
        "id": "qF1xcGSOzoVn"
      },
      "execution_count": 5,
      "outputs": []
    },
    {
      "cell_type": "code",
      "source": [
        "sol = Solution()\n",
        "nums = [1,4,3,2]\n",
        "sol.arrayPairSum(nums)"
      ],
      "metadata": {
        "colab": {
          "base_uri": "https://localhost:8080/"
        },
        "id": "g413w_hvz9Bv",
        "outputId": "e74e9a84-ac75-479d-a5b5-1a968446d718"
      },
      "execution_count": 6,
      "outputs": [
        {
          "output_type": "execute_result",
          "data": {
            "text/plain": [
              "4"
            ]
          },
          "metadata": {},
          "execution_count": 6
        }
      ]
    },
    {
      "cell_type": "code",
      "source": [
        ""
      ],
      "metadata": {
        "id": "6XTi-cDVz-te"
      },
      "execution_count": null,
      "outputs": []
    }
  ]
}