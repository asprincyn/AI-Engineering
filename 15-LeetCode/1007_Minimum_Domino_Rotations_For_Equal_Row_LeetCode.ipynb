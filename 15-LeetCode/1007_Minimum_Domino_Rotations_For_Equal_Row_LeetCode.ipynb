{
  "nbformat": 4,
  "nbformat_minor": 0,
  "metadata": {
    "colab": {
      "name": "1007 Minimum Domino Rotations For Equal Row LeetCode.ipynb",
      "provenance": [],
      "authorship_tag": "ABX9TyMMuf37d5hz0UbMpC+6Bxqv",
      "include_colab_link": true
    },
    "kernelspec": {
      "name": "python3",
      "display_name": "Python 3"
    },
    "language_info": {
      "name": "python"
    }
  },
  "cells": [
    {
      "cell_type": "markdown",
      "metadata": {
        "id": "view-in-github",
        "colab_type": "text"
      },
      "source": [
        "<a href=\"https://colab.research.google.com/github/plthiyagu/AI-Engineering/blob/master/15-LeetCode/1007_Minimum_Domino_Rotations_For_Equal_Row_LeetCode.ipynb\" target=\"_parent\"><img src=\"https://colab.research.google.com/assets/colab-badge.svg\" alt=\"Open In Colab\"/></a>"
      ]
    },
    {
      "cell_type": "code",
      "execution_count": 2,
      "metadata": {
        "id": "j5ocWvCA8VQk"
      },
      "outputs": [],
      "source": [
        "from typing import List\n",
        "class Solution:\n",
        "    def minDominoRotations(self, tops: List[int], bottoms: List[int]) -> int:\n",
        "        \n",
        "        def check(x):\n",
        "            \n",
        "            rotations_a = rotations_b =0\n",
        "            for i in range(len(tops)):\n",
        "                if tops[i] != x and bottoms[i] != x:\n",
        "                    return -1\n",
        "                elif tops[i] != x:\n",
        "                    rotations_a +=1\n",
        "                elif bottoms[i] != x:\n",
        "                    rotations_b += 1\n",
        "            return min(rotations_a, rotations_b)\n",
        "        \n",
        "        #x= len(tops)\n",
        "        rotations= check(tops[0])\n",
        "        if rotations != -1 or tops[0] == bottoms[0]:\n",
        "            return rotations"
      ]
    },
    {
      "cell_type": "code",
      "source": [
        "sol = Solution()\n",
        "tops = [2,1,2,4,2,2]\n",
        "bottoms = [5,2,6,2,3,2]\n",
        "sol.minDominoRotations(tops,bottoms)"
      ],
      "metadata": {
        "colab": {
          "base_uri": "https://localhost:8080/"
        },
        "id": "HBePqhJR8XsK",
        "outputId": "134d8c4a-9b3e-4df3-d283-b791b2328664"
      },
      "execution_count": 3,
      "outputs": [
        {
          "output_type": "execute_result",
          "data": {
            "text/plain": [
              "2"
            ]
          },
          "metadata": {},
          "execution_count": 3
        }
      ]
    },
    {
      "cell_type": "code",
      "source": [
        ""
      ],
      "metadata": {
        "id": "Ia1x2B3v8qmH"
      },
      "execution_count": null,
      "outputs": []
    }
  ]
}