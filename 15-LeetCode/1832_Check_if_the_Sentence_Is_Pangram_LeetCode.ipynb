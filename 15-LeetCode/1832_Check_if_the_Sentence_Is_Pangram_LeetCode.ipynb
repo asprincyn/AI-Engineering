{
  "nbformat": 4,
  "nbformat_minor": 0,
  "metadata": {
    "colab": {
      "name": "1832 Check if the Sentence Is Pangram LeetCode.ipynb",
      "provenance": [],
      "authorship_tag": "ABX9TyMEqIoANT5rRSWtWP2tICi/",
      "include_colab_link": true
    },
    "kernelspec": {
      "name": "python3",
      "display_name": "Python 3"
    },
    "language_info": {
      "name": "python"
    }
  },
  "cells": [
    {
      "cell_type": "markdown",
      "metadata": {
        "id": "view-in-github",
        "colab_type": "text"
      },
      "source": [
        "<a href=\"https://colab.research.google.com/github/plthiyagu/AI-Engineering/blob/master/15-LeetCode/1832_Check_if_the_Sentence_Is_Pangram_LeetCode.ipynb\" target=\"_parent\"><img src=\"https://colab.research.google.com/assets/colab-badge.svg\" alt=\"Open In Colab\"/></a>"
      ]
    },
    {
      "cell_type": "code",
      "metadata": {
        "id": "RpnR6nrxfcX6"
      },
      "source": [
        "def checkIfPangram(sentence: str) -> bool:\n",
        "    return len(set(sentence)) == 26"
      ],
      "execution_count": 3,
      "outputs": []
    },
    {
      "cell_type": "code",
      "metadata": {
        "colab": {
          "base_uri": "https://localhost:8080/"
        },
        "id": "NfYY3BVTfq1s",
        "outputId": "a3d17bb2-cb87-438c-ae9a-4369667907f5"
      },
      "source": [
        "sentence = \"thequickbrownfoxjumpsoverthelazydog\"\n",
        "checkIfPangram(sentence)"
      ],
      "execution_count": 4,
      "outputs": [
        {
          "output_type": "execute_result",
          "data": {
            "text/plain": [
              "True"
            ]
          },
          "metadata": {},
          "execution_count": 4
        }
      ]
    },
    {
      "cell_type": "code",
      "metadata": {
        "id": "xEKChYPTx_78"
      },
      "source": [
        ""
      ],
      "execution_count": null,
      "outputs": []
    }
  ]
}