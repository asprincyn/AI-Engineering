{
  "nbformat": 4,
  "nbformat_minor": 0,
  "metadata": {
    "colab": {
      "name": "973 K Closest Points to Origin LeetCode.ipynb",
      "provenance": [],
      "authorship_tag": "ABX9TyPRxKyB08qzX7zxBRlA9j65",
      "include_colab_link": true
    },
    "kernelspec": {
      "name": "python3",
      "display_name": "Python 3"
    },
    "language_info": {
      "name": "python"
    }
  },
  "cells": [
    {
      "cell_type": "markdown",
      "metadata": {
        "id": "view-in-github",
        "colab_type": "text"
      },
      "source": [
        "<a href=\"https://colab.research.google.com/github/plthiyagu/AI-Engineering/blob/master/15-LeetCode/973_K_Closest_Points_to_Origin_LeetCode.ipynb\" target=\"_parent\"><img src=\"https://colab.research.google.com/assets/colab-badge.svg\" alt=\"Open In Colab\"/></a>"
      ]
    },
    {
      "cell_type": "code",
      "metadata": {
        "id": "emqDMZF4FitE"
      },
      "source": [
        "from typing import List\n",
        "import heapq\n",
        "def kClosest(points: List[List[int]], k: int) -> List[List[int]]:\n",
        "    heap = []\n",
        "    for x,y in points:\n",
        "        if len(heap)<k:\n",
        "            heapq.heappush(heap,[-(x*x+y*y),[x,y]])\n",
        "        else:\n",
        "            heapq.heappushpop(heap,[-(x*x+y*y),[x,y]])\n",
        "    return [pair for value, pair in heap]"
      ],
      "execution_count": 5,
      "outputs": []
    },
    {
      "cell_type": "code",
      "metadata": {
        "colab": {
          "base_uri": "https://localhost:8080/"
        },
        "id": "B4ZDnFP6Fw4e",
        "outputId": "6a4c4952-4a93-482d-c0e4-56cf4d5ca076"
      },
      "source": [
        "points = [[1,3],[-2,2]]\n",
        "k = 1\n",
        "kClosest(points,k)"
      ],
      "execution_count": 6,
      "outputs": [
        {
          "output_type": "execute_result",
          "data": {
            "text/plain": [
              "[[-2, 2]]"
            ]
          },
          "metadata": {},
          "execution_count": 6
        }
      ]
    },
    {
      "cell_type": "code",
      "metadata": {
        "id": "5Pfm4xxaF6--"
      },
      "source": [
        ""
      ],
      "execution_count": null,
      "outputs": []
    },
    {
      "cell_type": "code",
      "metadata": {
        "id": "Mx4wzyieFnTf"
      },
      "source": [
        ""
      ],
      "execution_count": null,
      "outputs": []
    }
  ]
}