{
  "nbformat": 4,
  "nbformat_minor": 0,
  "metadata": {
    "colab": {
      "name": "881 Boats to Save People LeetCode.ipynb",
      "provenance": [],
      "authorship_tag": "ABX9TyNkJrJkpr9v3bQe4wVZnFhX",
      "include_colab_link": true
    },
    "kernelspec": {
      "name": "python3",
      "display_name": "Python 3"
    },
    "language_info": {
      "name": "python"
    }
  },
  "cells": [
    {
      "cell_type": "markdown",
      "metadata": {
        "id": "view-in-github",
        "colab_type": "text"
      },
      "source": [
        "<a href=\"https://colab.research.google.com/github/plthiyagu/AI-Engineering/blob/master/15-LeetCode/881_Boats_to_Save_People_LeetCode.ipynb\" target=\"_parent\"><img src=\"https://colab.research.google.com/assets/colab-badge.svg\" alt=\"Open In Colab\"/></a>"
      ]
    },
    {
      "cell_type": "code",
      "execution_count": 2,
      "metadata": {
        "id": "nlsnKAZw2dCk"
      },
      "outputs": [],
      "source": [
        "from typing import List\n",
        "class Solution:\n",
        "    def numRescueBoats(self, people: List[int], limit: int) -> int:\n",
        "        people.sort()\n",
        "        i, j = 0, len(people) - 1\n",
        "        ans = 0\n",
        "        while i <= j:\n",
        "            ans += 1\n",
        "            if people[i] + people[j] <= limit:\n",
        "                i += 1\n",
        "            j -= 1\n",
        "        return ans"
      ]
    },
    {
      "cell_type": "code",
      "source": [
        "sol = Solution()\n",
        "people = [1,2]\n",
        "limit = 3\n",
        "sol.numRescueBoats(people,limit)"
      ],
      "metadata": {
        "colab": {
          "base_uri": "https://localhost:8080/"
        },
        "id": "xwjmOM392gKK",
        "outputId": "9bf03866-24b6-431a-ae8c-336959163c17"
      },
      "execution_count": 3,
      "outputs": [
        {
          "output_type": "execute_result",
          "data": {
            "text/plain": [
              "1"
            ]
          },
          "metadata": {},
          "execution_count": 3
        }
      ]
    },
    {
      "cell_type": "code",
      "source": [
        ""
      ],
      "metadata": {
        "id": "1bAGbPf12z41"
      },
      "execution_count": null,
      "outputs": []
    }
  ]
}