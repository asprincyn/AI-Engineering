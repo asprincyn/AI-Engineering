{
  "nbformat": 4,
  "nbformat_minor": 0,
  "metadata": {
    "colab": {
      "name": "202 Happy Number LeetCode.ipynb",
      "provenance": [],
      "authorship_tag": "ABX9TyOPfI/zVP8o4qBwmPGfbcZJ",
      "include_colab_link": true
    },
    "kernelspec": {
      "name": "python3",
      "display_name": "Python 3"
    },
    "language_info": {
      "name": "python"
    }
  },
  "cells": [
    {
      "cell_type": "markdown",
      "metadata": {
        "id": "view-in-github",
        "colab_type": "text"
      },
      "source": [
        "<a href=\"https://colab.research.google.com/github/plthiyagu/AI-Engineering/blob/master/15-LeetCode/202_Happy_Number_LeetCode.ipynb\" target=\"_parent\"><img src=\"https://colab.research.google.com/assets/colab-badge.svg\" alt=\"Open In Colab\"/></a>"
      ]
    },
    {
      "cell_type": "code",
      "execution_count": 3,
      "metadata": {
        "id": "IWkNd_r8GFzl"
      },
      "outputs": [],
      "source": [
        "class Solution:\n",
        "    def isHappy(self, n: int) -> bool:\n",
        "      def get_next(number):\n",
        "        total_sum=0\n",
        "        while number >0:\n",
        "          number,digit= divmod(number,10)\n",
        "          total_sum += digit **2\n",
        "        return total_sum\n",
        "      while n !=1 and n != 4:\n",
        "        n= get_next(n)\n",
        "      return n==1"
      ]
    },
    {
      "cell_type": "code",
      "source": [
        "n=19\n",
        "sol = Solution()\n",
        "sol.isHappy(n)"
      ],
      "metadata": {
        "colab": {
          "base_uri": "https://localhost:8080/"
        },
        "id": "LISrlRvXIkaH",
        "outputId": "4e379cf1-6e99-4f57-d79d-332bf43940fc"
      },
      "execution_count": 4,
      "outputs": [
        {
          "output_type": "execute_result",
          "data": {
            "text/plain": [
              "True"
            ]
          },
          "metadata": {},
          "execution_count": 4
        }
      ]
    },
    {
      "cell_type": "code",
      "source": [
        ""
      ],
      "metadata": {
        "id": "oQuCQ2WcItDE"
      },
      "execution_count": null,
      "outputs": []
    }
  ]
}