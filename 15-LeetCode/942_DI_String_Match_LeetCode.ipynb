{
  "nbformat": 4,
  "nbformat_minor": 0,
  "metadata": {
    "colab": {
      "name": "942 DI String Match LeetCode.ipynb",
      "provenance": [],
      "authorship_tag": "ABX9TyODp8Y3Sh1yzihYVzBm9Sd5",
      "include_colab_link": true
    },
    "kernelspec": {
      "name": "python3",
      "display_name": "Python 3"
    },
    "language_info": {
      "name": "python"
    }
  },
  "cells": [
    {
      "cell_type": "markdown",
      "metadata": {
        "id": "view-in-github",
        "colab_type": "text"
      },
      "source": [
        "<a href=\"https://colab.research.google.com/github/plthiyagu/AI-Engineering/blob/master/15-LeetCode/942_DI_String_Match_LeetCode.ipynb\" target=\"_parent\"><img src=\"https://colab.research.google.com/assets/colab-badge.svg\" alt=\"Open In Colab\"/></a>"
      ]
    },
    {
      "cell_type": "code",
      "execution_count": 1,
      "metadata": {
        "id": "tWZ_PQwYUrYF"
      },
      "outputs": [],
      "source": [
        "from typing import List\n",
        "class Solution:\n",
        "    def diStringMatch(self, s: str) -> List[int]:\n",
        "        lo,hi = 0,len(s)\n",
        "        ans =[]\n",
        "        for x in s:\n",
        "            if x =='I':\n",
        "                ans.append(lo)\n",
        "                lo +=1\n",
        "            else:\n",
        "                ans.append(hi)\n",
        "                hi -=1\n",
        "        return ans + [lo]\n",
        "        "
      ]
    },
    {
      "cell_type": "code",
      "source": [
        "s = \"IDID\"\n",
        "sol = Solution()\n",
        "sol.diStringMatch(s)"
      ],
      "metadata": {
        "colab": {
          "base_uri": "https://localhost:8080/"
        },
        "id": "BF4AqCWoUvbm",
        "outputId": "1156bc1e-44cb-4878-d79b-849793d50bb8"
      },
      "execution_count": 2,
      "outputs": [
        {
          "output_type": "execute_result",
          "data": {
            "text/plain": [
              "[0, 4, 1, 3, 2]"
            ]
          },
          "metadata": {},
          "execution_count": 2
        }
      ]
    },
    {
      "cell_type": "code",
      "source": [
        ""
      ],
      "metadata": {
        "id": "2RrEvexNU2Kn"
      },
      "execution_count": null,
      "outputs": []
    }
  ]
}