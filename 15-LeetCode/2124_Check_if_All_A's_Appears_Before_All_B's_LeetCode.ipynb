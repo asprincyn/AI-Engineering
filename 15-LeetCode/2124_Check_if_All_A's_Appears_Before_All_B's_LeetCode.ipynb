{
  "nbformat": 4,
  "nbformat_minor": 0,
  "metadata": {
    "colab": {
      "name": "2124 Check if All A's Appears Before All B's LeetCode.ipynb",
      "provenance": [],
      "authorship_tag": "ABX9TyNS8d4iBclbcRzo0UYfE5KN",
      "include_colab_link": true
    },
    "kernelspec": {
      "name": "python3",
      "display_name": "Python 3"
    },
    "language_info": {
      "name": "python"
    }
  },
  "cells": [
    {
      "cell_type": "markdown",
      "metadata": {
        "id": "view-in-github",
        "colab_type": "text"
      },
      "source": [
        "<a href=\"https://colab.research.google.com/github/plthiyagu/AI-Engineering/blob/master/15-LeetCode/2124_Check_if_All_A's_Appears_Before_All_B's_LeetCode.ipynb\" target=\"_parent\"><img src=\"https://colab.research.google.com/assets/colab-badge.svg\" alt=\"Open In Colab\"/></a>"
      ]
    },
    {
      "cell_type": "code",
      "execution_count": 1,
      "metadata": {
        "id": "eZVELGZr-Ia1"
      },
      "outputs": [],
      "source": [
        "class Solution:\n",
        "    def checkString(self, s: str) -> bool:\n",
        "        return 'ba' not in s"
      ]
    },
    {
      "cell_type": "code",
      "source": [
        "s = \"aaabbb\"\n",
        "sol= Solution()\n",
        "sol.checkString(s)"
      ],
      "metadata": {
        "colab": {
          "base_uri": "https://localhost:8080/"
        },
        "id": "PNo1dkfn-gr-",
        "outputId": "2af8de1a-bd43-4e04-e06f-2f51b4b35a6e"
      },
      "execution_count": 2,
      "outputs": [
        {
          "output_type": "execute_result",
          "data": {
            "text/plain": [
              "True"
            ]
          },
          "metadata": {},
          "execution_count": 2
        }
      ]
    },
    {
      "cell_type": "code",
      "source": [
        ""
      ],
      "metadata": {
        "id": "vGBshhvq-nUs"
      },
      "execution_count": null,
      "outputs": []
    }
  ]
}