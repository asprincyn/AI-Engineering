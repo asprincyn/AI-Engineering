{
  "nbformat": 4,
  "nbformat_minor": 0,
  "metadata": {
    "colab": {
      "name": "The Stolen Breakfast Drone.ipynb",
      "provenance": [],
      "authorship_tag": "ABX9TyO9auDE5BbE2Jr7z6RntLsu",
      "include_colab_link": true
    },
    "kernelspec": {
      "name": "python3",
      "display_name": "Python 3"
    },
    "language_info": {
      "name": "python"
    }
  },
  "cells": [
    {
      "cell_type": "markdown",
      "metadata": {
        "id": "view-in-github",
        "colab_type": "text"
      },
      "source": [
        "<a href=\"https://colab.research.google.com/github/plthiyagu/AI-Engineering/blob/master/15-LeetCode/The_Stolen_Breakfast_Drone.ipynb\" target=\"_parent\"><img src=\"https://colab.research.google.com/assets/colab-badge.svg\" alt=\"Open In Colab\"/></a>"
      ]
    },
    {
      "cell_type": "code",
      "execution_count": 3,
      "metadata": {
        "id": "--6otUPb_Gbj"
      },
      "outputs": [],
      "source": [
        "def find_unique_delivery_id(delivery_ids):\n",
        "  ids_to_occurrences = {}\n",
        "\n",
        "  for delivery_id in delivery_ids:\n",
        "      if delivery_id in ids_to_occurrences:\n",
        "          ids_to_occurrences[delivery_id] += 1\n",
        "      else:\n",
        "          ids_to_occurrences[delivery_id]  = 1\n",
        "\n",
        "  for delivery_id, occurrences in ids_to_occurrences.items():\n",
        "      if occurrences == 1:\n",
        "          return delivery_id"
      ]
    },
    {
      "cell_type": "code",
      "source": [
        "def find_unique_delivery_id(delivery_ids):\n",
        "  unique_delivery_id = 0\n",
        "\n",
        "  for delivery_id in delivery_ids:\n",
        "      unique_delivery_id ^= delivery_id\n",
        "\n",
        "  return unique_delivery_id"
      ],
      "metadata": {
        "id": "wqp7_650_HVO"
      },
      "execution_count": 2,
      "outputs": []
    },
    {
      "cell_type": "code",
      "source": [
        ""
      ],
      "metadata": {
        "id": "DmWrLmzS_N28"
      },
      "execution_count": null,
      "outputs": []
    }
  ]
}