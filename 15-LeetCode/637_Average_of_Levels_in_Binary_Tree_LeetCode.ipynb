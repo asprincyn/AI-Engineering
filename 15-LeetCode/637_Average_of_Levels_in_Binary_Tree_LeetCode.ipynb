{
  "nbformat": 4,
  "nbformat_minor": 0,
  "metadata": {
    "colab": {
      "name": "637 Average of Levels in Binary Tree LeetCode.ipynb",
      "provenance": [],
      "authorship_tag": "ABX9TyMoMF0zHBljF8fI7d4TFBmf",
      "include_colab_link": true
    },
    "kernelspec": {
      "name": "python3",
      "display_name": "Python 3"
    },
    "language_info": {
      "name": "python"
    }
  },
  "cells": [
    {
      "cell_type": "markdown",
      "metadata": {
        "id": "view-in-github",
        "colab_type": "text"
      },
      "source": [
        "<a href=\"https://colab.research.google.com/github/plthiyagu/AI-Engineering/blob/master/15-LeetCode/637_Average_of_Levels_in_Binary_Tree_LeetCode.ipynb\" target=\"_parent\"><img src=\"https://colab.research.google.com/assets/colab-badge.svg\" alt=\"Open In Colab\"/></a>"
      ]
    },
    {
      "cell_type": "code",
      "execution_count": null,
      "metadata": {
        "id": "lhJAeQAHhIu-"
      },
      "outputs": [],
      "source": [
        "# Definition for a binary tree node.\n",
        "# class TreeNode:\n",
        "#     def __init__(self, val=0, left=None, right=None):\n",
        "#         self.val = val\n",
        "#         self.left = left\n",
        "#         self.right = right\n",
        "class Solution:\n",
        "    def averageOfLevels(self, root: Optional[TreeNode]) -> List[float]:\n",
        "        if root is None:\n",
        "            return []\n",
        "        \n",
        "        result = []\n",
        "        queue = [root]\n",
        "        \n",
        "        while queue:\n",
        "            size = len(queue)\n",
        "            level = []\n",
        "            \n",
        "            for i in range(size):\n",
        "                node = queue.pop()\n",
        "                level.append(node.val)\n",
        "                \n",
        "                if node.left:\n",
        "                    queue.insert(0, node.left)\n",
        "                if node.right:\n",
        "                    queue.insert(0, node.right)\n",
        "            \n",
        "            result.append(sum(level) / len(level))\n",
        "        \n",
        "        return result\n",
        "        "
      ]
    }
  ]
}