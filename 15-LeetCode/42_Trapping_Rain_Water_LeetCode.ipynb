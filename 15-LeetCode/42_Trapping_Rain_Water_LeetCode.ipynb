{
  "nbformat": 4,
  "nbformat_minor": 0,
  "metadata": {
    "colab": {
      "name": "42 Trapping Rain Water LeetCode.ipynb",
      "provenance": [],
      "authorship_tag": "ABX9TyNybGdCXLb3Bv9cTZIWK8BP",
      "include_colab_link": true
    },
    "kernelspec": {
      "name": "python3",
      "display_name": "Python 3"
    },
    "language_info": {
      "name": "python"
    }
  },
  "cells": [
    {
      "cell_type": "markdown",
      "metadata": {
        "id": "view-in-github",
        "colab_type": "text"
      },
      "source": [
        "<a href=\"https://colab.research.google.com/github/plthiyagu/AI-Engineering/blob/master/15-LeetCode/42_Trapping_Rain_Water_LeetCode.ipynb\" target=\"_parent\"><img src=\"https://colab.research.google.com/assets/colab-badge.svg\" alt=\"Open In Colab\"/></a>"
      ]
    },
    {
      "cell_type": "code",
      "execution_count": 9,
      "metadata": {
        "id": "Rpta1BgpCBkb"
      },
      "outputs": [],
      "source": [
        "from typing import List\n",
        "class Solution:\n",
        "    def trap(self, height: List[int]) -> int:\n",
        "      res=0\n",
        "      stack =[]\n",
        "      for i in range(len(height)):\n",
        "        while stack and height[i] > height[stack [-1]]:\n",
        "          h= height[stack.pop()]\n",
        "          if not stack:\n",
        "            break\n",
        "          res += (min(height[i], height[stack[-1]])-h) * (i - stack[-1] - 1)    \n",
        "        stack.append(i)\n",
        "      return res"
      ]
    },
    {
      "cell_type": "code",
      "source": [
        "height=[0,1,0,2,1,0,1,3,2,1,2,1]\n",
        "sol = Solution()\n",
        "sol.trap(height)"
      ],
      "metadata": {
        "colab": {
          "base_uri": "https://localhost:8080/"
        },
        "id": "cOGYATJrDAeu",
        "outputId": "ef4f7420-4bd5-491f-dd98-fc624d0e8877"
      },
      "execution_count": 10,
      "outputs": [
        {
          "output_type": "execute_result",
          "data": {
            "text/plain": [
              "6"
            ]
          },
          "metadata": {},
          "execution_count": 10
        }
      ]
    },
    {
      "cell_type": "code",
      "source": [
        ""
      ],
      "metadata": {
        "id": "W7VmWlNBDJrf"
      },
      "execution_count": null,
      "outputs": []
    }
  ]
}