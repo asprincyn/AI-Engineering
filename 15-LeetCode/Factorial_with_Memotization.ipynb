{
  "nbformat": 4,
  "nbformat_minor": 0,
  "metadata": {
    "colab": {
      "name": "Factorial with Memotization.ipynb",
      "provenance": [],
      "collapsed_sections": [],
      "authorship_tag": "ABX9TyNWO633z9ETZqljIVaPJrzq",
      "include_colab_link": true
    },
    "kernelspec": {
      "name": "python3",
      "display_name": "Python 3"
    },
    "language_info": {
      "name": "python"
    }
  },
  "cells": [
    {
      "cell_type": "markdown",
      "metadata": {
        "id": "view-in-github",
        "colab_type": "text"
      },
      "source": [
        "<a href=\"https://colab.research.google.com/github/plthiyagu/AI-Engineering/blob/master/15-LeetCode/Factorial_with_Memotization.ipynb\" target=\"_parent\"><img src=\"https://colab.research.google.com/assets/colab-badge.svg\" alt=\"Open In Colab\"/></a>"
      ]
    },
    {
      "cell_type": "code",
      "execution_count": 2,
      "metadata": {
        "id": "1yDqfXXv26wx"
      },
      "outputs": [],
      "source": [
        "def factorial(n):\n",
        "  memo ={}\n",
        "  if n in memo:\n",
        "    return memo[n]\n",
        "  elif n ==0 or n==1:\n",
        "    return 1\n",
        "    mmemo[n]=1\n",
        "  else:\n",
        "    fact= n * factorial(n-1)\n",
        "    memo[n]= fact\n",
        "  return fact"
      ]
    },
    {
      "cell_type": "code",
      "source": [
        "n=5\n",
        "factorial(n)"
      ],
      "metadata": {
        "colab": {
          "base_uri": "https://localhost:8080/"
        },
        "id": "iV2lKrHp3pnk",
        "outputId": "af990b44-ecf8-41af-c2fa-61dad5d55ee2"
      },
      "execution_count": 3,
      "outputs": [
        {
          "output_type": "execute_result",
          "data": {
            "text/plain": [
              "120"
            ]
          },
          "metadata": {},
          "execution_count": 3
        }
      ]
    },
    {
      "cell_type": "code",
      "source": [
        ""
      ],
      "metadata": {
        "id": "RNNf3tXL3xZk"
      },
      "execution_count": null,
      "outputs": []
    }
  ]
}