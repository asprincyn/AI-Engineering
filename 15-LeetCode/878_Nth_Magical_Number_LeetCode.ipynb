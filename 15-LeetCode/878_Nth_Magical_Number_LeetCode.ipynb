{
  "nbformat": 4,
  "nbformat_minor": 0,
  "metadata": {
    "colab": {
      "name": "878 Nth Magical Number LeetCode.ipynb",
      "provenance": [],
      "collapsed_sections": [],
      "authorship_tag": "ABX9TyMGQeA/5SEgck7o90ngD2rQ",
      "include_colab_link": true
    },
    "kernelspec": {
      "name": "python3",
      "display_name": "Python 3"
    },
    "language_info": {
      "name": "python"
    }
  },
  "cells": [
    {
      "cell_type": "markdown",
      "metadata": {
        "id": "view-in-github",
        "colab_type": "text"
      },
      "source": [
        "<a href=\"https://colab.research.google.com/github/plthiyagu/AI-Engineering/blob/master/15-LeetCode/878_Nth_Magical_Number_LeetCode.ipynb\" target=\"_parent\"><img src=\"https://colab.research.google.com/assets/colab-badge.svg\" alt=\"Open In Colab\"/></a>"
      ]
    },
    {
      "cell_type": "code",
      "execution_count": 7,
      "metadata": {
        "id": "2ePcW3qtCDHU"
      },
      "outputs": [],
      "source": [
        "from math import gcd\n",
        "class Solution:\n",
        "    def nthMagicalNumber(self, n: int, a: int, b: int) -> int:\n",
        "      mod = 10**9*7\n",
        "      l = a/gcd(a,b)*b\n",
        "      def magic_below_x(x):\n",
        "        return x/a+x/b-x/l\n",
        "      lo= 0\n",
        "      hi =n* min(a,b)\n",
        "      while lo<hi:\n",
        "          mi = (lo+hi)/2\n",
        "          if magic_below_x(mi) <n:\n",
        "              lo = mi +1\n",
        "          else:\n",
        "              hi = mi\n",
        "      return int(lo % mod)\n",
        "        "
      ]
    },
    {
      "cell_type": "code",
      "source": [
        "sol = Solution()\n",
        "n = 1\n",
        "a = 2\n",
        "b = 3\n",
        "sol.nthMagicalNumber(a,b,n)"
      ],
      "metadata": {
        "colab": {
          "base_uri": "https://localhost:8080/"
        },
        "id": "qF6Qg5f5MOUW",
        "outputId": "3a289ea9-4008-4465-c775-cffb6eecd542"
      },
      "execution_count": 8,
      "outputs": [
        {
          "output_type": "execute_result",
          "data": {
            "text/plain": [
              "2"
            ]
          },
          "metadata": {},
          "execution_count": 8
        }
      ]
    },
    {
      "cell_type": "code",
      "source": [
        ""
      ],
      "metadata": {
        "id": "48Dbs32oMueh"
      },
      "execution_count": null,
      "outputs": []
    },
    {
      "cell_type": "code",
      "source": [
        ""
      ],
      "metadata": {
        "id": "05MafwDgMstC"
      },
      "execution_count": null,
      "outputs": []
    }
  ]
}