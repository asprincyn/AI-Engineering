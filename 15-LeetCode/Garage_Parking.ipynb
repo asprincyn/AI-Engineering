{
  "nbformat": 4,
  "nbformat_minor": 0,
  "metadata": {
    "colab": {
      "name": "Garage Parking.ipynb",
      "provenance": [],
      "authorship_tag": "ABX9TyMH+S0qDRPPaxnJ7cKK6pwF",
      "include_colab_link": true
    },
    "kernelspec": {
      "name": "python3",
      "display_name": "Python 3"
    },
    "language_info": {
      "name": "python"
    }
  },
  "cells": [
    {
      "cell_type": "markdown",
      "metadata": {
        "id": "view-in-github",
        "colab_type": "text"
      },
      "source": [
        "<a href=\"https://colab.research.google.com/github/plthiyagu/AI-Engineering/blob/master/15-LeetCode/Garage_Parking.ipynb\" target=\"_parent\"><img src=\"https://colab.research.google.com/assets/colab-badge.svg\" alt=\"Open In Colab\"/></a>"
      ]
    },
    {
      "cell_type": "code",
      "execution_count": 34,
      "metadata": {
        "id": "hTS6AcoLL2bl"
      },
      "outputs": [],
      "source": [
        "def garage(initial, final):\n",
        "  initial = initial[::]\n",
        "  seq =[]\n",
        "  steps =0\n",
        "  while initial != final:\n",
        "    zero = initial.index(0)\n",
        "    if zero != final.index(0):\n",
        "      car_to_move = final[zero]\n",
        "      pos = initial.index(car_to_move)\n",
        "      initial[zero],initial[pos]= initial[pos],initial[zero]\n",
        "    else:\n",
        "      for i in range(len(initial)):\n",
        "        if initial[i] != final[i]:\n",
        "          initial[zero],initial[i] =initial[i],initial[zero]\n",
        "          break\n",
        "    seq.append(initial[::])\n",
        "    steps +=1\n",
        "  return steps,seq "
      ]
    },
    {
      "cell_type": "code",
      "source": [
        "initial= [1, 2, 3, 0, 4]\n",
        "final= [0, 3, 2, 1, 4]\n",
        "print(garage(initial, final))"
      ],
      "metadata": {
        "colab": {
          "base_uri": "https://localhost:8080/"
        },
        "id": "6XZngabTN2iu",
        "outputId": "5da37df2-912a-4891-b301-234d6b121e39"
      },
      "execution_count": 35,
      "outputs": [
        {
          "output_type": "stream",
          "name": "stdout",
          "text": [
            "(4, [[0, 2, 3, 1, 4], [2, 0, 3, 1, 4], [2, 3, 0, 1, 4], [0, 3, 2, 1, 4]])\n"
          ]
        }
      ]
    },
    {
      "cell_type": "code",
      "source": [
        ""
      ],
      "metadata": {
        "id": "R7Jfjf85TQLz"
      },
      "execution_count": null,
      "outputs": []
    }
  ]
}