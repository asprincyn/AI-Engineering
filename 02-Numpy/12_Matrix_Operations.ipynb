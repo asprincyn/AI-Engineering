{
  "nbformat": 4,
  "nbformat_minor": 0,
  "metadata": {
    "colab": {
      "name": "12 Matrix Operations.ipynb",
      "provenance": [],
      "authorship_tag": "ABX9TyObAfqj3+XWbeJo/txOOrS2",
      "include_colab_link": true
    },
    "kernelspec": {
      "name": "python3",
      "display_name": "Python 3"
    },
    "language_info": {
      "name": "python"
    }
  },
  "cells": [
    {
      "cell_type": "markdown",
      "metadata": {
        "id": "view-in-github",
        "colab_type": "text"
      },
      "source": [
        "<a href=\"https://colab.research.google.com/github/plthiyagu/AI-Engineering/blob/master/02-Numpy/12_Matrix_Operations.ipynb\" target=\"_parent\"><img src=\"https://colab.research.google.com/assets/colab-badge.svg\" alt=\"Open In Colab\"/></a>"
      ]
    },
    {
      "cell_type": "code",
      "execution_count": 1,
      "metadata": {
        "colab": {
          "base_uri": "https://localhost:8080/"
        },
        "id": "jlojI6JUEgBx",
        "outputId": "04f75aaf-99e8-4005-83d0-3a82854f0f4d"
      },
      "outputs": [
        {
          "output_type": "stream",
          "name": "stdout",
          "text": [
            "The original matrix is given by n [[45 34]\n",
            " [67 58]]\n",
            "The dimension of the given matrix is 2\n"
          ]
        }
      ],
      "source": [
        "import numpy as np\n",
        "matrix = np.array([[45,34],[67,58]])\n",
        "# Create a matrix\n",
        "print(\"The original matrix is given by n\", matrix)\n",
        "# Check the dimension of the matrix\n",
        "print(\"The dimension of the given matrix is\", matrix.ndim)"
      ]
    },
    {
      "cell_type": "markdown",
      "source": [
        "Matrices Addition and Subtraction\n"
      ],
      "metadata": {
        "id": "KyJ3fAN7ElKU"
      }
    },
    {
      "cell_type": "code",
      "source": [
        "matrix_1 = np.array([[45,34],[67,58]])\n",
        "matrix_2 = np.array([[35,24],[57,48]])\n",
        "# Add the two matrices\n",
        "print(\"The result after adding matrix 1 and matrix 2 is given by n\" , np.add(matrix_1, matrix_2))\n",
        "# Subtract one matrix from the other matrices\n",
        "print(\"The result after subtracting matrix 1 from matrix 2 is given by n\" , np.subtract(matrix_1, matrix_2))\n",
        "print(\"The result after subtracting matrix 2 from matrix 1 is given by n\" , np.subtract(matrix_2, matrix_1))"
      ],
      "metadata": {
        "colab": {
          "base_uri": "https://localhost:8080/"
        },
        "id": "-0XaEbuuEhI4",
        "outputId": "e66a0205-da26-410c-e2b0-0d6a49e44de2"
      },
      "execution_count": 2,
      "outputs": [
        {
          "output_type": "stream",
          "name": "stdout",
          "text": [
            "The result after adding matrix 1 and matrix 2 is given by n [[ 80  58]\n",
            " [124 106]]\n",
            "The result after subtracting matrix 1 from matrix 2 is given by n [[10 10]\n",
            " [10 10]]\n",
            "The result after subtracting matrix 2 from matrix 1 is given by n [[-10 -10]\n",
            " [-10 -10]]\n"
          ]
        }
      ]
    },
    {
      "cell_type": "markdown",
      "source": [
        "Shape and Size of a Matrix"
      ],
      "metadata": {
        "id": "Ig17Kfb_FUMb"
      }
    },
    {
      "cell_type": "code",
      "source": [
        "matrix = np.array([[45,34,75],[67,58,89]])\n",
        "# Finding number of rows and columns in the matrix\n",
        "print(\"The number of rows and columns in the given matrix are \" + str(matrix.shape[0]) + \" and \" + str(matrix.shape[1]) + \" respectively\")\n",
        "# Number of elements in the matrix\n",
        "print(\"The size of the given matrix is\" , matrix.size)"
      ],
      "metadata": {
        "colab": {
          "base_uri": "https://localhost:8080/"
        },
        "id": "gKoI-p6oEpfA",
        "outputId": "6601e7e8-eafa-44e0-befb-378a389e4002"
      },
      "execution_count": 3,
      "outputs": [
        {
          "output_type": "stream",
          "name": "stdout",
          "text": [
            "The number of rows and columns in the given matrix are 2 and 3 respectively\n",
            "The size of the given matrix is 6\n"
          ]
        }
      ]
    },
    {
      "cell_type": "markdown",
      "source": [
        "Converting a given Dense matrix to a Sparse Matrix\n",
        "Let’s first understand what exactly it means by Sparse and Dense Matrix.\n",
        "\n",
        "A sparse matrix is a matrix that consists of mostly zero values. And Sparse matrices are different from matrices with mostly non-zero values, which are Known as dense matrices."
      ],
      "metadata": {
        "id": "xDibqU7qFfoN"
      }
    },
    {
      "cell_type": "code",
      "source": [
        "from scipy import sparse\n",
        "# Create a Dense Matrix\n",
        "dense_matrix = np.array([[0,0],[0,17],[78,0]])\n",
        "# Convert Dense matrix to Sparse matrix\n",
        "sparse_matrix = sparse.csr_matrix(dense_matrix)\n",
        "print(\"The sparse matrix corresponding to a given dense matrix is given by n\" , sparse_matrix)"
      ],
      "metadata": {
        "colab": {
          "base_uri": "https://localhost:8080/"
        },
        "id": "FKsyoZWMFZ96",
        "outputId": "f100b585-0ba4-40a0-f966-c71427f323f3"
      },
      "execution_count": 4,
      "outputs": [
        {
          "output_type": "stream",
          "name": "stdout",
          "text": [
            "The sparse matrix corresponding to a given dense matrix is given by n   (1, 1)\t17\n",
            "  (2, 0)\t78\n"
          ]
        }
      ]
    },
    {
      "cell_type": "markdown",
      "source": [
        "Matrix Transpose\n",
        "In Matrix Transpose, we can convert a row vector to a column vector and vice versa i.e, row becomes columns and columns becomes rows.\n",
        "\n",
        "If we have matrix A = [aij]mxn, then the transpose of this matrix is AT = [aji]n×m"
      ],
      "metadata": {
        "id": "8JVrw6QYFnkx"
      }
    },
    {
      "cell_type": "code",
      "source": [
        "import numpy as np\n",
        "matrix = np.array([[45,34],[67,58]])\n",
        "print(\"The original matrix is given by n\" , matrix)\n",
        "print(\"The transpose matrix of the given matrix is n\" , matrix.T)"
      ],
      "metadata": {
        "colab": {
          "base_uri": "https://localhost:8080/"
        },
        "id": "LbqcTTzKFkcP",
        "outputId": "e750ca2e-3a70-4271-d5cb-d98f936e89a2"
      },
      "execution_count": 5,
      "outputs": [
        {
          "output_type": "stream",
          "name": "stdout",
          "text": [
            "The original matrix is given by n [[45 34]\n",
            " [67 58]]\n",
            "The transpose matrix of the given matrix is n [[45 67]\n",
            " [34 58]]\n"
          ]
        }
      ]
    },
    {
      "cell_type": "markdown",
      "source": [
        "Mean, Variance, and Standard Deviation of a Matrix"
      ],
      "metadata": {
        "id": "DFJGSbzGFvK6"
      }
    },
    {
      "cell_type": "code",
      "source": [
        "import numpy as np\n",
        "matrix = np.array([[45,34],[67,58], [23,89]])\n",
        "# Finding the mean of a matrix elements\n",
        "print(\"The mean of the elements of a matrix is equal to\", np.mean(matrix))\n",
        "# Finding the Variance of a matrix elements\n",
        "print(\"The variance of the elements of a matrix is equal to\", np.var(matrix))\n",
        "# Finding the Standard Deviation of a matrix elements\n",
        "print(\"The standard deviation of the elements of a matrix is equal to\", np.std(matrix))\n",
        "print(\"The standard deviation of the elements of a matrix is equal to\", np.sqrt(np.var(matrix)))"
      ],
      "metadata": {
        "colab": {
          "base_uri": "https://localhost:8080/"
        },
        "id": "NjvKkZi3FrTY",
        "outputId": "de2cf2b6-1dcd-4e2a-e9a0-1bc42977e2c4"
      },
      "execution_count": 6,
      "outputs": [
        {
          "output_type": "stream",
          "name": "stdout",
          "text": [
            "The mean of the elements of a matrix is equal to 52.666666666666664\n",
            "The variance of the elements of a matrix is equal to 473.5555555555555\n",
            "The standard deviation of the elements of a matrix is equal to 21.761331658599286\n",
            "The standard deviation of the elements of a matrix is equal to 21.761331658599286\n"
          ]
        }
      ]
    },
    {
      "cell_type": "markdown",
      "source": [
        "Trace of a Matrix"
      ],
      "metadata": {
        "id": "_vjP2PfCF4ur"
      }
    },
    {
      "cell_type": "code",
      "source": [
        "import numpy as np\n",
        "matrix = np.array([[1,2,3],[4,5,6], [7,8,9]])\n",
        "# Get the diagonal elements of a matrix\n",
        "print(\"The diagonal elements of a given matrix are n\", matrix.diagonal())\n",
        "# Finding the trace of the matrix\n",
        "print(\"The trace of a given matrix is equal to\", matrix.diagonal().sum())"
      ],
      "metadata": {
        "colab": {
          "base_uri": "https://localhost:8080/"
        },
        "id": "UriNRHA-F1QZ",
        "outputId": "6f4ac968-82f5-4f04-b2ba-4534f283d170"
      },
      "execution_count": 7,
      "outputs": [
        {
          "output_type": "stream",
          "name": "stdout",
          "text": [
            "The diagonal elements of a given matrix are n [1 5 9]\n",
            "The trace of a given matrix is equal to 15\n"
          ]
        }
      ]
    },
    {
      "cell_type": "markdown",
      "source": [
        "Finding minimum and maximum elements from a Matrix"
      ],
      "metadata": {
        "id": "aRICdasDF_Le"
      }
    },
    {
      "cell_type": "code",
      "source": [
        "import numpy as np\n",
        "matrix = np.array([[1,2,3],[4,5,6], [7,8,9]])\n",
        "# Find the minimum element of the matrix\n",
        "print(\"The minimum element in a given matrix is\", np.min(matrix))\n",
        "# Find the maximum element of the matrix\n",
        "print(\"The maximum element in a given matrix is\", np.max(matrix))"
      ],
      "metadata": {
        "colab": {
          "base_uri": "https://localhost:8080/"
        },
        "id": "PJCv4WNWF73A",
        "outputId": "dbcc5078-1db2-4f0d-8867-bd76071f72e6"
      },
      "execution_count": 8,
      "outputs": [
        {
          "output_type": "stream",
          "name": "stdout",
          "text": [
            "The minimum element in a given matrix is 1\n",
            "The maximum element in a given matrix is 9\n"
          ]
        }
      ]
    },
    {
      "cell_type": "markdown",
      "source": [
        "Determinant of a Matrix"
      ],
      "metadata": {
        "id": "1eQ5EzN4GE7K"
      }
    },
    {
      "cell_type": "code",
      "source": [
        "import numpy as np\n",
        "matrix = np.array([[1,2,4],[3,4,6], [7,8,5]])\n",
        "# Find the determinant of the matrix\n",
        "print(\"The determinant of the given matrix is equal to\", np.linalg.det(matrix))"
      ],
      "metadata": {
        "colab": {
          "base_uri": "https://localhost:8080/"
        },
        "id": "eLS_J3SRGBx-",
        "outputId": "4a0208ce-9f3b-4937-d5c0-c19f33dfb3c2"
      },
      "execution_count": 9,
      "outputs": [
        {
          "output_type": "stream",
          "name": "stdout",
          "text": [
            "The determinant of the given matrix is equal to 9.999999999999993\n"
          ]
        }
      ]
    },
    {
      "cell_type": "markdown",
      "source": [
        "Matrix Multiplication"
      ],
      "metadata": {
        "id": "VYe5fLyoGKsS"
      }
    },
    {
      "cell_type": "code",
      "source": [
        "import numpy as np\n",
        "matrix_1 = np.array([[45,34],[67,58]])\n",
        "matrix_2 = np.array([[35,24],[57,48]])\n",
        "print(\"The matrix multiplication of given two matrices is given by n\", np.matmul(matrix_1, matrix_2))"
      ],
      "metadata": {
        "colab": {
          "base_uri": "https://localhost:8080/"
        },
        "id": "ixkQK5VoGH0i",
        "outputId": "4b68747a-101f-4357-bf12-b71ce86f9f31"
      },
      "execution_count": 10,
      "outputs": [
        {
          "output_type": "stream",
          "name": "stdout",
          "text": [
            "The matrix multiplication of given two matrices is given by n [[3513 2712]\n",
            " [5651 4392]]\n"
          ]
        }
      ]
    },
    {
      "cell_type": "markdown",
      "source": [
        "Element wise operations using an inline function (Lambda)"
      ],
      "metadata": {
        "id": "VX_w1Rc3GR_G"
      }
    },
    {
      "cell_type": "code",
      "source": [
        "import numpy as np\n",
        "matrix = np.array([[1,2,4],[3,4,6], [7,8,5]])\n",
        "addition = lambda i:i+5\n",
        "add_5_vec = np.vectorize(addition)\n",
        "print(\"The matrix after adding 5 to all its elements is n\", add_5_vec(matrix))"
      ],
      "metadata": {
        "colab": {
          "base_uri": "https://localhost:8080/"
        },
        "id": "LsL7KEgFGO2l",
        "outputId": "91a059bb-3a84-43d1-ed06-8396aad8307e"
      },
      "execution_count": 11,
      "outputs": [
        {
          "output_type": "stream",
          "name": "stdout",
          "text": [
            "The matrix after adding 5 to all its elements is n [[ 6  7  9]\n",
            " [ 8  9 11]\n",
            " [12 13 10]]\n"
          ]
        }
      ]
    },
    {
      "cell_type": "markdown",
      "source": [
        "Inverse of a Matrix"
      ],
      "metadata": {
        "id": "6NMZpvG1GgMB"
      }
    },
    {
      "cell_type": "code",
      "source": [
        "import numpy as np\n",
        "matrix = np.array([[1,2,4],[3,4,6], [7,8,5]])\n",
        "# Finding the inverse of a matrix\n",
        "print(\"The inverse matrix of a given matrix is n\", np.linalg.inv(matrix))"
      ],
      "metadata": {
        "colab": {
          "base_uri": "https://localhost:8080/"
        },
        "id": "Z1efepV8GdvV",
        "outputId": "ae0168dc-a651-477e-8f18-597ba8924265"
      },
      "execution_count": 12,
      "outputs": [
        {
          "output_type": "stream",
          "name": "stdout",
          "text": [
            "The inverse matrix of a given matrix is n [[-2.8  2.2 -0.4]\n",
            " [ 2.7 -2.3  0.6]\n",
            " [-0.4  0.6 -0.2]]\n"
          ]
        }
      ]
    },
    {
      "cell_type": "markdown",
      "source": [
        "Reshape a given Matrix"
      ],
      "metadata": {
        "id": "avxUCzOHGlvI"
      }
    },
    {
      "cell_type": "code",
      "source": [
        "import numpy as np\n",
        "matrix = np.array([[1,2,4],[3,4,6],[7,8,5],[9,2,1]])\n",
        "print(\"The reshaped matrix is given by n\", matrix.reshape(6,2))"
      ],
      "metadata": {
        "colab": {
          "base_uri": "https://localhost:8080/"
        },
        "id": "Jdfih7OYGiuB",
        "outputId": "87e451ed-b76c-4a32-adc2-89e84e32aa9f"
      },
      "execution_count": 13,
      "outputs": [
        {
          "output_type": "stream",
          "name": "stdout",
          "text": [
            "The reshaped matrix is given by n [[1 2]\n",
            " [4 3]\n",
            " [4 6]\n",
            " [7 8]\n",
            " [5 9]\n",
            " [2 1]]\n"
          ]
        }
      ]
    },
    {
      "cell_type": "code",
      "source": [
        ""
      ],
      "metadata": {
        "id": "6ZXkZekFGoAA"
      },
      "execution_count": null,
      "outputs": []
    }
  ]
}