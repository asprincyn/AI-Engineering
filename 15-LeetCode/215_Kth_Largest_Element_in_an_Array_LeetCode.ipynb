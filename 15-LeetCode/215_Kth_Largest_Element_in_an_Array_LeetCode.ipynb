{
  "nbformat": 4,
  "nbformat_minor": 0,
  "metadata": {
    "colab": {
      "name": "215 Kth Largest Element in an Array LeetCode.ipynb",
      "provenance": [],
      "authorship_tag": "ABX9TyO3Bojh8puqaimBn5kui4sO",
      "include_colab_link": true
    },
    "kernelspec": {
      "name": "python3",
      "display_name": "Python 3"
    },
    "language_info": {
      "name": "python"
    }
  },
  "cells": [
    {
      "cell_type": "markdown",
      "metadata": {
        "id": "view-in-github",
        "colab_type": "text"
      },
      "source": [
        "<a href=\"https://colab.research.google.com/github/plthiyagu/AI-Engineering/blob/master/15-LeetCode/215_Kth_Largest_Element_in_an_Array_LeetCode.ipynb\" target=\"_parent\"><img src=\"https://colab.research.google.com/assets/colab-badge.svg\" alt=\"Open In Colab\"/></a>"
      ]
    },
    {
      "cell_type": "code",
      "execution_count": 3,
      "metadata": {
        "id": "AJdczFt-h0rP"
      },
      "outputs": [],
      "source": [
        "from typing import List\n",
        "import heapq\n",
        "class Solution:\n",
        "    def findKthLargest(self, nums: List[int], k: int) -> int:\n",
        "        heapq.heapify(nums)\n",
        "        amount = len(nums)\n",
        "        while amount > k:\n",
        "            heapq.heappop(nums)\n",
        "            amount -= 1\n",
        "        return nums[0]"
      ]
    },
    {
      "cell_type": "code",
      "source": [
        "sol = Solution()\n",
        "nums = [3,2,1,5,6,4]\n",
        "k = 2\n",
        "sol.findKthLargest(nums,k)"
      ],
      "metadata": {
        "colab": {
          "base_uri": "https://localhost:8080/"
        },
        "id": "9nd_fgKyh2G_",
        "outputId": "b9c8bb4e-8ee8-4558-8351-1e4ee68787db"
      },
      "execution_count": 4,
      "outputs": [
        {
          "output_type": "execute_result",
          "data": {
            "text/plain": [
              "5"
            ]
          },
          "metadata": {},
          "execution_count": 4
        }
      ]
    },
    {
      "cell_type": "code",
      "source": [
        ""
      ],
      "metadata": {
        "id": "hRWNBhwYiHi6"
      },
      "execution_count": null,
      "outputs": []
    }
  ]
}