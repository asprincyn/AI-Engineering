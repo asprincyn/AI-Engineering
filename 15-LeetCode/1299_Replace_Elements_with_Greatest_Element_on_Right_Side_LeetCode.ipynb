{
  "nbformat": 4,
  "nbformat_minor": 0,
  "metadata": {
    "colab": {
      "name": "1299 Replace Elements with Greatest Element on Right Side LeetCode.ipynb",
      "provenance": [],
      "authorship_tag": "ABX9TyMzYUBqU8zTFBTLxryM60Dg",
      "include_colab_link": true
    },
    "kernelspec": {
      "name": "python3",
      "display_name": "Python 3"
    },
    "language_info": {
      "name": "python"
    }
  },
  "cells": [
    {
      "cell_type": "markdown",
      "metadata": {
        "id": "view-in-github",
        "colab_type": "text"
      },
      "source": [
        "<a href=\"https://colab.research.google.com/github/plthiyagu/AI-Engineering/blob/master/15-LeetCode/1299_Replace_Elements_with_Greatest_Element_on_Right_Side_LeetCode.ipynb\" target=\"_parent\"><img src=\"https://colab.research.google.com/assets/colab-badge.svg\" alt=\"Open In Colab\"/></a>"
      ]
    },
    {
      "cell_type": "code",
      "execution_count": 1,
      "metadata": {
        "id": "OkiQ2E_o8uXB"
      },
      "outputs": [],
      "source": [
        "from typing import List\n",
        "class Solution:\n",
        "    def replaceElements(self, arr: List[int]) -> List[int]:\n",
        "        l = len(arr)\n",
        "        ans =[]\n",
        "        for i in range(l-1):\n",
        "            arr_r = max(arr[i+1:])\n",
        "            ans.append(arr_r)\n",
        "        ans.append(-1)\n",
        "        return ans\n",
        "        "
      ]
    },
    {
      "cell_type": "code",
      "source": [
        "arr = [17,18,5,4,6,1]\n",
        "sol = Solution()\n",
        "sol.replaceElements(arr)"
      ],
      "metadata": {
        "colab": {
          "base_uri": "https://localhost:8080/"
        },
        "id": "CewofpJr8xav",
        "outputId": "37f07b28-f76d-4a18-e83d-1eba1b79a1b5"
      },
      "execution_count": 2,
      "outputs": [
        {
          "output_type": "execute_result",
          "data": {
            "text/plain": [
              "[18, 6, 6, 6, 1, -1]"
            ]
          },
          "metadata": {},
          "execution_count": 2
        }
      ]
    },
    {
      "cell_type": "code",
      "source": [
        ""
      ],
      "metadata": {
        "id": "bITUFHwm9P0J"
      },
      "execution_count": null,
      "outputs": []
    }
  ]
}