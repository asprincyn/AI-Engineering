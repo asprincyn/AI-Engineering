{
  "nbformat": 4,
  "nbformat_minor": 0,
  "metadata": {
    "colab": {
      "name": "836 Rectangle Overlap LeetCode.ipynb",
      "provenance": [],
      "authorship_tag": "ABX9TyPdCzlwOmbVyd/lXiG8+RvV",
      "include_colab_link": true
    },
    "kernelspec": {
      "name": "python3",
      "display_name": "Python 3"
    },
    "language_info": {
      "name": "python"
    }
  },
  "cells": [
    {
      "cell_type": "markdown",
      "metadata": {
        "id": "view-in-github",
        "colab_type": "text"
      },
      "source": [
        "<a href=\"https://colab.research.google.com/github/plthiyagu/AI-Engineering/blob/master/15_LeetCode/836_Rectangle_Overlap_LeetCode.ipynb\" target=\"_parent\"><img src=\"https://colab.research.google.com/assets/colab-badge.svg\" alt=\"Open In Colab\"/></a>"
      ]
    },
    {
      "cell_type": "code",
      "execution_count": 2,
      "metadata": {
        "id": "oG9LlSku7T3t"
      },
      "outputs": [],
      "source": [
        "from typing import List\n",
        "class Solution:\n",
        "    def isRectangleOverlap(self, rec1: List[int], rec2: List[int]) -> bool:\n",
        "        def intersect(p_left,p_right,q_left,q_right):\n",
        "            return min(p_right,q_right) > max(p_left,q_left)\n",
        "        \n",
        "        return (intersect(rec1[0],rec1[2], rec2[0], rec2[2]) and\n",
        "                intersect(rec1[1],rec1[3],rec2[1],rec2[3]))"
      ]
    },
    {
      "cell_type": "code",
      "source": [
        "sol = Solution()\n",
        "rec1 = [0,0,2,2]\n",
        "rec2 = [1,1,3,3]\n",
        "sol.isRectangleOverlap(rec1,rec2)"
      ],
      "metadata": {
        "colab": {
          "base_uri": "https://localhost:8080/"
        },
        "id": "cJIgeoDH7WVP",
        "outputId": "2efefc90-9a50-4aee-cf5b-a8ae192326b4"
      },
      "execution_count": 3,
      "outputs": [
        {
          "output_type": "execute_result",
          "data": {
            "text/plain": [
              "True"
            ]
          },
          "metadata": {},
          "execution_count": 3
        }
      ]
    },
    {
      "cell_type": "code",
      "source": [
        ""
      ],
      "metadata": {
        "id": "eJIkg3mr7oUZ"
      },
      "execution_count": null,
      "outputs": []
    }
  ]
}