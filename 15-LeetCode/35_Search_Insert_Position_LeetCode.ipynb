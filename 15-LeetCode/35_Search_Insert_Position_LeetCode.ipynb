{
  "nbformat": 4,
  "nbformat_minor": 0,
  "metadata": {
    "colab": {
      "name": "35 Search Insert Position LeetCode.ipynb",
      "provenance": [],
      "collapsed_sections": [],
      "authorship_tag": "ABX9TyMjaBGlz912owbl94+hZZrn",
      "include_colab_link": true
    },
    "kernelspec": {
      "name": "python3",
      "display_name": "Python 3"
    },
    "language_info": {
      "name": "python"
    }
  },
  "cells": [
    {
      "cell_type": "markdown",
      "metadata": {
        "id": "view-in-github",
        "colab_type": "text"
      },
      "source": [
        "<a href=\"https://colab.research.google.com/github/plthiyagu/AI-Engineering/blob/master/15-LeetCode/35_Search_Insert_Position_LeetCode.ipynb\" target=\"_parent\"><img src=\"https://colab.research.google.com/assets/colab-badge.svg\" alt=\"Open In Colab\"/></a>"
      ]
    },
    {
      "cell_type": "code",
      "execution_count": 2,
      "metadata": {
        "id": "HvaHXnP-ryph"
      },
      "outputs": [],
      "source": [
        "from typing import List\n",
        "class Solution:\n",
        "    def searchInsert(self, nums: List[int], target: int) -> int:\n",
        "        left =0\n",
        "        right = len(nums)-1\n",
        "        \n",
        "        while left <= right:\n",
        "            mid = (left+right)//2\n",
        "            \n",
        "            if nums[mid] == target:\n",
        "                return mid\n",
        "            elif target >nums[mid]:\n",
        "                left = mid +1\n",
        "            else:\n",
        "                right = mid -1\n",
        "        return left\n",
        "        "
      ]
    },
    {
      "cell_type": "code",
      "source": [
        "nums = [1,3,5,6]\n",
        "target = 5\n",
        "sol= Solution()\n",
        "sol.searchInsert(nums,target)"
      ],
      "metadata": {
        "colab": {
          "base_uri": "https://localhost:8080/"
        },
        "id": "ek7MX1Kgrz4X",
        "outputId": "c39c0cd1-c630-4617-95fd-d4d635f40b7f"
      },
      "execution_count": 3,
      "outputs": [
        {
          "output_type": "execute_result",
          "data": {
            "text/plain": [
              "2"
            ]
          },
          "metadata": {},
          "execution_count": 3
        }
      ]
    },
    {
      "cell_type": "code",
      "source": [
        ""
      ],
      "metadata": {
        "id": "vgevNb_4sEUT"
      },
      "execution_count": null,
      "outputs": []
    }
  ]
}