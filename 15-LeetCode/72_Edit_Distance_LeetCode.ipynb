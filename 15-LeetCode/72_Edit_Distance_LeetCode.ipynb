{
  "nbformat": 4,
  "nbformat_minor": 0,
  "metadata": {
    "colab": {
      "name": "72 Edit Distance LeetCode.ipynb",
      "provenance": [],
      "authorship_tag": "ABX9TyPZvIc934xHkFU0hDaoQKAj",
      "include_colab_link": true
    },
    "kernelspec": {
      "name": "python3",
      "display_name": "Python 3"
    },
    "language_info": {
      "name": "python"
    }
  },
  "cells": [
    {
      "cell_type": "markdown",
      "metadata": {
        "id": "view-in-github",
        "colab_type": "text"
      },
      "source": [
        "<a href=\"https://colab.research.google.com/github/plthiyagu/AI-Engineering/blob/master/15-LeetCode/72_Edit_Distance_LeetCode.ipynb\" target=\"_parent\"><img src=\"https://colab.research.google.com/assets/colab-badge.svg\" alt=\"Open In Colab\"/></a>"
      ]
    },
    {
      "cell_type": "code",
      "execution_count": 1,
      "metadata": {
        "id": "mPhOjj2hMopv"
      },
      "outputs": [],
      "source": [
        "def minDistance( word1: str, word2: str) -> int:\n",
        "    l1, l2 = len(word1), len(word2)\n",
        "    dp1 = [i for i in range(l1 + 1)]\n",
        "    dp2 = [0] * (l1 + 1)\n",
        "    for i in range(1, l2 + 1):\n",
        "        dp2[0] = i\n",
        "        for j in range(1, l1 + 1):\n",
        "            if word2[i - 1] == word1[j - 1]:\n",
        "                dp2[j] = dp1[j - 1]\n",
        "            else:\n",
        "                dp2[j] = min(dp1[j - 1], dp2[j - 1], dp1[j]) + 1\n",
        "        dp1 = dp2[:]\n",
        "    return dp1[-1]"
      ]
    },
    {
      "cell_type": "code",
      "source": [
        "word1 = \"horse\"\n",
        "word2 = \"ros\"\n",
        "minDistance( word1, word2)"
      ],
      "metadata": {
        "colab": {
          "base_uri": "https://localhost:8080/"
        },
        "id": "lpGgRrOCMslz",
        "outputId": "f765b608-69d0-478e-c87f-cd6022bb8e41"
      },
      "execution_count": 2,
      "outputs": [
        {
          "output_type": "execute_result",
          "data": {
            "text/plain": [
              "3"
            ]
          },
          "metadata": {},
          "execution_count": 2
        }
      ]
    },
    {
      "cell_type": "code",
      "source": [
        ""
      ],
      "metadata": {
        "id": "oH0eYu1FM084"
      },
      "execution_count": null,
      "outputs": []
    }
  ]
}