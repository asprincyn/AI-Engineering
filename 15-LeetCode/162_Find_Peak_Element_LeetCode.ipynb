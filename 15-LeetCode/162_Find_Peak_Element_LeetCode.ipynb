{
  "nbformat": 4,
  "nbformat_minor": 0,
  "metadata": {
    "colab": {
      "name": "162 Find Peak Element LeetCode.ipynb",
      "provenance": [],
      "authorship_tag": "ABX9TyNkGJJjpBy0qFXBVP3hFSt4",
      "include_colab_link": true
    },
    "kernelspec": {
      "name": "python3",
      "display_name": "Python 3"
    },
    "language_info": {
      "name": "python"
    }
  },
  "cells": [
    {
      "cell_type": "markdown",
      "metadata": {
        "id": "view-in-github",
        "colab_type": "text"
      },
      "source": [
        "<a href=\"https://colab.research.google.com/github/plthiyagu/AI-Engineering/blob/master/15-LeetCode/162_Find_Peak_Element_LeetCode.ipynb\" target=\"_parent\"><img src=\"https://colab.research.google.com/assets/colab-badge.svg\" alt=\"Open In Colab\"/></a>"
      ]
    },
    {
      "cell_type": "code",
      "execution_count": 1,
      "metadata": {
        "id": "TuXeGH3tpy74"
      },
      "outputs": [],
      "source": [
        "from typing import List\n",
        "class Solution:\n",
        "    def findPeakElement(self, nums: List[int]) -> int:\n",
        "        start = 0\n",
        "        end = len(nums) - 1\n",
        "        \n",
        "        \n",
        "        while start + 1 < end:\n",
        "            mid = start + (end - start) // 2\n",
        "            \n",
        "            if nums[mid] > nums[mid - 1] and nums[mid] > nums[mid + 1]:\n",
        "                return mid\n",
        "            elif nums[mid] < nums[mid - 1]:\n",
        "                end = mid\n",
        "            elif nums[mid] < nums[mid + 1]:\n",
        "                start = mid\n",
        "                \n",
        "        if nums[end] > nums[start]:\n",
        "            return end\n",
        "        \n",
        "        return start\n",
        "        "
      ]
    },
    {
      "cell_type": "code",
      "source": [
        "nums = [1,2,3,1]\n",
        "sol = Solution()\n",
        "sol.findPeakElement(nums)"
      ],
      "metadata": {
        "colab": {
          "base_uri": "https://localhost:8080/"
        },
        "id": "UgStdCj8p4-Q",
        "outputId": "7c279554-302b-4d00-9f9d-49001b0f96b1"
      },
      "execution_count": 2,
      "outputs": [
        {
          "output_type": "execute_result",
          "data": {
            "text/plain": [
              "2"
            ]
          },
          "metadata": {},
          "execution_count": 2
        }
      ]
    },
    {
      "cell_type": "code",
      "source": [
        ""
      ],
      "metadata": {
        "id": "_5Z6yrZvp_SL"
      },
      "execution_count": null,
      "outputs": []
    }
  ]
}