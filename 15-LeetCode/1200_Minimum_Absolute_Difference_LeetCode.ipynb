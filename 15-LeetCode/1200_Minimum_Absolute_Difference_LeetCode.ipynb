{
  "nbformat": 4,
  "nbformat_minor": 0,
  "metadata": {
    "colab": {
      "name": "1200 Minimum Absolute Difference  LeetCode.ipynb",
      "provenance": [],
      "collapsed_sections": [],
      "authorship_tag": "ABX9TyMz0zzs27usl05L3iMSQXwk",
      "include_colab_link": true
    },
    "kernelspec": {
      "name": "python3",
      "display_name": "Python 3"
    },
    "language_info": {
      "name": "python"
    }
  },
  "cells": [
    {
      "cell_type": "markdown",
      "metadata": {
        "id": "view-in-github",
        "colab_type": "text"
      },
      "source": [
        "<a href=\"https://colab.research.google.com/github/plthiyagu/AI-Engineering/blob/master/15-LeetCode/1200_Minimum_Absolute_Difference_LeetCode.ipynb\" target=\"_parent\"><img src=\"https://colab.research.google.com/assets/colab-badge.svg\" alt=\"Open In Colab\"/></a>"
      ]
    },
    {
      "cell_type": "code",
      "execution_count": 1,
      "metadata": {
        "id": "tVqs80mQwvwb"
      },
      "outputs": [],
      "source": [
        "\n",
        "from typing import List\n",
        "class Solution:\n",
        "    def minimumAbsDifference(self, arr: List[int]) -> List[List[int]]:\n",
        "        arr.sort()\n",
        "        \n",
        "        min_pair_diff = float('inf')\n",
        "        answer = []\n",
        "        \n",
        "        for i in range(len(arr)-1):\n",
        "            curr_pair_diff = arr[i+1] - arr[i]\n",
        "            \n",
        "            if curr_pair_diff == min_pair_diff:\n",
        "                answer.append([arr[i], arr[i+1]])\n",
        "            elif curr_pair_diff < min_pair_diff:\n",
        "                answer = [[arr[i], arr[i+1]]]\n",
        "                min_pair_diff = curr_pair_diff\n",
        "        return answer\n",
        "        "
      ]
    },
    {
      "cell_type": "code",
      "source": [
        "sol = Solution()\n",
        "arr = [4,2,1,3]\n",
        "sol.minimumAbsDifference(arr)"
      ],
      "metadata": {
        "colab": {
          "base_uri": "https://localhost:8080/"
        },
        "id": "GQPOnUtKw_20",
        "outputId": "29f4a92e-2436-4d8e-822a-8f812b473b47"
      },
      "execution_count": 2,
      "outputs": [
        {
          "output_type": "execute_result",
          "data": {
            "text/plain": [
              "[[1, 2], [2, 3], [3, 4]]"
            ]
          },
          "metadata": {},
          "execution_count": 2
        }
      ]
    },
    {
      "cell_type": "code",
      "source": [
        ""
      ],
      "metadata": {
        "id": "9J9720fuxKfW"
      },
      "execution_count": null,
      "outputs": []
    }
  ]
}