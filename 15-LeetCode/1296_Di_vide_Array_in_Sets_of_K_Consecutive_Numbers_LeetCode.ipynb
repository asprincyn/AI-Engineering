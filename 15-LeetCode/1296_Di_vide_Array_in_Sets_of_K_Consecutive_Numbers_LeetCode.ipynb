{
  "nbformat": 4,
  "nbformat_minor": 0,
  "metadata": {
    "colab": {
      "name": "1296 Di vide Array in Sets of K Consecutive Numbers LeetCode.ipynb",
      "provenance": [],
      "collapsed_sections": [],
      "authorship_tag": "ABX9TyNQU1U1LutawX0Lp3ISbGdz",
      "include_colab_link": true
    },
    "kernelspec": {
      "name": "python3",
      "display_name": "Python 3"
    },
    "language_info": {
      "name": "python"
    }
  },
  "cells": [
    {
      "cell_type": "markdown",
      "metadata": {
        "id": "view-in-github",
        "colab_type": "text"
      },
      "source": [
        "<a href=\"https://colab.research.google.com/github/plthiyagu/AI-Engineering/blob/master/15-LeetCode/1296_Di_vide_Array_in_Sets_of_K_Consecutive_Numbers_LeetCode.ipynb\" target=\"_parent\"><img src=\"https://colab.research.google.com/assets/colab-badge.svg\" alt=\"Open In Colab\"/></a>"
      ]
    },
    {
      "cell_type": "code",
      "execution_count": 3,
      "metadata": {
        "id": "zMKsS4lniPN5"
      },
      "outputs": [],
      "source": [
        "\n",
        "from typing import List\n",
        "import collections\n",
        "class Solution:\n",
        "    def isPossibleDivide(self, nums: List[int], k: int) -> bool:\n",
        "        if len(nums) % k:\n",
        "            return False\n",
        "        \n",
        "        c = collections.defaultdict(int)\n",
        "        for i in nums:\n",
        "            c[i] += 1\n",
        "        \n",
        "        freq = 0\n",
        "        \n",
        "        for key in sorted(c.keys()):\n",
        "            freq = c[key]\n",
        "            if freq:\n",
        "                for i in range(1,k):\n",
        "                    if c[key+i] and c[key+i] >= freq:\n",
        "                        c[key+i] -= freq\n",
        "                    else:\n",
        "                        return False\n",
        "        return True\n",
        "        "
      ]
    },
    {
      "cell_type": "code",
      "source": [
        "nums = [1,2,3,3,4,4,5,6]\n",
        "k = 4\n",
        "sol =Solution()\n",
        "sol.isPossibleDivide(nums,k)"
      ],
      "metadata": {
        "colab": {
          "base_uri": "https://localhost:8080/"
        },
        "id": "PMHm0_wqiSmF",
        "outputId": "1bd6cd9d-7022-49d2-fe40-181800661032"
      },
      "execution_count": 4,
      "outputs": [
        {
          "output_type": "execute_result",
          "data": {
            "text/plain": [
              "True"
            ]
          },
          "metadata": {},
          "execution_count": 4
        }
      ]
    },
    {
      "cell_type": "code",
      "source": [
        ""
      ],
      "metadata": {
        "id": "NZw5oaJjiaEu"
      },
      "execution_count": null,
      "outputs": []
    }
  ]
}