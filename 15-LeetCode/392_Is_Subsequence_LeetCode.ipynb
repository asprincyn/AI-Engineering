{
  "nbformat": 4,
  "nbformat_minor": 0,
  "metadata": {
    "colab": {
      "name": "392 Is Subsequence LeetCode.ipynb",
      "provenance": [],
      "authorship_tag": "ABX9TyN1aiaMV+Wv/pS8cF885i/2",
      "include_colab_link": true
    },
    "kernelspec": {
      "name": "python3",
      "display_name": "Python 3"
    },
    "language_info": {
      "name": "python"
    }
  },
  "cells": [
    {
      "cell_type": "markdown",
      "metadata": {
        "id": "view-in-github",
        "colab_type": "text"
      },
      "source": [
        "<a href=\"https://colab.research.google.com/github/plthiyagu/AI-Engineering/blob/master/15-LeetCode/392_Is_Subsequence_LeetCode.ipynb\" target=\"_parent\"><img src=\"https://colab.research.google.com/assets/colab-badge.svg\" alt=\"Open In Colab\"/></a>"
      ]
    },
    {
      "cell_type": "code",
      "execution_count": 1,
      "metadata": {
        "id": "tMcqYPCSWjM2"
      },
      "outputs": [],
      "source": [
        "class Solution:\n",
        "    def isSubsequence(self, s: str, t: str) -> bool:\n",
        "        si,ti =0,0\n",
        "        while si < len(s) and ti < len(t):\n",
        "            if t[ti] ==s[si]:\n",
        "                si +=1\n",
        "            ti += 1\n",
        "        return si == len(s)\n"
      ]
    },
    {
      "cell_type": "code",
      "source": [
        "sol = Solution()\n",
        "s = \"abc\"\n",
        "t = \"ahbgdc\"\n",
        "sol.isSubsequence(s,t)"
      ],
      "metadata": {
        "colab": {
          "base_uri": "https://localhost:8080/"
        },
        "id": "8ZfQhUUsWk4k",
        "outputId": "79417d55-4ece-456f-ff75-d72655c765eb"
      },
      "execution_count": 3,
      "outputs": [
        {
          "output_type": "execute_result",
          "data": {
            "text/plain": [
              "True"
            ]
          },
          "metadata": {},
          "execution_count": 3
        }
      ]
    },
    {
      "cell_type": "code",
      "source": [
        ""
      ],
      "metadata": {
        "id": "GL3BxBr9Wz9r"
      },
      "execution_count": null,
      "outputs": []
    },
    {
      "cell_type": "code",
      "source": [
        ""
      ],
      "metadata": {
        "id": "TGEs1ttPWrYY"
      },
      "execution_count": null,
      "outputs": []
    }
  ]
}