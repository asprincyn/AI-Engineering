{
  "nbformat": 4,
  "nbformat_minor": 0,
  "metadata": {
    "colab": {
      "name": "1002 Find Common Characters LeetCode.ipynb",
      "provenance": [],
      "authorship_tag": "ABX9TyN/NGws+ir6WrT/4MFPS2RW",
      "include_colab_link": true
    },
    "kernelspec": {
      "name": "python3",
      "display_name": "Python 3"
    },
    "language_info": {
      "name": "python"
    }
  },
  "cells": [
    {
      "cell_type": "markdown",
      "metadata": {
        "id": "view-in-github",
        "colab_type": "text"
      },
      "source": [
        "<a href=\"https://colab.research.google.com/github/plthiyagu/AI-Engineering/blob/master/15-LeetCode/1002_Find_Common_Characters_LeetCode.ipynb\" target=\"_parent\"><img src=\"https://colab.research.google.com/assets/colab-badge.svg\" alt=\"Open In Colab\"/></a>"
      ]
    },
    {
      "cell_type": "code",
      "execution_count": 4,
      "metadata": {
        "id": "COS4Sm94CutE"
      },
      "outputs": [],
      "source": [
        "from collections import Counter\n",
        "from typing import List\n",
        "class Solution:\n",
        "  def commonChars(self, words: List[str]) -> List[str]:\n",
        "    if not words:\n",
        "      return None\n",
        "    c= Counter(words[0])\n",
        "    for word in words[1:]:\n",
        "      c &= Counter(word)\n",
        "    ans = []\n",
        "    for x in c:\n",
        "        ans += [x] * c[x]\n",
        "    return ans"
      ]
    },
    {
      "cell_type": "code",
      "source": [
        "words =[\"bella\",\"label\",\"roller\"]\n",
        "sol = Solution()\n",
        "sol.commonChars(words)"
      ],
      "metadata": {
        "colab": {
          "base_uri": "https://localhost:8080/"
        },
        "id": "RTLlcNOcFLyE",
        "outputId": "2b44661a-ce10-4cf2-e682-353050a34087"
      },
      "execution_count": 5,
      "outputs": [
        {
          "output_type": "execute_result",
          "data": {
            "text/plain": [
              "['e', 'l', 'l']"
            ]
          },
          "metadata": {},
          "execution_count": 5
        }
      ]
    },
    {
      "cell_type": "code",
      "source": [
        ""
      ],
      "metadata": {
        "id": "rZkUQlU0Fko_"
      },
      "execution_count": null,
      "outputs": []
    }
  ]
}