{
  "nbformat": 4,
  "nbformat_minor": 0,
  "metadata": {
    "colab": {
      "name": "Array_delete_after_nth.ipynb",
      "provenance": [],
      "collapsed_sections": [],
      "authorship_tag": "ABX9TyPKsmNjulVATuD0h1axdnI3",
      "include_colab_link": true
    },
    "kernelspec": {
      "name": "python3",
      "display_name": "Python 3"
    },
    "language_info": {
      "name": "python"
    }
  },
  "cells": [
    {
      "cell_type": "markdown",
      "metadata": {
        "id": "view-in-github",
        "colab_type": "text"
      },
      "source": [
        "<a href=\"https://colab.research.google.com/github/plthiyagu/AI-Engineering/blob/master/15-LeetCode/Array_delete_after_nth.ipynb\" target=\"_parent\"><img src=\"https://colab.research.google.com/assets/colab-badge.svg\" alt=\"Open In Colab\"/></a>"
      ]
    },
    {
      "cell_type": "code",
      "execution_count": 8,
      "metadata": {
        "id": "XM4NJdpEAfZF"
      },
      "outputs": [],
      "source": [
        "from collections import defaultdict\n",
        "def delete_nth(nums, n):\n",
        "  results = []\n",
        "  counts= defaultdict(int)\n",
        "  print(counts)\n",
        "  for num in nums:\n",
        "    if counts[num] < n:\n",
        "      results.append(num)\n",
        "      counts[num] += 1\n",
        "  return results\n",
        "\n"
      ]
    },
    {
      "cell_type": "code",
      "source": [
        "nums =[1,2,3,1,2,1,2,3]\n",
        "n=2\n",
        "delete_nth(nums,n)"
      ],
      "metadata": {
        "colab": {
          "base_uri": "https://localhost:8080/"
        },
        "id": "qGLlT_NsAzTD",
        "outputId": "153dfc5a-e375-4027-9afa-11403bcedf0c"
      },
      "execution_count": 9,
      "outputs": [
        {
          "output_type": "stream",
          "name": "stdout",
          "text": [
            "defaultdict(<class 'int'>, {})\n"
          ]
        },
        {
          "output_type": "execute_result",
          "data": {
            "text/plain": [
              "[1, 2, 3, 1, 2, 3]"
            ]
          },
          "metadata": {},
          "execution_count": 9
        }
      ]
    },
    {
      "cell_type": "code",
      "source": [
        ""
      ],
      "metadata": {
        "id": "knH_6b8fA2Px"
      },
      "execution_count": null,
      "outputs": []
    }
  ]
}