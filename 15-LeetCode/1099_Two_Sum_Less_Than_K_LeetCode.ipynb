{
  "nbformat": 4,
  "nbformat_minor": 0,
  "metadata": {
    "colab": {
      "name": "1099 Two Sum Less Than K LeetCode.ipynb",
      "provenance": [],
      "authorship_tag": "ABX9TyPjinf1me/+i9KixXbRKOAI",
      "include_colab_link": true
    },
    "kernelspec": {
      "name": "python3",
      "display_name": "Python 3"
    },
    "language_info": {
      "name": "python"
    }
  },
  "cells": [
    {
      "cell_type": "markdown",
      "metadata": {
        "id": "view-in-github",
        "colab_type": "text"
      },
      "source": [
        "<a href=\"https://colab.research.google.com/github/plthiyagu/AI-Engineering/blob/master/15-LeetCode/1099_Two_Sum_Less_Than_K_LeetCode.ipynb\" target=\"_parent\"><img src=\"https://colab.research.google.com/assets/colab-badge.svg\" alt=\"Open In Colab\"/></a>"
      ]
    },
    {
      "cell_type": "code",
      "execution_count": 1,
      "metadata": {
        "id": "V8_WhHmO_JLO"
      },
      "outputs": [],
      "source": [
        "from typing import List\n",
        "class Solution:\n",
        "    def twoSumLessThanK(self, nums: List[int], k: int) -> int:\n",
        "        nums.sort()\n",
        "        answer =-1\n",
        "        left =0\n",
        "        right = len(nums)-1\n",
        "        while left<right:\n",
        "          sum = nums[left] +nums[right]\n",
        "          if (sum <k):\n",
        "            answer = max(answer,sum)\n",
        "            left +=1\n",
        "          else:\n",
        "            right -=1\n",
        "        return answer"
      ]
    },
    {
      "cell_type": "code",
      "source": [
        "nums = [34,23,1,24,75,33,54,8]\n",
        "k = 60\n",
        "sol = Solution()\n",
        "sol.twoSumLessThanK(nums,k)"
      ],
      "metadata": {
        "colab": {
          "base_uri": "https://localhost:8080/"
        },
        "id": "soGBpF51_tFz",
        "outputId": "9dd7f7e5-86de-46c9-9acb-474ca2f93b2f"
      },
      "execution_count": 3,
      "outputs": [
        {
          "output_type": "execute_result",
          "data": {
            "text/plain": [
              "58"
            ]
          },
          "metadata": {},
          "execution_count": 3
        }
      ]
    },
    {
      "cell_type": "code",
      "source": [
        ""
      ],
      "metadata": {
        "id": "KGCrZDCM_5Yp"
      },
      "execution_count": null,
      "outputs": []
    }
  ]
}