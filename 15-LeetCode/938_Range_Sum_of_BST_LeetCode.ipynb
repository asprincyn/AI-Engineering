{
  "nbformat": 4,
  "nbformat_minor": 0,
  "metadata": {
    "colab": {
      "name": "938 Range Sum of BST LeetCode.ipynb",
      "provenance": [],
      "authorship_tag": "ABX9TyOWdtMf9cUEnzffA5W4bTjg",
      "include_colab_link": true
    },
    "kernelspec": {
      "name": "python3",
      "display_name": "Python 3"
    },
    "language_info": {
      "name": "python"
    }
  },
  "cells": [
    {
      "cell_type": "markdown",
      "metadata": {
        "id": "view-in-github",
        "colab_type": "text"
      },
      "source": [
        "<a href=\"https://colab.research.google.com/github/plthiyagu/AI-Engineering/blob/master/15-LeetCode/938_Range_Sum_of_BST_LeetCode.ipynb\" target=\"_parent\"><img src=\"https://colab.research.google.com/assets/colab-badge.svg\" alt=\"Open In Colab\"/></a>"
      ]
    },
    {
      "cell_type": "code",
      "execution_count": null,
      "metadata": {
        "id": "cccl-xt0mIE6"
      },
      "outputs": [],
      "source": [
        "# Definition for a binary tree node.\n",
        "# class TreeNode:\n",
        "#     def __init__(self, val=0, left=None, right=None):\n",
        "#         self.val = val\n",
        "#         self.left = left\n",
        "#         self.right = right\n",
        "class Solution:\n",
        "    def rangeSumBST(self, root: Optional[TreeNode], low: int, high: int) -> int:\n",
        "        def dfs(root):\n",
        "            if root:\n",
        "                if low <= root.val <= high:\n",
        "                    self.res += root.val\n",
        "                if low < root.val:\n",
        "                    dfs(root.left)\n",
        "                if high > root.val:\n",
        "                    dfs(root.right)\n",
        "        self.res = 0\n",
        "        dfs(root)\n",
        "        return self.res\n",
        "        "
      ]
    },
    {
      "cell_type": "code",
      "source": [
        "root = [10,5,15,3,7,null,18], low = 7\n",
        "high = 15"
      ],
      "metadata": {
        "id": "KWUHwaC9mR67"
      },
      "execution_count": null,
      "outputs": []
    }
  ]
}