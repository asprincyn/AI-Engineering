{
  "nbformat": 4,
  "nbformat_minor": 0,
  "metadata": {
    "colab": {
      "name": "448 Find All Numbers Disappeared in an Array LeetCode.ipynb",
      "provenance": [],
      "authorship_tag": "ABX9TyNdJ+ksczTHyEvUDepiEif4",
      "include_colab_link": true
    },
    "kernelspec": {
      "name": "python3",
      "display_name": "Python 3"
    },
    "language_info": {
      "name": "python"
    }
  },
  "cells": [
    {
      "cell_type": "markdown",
      "metadata": {
        "id": "view-in-github",
        "colab_type": "text"
      },
      "source": [
        "<a href=\"https://colab.research.google.com/github/plthiyagu/AI-Engineering/blob/master/15-LeetCode/448_Find_All_Numbers_Disappeared_in_an_Array_LeetCode.ipynb\" target=\"_parent\"><img src=\"https://colab.research.google.com/assets/colab-badge.svg\" alt=\"Open In Colab\"/></a>"
      ]
    },
    {
      "cell_type": "code",
      "execution_count": 2,
      "metadata": {
        "id": "Avtl5iJGUVss"
      },
      "outputs": [],
      "source": [
        "from typing import List\n",
        "class Solution:\n",
        "    def findDisappearedNumbers(self, nums: List[int]) -> List[int]:\n",
        "        for i in range(len(nums)):\n",
        "            new_index= abs(nums[i])-1\n",
        "            \n",
        "            if nums[new_index] >0:\n",
        "                nums[new_index] *= -1\n",
        "        result =[]\n",
        "        \n",
        "        for i in range(1,len(nums) +1):\n",
        "            if nums[i-1] >0:\n",
        "                result.append(i)\n",
        "        return result"
      ]
    },
    {
      "cell_type": "code",
      "source": [
        "nums = [4,3,2,7,8,2,3,1]\n",
        "sol= Solution()\n",
        "sol.findDisappearedNumbers(nums)"
      ],
      "metadata": {
        "colab": {
          "base_uri": "https://localhost:8080/"
        },
        "id": "Le9z-y4gUYs0",
        "outputId": "b74b3dc8-8180-446f-906b-8247d9ee51a6"
      },
      "execution_count": 3,
      "outputs": [
        {
          "output_type": "execute_result",
          "data": {
            "text/plain": [
              "[5, 6]"
            ]
          },
          "metadata": {},
          "execution_count": 3
        }
      ]
    },
    {
      "cell_type": "code",
      "source": [
        ""
      ],
      "metadata": {
        "id": "Y0zOrIZAUj9s"
      },
      "execution_count": null,
      "outputs": []
    }
  ]
}