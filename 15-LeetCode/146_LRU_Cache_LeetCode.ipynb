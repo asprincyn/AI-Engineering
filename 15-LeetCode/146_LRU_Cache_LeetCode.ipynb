{
  "nbformat": 4,
  "nbformat_minor": 0,
  "metadata": {
    "colab": {
      "name": "146 LRU Cache LeetCode.ipynb",
      "provenance": [],
      "authorship_tag": "ABX9TyNaVQf3GclH66Gn3wG/bk8n",
      "include_colab_link": true
    },
    "kernelspec": {
      "name": "python3",
      "display_name": "Python 3"
    },
    "language_info": {
      "name": "python"
    }
  },
  "cells": [
    {
      "cell_type": "markdown",
      "metadata": {
        "id": "view-in-github",
        "colab_type": "text"
      },
      "source": [
        "<a href=\"https://colab.research.google.com/github/plthiyagu/AI-Engineering/blob/master/15-LeetCode/146_LRU_Cache_LeetCode.ipynb\" target=\"_parent\"><img src=\"https://colab.research.google.com/assets/colab-badge.svg\" alt=\"Open In Colab\"/></a>"
      ]
    },
    {
      "cell_type": "code",
      "execution_count": 4,
      "metadata": {
        "id": "pnQWb8pbUnhQ"
      },
      "outputs": [],
      "source": [
        "import collections\n",
        "class LRUCache:\n",
        "\n",
        "    def __init__(self, capacity: int):\n",
        "        self.capacity= capacity\n",
        "        self.dict = collections.OrderedDict()\n",
        "        self.size = 0\n",
        "        \n",
        "\n",
        "    def get(self, key: int) -> int:\n",
        "        if key in self.dict:\n",
        "            self.dict.move_to_end(key)\n",
        "            return self.dict[key]\n",
        "        else:\n",
        "            return -1\n",
        "        \n",
        "        \n",
        "\n",
        "    def put(self, key: int, value: int) -> None:\n",
        "        if key in self.dict:\n",
        "            self.dict[key]= value\n",
        "            self.dict.move_to_end(key)\n",
        "        else:\n",
        "            if self.size < self.capacity:\n",
        "                self.dict[key] = value\n",
        "                self.size +=1\n",
        "            else:\n",
        "                self.dict.popitem(False)\n",
        "                self.dict[key]= value\n",
        "                \n",
        "                \n",
        "        \n",
        "\n",
        "\n",
        "# Your LRUCache object will be instantiated and called as such:\n",
        "# obj = LRUCache(capacity)\n",
        "# param_1 = obj.get(key)\n",
        "# obj.put(key,value)"
      ]
    },
    {
      "cell_type": "code",
      "source": [
        "lRUCache = LRUCache(2)\n",
        "lRUCache.put(1, 1) #  cache is {1=1}\n",
        "lRUCache.put(2, 2) #cache is {1=1, 2=2}\n",
        "lRUCache.get(1) #return 1\n",
        "lRUCache.put(3, 3) #LRU key was 2, evicts key 2, cache is {1=1, 3=3}\n",
        "lRUCache.get(2)# returns -1 (not found)\n",
        "lRUCache.put(4, 4)#LRU key was 1, evicts key 1, cache is {4=4, 3=3}\n",
        "lRUCache.get(1)#return -1 (not found)\n",
        "lRUCache.get(3)# return 3\n",
        "lRUCache.get(4)# return 4"
      ],
      "metadata": {
        "colab": {
          "base_uri": "https://localhost:8080/"
        },
        "id": "AaCofAuvUoOm",
        "outputId": "9c1fd2cc-219d-4cc0-edaa-42de29d64ed0"
      },
      "execution_count": 5,
      "outputs": [
        {
          "output_type": "execute_result",
          "data": {
            "text/plain": [
              "4"
            ]
          },
          "metadata": {},
          "execution_count": 5
        }
      ]
    }
  ]
}