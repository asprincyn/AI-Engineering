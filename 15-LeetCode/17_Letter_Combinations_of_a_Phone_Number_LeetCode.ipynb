{
  "nbformat": 4,
  "nbformat_minor": 0,
  "metadata": {
    "colab": {
      "name": "17 Letter Combinations of a Phone Number LeetCode.ipynb",
      "provenance": [],
      "authorship_tag": "ABX9TyPfC/ByP7Qrs7x3sTT3B06M",
      "include_colab_link": true
    },
    "kernelspec": {
      "name": "python3",
      "display_name": "Python 3"
    },
    "language_info": {
      "name": "python"
    }
  },
  "cells": [
    {
      "cell_type": "markdown",
      "metadata": {
        "id": "view-in-github",
        "colab_type": "text"
      },
      "source": [
        "<a href=\"https://colab.research.google.com/github/plthiyagu/AI-Engineering/blob/master/15-LeetCode/17_Letter_Combinations_of_a_Phone_Number_LeetCode.ipynb\" target=\"_parent\"><img src=\"https://colab.research.google.com/assets/colab-badge.svg\" alt=\"Open In Colab\"/></a>"
      ]
    },
    {
      "cell_type": "code",
      "metadata": {
        "id": "CYnmDyB4cNWg"
      },
      "source": [
        "from typing import List\n",
        "def letterCombinations( digits: str) -> List[str]:\n",
        "    if not digits:\n",
        "        return []\n",
        "    dic = {'2':\"abc\", '3':\"def\", '4':\"ghi\", '5':\"kjl\", '6':\"mno\", '7':\"pqrs\", '8':\"tuv\", '9':\"wxyz\"}\n",
        "    res = [c for c in dic[digits[0]]]\n",
        "    for d in digits[1:]:\n",
        "            res = [i + c for i in res for c in dic[d]]\n",
        "    return res"
      ],
      "execution_count": 2,
      "outputs": []
    },
    {
      "cell_type": "code",
      "metadata": {
        "colab": {
          "base_uri": "https://localhost:8080/"
        },
        "id": "RYwY5GyEcRJ4",
        "outputId": "68228d74-5a46-4ca0-d43a-3d4131e6625d"
      },
      "source": [
        "digits = \"23\"\n",
        "letterCombinations(digits)"
      ],
      "execution_count": 3,
      "outputs": [
        {
          "output_type": "execute_result",
          "data": {
            "text/plain": [
              "['ad', 'ae', 'af', 'bd', 'be', 'bf', 'cd', 'ce', 'cf']"
            ]
          },
          "metadata": {},
          "execution_count": 3
        }
      ]
    },
    {
      "cell_type": "code",
      "metadata": {
        "id": "xP3lLKVQca85"
      },
      "source": [
        ""
      ],
      "execution_count": null,
      "outputs": []
    }
  ]
}