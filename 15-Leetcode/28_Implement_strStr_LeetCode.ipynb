{
  "nbformat": 4,
  "nbformat_minor": 0,
  "metadata": {
    "colab": {
      "name": "28 Implement strStr LeetCode.ipynb",
      "provenance": [],
      "authorship_tag": "ABX9TyMOlxT+llVbyR8IV1ioxON0",
      "include_colab_link": true
    },
    "kernelspec": {
      "name": "python3",
      "display_name": "Python 3"
    },
    "language_info": {
      "name": "python"
    }
  },
  "cells": [
    {
      "cell_type": "markdown",
      "metadata": {
        "id": "view-in-github",
        "colab_type": "text"
      },
      "source": [
        "<a href=\"https://colab.research.google.com/github/plthiyagu/AI-Engineering/blob/master/15-Leetcode/28_Implement_strStr_LeetCode.ipynb\" target=\"_parent\"><img src=\"https://colab.research.google.com/assets/colab-badge.svg\" alt=\"Open In Colab\"/></a>"
      ]
    },
    {
      "cell_type": "code",
      "execution_count": 4,
      "metadata": {
        "id": "vIDtSIgHjR5-"
      },
      "outputs": [],
      "source": [
        "class Solution:\n",
        "    def strStr(self, haystack: str, needle: str) -> int:\n",
        "        \n",
        "        if (haystack ==\"\" and needle ==\"\") or needle ==\"\":\n",
        "            return 0\n",
        "        elif haystack ==\"\":\n",
        "            return -1\n",
        "        split_check= haystack.split(needle)\n",
        "     \n",
        "        \n",
        "        if split_check[0]==haystack:\n",
        "            answer =-1\n",
        "        elif split_check[0]!= haystack:\n",
        "            answer = len(split_check[0])\n",
        "        \n",
        "        return answer\n",
        "            "
      ]
    },
    {
      "cell_type": "code",
      "source": [
        "haystack = \"hello\"\n",
        "needle = \"ll\"\n",
        "\n",
        "sol = Solution()\n",
        "sol.strStr(haystack,needle)"
      ],
      "metadata": {
        "colab": {
          "base_uri": "https://localhost:8080/"
        },
        "id": "rLffpe4EjXU-",
        "outputId": "802ae9d0-ca90-416c-f1f3-a11bc50415db"
      },
      "execution_count": 5,
      "outputs": [
        {
          "output_type": "stream",
          "name": "stdout",
          "text": [
            "['he', 'o']\n"
          ]
        },
        {
          "output_type": "execute_result",
          "data": {
            "text/plain": [
              "2"
            ]
          },
          "metadata": {},
          "execution_count": 5
        }
      ]
    },
    {
      "cell_type": "code",
      "source": [
        "class Solution:\n",
        "    def strStr(self, haystack: str, needle: str) -> int:\n",
        "        if len(needle) > len(haystack):\n",
        "            return -1\n",
        "        \n",
        "        for i in range(0,len(haystack)-len(needle)+1):\n",
        "            j=0\n",
        "            while j < len(needle):\n",
        "                if haystack[i+j] != needle[j]:\n",
        "                    break\n",
        "                j  += 1\n",
        "            if j == len(needle):\n",
        "                return i\n",
        "        return -1\n",
        "        "
      ],
      "metadata": {
        "id": "xwCu7Qy4jhcq"
      },
      "execution_count": null,
      "outputs": []
    },
    {
      "cell_type": "code",
      "source": [
        ""
      ],
      "metadata": {
        "id": "VFDXYqWyjbYn"
      },
      "execution_count": null,
      "outputs": []
    }
  ]
}