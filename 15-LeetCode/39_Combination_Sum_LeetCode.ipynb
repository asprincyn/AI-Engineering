{
  "nbformat": 4,
  "nbformat_minor": 0,
  "metadata": {
    "colab": {
      "name": "39 Combination Sum LeetCode.ipynb",
      "provenance": [],
      "authorship_tag": "ABX9TyNiqmINuen4Llwt4YPPA48q",
      "include_colab_link": true
    },
    "kernelspec": {
      "name": "python3",
      "display_name": "Python 3"
    },
    "language_info": {
      "name": "python"
    }
  },
  "cells": [
    {
      "cell_type": "markdown",
      "metadata": {
        "id": "view-in-github",
        "colab_type": "text"
      },
      "source": [
        "<a href=\"https://colab.research.google.com/github/plthiyagu/AI-Engineering/blob/master/15-LeetCode/39_Combination_Sum_LeetCode.ipynb\" target=\"_parent\"><img src=\"https://colab.research.google.com/assets/colab-badge.svg\" alt=\"Open In Colab\"/></a>"
      ]
    },
    {
      "cell_type": "code",
      "metadata": {
        "id": "Tg3DL2YRSiRQ"
      },
      "source": [
        "from typing import List\n",
        "def combinationSum(candidates: List[int], target: int) -> List[List[int]]:\n",
        "    def dfs(cur, path):\n",
        "        if cur == 0:\n",
        "            res.append(path)\n",
        "        for n in candidates:\n",
        "            if n > cur:\n",
        "                break\n",
        "            if path and n < path[-1]:\n",
        "                continue\n",
        "            dfs(cur - n, path + [n])\n",
        "            \n",
        "    res = []\n",
        "    candidates.sort()\n",
        "    dfs(target, [])\n",
        "    return res"
      ],
      "execution_count": 1,
      "outputs": []
    },
    {
      "cell_type": "code",
      "metadata": {
        "colab": {
          "base_uri": "https://localhost:8080/"
        },
        "id": "vpXBNS8BSrYG",
        "outputId": "9886d50a-8fb1-4935-8eaf-92508c7aad0a"
      },
      "source": [
        "candidates = [2,3,6,7]\n",
        "target = 7\n",
        "combinationSum(candidates,target)"
      ],
      "execution_count": 2,
      "outputs": [
        {
          "output_type": "execute_result",
          "data": {
            "text/plain": [
              "[[2, 2, 3], [7]]"
            ]
          },
          "metadata": {},
          "execution_count": 2
        }
      ]
    },
    {
      "cell_type": "code",
      "metadata": {
        "id": "7mtiu4a5S0gy"
      },
      "source": [
        ""
      ],
      "execution_count": null,
      "outputs": []
    }
  ]
}