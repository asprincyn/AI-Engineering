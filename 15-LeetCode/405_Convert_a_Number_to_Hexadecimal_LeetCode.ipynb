{
  "nbformat": 4,
  "nbformat_minor": 0,
  "metadata": {
    "colab": {
      "name": "405. Convert a Number to Hexadecimal LeetCode.ipynb",
      "provenance": [],
      "authorship_tag": "ABX9TyMgJ0X6B/iPSDn46qSmQhHR",
      "include_colab_link": true
    },
    "kernelspec": {
      "name": "python3",
      "display_name": "Python 3"
    },
    "language_info": {
      "name": "python"
    }
  },
  "cells": [
    {
      "cell_type": "markdown",
      "metadata": {
        "id": "view-in-github",
        "colab_type": "text"
      },
      "source": [
        "<a href=\"https://colab.research.google.com/github/plthiyagu/AI-Engineering/blob/master/15-LeetCode/405_Convert_a_Number_to_Hexadecimal_LeetCode.ipynb\" target=\"_parent\"><img src=\"https://colab.research.google.com/assets/colab-badge.svg\" alt=\"Open In Colab\"/></a>"
      ]
    },
    {
      "cell_type": "code",
      "execution_count": 3,
      "metadata": {
        "id": "_Clb2qnx7Kbq"
      },
      "outputs": [],
      "source": [
        "class Solution:\n",
        "    def toHex(self, num: int) -> str:\n",
        "      if num <0:\n",
        "        return hex(num+(1<<32))[2:]\n",
        "      else:\n",
        "        return hex(num)[2:]"
      ]
    },
    {
      "cell_type": "code",
      "source": [
        "num =26\n",
        "sol= Solution()\n",
        "sol.toHex(num)"
      ],
      "metadata": {
        "colab": {
          "base_uri": "https://localhost:8080/",
          "height": 35
        },
        "id": "vePnwosZ7Z7K",
        "outputId": "bd4e14fc-a25a-4f60-af57-65116601b42e"
      },
      "execution_count": 4,
      "outputs": [
        {
          "output_type": "execute_result",
          "data": {
            "text/plain": [
              "'1a'"
            ],
            "application/vnd.google.colaboratory.intrinsic+json": {
              "type": "string"
            }
          },
          "metadata": {},
          "execution_count": 4
        }
      ]
    },
    {
      "cell_type": "code",
      "source": [
        ""
      ],
      "metadata": {
        "id": "ijTOFetA9opn"
      },
      "execution_count": null,
      "outputs": []
    }
  ]
}