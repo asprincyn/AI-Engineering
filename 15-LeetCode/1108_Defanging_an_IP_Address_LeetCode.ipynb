{
  "nbformat": 4,
  "nbformat_minor": 0,
  "metadata": {
    "colab": {
      "name": "1108 Defanging an IP Address LeetCode.ipynb",
      "provenance": [],
      "authorship_tag": "ABX9TyPNLQaLZ0EAFq92BZIxRdlf",
      "include_colab_link": true
    },
    "kernelspec": {
      "name": "python3",
      "display_name": "Python 3"
    },
    "language_info": {
      "name": "python"
    }
  },
  "cells": [
    {
      "cell_type": "markdown",
      "metadata": {
        "id": "view-in-github",
        "colab_type": "text"
      },
      "source": [
        "<a href=\"https://colab.research.google.com/github/plthiyagu/AI-Engineering/blob/master/15-LeetCode/1108_Defanging_an_IP_Address_LeetCode.ipynb\" target=\"_parent\"><img src=\"https://colab.research.google.com/assets/colab-badge.svg\" alt=\"Open In Colab\"/></a>"
      ]
    },
    {
      "cell_type": "code",
      "execution_count": 1,
      "metadata": {
        "id": "PsWdic4VxJUl"
      },
      "outputs": [],
      "source": [
        "class Solution:\n",
        "    def defangIPaddr(self, address: str) -> str:\n",
        "        ans=address.replace(\".\",\"[.]\")\n",
        "        return ans"
      ]
    },
    {
      "cell_type": "code",
      "source": [
        "sol = Solution()\n",
        "address = \"1.1.1.1\"\n",
        "sol.defangIPaddr(address)"
      ],
      "metadata": {
        "colab": {
          "base_uri": "https://localhost:8080/",
          "height": 35
        },
        "id": "T5irt7s6xKz0",
        "outputId": "42d1d3fa-e3bc-4eb4-ed1a-0bb1ed4f55cd"
      },
      "execution_count": 3,
      "outputs": [
        {
          "output_type": "execute_result",
          "data": {
            "application/vnd.google.colaboratory.intrinsic+json": {
              "type": "string"
            },
            "text/plain": [
              "'1[.]1[.]1[.]1'"
            ]
          },
          "metadata": {},
          "execution_count": 3
        }
      ]
    },
    {
      "cell_type": "code",
      "source": [
        ""
      ],
      "metadata": {
        "id": "8wUUy2f0xbQh"
      },
      "execution_count": null,
      "outputs": []
    }
  ]
}