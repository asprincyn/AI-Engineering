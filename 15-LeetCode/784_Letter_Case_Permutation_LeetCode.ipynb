{
  "nbformat": 4,
  "nbformat_minor": 0,
  "metadata": {
    "colab": {
      "name": "784 Letter Case Permutation LeetCode.ipynb",
      "provenance": [],
      "authorship_tag": "ABX9TyPBPeuerO4axTrK2s0P196S",
      "include_colab_link": true
    },
    "kernelspec": {
      "name": "python3",
      "display_name": "Python 3"
    },
    "language_info": {
      "name": "python"
    }
  },
  "cells": [
    {
      "cell_type": "markdown",
      "metadata": {
        "id": "view-in-github",
        "colab_type": "text"
      },
      "source": [
        "<a href=\"https://colab.research.google.com/github/plthiyagu/AI-Engineering/blob/master/15-LeetCode/784_Letter_Case_Permutation_LeetCode.ipynb\" target=\"_parent\"><img src=\"https://colab.research.google.com/assets/colab-badge.svg\" alt=\"Open In Colab\"/></a>"
      ]
    },
    {
      "cell_type": "code",
      "metadata": {
        "id": "dKNa1fETCjo-"
      },
      "source": [
        "from typing import List\n",
        "def letterCasePermutation(s: str) -> List[str]:\n",
        "    res = ['']\n",
        "    for c in s:\n",
        "        if c.isalpha():\n",
        "            res = [i + j for i in res for j in [c.upper(), c.lower()]]\n",
        "        else:\n",
        "            res = [i + c for i in res]\n",
        "    return res"
      ],
      "execution_count": 4,
      "outputs": []
    },
    {
      "cell_type": "code",
      "metadata": {
        "colab": {
          "base_uri": "https://localhost:8080/"
        },
        "id": "YgpOwo3mCn9B",
        "outputId": "58a20d06-3a1d-49a3-94db-506fc288d184"
      },
      "source": [
        "s = \"a1b2\"\n",
        "letterCasePermutation(s)"
      ],
      "execution_count": 5,
      "outputs": [
        {
          "output_type": "execute_result",
          "data": {
            "text/plain": [
              "['A1B2', 'A1b2', 'a1B2', 'a1b2']"
            ]
          },
          "metadata": {},
          "execution_count": 5
        }
      ]
    }
  ]
}