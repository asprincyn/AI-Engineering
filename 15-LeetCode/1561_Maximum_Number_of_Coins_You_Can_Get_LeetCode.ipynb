{
  "nbformat": 4,
  "nbformat_minor": 0,
  "metadata": {
    "colab": {
      "name": "1561 Maximum Number of Coins You Can Get LeetCode.ipynb",
      "provenance": [],
      "authorship_tag": "ABX9TyNmDj1wMAl+79tHO0GgdJfw",
      "include_colab_link": true
    },
    "kernelspec": {
      "name": "python3",
      "display_name": "Python 3"
    },
    "language_info": {
      "name": "python"
    }
  },
  "cells": [
    {
      "cell_type": "markdown",
      "metadata": {
        "id": "view-in-github",
        "colab_type": "text"
      },
      "source": [
        "<a href=\"https://colab.research.google.com/github/plthiyagu/AI-Engineering/blob/master/15-LeetCode/1561_Maximum_Number_of_Coins_You_Can_Get_LeetCode.ipynb\" target=\"_parent\"><img src=\"https://colab.research.google.com/assets/colab-badge.svg\" alt=\"Open In Colab\"/></a>"
      ]
    },
    {
      "cell_type": "code",
      "execution_count": 3,
      "metadata": {
        "id": "Nsak_4YjeHcr"
      },
      "outputs": [],
      "source": [
        "from typing import List\n",
        "class Solution:\n",
        "    def maxCoins(self, piles: List[int]) -> int:\n",
        "        piles.sort()\n",
        "        ans = 0\n",
        "        while(len(piles)!=0):\n",
        "            ans = ans + piles[-2]\n",
        "            del piles[-2]\n",
        "            del piles[-1]\n",
        "            del piles[0]\n",
        "        return ans "
      ]
    },
    {
      "cell_type": "code",
      "source": [
        "piles = [2,4,1,2,7,8]\n",
        "sol = Solution()\n",
        "sol.maxCoins(piles)"
      ],
      "metadata": {
        "colab": {
          "base_uri": "https://localhost:8080/"
        },
        "id": "Zkb50n_ueLy2",
        "outputId": "8ab2cc9a-2438-41f4-c4bb-22274ef5cb43"
      },
      "execution_count": 4,
      "outputs": [
        {
          "output_type": "execute_result",
          "data": {
            "text/plain": [
              "9"
            ]
          },
          "metadata": {},
          "execution_count": 4
        }
      ]
    },
    {
      "cell_type": "code",
      "source": [
        ""
      ],
      "metadata": {
        "id": "Ti2XkZ1deRz5"
      },
      "execution_count": null,
      "outputs": []
    },
    {
      "cell_type": "code",
      "source": [
        ""
      ],
      "metadata": {
        "id": "_QiWldUreITm"
      },
      "execution_count": null,
      "outputs": []
    }
  ]
}