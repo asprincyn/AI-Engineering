{
  "nbformat": 4,
  "nbformat_minor": 0,
  "metadata": {
    "colab": {
      "name": "515 Find Largest Value in Each Tree Row LeetCode.ipynb",
      "provenance": [],
      "authorship_tag": "ABX9TyMcQtubUWAdzFCmAevvKYnn",
      "include_colab_link": true
    },
    "kernelspec": {
      "name": "python3",
      "display_name": "Python 3"
    },
    "language_info": {
      "name": "python"
    }
  },
  "cells": [
    {
      "cell_type": "markdown",
      "metadata": {
        "id": "view-in-github",
        "colab_type": "text"
      },
      "source": [
        "<a href=\"https://colab.research.google.com/github/plthiyagu/AI-Engineering/blob/master/15-LeetCode/515_Find_Largest_Value_in_Each_Tree_Row_LeetCode.ipynb\" target=\"_parent\"><img src=\"https://colab.research.google.com/assets/colab-badge.svg\" alt=\"Open In Colab\"/></a>"
      ]
    },
    {
      "cell_type": "code",
      "execution_count": null,
      "metadata": {
        "id": "3ipT0xJj98wz"
      },
      "outputs": [],
      "source": [
        "# Definition for a binary tree node.\n",
        "class TreeNode:\n",
        "    def __init__(self, val=0, left=None, right=None):\n",
        "        self.val = val\n",
        "        self.left = left\n",
        "        self.right = right\n",
        "class Solution:\n",
        "    def largestValues(self, root: Optional[TreeNode]) -> List[int]:\n",
        "        def largestValuesHelper(root, depth, result):\n",
        "            if not root:\n",
        "                return\n",
        "            if depth == len(result):\n",
        "                result.append(root.val)\n",
        "            else:\n",
        "                result[depth] = max(result[depth], root.val)\n",
        "            largestValuesHelper(root.left, depth+1, result)\n",
        "            largestValuesHelper(root.right, depth+1, result)\n",
        "\n",
        "        result = []\n",
        "        largestValuesHelper(root, 0, result)\n",
        "        return result"
      ]
    }
  ]
}