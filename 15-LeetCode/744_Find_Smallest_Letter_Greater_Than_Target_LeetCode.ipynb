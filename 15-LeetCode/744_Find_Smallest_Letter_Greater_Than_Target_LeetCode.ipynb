{
  "nbformat": 4,
  "nbformat_minor": 0,
  "metadata": {
    "colab": {
      "name": "744 Find Smallest Letter Greater Than Target LeetCode.ipynb",
      "provenance": [],
      "collapsed_sections": [],
      "authorship_tag": "ABX9TyNPx1DJgnfTfG7u7Fr3z9oB",
      "include_colab_link": true
    },
    "kernelspec": {
      "name": "python3",
      "display_name": "Python 3"
    },
    "language_info": {
      "name": "python"
    }
  },
  "cells": [
    {
      "cell_type": "markdown",
      "metadata": {
        "id": "view-in-github",
        "colab_type": "text"
      },
      "source": [
        "<a href=\"https://colab.research.google.com/github/plthiyagu/AI-Engineering/blob/master/15-LeetCode/744_Find_Smallest_Letter_Greater_Than_Target_LeetCode.ipynb\" target=\"_parent\"><img src=\"https://colab.research.google.com/assets/colab-badge.svg\" alt=\"Open In Colab\"/></a>"
      ]
    },
    {
      "cell_type": "code",
      "execution_count": 4,
      "metadata": {
        "id": "FtCE4e_d2Gr8"
      },
      "outputs": [],
      "source": [
        "from typing import List\n",
        "import bisect\n",
        "class Solution:\n",
        "    def nextGreatestLetter(self, letters: List[str], target: str) -> str:\n",
        "        index = bisect.bisect(letters,target)\n",
        "        return letters[index % len(letters)]"
      ]
    },
    {
      "cell_type": "code",
      "source": [
        "letters=[\"c\",\"f\",\"j\"]\n",
        "target=\"a\"\n",
        "sol = Solution()\n",
        "sol.nextGreatestLetter(letters,target)"
      ],
      "metadata": {
        "colab": {
          "base_uri": "https://localhost:8080/",
          "height": 35
        },
        "id": "CQpsnhe82dvD",
        "outputId": "53485016-ba31-45a6-97df-91ab457b5cd2"
      },
      "execution_count": 5,
      "outputs": [
        {
          "output_type": "execute_result",
          "data": {
            "text/plain": [
              "'c'"
            ],
            "application/vnd.google.colaboratory.intrinsic+json": {
              "type": "string"
            }
          },
          "metadata": {},
          "execution_count": 5
        }
      ]
    }
  ]
}