{
  "nbformat": 4,
  "nbformat_minor": 0,
  "metadata": {
    "colab": {
      "name": "559 Maximum Depth of N-ary Tree LeetCode.ipynb",
      "provenance": [],
      "authorship_tag": "ABX9TyO2/HEH4oxTR25e2bhrxDcN",
      "include_colab_link": true
    },
    "kernelspec": {
      "name": "python3",
      "display_name": "Python 3"
    },
    "language_info": {
      "name": "python"
    }
  },
  "cells": [
    {
      "cell_type": "markdown",
      "metadata": {
        "id": "view-in-github",
        "colab_type": "text"
      },
      "source": [
        "<a href=\"https://colab.research.google.com/github/plthiyagu/AI-Engineering/blob/master/15-LeetCode/559_Maximum_Depth_of_N_ary_Tree_LeetCode.ipynb\" target=\"_parent\"><img src=\"https://colab.research.google.com/assets/colab-badge.svg\" alt=\"Open In Colab\"/></a>"
      ]
    },
    {
      "cell_type": "code",
      "execution_count": 1,
      "metadata": {
        "id": "yAuD_oC21yW7"
      },
      "outputs": [],
      "source": [
        "\"\"\"\n",
        "# Definition for a Node.\n",
        "\"\"\"\n",
        "class Node:\n",
        "    def __init__(self, val=None, children=None):\n",
        "        self.val = val\n",
        "        self.children = children\n",
        "\n",
        "\n",
        "class Solution:\n",
        "    def maxDepth(self, root: 'Node') -> int:\n",
        "        if not root: return 0\n",
        "        queue = collections.deque()\n",
        "        depth = 1\n",
        "        queue.append((root,depth))\n",
        "        while queue:\n",
        "            node, depth = queue.popleft()\n",
        "            if node.children:\n",
        "                for child in node.children:\n",
        "                    queue.append((child,depth+1))\n",
        "        return depth\n",
        "        "
      ]
    },
    {
      "cell_type": "code",
      "source": [
        "root = [1,null,3,2,4,null,5,6]\n",
        "sol= Solution()\n"
      ],
      "metadata": {
        "id": "29ak2sP014KG"
      },
      "execution_count": null,
      "outputs": []
    }
  ]
}