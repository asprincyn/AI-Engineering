{
  "nbformat": 4,
  "nbformat_minor": 0,
  "metadata": {
    "colab": {
      "name": "Reverse string using Stack.ipynb",
      "provenance": [],
      "authorship_tag": "ABX9TyMVR2bsW5du2+kc9iJUMm4H",
      "include_colab_link": true
    },
    "kernelspec": {
      "name": "python3",
      "display_name": "Python 3"
    },
    "language_info": {
      "name": "python"
    }
  },
  "cells": [
    {
      "cell_type": "markdown",
      "metadata": {
        "id": "view-in-github",
        "colab_type": "text"
      },
      "source": [
        "<a href=\"https://colab.research.google.com/github/plthiyagu/AI-Engineering/blob/master/15-LeetCode/Reverse_string_using_Stack.ipynb\" target=\"_parent\"><img src=\"https://colab.research.google.com/assets/colab-badge.svg\" alt=\"Open In Colab\"/></a>"
      ]
    },
    {
      "cell_type": "code",
      "execution_count": 1,
      "metadata": {
        "colab": {
          "base_uri": "https://localhost:8080/"
        },
        "id": "86ZBhWqgZw24",
        "outputId": "9fdc9220-b152-444b-dbd7-733704b6b247"
      },
      "outputs": [
        {
          "output_type": "stream",
          "name": "stdout",
          "text": [
            "The original string is : Geeksforgeeks\n",
            "The reversed string(using stack) is : skeegrofskeeG\n"
          ]
        }
      ],
      "source": [
        "# Python code to reverse a string\n",
        "# using stack\n",
        "\n",
        "# Function to create an empty stack. It\n",
        "# initializes size of stack as 0\n",
        "def createStack():\n",
        "\tstack=[]\n",
        "\treturn stack\n",
        "\n",
        "# Function to determine the size of the stack\n",
        "def size(stack):\n",
        "\treturn len(stack)\n",
        "\n",
        "# Stack is empty if the size is 0\n",
        "def isEmpty(stack):\n",
        "\tif size(stack) == 0:\n",
        "\t\treturn true\n",
        "\n",
        "# Function to add an item to stack . It\n",
        "# increases size by 1\n",
        "def push(stack,item):\n",
        "\tstack.append(item)\n",
        "\n",
        "# Function to remove an item from stack.\n",
        "# It decreases size by 1\n",
        "def pop(stack):\n",
        "\tif isEmpty(stack): return\n",
        "\treturn stack.pop()\n",
        "\n",
        "# A stack based function to reverse a string\n",
        "def reverse(string):\n",
        "\tn = len(string)\n",
        "\t\n",
        "\t# Create a empty stack\n",
        "\tstack = createStack()\n",
        "\n",
        "\t# Push all characters of string to stack\n",
        "\tfor i in range(0,n,1):\n",
        "\t\tpush(stack,string[i])\n",
        "\n",
        "\t# Making the string empty since all\n",
        "\t# characters are saved in stack\n",
        "\tstring=\"\"\n",
        "\n",
        "\t# Pop all characters of string and put\n",
        "\t# them back to string\n",
        "\tfor i in range(0,n,1):\n",
        "\t\tstring+=pop(stack)\n",
        "\t\t\n",
        "\treturn string\n",
        "\n",
        "# Driver code\n",
        "s = \"Geeksforgeeks\"\n",
        "print (\"The original string is : \",end=\"\")\n",
        "print (s)\n",
        "print (\"The reversed string(using stack) is : \",end=\"\")\n",
        "print (reverse(s))"
      ]
    },
    {
      "cell_type": "code",
      "source": [
        ""
      ],
      "metadata": {
        "id": "BXYwQwoYZx3E"
      },
      "execution_count": null,
      "outputs": []
    }
  ]
}