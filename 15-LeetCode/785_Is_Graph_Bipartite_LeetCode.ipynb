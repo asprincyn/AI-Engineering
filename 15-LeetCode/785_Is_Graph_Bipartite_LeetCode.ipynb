{
  "nbformat": 4,
  "nbformat_minor": 0,
  "metadata": {
    "colab": {
      "name": "785 Is Graph Bipartite LeetCode.ipynb",
      "provenance": [],
      "authorship_tag": "ABX9TyMh7rZjerWDVUaIiBWRg0dC",
      "include_colab_link": true
    },
    "kernelspec": {
      "name": "python3",
      "display_name": "Python 3"
    },
    "language_info": {
      "name": "python"
    }
  },
  "cells": [
    {
      "cell_type": "markdown",
      "metadata": {
        "id": "view-in-github",
        "colab_type": "text"
      },
      "source": [
        "<a href=\"https://colab.research.google.com/github/plthiyagu/AI-Engineering/blob/master/15-LeetCode/785_Is_Graph_Bipartite_LeetCode.ipynb\" target=\"_parent\"><img src=\"https://colab.research.google.com/assets/colab-badge.svg\" alt=\"Open In Colab\"/></a>"
      ]
    },
    {
      "cell_type": "code",
      "execution_count": 3,
      "metadata": {
        "id": "V5I7Btbr-f8C"
      },
      "outputs": [],
      "source": [
        "from typing import List\n",
        "class Solution:\n",
        "    def isBipartite(self, graph: List[List[int]]) -> bool:\n",
        "        def dfs(v, c):\n",
        "            \n",
        "            color[v] = c\n",
        "            for node in graph[v]:\n",
        "                if color[node] == c:\n",
        "                    return False\n",
        "                if color[node] == 0 and not dfs(node, -c):\n",
        "                    return False\n",
        "            return True\n",
        "        \n",
        "        l = len(graph)\n",
        "        color = [0] * l\n",
        "        for i in range(l):\n",
        "            if color[i] == 0:\n",
        "                if not dfs(i, 1):\n",
        "                    return False\n",
        "        return True"
      ]
    },
    {
      "cell_type": "code",
      "source": [
        ""
      ],
      "metadata": {
        "id": "tJ5vuExb-nC5"
      },
      "execution_count": null,
      "outputs": []
    },
    {
      "cell_type": "code",
      "source": [
        ""
      ],
      "metadata": {
        "id": "sUPOg1da-hq_"
      },
      "execution_count": null,
      "outputs": []
    }
  ]
}