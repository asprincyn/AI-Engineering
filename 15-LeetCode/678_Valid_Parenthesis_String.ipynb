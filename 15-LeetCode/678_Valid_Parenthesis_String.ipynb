{
  "nbformat": 4,
  "nbformat_minor": 0,
  "metadata": {
    "colab": {
      "name": "678 Valid Parenthesis String.ipynb",
      "provenance": [],
      "collapsed_sections": [],
      "authorship_tag": "ABX9TyME94iuCuC7l0MSM/SxT0IF",
      "include_colab_link": true
    },
    "kernelspec": {
      "name": "python3",
      "display_name": "Python 3"
    },
    "language_info": {
      "name": "python"
    }
  },
  "cells": [
    {
      "cell_type": "markdown",
      "metadata": {
        "id": "view-in-github",
        "colab_type": "text"
      },
      "source": [
        "<a href=\"https://colab.research.google.com/github/plthiyagu/AI-Engineering/blob/master/15-LeetCode/678_Valid_Parenthesis_String.ipynb\" target=\"_parent\"><img src=\"https://colab.research.google.com/assets/colab-badge.svg\" alt=\"Open In Colab\"/></a>"
      ]
    },
    {
      "cell_type": "code",
      "execution_count": 1,
      "metadata": {
        "id": "WRTDxM8VQpdf"
      },
      "outputs": [],
      "source": [
        "class Solution:\n",
        "    def checkValidString(self, s: str) -> bool:\n",
        "        lo = hi =0\n",
        "        for c in s:\n",
        "            lo +=1 if c =='c' else -1\n",
        "            hi +=1 if c != ')' else -1\n",
        "            if hi <0: break\n",
        "            lo = max(lo,0)\n",
        "        return lo==0\n",
        "        "
      ]
    },
    {
      "cell_type": "code",
      "source": [
        "s = \"()\"\n",
        "sol = Solution()\n",
        "sol.checkValidString(s)"
      ],
      "metadata": {
        "colab": {
          "base_uri": "https://localhost:8080/"
        },
        "id": "dYr5SPycaUfA",
        "outputId": "a5cb4bae-631b-4733-f39a-61b89c2f60ae"
      },
      "execution_count": 2,
      "outputs": [
        {
          "output_type": "execute_result",
          "data": {
            "text/plain": [
              "True"
            ]
          },
          "metadata": {},
          "execution_count": 2
        }
      ]
    },
    {
      "cell_type": "code",
      "source": [
        ""
      ],
      "metadata": {
        "id": "DKkU3T0padI7"
      },
      "execution_count": null,
      "outputs": []
    }
  ]
}