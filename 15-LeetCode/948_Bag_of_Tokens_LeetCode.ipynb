{
  "nbformat": 4,
  "nbformat_minor": 0,
  "metadata": {
    "colab": {
      "name": "948 Bag of Tokens LeetCode.ipynb",
      "provenance": [],
      "collapsed_sections": [],
      "authorship_tag": "ABX9TyOZCWDrFnrfjRwboiBrV2hh",
      "include_colab_link": true
    },
    "kernelspec": {
      "name": "python3",
      "display_name": "Python 3"
    },
    "language_info": {
      "name": "python"
    }
  },
  "cells": [
    {
      "cell_type": "markdown",
      "metadata": {
        "id": "view-in-github",
        "colab_type": "text"
      },
      "source": [
        "<a href=\"https://colab.research.google.com/github/plthiyagu/AI-Engineering/blob/master/15-LeetCode/948_Bag_of_Tokens_LeetCode.ipynb\" target=\"_parent\"><img src=\"https://colab.research.google.com/assets/colab-badge.svg\" alt=\"Open In Colab\"/></a>"
      ]
    },
    {
      "cell_type": "code",
      "execution_count": 2,
      "metadata": {
        "id": "WOPUAwITrMm2"
      },
      "outputs": [],
      "source": [
        "from typing import List\n",
        "def bagOfTokensScore( tokens: List[int], power: int) -> int:\n",
        "    tokens.sort()\n",
        "    res = score = 0\n",
        "    l, r = 0, len(tokens) - 1\n",
        "    while l <= r:\n",
        "        if tokens[l] <= power:\n",
        "            power -= tokens[l]\n",
        "            score += 1\n",
        "            res = max(res, score)\n",
        "            l += 1\n",
        "        else:\n",
        "            if score:\n",
        "                score -= 1\n",
        "                power += tokens[r]\n",
        "                r -= 1\n",
        "            else:\n",
        "                break\n",
        "    return res"
      ]
    },
    {
      "cell_type": "code",
      "source": [
        "tokens = [100,200]\n",
        "power = 150\n",
        "bagOfTokensScore(tokens,power)"
      ],
      "metadata": {
        "colab": {
          "base_uri": "https://localhost:8080/"
        },
        "id": "0nc-MV2orRpu",
        "outputId": "5c26d0fa-381b-4090-f0d6-5af920ef68d3"
      },
      "execution_count": 3,
      "outputs": [
        {
          "output_type": "execute_result",
          "data": {
            "text/plain": [
              "1"
            ]
          },
          "metadata": {},
          "execution_count": 3
        }
      ]
    },
    {
      "cell_type": "code",
      "source": [
        ""
      ],
      "metadata": {
        "id": "Ghb96LvArh7u"
      },
      "execution_count": null,
      "outputs": []
    }
  ]
}