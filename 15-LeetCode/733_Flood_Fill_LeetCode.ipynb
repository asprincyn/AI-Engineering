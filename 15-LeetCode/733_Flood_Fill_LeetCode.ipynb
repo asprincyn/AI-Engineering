{
  "nbformat": 4,
  "nbformat_minor": 0,
  "metadata": {
    "colab": {
      "name": "733 Flood Fill LeetCode.ipynb",
      "provenance": [],
      "collapsed_sections": [],
      "authorship_tag": "ABX9TyNd46aX1UUlc7q7HFFONtCU",
      "include_colab_link": true
    },
    "kernelspec": {
      "name": "python3",
      "display_name": "Python 3"
    },
    "language_info": {
      "name": "python"
    }
  },
  "cells": [
    {
      "cell_type": "markdown",
      "metadata": {
        "id": "view-in-github",
        "colab_type": "text"
      },
      "source": [
        "<a href=\"https://colab.research.google.com/github/plthiyagu/AI-Engineering/blob/master/15-LeetCode/733_Flood_Fill_LeetCode.ipynb\" target=\"_parent\"><img src=\"https://colab.research.google.com/assets/colab-badge.svg\" alt=\"Open In Colab\"/></a>"
      ]
    },
    {
      "cell_type": "code",
      "execution_count": 2,
      "metadata": {
        "id": "R7rEazL8tAgx"
      },
      "outputs": [],
      "source": [
        "from typing import List\n",
        "class Solution:\n",
        "    def floodFill(self, image: List[List[int]], sr: int, sc: int, newColor: int) -> List[List[int]]:\n",
        "        R, C = len(image), len(image[0])\n",
        "        color = image[sr][sc]\n",
        "        if color == newColor: return image\n",
        "        def dfs(r, c):\n",
        "            if image[r][c] == color:\n",
        "                image[r][c] = newColor\n",
        "                if r >= 1: dfs(r-1, c)\n",
        "                if r+1 < R: dfs(r+1, c)\n",
        "                if c >= 1: dfs(r, c-1)\n",
        "                if c+1 < C: dfs(r, c+1)\n",
        "\n",
        "        dfs(sr, sc)\n",
        "        return image"
      ]
    },
    {
      "cell_type": "code",
      "source": [
        "image = [[0,0,0],[0,0,0]]\n",
        "sr = 0\n",
        "sc = 0\n",
        "newColor = 2"
      ],
      "metadata": {
        "id": "CFcrM8I5tB0V"
      },
      "execution_count": 3,
      "outputs": []
    },
    {
      "cell_type": "code",
      "source": [
        "sol= Solution()\n",
        "sol.floodFill(image,sr,sc,newColor)"
      ],
      "metadata": {
        "colab": {
          "base_uri": "https://localhost:8080/"
        },
        "id": "tAib_yRotN06",
        "outputId": "c3387b1e-4e27-4e7d-8cdb-7986e9bdf0f4"
      },
      "execution_count": 4,
      "outputs": [
        {
          "output_type": "execute_result",
          "data": {
            "text/plain": [
              "[[2, 2, 2], [2, 2, 2]]"
            ]
          },
          "metadata": {},
          "execution_count": 4
        }
      ]
    },
    {
      "cell_type": "code",
      "source": [
        ""
      ],
      "metadata": {
        "id": "XSZe9EfatVWn"
      },
      "execution_count": null,
      "outputs": []
    }
  ]
}