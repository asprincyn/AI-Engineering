{
  "nbformat": 4,
  "nbformat_minor": 0,
  "metadata": {
    "colab": {
      "name": "965 Univalued Binary Tree LeetCode.ipynb",
      "provenance": [],
      "collapsed_sections": [],
      "authorship_tag": "ABX9TyMf+86zZzmVdSrq56zLjQyy",
      "include_colab_link": true
    },
    "kernelspec": {
      "name": "python3",
      "display_name": "Python 3"
    },
    "language_info": {
      "name": "python"
    }
  },
  "cells": [
    {
      "cell_type": "markdown",
      "metadata": {
        "id": "view-in-github",
        "colab_type": "text"
      },
      "source": [
        "<a href=\"https://colab.research.google.com/github/plthiyagu/AI-Engineering/blob/master/15-LeetCode/965_Univalued_Binary_Tree_LeetCode.ipynb\" target=\"_parent\"><img src=\"https://colab.research.google.com/assets/colab-badge.svg\" alt=\"Open In Colab\"/></a>"
      ]
    },
    {
      "cell_type": "code",
      "execution_count": 1,
      "metadata": {
        "id": "ttdlChhXIO5e"
      },
      "outputs": [],
      "source": [
        "# Definition for a binary tree node.\n",
        "class TreeNode:\n",
        "    def __init__(self, val=0, left=None, right=None):\n",
        "        self.val = val\n",
        "        self.left = left\n",
        "        self.right = right"
      ]
    },
    {
      "cell_type": "code",
      "source": [
        "from typing import Optional\n",
        "class Solution:\n",
        "    def isUnivalTree(self, root: Optional[TreeNode]) -> bool:\n",
        "      vals =[]\n",
        "\n",
        "      def dfs(node):\n",
        "        if node:\n",
        "          vals.append(node.val)\n",
        "          dfs(root.left)\n",
        "          dfs(root.right)\n",
        "      dfs(root)\n",
        "        \n",
        "      return len(set(vals)==1)\n"
      ],
      "metadata": {
        "id": "-ERwA6_CIQP7"
      },
      "execution_count": 3,
      "outputs": []
    }
  ]
}