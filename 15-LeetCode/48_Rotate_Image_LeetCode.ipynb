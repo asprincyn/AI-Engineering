{
  "nbformat": 4,
  "nbformat_minor": 0,
  "metadata": {
    "colab": {
      "name": "48 Rotate Image LeetCode.ipynb",
      "provenance": [],
      "authorship_tag": "ABX9TyPLEAnmbw8Q6AhCqpUUldJb",
      "include_colab_link": true
    },
    "kernelspec": {
      "name": "python3",
      "display_name": "Python 3"
    },
    "language_info": {
      "name": "python"
    }
  },
  "cells": [
    {
      "cell_type": "markdown",
      "metadata": {
        "id": "view-in-github",
        "colab_type": "text"
      },
      "source": [
        "<a href=\"https://colab.research.google.com/github/plthiyagu/AI-Engineering/blob/master/15-LeetCode/48_Rotate_Image_LeetCode.ipynb\" target=\"_parent\"><img src=\"https://colab.research.google.com/assets/colab-badge.svg\" alt=\"Open In Colab\"/></a>"
      ]
    },
    {
      "cell_type": "code",
      "execution_count": 1,
      "metadata": {
        "id": "Dz1Q2qKX6nPu"
      },
      "outputs": [],
      "source": [
        "from typing import List\n",
        "class Solution:\n",
        "    def rotate(self, matrix: List[List[int]]) -> None:\n",
        "        \"\"\"\n",
        "        Do not return anything, modify matrix in-place instead.\n",
        "        \"\"\"\n",
        "       \n",
        "        matrix.reverse()\n",
        "        for i in range(len(matrix)):\n",
        "            for j in range(i):\n",
        "                matrix[i][j], matrix[j][i] = matrix[j][i], matrix[i][j]\n",
        "        print(matrix)\n",
        "        "
      ]
    },
    {
      "cell_type": "code",
      "source": [
        "matrix = [[5,1,9,11],[2,4,8,10],[13,3,6,7],[15,14,12,16]]\n",
        "sol= Solution()\n",
        "sol.rotate(matrix)"
      ],
      "metadata": {
        "id": "M2z7RyaE604p"
      },
      "execution_count": 6,
      "outputs": []
    },
    {
      "cell_type": "code",
      "source": [
        ""
      ],
      "metadata": {
        "id": "2piKvjqo7BDC"
      },
      "execution_count": null,
      "outputs": []
    }
  ]
}