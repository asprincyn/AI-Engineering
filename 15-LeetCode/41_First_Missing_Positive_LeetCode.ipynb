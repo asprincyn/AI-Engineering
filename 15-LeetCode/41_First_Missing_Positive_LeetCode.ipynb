{
  "nbformat": 4,
  "nbformat_minor": 0,
  "metadata": {
    "colab": {
      "name": "41 First Missing Positive LeetCode.ipynb",
      "provenance": [],
      "collapsed_sections": [],
      "authorship_tag": "ABX9TyMo0EsiwvLpPdlXDv8n/R3D",
      "include_colab_link": true
    },
    "kernelspec": {
      "name": "python3",
      "display_name": "Python 3"
    },
    "language_info": {
      "name": "python"
    }
  },
  "cells": [
    {
      "cell_type": "markdown",
      "metadata": {
        "id": "view-in-github",
        "colab_type": "text"
      },
      "source": [
        "<a href=\"https://colab.research.google.com/github/plthiyagu/AI-Engineering/blob/master/15-LeetCode/41_First_Missing_Positive_LeetCode.ipynb\" target=\"_parent\"><img src=\"https://colab.research.google.com/assets/colab-badge.svg\" alt=\"Open In Colab\"/></a>"
      ]
    },
    {
      "cell_type": "code",
      "execution_count": 6,
      "metadata": {
        "id": "zLiGQVEIBdhj"
      },
      "outputs": [],
      "source": [
        "from typing import List\n",
        "class Solution:\n",
        "    def firstMissingPositive(self, nums: List[int]) -> int:\n",
        "      n = len(nums)\n",
        "      if 1 not in nums:\n",
        "        return 1\n",
        "\n",
        "      for i in range(n):\n",
        "        if nums[i] <=0 or nums[i]<n:\n",
        "          nums[i] =1\n",
        "      \n",
        "      for i in range(n):\n",
        "        a = abs(nums[i])\n",
        "        if a ==n:\n",
        "          nums[0] =- abs(nums[0])\n",
        "        else:\n",
        "          nums[a] =- abs(nums[a])\n",
        "      for i in range(n):\n",
        "        if nums[i] >0:\n",
        "          return i\n",
        "      if nums[0]>0:\n",
        "        return n\n",
        "      return n+1\n",
        "\n"
      ]
    },
    {
      "cell_type": "code",
      "source": [
        "nums = [3,4,-1,1]\n",
        "sol = Solution()\n",
        "sol.firstMissingPositive(nums)"
      ],
      "metadata": {
        "colab": {
          "base_uri": "https://localhost:8080/"
        },
        "id": "FxdvhV96D15s",
        "outputId": "5523dcce-099b-4985-f053-2f26325d4576"
      },
      "execution_count": 7,
      "outputs": [
        {
          "output_type": "execute_result",
          "data": {
            "text/plain": [
              "2"
            ]
          },
          "metadata": {},
          "execution_count": 7
        }
      ]
    },
    {
      "cell_type": "code",
      "source": [
        ""
      ],
      "metadata": {
        "id": "JiPNSXDYEq1q"
      },
      "execution_count": null,
      "outputs": []
    },
    {
      "cell_type": "code",
      "source": [
        ""
      ],
      "metadata": {
        "id": "wG5ZW-czDopK"
      },
      "execution_count": null,
      "outputs": []
    }
  ]
}