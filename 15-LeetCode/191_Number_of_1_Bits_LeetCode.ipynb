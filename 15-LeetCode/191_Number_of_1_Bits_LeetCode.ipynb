{
  "nbformat": 4,
  "nbformat_minor": 0,
  "metadata": {
    "colab": {
      "name": "191 Number of 1 Bits LeetCode.ipynb",
      "provenance": [],
      "authorship_tag": "ABX9TyO5YcPnXuY6443c2SZ384qv",
      "include_colab_link": true
    },
    "kernelspec": {
      "name": "python3",
      "display_name": "Python 3"
    },
    "language_info": {
      "name": "python"
    }
  },
  "cells": [
    {
      "cell_type": "markdown",
      "metadata": {
        "id": "view-in-github",
        "colab_type": "text"
      },
      "source": [
        "<a href=\"https://colab.research.google.com/github/plthiyagu/AI-Engineering/blob/master/15-LeetCode/191_Number_of_1_Bits_LeetCode.ipynb\" target=\"_parent\"><img src=\"https://colab.research.google.com/assets/colab-badge.svg\" alt=\"Open In Colab\"/></a>"
      ]
    },
    {
      "cell_type": "code",
      "execution_count": 1,
      "metadata": {
        "id": "freQYuNEHOnN"
      },
      "outputs": [],
      "source": [
        "class Solution:\n",
        "    def hammingWeight(self, n: int) -> int:\n",
        "        cnt = 0        \n",
        "        while(n != 0):\n",
        "            n = n & (n - 1)\n",
        "            cnt += 1\n",
        "        return cnt"
      ]
    },
    {
      "cell_type": "code",
      "source": [
        "n= 00000000000000000000000000001011\n",
        "sol = Solution()\n",
        "sol.hammingWeight(n)"
      ],
      "metadata": {
        "colab": {
          "base_uri": "https://localhost:8080/",
          "height": 130
        },
        "id": "Y7JClmnPHd7n",
        "outputId": "b86c1d64-d513-476c-83ee-a3d147e11ef3"
      },
      "execution_count": 10,
      "outputs": [
        {
          "output_type": "error",
          "ename": "SyntaxError",
          "evalue": "ignored",
          "traceback": [
            "\u001b[0;36m  File \u001b[0;32m\"<ipython-input-10-19edcc1bc415>\"\u001b[0;36m, line \u001b[0;32m1\u001b[0m\n\u001b[0;31m    n= 00000000000000000000000000001011\u001b[0m\n\u001b[0m                                      ^\u001b[0m\n\u001b[0;31mSyntaxError\u001b[0m\u001b[0;31m:\u001b[0m invalid token\n"
          ]
        }
      ]
    },
    {
      "cell_type": "code",
      "source": [
        ""
      ],
      "metadata": {
        "id": "S3-yXJP7HnC_"
      },
      "execution_count": null,
      "outputs": []
    }
  ]
}