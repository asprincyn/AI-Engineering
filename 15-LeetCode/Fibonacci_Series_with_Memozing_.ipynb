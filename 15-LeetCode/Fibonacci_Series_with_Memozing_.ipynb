{
  "nbformat": 4,
  "nbformat_minor": 0,
  "metadata": {
    "colab": {
      "name": "Fibonacci Series with Memozing .ipynb",
      "provenance": [],
      "authorship_tag": "ABX9TyNbbNNCLc6mvj3RvzW6mBBc",
      "include_colab_link": true
    },
    "kernelspec": {
      "name": "python3",
      "display_name": "Python 3"
    },
    "language_info": {
      "name": "python"
    }
  },
  "cells": [
    {
      "cell_type": "markdown",
      "metadata": {
        "id": "view-in-github",
        "colab_type": "text"
      },
      "source": [
        "<a href=\"https://colab.research.google.com/github/plthiyagu/AI-Engineering/blob/master/15-LeetCode/Fibonacci_Series_with_Memozing_.ipynb\" target=\"_parent\"><img src=\"https://colab.research.google.com/assets/colab-badge.svg\" alt=\"Open In Colab\"/></a>"
      ]
    },
    {
      "cell_type": "code",
      "execution_count": 2,
      "metadata": {
        "id": "F9kJU5spAVUo"
      },
      "outputs": [],
      "source": [
        "# memo = {}\n",
        "# def fib(n):\n",
        "#   if n <2 "
      ]
    },
    {
      "cell_type": "code",
      "source": [
        "def fib_memoize(n):\n",
        "    memo = {}\n",
        "    if n in memo:\n",
        "        return memo[n]\n",
        "    else:\n",
        "        if n <=2:\n",
        "            f = 1\n",
        "        else:\n",
        "            f = fib_recursive(n-1) + fib_recursive(n-2)\n",
        "\n",
        "        memo[n] = f\n",
        "        return f"
      ],
      "metadata": {
        "id": "UXETZr8qB3pO"
      },
      "execution_count": 10,
      "outputs": []
    },
    {
      "cell_type": "code",
      "source": [
        "def fib_recursive(n):\n",
        "    if n <=1:\n",
        "        return n\n",
        "    else:\n",
        "        return fib_recursive(n-1) + fib_recursive(n-2)"
      ],
      "metadata": {
        "id": "b5lE8FEbCzwU"
      },
      "execution_count": 11,
      "outputs": []
    },
    {
      "cell_type": "code",
      "source": [
        "n=10\n",
        "fib_memoize(n)"
      ],
      "metadata": {
        "colab": {
          "base_uri": "https://localhost:8080/"
        },
        "id": "gM4HvX60Cn4G",
        "outputId": "5ae0af49-b05e-40b5-8773-04c5e52d70b8"
      },
      "execution_count": 12,
      "outputs": [
        {
          "output_type": "execute_result",
          "data": {
            "text/plain": [
              "55"
            ]
          },
          "metadata": {},
          "execution_count": 12
        }
      ]
    },
    {
      "cell_type": "code",
      "source": [
        "def fibonacci_of(n):\n",
        "  if n in {0, 1}:\n",
        "    return n\n",
        "  return fibonacci_of(n - 1) + fibonacci_of(n - 2)"
      ],
      "metadata": {
        "id": "PRsngRhbDFw7"
      },
      "execution_count": 13,
      "outputs": []
    },
    {
      "cell_type": "code",
      "source": [
        "n=10\n",
        "fibonacci_of(n)"
      ],
      "metadata": {
        "colab": {
          "base_uri": "https://localhost:8080/"
        },
        "id": "NTfC2jG2D1dm",
        "outputId": "031e6e96-de6a-4775-ec82-ed8e88e77df4"
      },
      "execution_count": 14,
      "outputs": [
        {
          "output_type": "execute_result",
          "data": {
            "text/plain": [
              "55"
            ]
          },
          "metadata": {},
          "execution_count": 14
        }
      ]
    },
    {
      "cell_type": "code",
      "source": [
        "cache = {0:0,1:1}\n",
        "def fib(n):\n",
        "  if n in cache:\n",
        "    return cache[n]\n",
        "  cache[n] = fib(n - 1) + fib(n - 2)\n",
        "  return cache[n]"
      ],
      "metadata": {
        "id": "MRN6mEo5D4x2"
      },
      "execution_count": 15,
      "outputs": []
    },
    {
      "cell_type": "code",
      "source": [
        "n=10\n",
        "fib(10)"
      ],
      "metadata": {
        "colab": {
          "base_uri": "https://localhost:8080/"
        },
        "id": "y8JS4PQwHLhI",
        "outputId": "84ee6a71-3c13-4b1c-936a-78d777f627c4"
      },
      "execution_count": 16,
      "outputs": [
        {
          "output_type": "execute_result",
          "data": {
            "text/plain": [
              "55"
            ]
          },
          "metadata": {},
          "execution_count": 16
        }
      ]
    },
    {
      "cell_type": "code",
      "source": [
        ""
      ],
      "metadata": {
        "id": "zkKCuulpHN9k"
      },
      "execution_count": null,
      "outputs": []
    }
  ]
}