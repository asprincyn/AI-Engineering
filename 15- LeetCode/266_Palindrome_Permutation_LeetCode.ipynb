{
  "nbformat": 4,
  "nbformat_minor": 0,
  "metadata": {
    "colab": {
      "name": "266 Palindrome Permutation LeetCode.ipynb",
      "provenance": [],
      "collapsed_sections": [],
      "authorship_tag": "ABX9TyOhS6bepxjnDp4IpWDJhi05",
      "include_colab_link": true
    },
    "kernelspec": {
      "name": "python3",
      "display_name": "Python 3"
    },
    "language_info": {
      "name": "python"
    }
  },
  "cells": [
    {
      "cell_type": "markdown",
      "metadata": {
        "id": "view-in-github",
        "colab_type": "text"
      },
      "source": [
        "<a href=\"https://colab.research.google.com/github/plthiyagu/AI-Engineering/blob/master/15-%20LeetCode/266_Palindrome_Permutation_LeetCode.ipynb\" target=\"_parent\"><img src=\"https://colab.research.google.com/assets/colab-badge.svg\" alt=\"Open In Colab\"/></a>"
      ]
    },
    {
      "cell_type": "code",
      "execution_count": 1,
      "metadata": {
        "id": "AqFBYiTdUnLj"
      },
      "outputs": [],
      "source": [
        "class Solution:\n",
        "    def canPermutePalindrome(self, s: str) -> bool:\n",
        "      oddChars =set()\n",
        "      for c in s:\n",
        "        if c in oddChars:\n",
        "          oddChars.remove(c)\n",
        "        else:\n",
        "          oddChars.add(c)\n",
        "      return len(oddChars) <=1\n",
        "      "
      ]
    },
    {
      "cell_type": "code",
      "source": [
        "sol = Solution()\n",
        "s = \"code\"\n",
        "sol.canPermutePalindrome(s)"
      ],
      "metadata": {
        "colab": {
          "base_uri": "https://localhost:8080/"
        },
        "id": "k85oKYYXVH-x",
        "outputId": "f9748b83-29dd-4d97-d0c5-9177af4058e0"
      },
      "execution_count": 2,
      "outputs": [
        {
          "output_type": "execute_result",
          "data": {
            "text/plain": [
              "False"
            ]
          },
          "metadata": {},
          "execution_count": 2
        }
      ]
    },
    {
      "cell_type": "code",
      "source": [
        ""
      ],
      "metadata": {
        "id": "WT4Zpzk4VO3H"
      },
      "execution_count": null,
      "outputs": []
    }
  ]
}