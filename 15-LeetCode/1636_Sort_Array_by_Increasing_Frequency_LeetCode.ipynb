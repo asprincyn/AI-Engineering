{
  "nbformat": 4,
  "nbformat_minor": 0,
  "metadata": {
    "colab": {
      "name": "1636 Sort Array by Increasing Frequency LeetCode.ipynb",
      "provenance": [],
      "authorship_tag": "ABX9TyOoIYXCJBdZLuqpCu13xTkr",
      "include_colab_link": true
    },
    "kernelspec": {
      "name": "python3",
      "display_name": "Python 3"
    },
    "language_info": {
      "name": "python"
    }
  },
  "cells": [
    {
      "cell_type": "markdown",
      "metadata": {
        "id": "view-in-github",
        "colab_type": "text"
      },
      "source": [
        "<a href=\"https://colab.research.google.com/github/plthiyagu/AI-Engineering/blob/master/15-LeetCode/1636_Sort_Array_by_Increasing_Frequency_LeetCode.ipynb\" target=\"_parent\"><img src=\"https://colab.research.google.com/assets/colab-badge.svg\" alt=\"Open In Colab\"/></a>"
      ]
    },
    {
      "cell_type": "code",
      "execution_count": 2,
      "metadata": {
        "id": "qKtPLW5RLZJd"
      },
      "outputs": [],
      "source": [
        "import collections \n",
        "from typing import List\n",
        "class Solution:\n",
        "    def frequencySort(self, nums: List[int]) -> List[int]:\n",
        "        freq = collections.Counter(nums)\n",
        "        return sorted(nums,key = lambda x: (freq[x], -x))\n",
        "        "
      ]
    },
    {
      "cell_type": "code",
      "source": [
        ""
      ],
      "metadata": {
        "id": "sSN5FWI5Ljqn"
      },
      "execution_count": null,
      "outputs": []
    },
    {
      "cell_type": "code",
      "source": [
        ""
      ],
      "metadata": {
        "id": "R-IAVDtQLfrH"
      },
      "execution_count": null,
      "outputs": []
    }
  ]
}