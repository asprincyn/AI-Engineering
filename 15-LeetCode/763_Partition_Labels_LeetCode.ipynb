{
  "nbformat": 4,
  "nbformat_minor": 0,
  "metadata": {
    "colab": {
      "name": "763 Partition Labels LeetCode.ipynb",
      "provenance": [],
      "authorship_tag": "ABX9TyONWZ37ZywwC5/v/C6ba686",
      "include_colab_link": true
    },
    "kernelspec": {
      "name": "python3",
      "display_name": "Python 3"
    },
    "language_info": {
      "name": "python"
    }
  },
  "cells": [
    {
      "cell_type": "markdown",
      "metadata": {
        "id": "view-in-github",
        "colab_type": "text"
      },
      "source": [
        "<a href=\"https://colab.research.google.com/github/plthiyagu/AI-Engineering/blob/master/15-LeetCode/763_Partition_Labels_LeetCode.ipynb\" target=\"_parent\"><img src=\"https://colab.research.google.com/assets/colab-badge.svg\" alt=\"Open In Colab\"/></a>"
      ]
    },
    {
      "cell_type": "code",
      "execution_count": 2,
      "metadata": {
        "id": "8ubsjDKQDIeR"
      },
      "outputs": [],
      "source": [
        "from typing import List\n",
        "class Solution:\n",
        "    def partitionLabels(self, s: str) -> List[int]:\n",
        "        last = {c: i for i, c in enumerate(s)}\n",
        "        pre = cur = 0\n",
        "        res = []\n",
        "        for i, c in enumerate(s):\n",
        "            cur = max(cur, last[c])\n",
        "            if i == cur:\n",
        "                res.append(i - pre + 1)\n",
        "                pre = i + 1   \n",
        "        return res\n",
        "        "
      ]
    },
    {
      "cell_type": "code",
      "source": [
        "s = \"ababcbacadefegdehijhklij\"\n",
        "sol= Solution()\n",
        "sol.partitionLabels(s)"
      ],
      "metadata": {
        "colab": {
          "base_uri": "https://localhost:8080/"
        },
        "id": "WVTZTlvjDJSx",
        "outputId": "0a94c22d-9669-4e66-dba9-ba54dc51eff4"
      },
      "execution_count": 3,
      "outputs": [
        {
          "output_type": "execute_result",
          "data": {
            "text/plain": [
              "[9, 7, 8]"
            ]
          },
          "metadata": {},
          "execution_count": 3
        }
      ]
    },
    {
      "cell_type": "code",
      "source": [
        ""
      ],
      "metadata": {
        "id": "59DF0da0DVJd"
      },
      "execution_count": null,
      "outputs": []
    }
  ]
}