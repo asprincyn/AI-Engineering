{
  "nbformat": 4,
  "nbformat_minor": 0,
  "metadata": {
    "colab": {
      "name": "1550 Three Consecutive Odds LeetCode.ipynb",
      "provenance": [],
      "authorship_tag": "ABX9TyO0RVdl36UtZJ1Jevv5Wa4H",
      "include_colab_link": true
    },
    "kernelspec": {
      "name": "python3",
      "display_name": "Python 3"
    },
    "language_info": {
      "name": "python"
    }
  },
  "cells": [
    {
      "cell_type": "markdown",
      "metadata": {
        "id": "view-in-github",
        "colab_type": "text"
      },
      "source": [
        "<a href=\"https://colab.research.google.com/github/plthiyagu/AI-Engineering/blob/master/15-LeetCode/1550_Three_Consecutive_Odds_LeetCode.ipynb\" target=\"_parent\"><img src=\"https://colab.research.google.com/assets/colab-badge.svg\" alt=\"Open In Colab\"/></a>"
      ]
    },
    {
      "cell_type": "code",
      "execution_count": 1,
      "metadata": {
        "id": "4FoW0x_vWFn9"
      },
      "outputs": [],
      "source": [
        "\n",
        "from typing import List\n",
        "class Solution:\n",
        "    def threeConsecutiveOdds(self, arr: List[int]) -> bool:\n",
        "        count =0\n",
        "        for num in arr:\n",
        "            if num % 2 != 0:\n",
        "                count += 1\n",
        "            else:\n",
        "                count = 0\n",
        "            \n",
        "            if count == 3:\n",
        "                return True\n",
        "        \n",
        "        return False\n",
        "        "
      ]
    },
    {
      "cell_type": "code",
      "source": [
        "arr = [2,6,4,1]\n",
        "sol = Solution()\n",
        "sol.threeConsecutiveOdds(arr)"
      ],
      "metadata": {
        "colab": {
          "base_uri": "https://localhost:8080/"
        },
        "id": "ggAEjW8DWI51",
        "outputId": "a83e5f1b-2187-4003-b14a-9af675cbee5d"
      },
      "execution_count": 2,
      "outputs": [
        {
          "output_type": "execute_result",
          "data": {
            "text/plain": [
              "False"
            ]
          },
          "metadata": {},
          "execution_count": 2
        }
      ]
    },
    {
      "cell_type": "code",
      "source": [
        ""
      ],
      "metadata": {
        "id": "VEz2FcF5WQaY"
      },
      "execution_count": null,
      "outputs": []
    }
  ]
}