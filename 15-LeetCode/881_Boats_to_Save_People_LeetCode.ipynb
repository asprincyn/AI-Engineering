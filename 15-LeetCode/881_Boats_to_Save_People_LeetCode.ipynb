{
  "nbformat": 4,
  "nbformat_minor": 0,
  "metadata": {
    "colab": {
      "name": "881 Boats to Save People LeetCode.ipynb",
      "provenance": [],
      "authorship_tag": "ABX9TyNyPNjfnoEY8YgFLDyRppzL",
      "include_colab_link": true
    },
    "kernelspec": {
      "name": "python3",
      "display_name": "Python 3"
    },
    "language_info": {
      "name": "python"
    }
  },
  "cells": [
    {
      "cell_type": "markdown",
      "metadata": {
        "id": "view-in-github",
        "colab_type": "text"
      },
      "source": [
        "<a href=\"https://colab.research.google.com/github/plthiyagu/AI-Engineering/blob/master/15-LeetCode/881_Boats_to_Save_People_LeetCode.ipynb\" target=\"_parent\"><img src=\"https://colab.research.google.com/assets/colab-badge.svg\" alt=\"Open In Colab\"/></a>"
      ]
    },
    {
      "cell_type": "code",
      "metadata": {
        "id": "M8VZqtfGR87a"
      },
      "source": [
        "from typing import List\n",
        "def numRescueBoats(people: List[int], limit: int) -> int:\n",
        "    \n",
        "    people.sort()\n",
        "    res =0\n",
        "    hi,lo = len(people)-1,0\n",
        "    while hi >=lo:\n",
        "        if people[hi] + people[lo] <= limit:\n",
        "            lo += 1\n",
        "        hi -= 1\n",
        "        res += 1\n",
        "    return res"
      ],
      "execution_count": 2,
      "outputs": []
    },
    {
      "cell_type": "code",
      "metadata": {
        "colab": {
          "base_uri": "https://localhost:8080/"
        },
        "id": "rvlwc3OPSApK",
        "outputId": "0502c7ee-4248-49b2-8243-88927909a0ae"
      },
      "source": [
        "people = [1,2]\n",
        "limit = 3\n",
        "numRescueBoats(people, limit)"
      ],
      "execution_count": 4,
      "outputs": [
        {
          "output_type": "execute_result",
          "data": {
            "text/plain": [
              "1"
            ]
          },
          "metadata": {},
          "execution_count": 4
        }
      ]
    }
  ]
}