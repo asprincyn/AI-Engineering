{
  "nbformat": 4,
  "nbformat_minor": 0,
  "metadata": {
    "colab": {
      "name": "867 Transpose Matrix LeetCode.ipynb",
      "provenance": [],
      "authorship_tag": "ABX9TyM4ZJoR3tng9yqbHofRMpuH",
      "include_colab_link": true
    },
    "kernelspec": {
      "name": "python3",
      "display_name": "Python 3"
    },
    "language_info": {
      "name": "python"
    }
  },
  "cells": [
    {
      "cell_type": "markdown",
      "metadata": {
        "id": "view-in-github",
        "colab_type": "text"
      },
      "source": [
        "<a href=\"https://colab.research.google.com/github/plthiyagu/AI-Engineering/blob/master/15-LeetCode/867_Transpose_Matrix_LeetCode.ipynb\" target=\"_parent\"><img src=\"https://colab.research.google.com/assets/colab-badge.svg\" alt=\"Open In Colab\"/></a>"
      ]
    },
    {
      "cell_type": "code",
      "execution_count": 2,
      "metadata": {
        "id": "OE4VEOYGbJA3"
      },
      "outputs": [],
      "source": [
        "from typing import List\n",
        "\n",
        "class Solution:\n",
        "    def transpose(self, matrix: List[List[int]]) -> List[List[int]]:\n",
        "        \n",
        "        return list(map(list,zip(*matrix)))\n",
        "        "
      ]
    },
    {
      "cell_type": "code",
      "source": [
        "matrix = [[1,2,3],[4,5,6],[7,8,9]]\n",
        "sol = Solution()\n",
        "sol.transpose(matrix)"
      ],
      "metadata": {
        "colab": {
          "base_uri": "https://localhost:8080/"
        },
        "id": "0hacd96ibNT1",
        "outputId": "02921821-8198-4a8d-e5d7-f7cafcf23f80"
      },
      "execution_count": 3,
      "outputs": [
        {
          "output_type": "execute_result",
          "data": {
            "text/plain": [
              "[[1, 4, 7], [2, 5, 8], [3, 6, 9]]"
            ]
          },
          "metadata": {},
          "execution_count": 3
        }
      ]
    },
    {
      "cell_type": "code",
      "source": [
        "from typing import List\n",
        "\n",
        "class Solution:\n",
        "    def transpose(self, matrix: List[List[int]]) -> List[List[int]]:\n",
        "      rows,cols= len(matrix),len(matrix[0])\n",
        "      res= [[0] * rows for _ in range(cols)]\n",
        "      for row in range(rows):\n",
        "        for col in range(cols):\n",
        "          res[col][row] = matrix[row][col]\n",
        "      return res\n",
        "\n",
        "        "
      ],
      "metadata": {
        "id": "jQZ4vJBLbV1p"
      },
      "execution_count": 4,
      "outputs": []
    },
    {
      "cell_type": "code",
      "source": [
        "matrix = [[1,2,3],[4,5,6],[7,8,9]]\n",
        "sol = Solution()\n",
        "sol.transpose(matrix)"
      ],
      "metadata": {
        "colab": {
          "base_uri": "https://localhost:8080/"
        },
        "id": "uBx0tE_5coB9",
        "outputId": "922dc557-dd42-4739-a264-6c0c4d52dd0e"
      },
      "execution_count": 5,
      "outputs": [
        {
          "output_type": "execute_result",
          "data": {
            "text/plain": [
              "[[1, 4, 7], [2, 5, 8], [3, 6, 9]]"
            ]
          },
          "metadata": {},
          "execution_count": 5
        }
      ]
    },
    {
      "cell_type": "code",
      "source": [
        ""
      ],
      "metadata": {
        "id": "dzY7UERDcpmP"
      },
      "execution_count": null,
      "outputs": []
    }
  ]
}