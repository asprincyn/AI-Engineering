{
  "nbformat": 4,
  "nbformat_minor": 0,
  "metadata": {
    "colab": {
      "name": "1342 Number of Steps to Reduce a Number to Zero LeetCode.ipynb",
      "provenance": [],
      "authorship_tag": "ABX9TyNvR6CmeRqNGK1Tsn58S7OB",
      "include_colab_link": true
    },
    "kernelspec": {
      "name": "python3",
      "display_name": "Python 3"
    },
    "language_info": {
      "name": "python"
    }
  },
  "cells": [
    {
      "cell_type": "markdown",
      "metadata": {
        "id": "view-in-github",
        "colab_type": "text"
      },
      "source": [
        "<a href=\"https://colab.research.google.com/github/plthiyagu/AI-Engineering/blob/master/15-LeetCode/1342_Number_of_Steps_to_Reduce_a_Number_to_Zero_LeetCode.ipynb\" target=\"_parent\"><img src=\"https://colab.research.google.com/assets/colab-badge.svg\" alt=\"Open In Colab\"/></a>"
      ]
    },
    {
      "cell_type": "code",
      "execution_count": 1,
      "metadata": {
        "id": "fH5gQzAQ4FV6"
      },
      "outputs": [],
      "source": [
        "class Solution:\n",
        "    def numberOfSteps(self, num: int) -> int:\n",
        "        steps =0\n",
        "        while num >0:\n",
        "            if num %2 ==0:\n",
        "                num = num//2\n",
        "            else:\n",
        "                num = num -1\n",
        "            steps = steps +1\n",
        "        return steps"
      ]
    },
    {
      "cell_type": "code",
      "source": [
        ""
      ],
      "metadata": {
        "id": "mZJT6ZbD4Gsr"
      },
      "execution_count": null,
      "outputs": []
    }
  ]
}