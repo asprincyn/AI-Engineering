{
  "nbformat": 4,
  "nbformat_minor": 0,
  "metadata": {
    "colab": {
      "name": "819 Most Common Word LeetCode.ipynb",
      "provenance": [],
      "authorship_tag": "ABX9TyP/RIvu3AP/9KT9NB0MU9PC",
      "include_colab_link": true
    },
    "kernelspec": {
      "name": "python3",
      "display_name": "Python 3"
    },
    "language_info": {
      "name": "python"
    }
  },
  "cells": [
    {
      "cell_type": "markdown",
      "metadata": {
        "id": "view-in-github",
        "colab_type": "text"
      },
      "source": [
        "<a href=\"https://colab.research.google.com/github/plthiyagu/AI-Engineering/blob/master/15-LeetCode/819_Most_Common_Word_LeetCode.ipynb\" target=\"_parent\"><img src=\"https://colab.research.google.com/assets/colab-badge.svg\" alt=\"Open In Colab\"/></a>"
      ]
    },
    {
      "cell_type": "code",
      "execution_count": 3,
      "metadata": {
        "id": "emFC9aEgZ0TP"
      },
      "outputs": [],
      "source": [
        "from typing import List\n",
        "import collections\n",
        "\n",
        "class Solution:\n",
        "    def mostCommonWord(self, paragraph: str, banned: List[str]) -> str:\n",
        "        \n",
        "        banned.extend([\"\",\" \"])\n",
        "        banned_={word:True for word in banned}\n",
        "        paragraph = paragraph.replace(',', ' ')\n",
        "        para = collections.Counter(''.join(list(filter(lambda k : k.isdigit() or k.isalnum() or k==' ', paragraph.lower()))).split(' ')).most_common()\n",
        "        for k,v in para:\n",
        "            if k not in banned_:\n",
        "                return k"
      ]
    },
    {
      "cell_type": "code",
      "source": [
        "paragraph = \"Bob hit a ball, the hit BALL flew far after it was hit.\"\n",
        "banned = [\"hit\"]\n",
        "sol = Solution()\n",
        "sol.mostCommonWord(paragraph,banned)"
      ],
      "metadata": {
        "colab": {
          "base_uri": "https://localhost:8080/",
          "height": 35
        },
        "id": "sC89fkVvZ1NG",
        "outputId": "710ff5e9-523a-4d46-c719-3114f8b3401c"
      },
      "execution_count": 5,
      "outputs": [
        {
          "output_type": "execute_result",
          "data": {
            "text/plain": [
              "'ball'"
            ],
            "application/vnd.google.colaboratory.intrinsic+json": {
              "type": "string"
            }
          },
          "metadata": {},
          "execution_count": 5
        }
      ]
    },
    {
      "cell_type": "code",
      "source": [
        ""
      ],
      "metadata": {
        "id": "z09nwxyKbWXh"
      },
      "execution_count": null,
      "outputs": []
    },
    {
      "cell_type": "code",
      "source": [
        ""
      ],
      "metadata": {
        "id": "8M1kawm-bS9m"
      },
      "execution_count": null,
      "outputs": []
    }
  ]
}