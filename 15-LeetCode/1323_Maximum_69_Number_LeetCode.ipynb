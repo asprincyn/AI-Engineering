{
  "nbformat": 4,
  "nbformat_minor": 0,
  "metadata": {
    "colab": {
      "name": "1323 Maximum 69 Number LeetCode.ipynb",
      "provenance": [],
      "authorship_tag": "ABX9TyOlahj6tZ8OHIC+aVxnf9Fe",
      "include_colab_link": true
    },
    "kernelspec": {
      "name": "python3",
      "display_name": "Python 3"
    },
    "language_info": {
      "name": "python"
    }
  },
  "cells": [
    {
      "cell_type": "markdown",
      "metadata": {
        "id": "view-in-github",
        "colab_type": "text"
      },
      "source": [
        "<a href=\"https://colab.research.google.com/github/plthiyagu/AI-Engineering/blob/master/15-LeetCode/1323_Maximum_69_Number_LeetCode.ipynb\" target=\"_parent\"><img src=\"https://colab.research.google.com/assets/colab-badge.svg\" alt=\"Open In Colab\"/></a>"
      ]
    },
    {
      "cell_type": "code",
      "execution_count": 1,
      "metadata": {
        "id": "ykCtYKMKEq7h"
      },
      "outputs": [],
      "source": [
        "class Solution:\n",
        "    def maximum69Number (self, num: int) -> int:\n",
        "        str_n=str(num)\n",
        "        list_n=list(str_n)\n",
        "        for i in range(len(str_n)):\n",
        "            if list_n[i]==\"6\":\n",
        "                list_n[i]=\"9\"\n",
        "                break\n",
        "        s=''.join(list_n)\n",
        "        return int(s)"
      ]
    },
    {
      "cell_type": "code",
      "source": [
        "sol = Solution()\n",
        "num = 9669\n",
        "sol.maximum69Number(num)"
      ],
      "metadata": {
        "colab": {
          "base_uri": "https://localhost:8080/"
        },
        "id": "GsC_zH2SEtOj",
        "outputId": "40db9ec2-bf14-4a66-8e4a-bea98b761cc5"
      },
      "execution_count": 2,
      "outputs": [
        {
          "output_type": "execute_result",
          "data": {
            "text/plain": [
              "9969"
            ]
          },
          "metadata": {},
          "execution_count": 2
        }
      ]
    },
    {
      "cell_type": "code",
      "source": [
        ""
      ],
      "metadata": {
        "id": "BlhRFRykEz9v"
      },
      "execution_count": null,
      "outputs": []
    }
  ]
}