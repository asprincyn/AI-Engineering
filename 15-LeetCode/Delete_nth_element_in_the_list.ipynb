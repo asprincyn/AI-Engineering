{
  "nbformat": 4,
  "nbformat_minor": 0,
  "metadata": {
    "colab": {
      "name": "Delete nth element in the list.ipynb",
      "provenance": [],
      "authorship_tag": "ABX9TyMu1MR0hRszIrGYgfOcYeHJ",
      "include_colab_link": true
    },
    "kernelspec": {
      "name": "python3",
      "display_name": "Python 3"
    },
    "language_info": {
      "name": "python"
    }
  },
  "cells": [
    {
      "cell_type": "markdown",
      "metadata": {
        "id": "view-in-github",
        "colab_type": "text"
      },
      "source": [
        "<a href=\"https://colab.research.google.com/github/plthiyagu/AI-Engineering/blob/master/Delete_nth_element_in_the_list.ipynb\" target=\"_parent\"><img src=\"https://colab.research.google.com/assets/colab-badge.svg\" alt=\"Open In Colab\"/></a>"
      ]
    },
    {
      "cell_type": "code",
      "execution_count": 7,
      "metadata": {
        "id": "AGBL8Yc0kyE7"
      },
      "outputs": [],
      "source": [
        "import collections\n",
        "def delete_nth(nums,n):\n",
        "  counts = collections.defaultdict(int)\n",
        "  result = []\n",
        "  for num in nums:\n",
        "    if counts[num]<n:\n",
        "      result.append(num)\n",
        "      counts[num] +=1\n",
        "  return result\n"
      ]
    },
    {
      "cell_type": "code",
      "source": [
        "n = 2\n",
        "nums= [1,2,3,1,2,1,2,3]\n",
        "delete_nth(nums,n)"
      ],
      "metadata": {
        "colab": {
          "base_uri": "https://localhost:8080/"
        },
        "id": "ByI3S4CPBWJM",
        "outputId": "5e2747e7-5e71-475c-fc54-934904e3d689"
      },
      "execution_count": 8,
      "outputs": [
        {
          "output_type": "execute_result",
          "data": {
            "text/plain": [
              "[1, 2, 3, 1, 2, 3]"
            ]
          },
          "metadata": {},
          "execution_count": 8
        }
      ]
    },
    {
      "cell_type": "code",
      "source": [
        ""
      ],
      "metadata": {
        "id": "354dFPmfBiaw"
      },
      "execution_count": null,
      "outputs": []
    }
  ]
}