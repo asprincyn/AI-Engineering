{
  "nbformat": 4,
  "nbformat_minor": 0,
  "metadata": {
    "colab": {
      "name": "340 Longest Substring with At Most K Distinct Characters LeetCode.ipynb",
      "provenance": [],
      "authorship_tag": "ABX9TyOnllKY5Yt1o3BzJ9Oeydss",
      "include_colab_link": true
    },
    "kernelspec": {
      "name": "python3",
      "display_name": "Python 3"
    },
    "language_info": {
      "name": "python"
    }
  },
  "cells": [
    {
      "cell_type": "markdown",
      "metadata": {
        "id": "view-in-github",
        "colab_type": "text"
      },
      "source": [
        "<a href=\"https://colab.research.google.com/github/plthiyagu/AI-Engineering/blob/master/15-LeetCode/340_Longest_Substring_with_At_Most_K_Distinct_Characters_LeetCode.ipynb\" target=\"_parent\"><img src=\"https://colab.research.google.com/assets/colab-badge.svg\" alt=\"Open In Colab\"/></a>"
      ]
    },
    {
      "cell_type": "code",
      "execution_count": 1,
      "metadata": {
        "id": "yD-F-LlkOUUc"
      },
      "outputs": [],
      "source": [
        "class Solution:\n",
        "    def lengthOfLongestSubstringKDistinct(self, s: str, k: int) -> int:\n",
        "        if k==0:\n",
        "            return 0\n",
        "        result =0\n",
        "        counter={}\n",
        "        j=0\n",
        "        \n",
        "        for i in range(len(s)):\n",
        "            while j < len(s) and (len(counter) < k or (len(counter) == k and s[j] in counter)):\n",
        "                counter[s[j]] = counter.get(s[j], 0) + 1\n",
        "                j += 1\n",
        "                \n",
        "                \n",
        "            if len(counter) <= k:\n",
        "                result = max(result, j - i)\n",
        "            \n",
        "            counter[s[i]] -= 1\n",
        "            \n",
        "            if counter[s[i]] == 0:\n",
        "                del counter[s[i]]\n",
        "            \n",
        "        return result"
      ]
    },
    {
      "cell_type": "code",
      "source": [
        "sol = Solution()\n",
        "s = \"eceba\"\n",
        "k = 2\n",
        "sol.lengthOfLongestSubstringKDistinct(s,k)"
      ],
      "metadata": {
        "colab": {
          "base_uri": "https://localhost:8080/"
        },
        "id": "TWPD7q0zP0jJ",
        "outputId": "a2f84b77-e668-42c6-a67b-5f6db1b6abeb"
      },
      "execution_count": 2,
      "outputs": [
        {
          "output_type": "execute_result",
          "data": {
            "text/plain": [
              "3"
            ]
          },
          "metadata": {},
          "execution_count": 2
        }
      ]
    },
    {
      "cell_type": "code",
      "source": [
        ""
      ],
      "metadata": {
        "id": "CkkxNoRxP8tZ"
      },
      "execution_count": null,
      "outputs": []
    }
  ]
}