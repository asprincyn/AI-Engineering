{
  "nbformat": 4,
  "nbformat_minor": 0,
  "metadata": {
    "colab": {
      "name": "1380 Lucky Numbers in a Matrix LeetCode.ipynb",
      "provenance": [],
      "authorship_tag": "ABX9TyPQVdJll3ihrWUNsvAreAoK",
      "include_colab_link": true
    },
    "kernelspec": {
      "name": "python3",
      "display_name": "Python 3"
    },
    "language_info": {
      "name": "python"
    }
  },
  "cells": [
    {
      "cell_type": "markdown",
      "metadata": {
        "id": "view-in-github",
        "colab_type": "text"
      },
      "source": [
        "<a href=\"https://colab.research.google.com/github/plthiyagu/AI-Engineering/blob/master/15-LeetCode/1380_Lucky_Numbers_in_a_Matrix_LeetCode.ipynb\" target=\"_parent\"><img src=\"https://colab.research.google.com/assets/colab-badge.svg\" alt=\"Open In Colab\"/></a>"
      ]
    },
    {
      "cell_type": "code",
      "execution_count": 4,
      "metadata": {
        "id": "emZSmAO-Znnd"
      },
      "outputs": [],
      "source": [
        "from typing import List\n",
        "class Solution:\n",
        "    def luckyNumbers (self, matrix: List[List[int]]) -> List[int]:\n",
        "        min_n = {min(rows) for rows in matrix}\n",
        "        print(min_n)\n",
        "        max_n = {max(columns) for columns in zip(*matrix)} \n",
        "        \n",
        "        return list(min_n & max_n)\n",
        "        "
      ]
    },
    {
      "cell_type": "code",
      "source": [
        "sol = Solution()\n",
        "matrix = [[3,7,8],[9,11,13],[15,16,17]]\n",
        "sol.luckyNumbers(matrix)"
      ],
      "metadata": {
        "colab": {
          "base_uri": "https://localhost:8080/"
        },
        "id": "gLBx3Pa5ZoXI",
        "outputId": "2af83b40-834a-431a-a1bf-a16e7c549357"
      },
      "execution_count": 5,
      "outputs": [
        {
          "output_type": "stream",
          "name": "stdout",
          "text": [
            "{9, 3, 15}\n"
          ]
        },
        {
          "output_type": "execute_result",
          "data": {
            "text/plain": [
              "[15]"
            ]
          },
          "metadata": {},
          "execution_count": 5
        }
      ]
    },
    {
      "cell_type": "code",
      "source": [
        "class Solution:\n",
        "    def luckyNumbers (self, matrix: List[List[int]]) -> List[int]:\n",
        "        row_min_numbers = {}\n",
        "                \n",
        "        for i in range(len(matrix)):\n",
        "            row_min_numbers[i] = min(matrix[i])\n",
        "            \n",
        "        columns = defaultdict(list)\n",
        "        for i in range(len(matrix)):\n",
        "            for j in range(len(matrix[0])):\n",
        "                columns[j].append(matrix[i][j])\n",
        "        \n",
        "        \n",
        "        column_max_numbers = {}\n",
        "        for key, value in columns.items():            \n",
        "            column_max_numbers[key] = max(value)\n",
        "        \n",
        "        \n",
        "        results = []\n",
        "        \n",
        "        for i in range(len(matrix)):\n",
        "            for j in range(len(matrix[0])):\n",
        "                if matrix[i][j] == row_min_numbers[i] and matrix[i][j] == column_max_numbers[j]:                    \n",
        "                    results.append(matrix[i][j])\n",
        "                    \n",
        "        \n",
        "        return results"
      ],
      "metadata": {
        "id": "eEG9k1BRZyAF"
      },
      "execution_count": 6,
      "outputs": []
    },
    {
      "cell_type": "code",
      "source": [
        ""
      ],
      "metadata": {
        "id": "5QOeJ1_KbdZ7"
      },
      "execution_count": null,
      "outputs": []
    }
  ]
}