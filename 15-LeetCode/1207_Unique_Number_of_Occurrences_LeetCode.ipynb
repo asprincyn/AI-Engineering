{
  "nbformat": 4,
  "nbformat_minor": 0,
  "metadata": {
    "colab": {
      "name": "1207 Unique Number of Occurrences LeetCode.ipynb",
      "provenance": [],
      "collapsed_sections": [],
      "authorship_tag": "ABX9TyNJLcxPxThnRraHvhFbSPUu",
      "include_colab_link": true
    },
    "kernelspec": {
      "name": "python3",
      "display_name": "Python 3"
    },
    "language_info": {
      "name": "python"
    }
  },
  "cells": [
    {
      "cell_type": "markdown",
      "metadata": {
        "id": "view-in-github",
        "colab_type": "text"
      },
      "source": [
        "<a href=\"https://colab.research.google.com/github/plthiyagu/AI-Engineering/blob/master/15-LeetCode/1207_Unique_Number_of_Occurrences_LeetCode.ipynb\" target=\"_parent\"><img src=\"https://colab.research.google.com/assets/colab-badge.svg\" alt=\"Open In Colab\"/></a>"
      ]
    },
    {
      "cell_type": "code",
      "execution_count": 3,
      "metadata": {
        "id": "mBGq2TxKRyJx"
      },
      "outputs": [],
      "source": [
        "from typing import List\n",
        "import collections\n",
        "class Solution:\n",
        "    def uniqueOccurrences(self, arr: List[int]) -> bool:\n",
        "        counter = collections.Counter(arr).values()\n",
        "        if len(counter) == len(set(counter)):\n",
        "            return True\n",
        "        else:\n",
        "            return False\n",
        "            "
      ]
    },
    {
      "cell_type": "code",
      "source": [
        "sol = Solution()\n",
        "arr = [1,2,2,1,1,3]\n",
        "sol.uniqueOccurrences(arr)"
      ],
      "metadata": {
        "colab": {
          "base_uri": "https://localhost:8080/"
        },
        "id": "jvzFL_ZvR2jl",
        "outputId": "f26198a2-2557-450b-a698-f9a19096ed7a"
      },
      "execution_count": 4,
      "outputs": [
        {
          "output_type": "execute_result",
          "data": {
            "text/plain": [
              "True"
            ]
          },
          "metadata": {},
          "execution_count": 4
        }
      ]
    },
    {
      "cell_type": "code",
      "source": [
        "class Solution:\n",
        "    def uniqueOccurrences(self, arr: List[int]) -> bool:\n",
        "        visited = {}\n",
        "        \n",
        "        for num in arr:\n",
        "            visited[num] = visited.get(num, 0) + 1\n",
        "            \n",
        "        \n",
        "        values = set()\n",
        "        for key, value in visited.items():\n",
        "            if value in values:\n",
        "                return False\n",
        "            values.add(value)        \n",
        "        \n",
        "        return True"
      ],
      "metadata": {
        "id": "cu7o_gTrR48T"
      },
      "execution_count": 5,
      "outputs": []
    },
    {
      "cell_type": "code",
      "source": [
        "sol = Solution()\n",
        "arr = [1,2,2,1,1,3]\n",
        "sol.uniqueOccurrences(arr)"
      ],
      "metadata": {
        "colab": {
          "base_uri": "https://localhost:8080/"
        },
        "id": "zeDCdowKSJH4",
        "outputId": "504eb1dd-2541-4809-c637-3e07b07207e1"
      },
      "execution_count": 6,
      "outputs": [
        {
          "output_type": "execute_result",
          "data": {
            "text/plain": [
              "True"
            ]
          },
          "metadata": {},
          "execution_count": 6
        }
      ]
    },
    {
      "cell_type": "code",
      "source": [
        ""
      ],
      "metadata": {
        "id": "MY0HBMyPR6GL"
      },
      "execution_count": null,
      "outputs": []
    }
  ]
}