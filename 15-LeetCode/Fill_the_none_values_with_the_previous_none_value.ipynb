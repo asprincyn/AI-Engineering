{
  "nbformat": 4,
  "nbformat_minor": 0,
  "metadata": {
    "colab": {
      "name": "Fill the none values with the previous none value.ipynb",
      "provenance": [],
      "authorship_tag": "ABX9TyNusbirBq7aVZV24aioWxh3",
      "include_colab_link": true
    },
    "kernelspec": {
      "name": "python3",
      "display_name": "Python 3"
    },
    "language_info": {
      "name": "python"
    }
  },
  "cells": [
    {
      "cell_type": "markdown",
      "metadata": {
        "id": "view-in-github",
        "colab_type": "text"
      },
      "source": [
        "<a href=\"https://colab.research.google.com/github/plthiyagu/AI-Engineering/blob/master/15-LeetCode/Fill_the_none_values_with_the_previous_none_value.ipynb\" target=\"_parent\"><img src=\"https://colab.research.google.com/assets/colab-badge.svg\" alt=\"Open In Colab\"/></a>"
      ]
    },
    {
      "cell_type": "code",
      "execution_count": 4,
      "metadata": {
        "colab": {
          "base_uri": "https://localhost:8080/"
        },
        "id": "z8z6cIcZP6uX",
        "outputId": "1eee882f-ded2-4296-dcdc-4a8b4e92bc16"
      },
      "outputs": [
        {
          "output_type": "stream",
          "name": "stdout",
          "text": [
            "[1, 1, 1, 2, 2]\n"
          ]
        }
      ],
      "source": [
        "\n",
        "dates =[1, None, 1, 2, None] \n",
        "\n",
        "def replace_none(dates):\n",
        "    last = None\n",
        "    for item in dates:\n",
        "        last = last if item is None else item\n",
        "        yield last\n",
        "\n",
        "print(list(replace_none(dates)))"
      ]
    },
    {
      "cell_type": "code",
      "source": [
        "def replaceNone(myList):\n",
        "    \n",
        "    for idx,value in enumerate(myList):\n",
        "        if value == None:\n",
        "            myList[idx] = myList[idx-1]\n",
        "            \n",
        "    return myList"
      ],
      "metadata": {
        "id": "F2e-Bzw7QlFe"
      },
      "execution_count": 5,
      "outputs": []
    },
    {
      "cell_type": "code",
      "source": [
        "myList =[1, None, 1, 2, None] \n",
        "print(replaceNone(myList))"
      ],
      "metadata": {
        "colab": {
          "base_uri": "https://localhost:8080/"
        },
        "id": "3NspAi6NQD4Z",
        "outputId": "b76bd5ec-0aeb-4066-92b3-c1a7b3acc2ac"
      },
      "execution_count": 7,
      "outputs": [
        {
          "output_type": "stream",
          "name": "stdout",
          "text": [
            "[1, 1, 1, 2, 2]\n"
          ]
        }
      ]
    }
  ]
}