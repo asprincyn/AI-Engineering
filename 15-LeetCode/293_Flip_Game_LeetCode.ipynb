{
  "nbformat": 4,
  "nbformat_minor": 0,
  "metadata": {
    "colab": {
      "name": "293 Flip Game LeetCode.ipynb",
      "provenance": [],
      "collapsed_sections": [],
      "authorship_tag": "ABX9TyNAvLntNAlbjHWrDpto402D",
      "include_colab_link": true
    },
    "kernelspec": {
      "name": "python3",
      "display_name": "Python 3"
    },
    "language_info": {
      "name": "python"
    }
  },
  "cells": [
    {
      "cell_type": "markdown",
      "metadata": {
        "id": "view-in-github",
        "colab_type": "text"
      },
      "source": [
        "<a href=\"https://colab.research.google.com/github/plthiyagu/AI-Engineering/blob/master/15-LeetCode/293_Flip_Game_LeetCode.ipynb\" target=\"_parent\"><img src=\"https://colab.research.google.com/assets/colab-badge.svg\" alt=\"Open In Colab\"/></a>"
      ]
    },
    {
      "cell_type": "code",
      "execution_count": 1,
      "metadata": {
        "id": "Zs9cSEjOMgD6"
      },
      "outputs": [],
      "source": [
        "from typing import List\n",
        "class Solution:\n",
        "    def generatePossibleNextMoves(self, currentState: str) -> List[str]:\n",
        "        results =[]\n",
        "        for i in range(0, len(currentState)-1):\n",
        "            sub = currentState[i:i+2]            \n",
        "\n",
        "            if sub == \"++\":\n",
        "                flip = currentState[:i] + \"--\" + currentState[i+2:]\n",
        "                results.append(flip)\n",
        "        return results"
      ]
    },
    {
      "cell_type": "code",
      "source": [
        "sol = Solution()\n",
        "currentState = \"++++\"\n",
        "sol.generatePossibleNextMoves(currentState)"
      ],
      "metadata": {
        "colab": {
          "base_uri": "https://localhost:8080/"
        },
        "id": "BH4RfHVLMkwr",
        "outputId": "d5477e2c-b24e-40b5-a78f-756235fdf763"
      },
      "execution_count": 2,
      "outputs": [
        {
          "output_type": "execute_result",
          "data": {
            "text/plain": [
              "['--++', '+--+', '++--']"
            ]
          },
          "metadata": {},
          "execution_count": 2
        }
      ]
    },
    {
      "cell_type": "code",
      "source": [
        ""
      ],
      "metadata": {
        "id": "VG-3LAWPMrbS"
      },
      "execution_count": null,
      "outputs": []
    }
  ]
}