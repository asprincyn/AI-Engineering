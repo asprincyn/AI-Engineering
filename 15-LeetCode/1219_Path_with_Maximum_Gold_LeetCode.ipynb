{
  "nbformat": 4,
  "nbformat_minor": 0,
  "metadata": {
    "colab": {
      "name": "1219 Path with Maximum Gold LeetCode.ipynb",
      "provenance": [],
      "authorship_tag": "ABX9TyOO6cJ2sDJt08ROhYNVLdvZ",
      "include_colab_link": true
    },
    "kernelspec": {
      "name": "python3",
      "display_name": "Python 3"
    },
    "language_info": {
      "name": "python"
    }
  },
  "cells": [
    {
      "cell_type": "markdown",
      "metadata": {
        "id": "view-in-github",
        "colab_type": "text"
      },
      "source": [
        "<a href=\"https://colab.research.google.com/github/plthiyagu/AI-Engineering/blob/master/15-LeetCode/1219_Path_with_Maximum_Gold_LeetCode.ipynb\" target=\"_parent\"><img src=\"https://colab.research.google.com/assets/colab-badge.svg\" alt=\"Open In Colab\"/></a>"
      ]
    },
    {
      "cell_type": "code",
      "metadata": {
        "id": "iZPBSxRXyAuF"
      },
      "source": [
        "from typing import List\n",
        "def getMaximumGold(grid: List[List[int]]) -> int:\n",
        "    m = len(grid)\n",
        "    n = len(grid[0])\n",
        "\n",
        "    def countGold(gold, i, j):\n",
        "        used.add((i, j))\n",
        "        dp[i][j] = max(dp[i][j], gold)\n",
        "        for x, y in (i - 1, j), (i + 1, j), (i, j - 1), (i, j + 1):\n",
        "            if 0 <= x < m and 0 <= y < n and grid[x][y] and (x, y) not in used:\n",
        "                countGold(gold + grid[x][y], x, y)\n",
        "        used.discard((i, j))\n",
        "\n",
        "    dp = [[0] * n for _ in range(m)]\n",
        "    for i in range(m):\n",
        "        for j in range(n):\n",
        "            used = set()\n",
        "            if grid[i][j]:\n",
        "                countGold(grid[i][j], i, j)\n",
        "    return max(c for row in dp for c in row)\n"
      ],
      "execution_count": 3,
      "outputs": []
    },
    {
      "cell_type": "code",
      "metadata": {
        "colab": {
          "base_uri": "https://localhost:8080/"
        },
        "id": "Oc0pPNoNBhYR",
        "outputId": "810607e6-7646-42c0-9604-a61fe9a634e0"
      },
      "source": [
        "grid = [[0,6,0],[5,8,7],[0,9,0]]\n",
        "getMaximumGold(grid)"
      ],
      "execution_count": 4,
      "outputs": [
        {
          "output_type": "execute_result",
          "data": {
            "text/plain": [
              "24"
            ]
          },
          "metadata": {},
          "execution_count": 4
        }
      ]
    },
    {
      "cell_type": "code",
      "metadata": {
        "id": "wo7oEBuABlXM"
      },
      "source": [
        ""
      ],
      "execution_count": null,
      "outputs": []
    },
    {
      "cell_type": "code",
      "metadata": {
        "id": "yrK7FzdByEAd"
      },
      "source": [
        ""
      ],
      "execution_count": null,
      "outputs": []
    }
  ]
}