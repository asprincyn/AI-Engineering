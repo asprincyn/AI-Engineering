{
  "nbformat": 4,
  "nbformat_minor": 0,
  "metadata": {
    "colab": {
      "name": "896 Monotonic Array LeetCode.ipynb",
      "provenance": [],
      "authorship_tag": "ABX9TyMhoGum7HFu6BAzZRr9k1AK",
      "include_colab_link": true
    },
    "kernelspec": {
      "name": "python3",
      "display_name": "Python 3"
    },
    "language_info": {
      "name": "python"
    }
  },
  "cells": [
    {
      "cell_type": "markdown",
      "metadata": {
        "id": "view-in-github",
        "colab_type": "text"
      },
      "source": [
        "<a href=\"https://colab.research.google.com/github/plthiyagu/AI-Engineering/blob/master/15-LeetCode/896_Monotonic_Array_LeetCode.ipynb\" target=\"_parent\"><img src=\"https://colab.research.google.com/assets/colab-badge.svg\" alt=\"Open In Colab\"/></a>"
      ]
    },
    {
      "cell_type": "code",
      "execution_count": 2,
      "metadata": {
        "id": "3_ssCsZj3dGy"
      },
      "outputs": [],
      "source": [
        "from typing import List\n",
        "class Solution:\n",
        "    def isMonotonic(self, nums: List[int]) -> bool:\n",
        "        return (all(nums[i] <= nums[i+1] for i in range(len(nums) - 1)) or\n",
        "                all(nums[i] >= nums[i+1] for i in range(len(nums) - 1)))"
      ]
    },
    {
      "cell_type": "code",
      "source": [
        "def isMonotonicnew(nums):\n",
        "  increase=True\n",
        "  decrease = True\n",
        "\n",
        "  for i in range( len(nums)-1):\n",
        "    if nums[i] >nums [i+1]:\n",
        "      increase = False\n",
        "\n",
        "    if nums[i] <nums [i+1]:\n",
        "      decrease = False\n",
        "\n",
        "  return decrease or increase"
      ],
      "metadata": {
        "id": "PMlGJZ9O3nmN"
      },
      "execution_count": 5,
      "outputs": []
    },
    {
      "cell_type": "code",
      "source": [
        "nums = [1,2,2,3]\n",
        "\n",
        "isMonotonicnew(nums)"
      ],
      "metadata": {
        "colab": {
          "base_uri": "https://localhost:8080/"
        },
        "id": "Zrym5FLj4HuA",
        "outputId": "1bf87dcf-db75-42ec-d247-fb3d1b783c2f"
      },
      "execution_count": 6,
      "outputs": [
        {
          "output_type": "execute_result",
          "data": {
            "text/plain": [
              "True"
            ]
          },
          "metadata": {},
          "execution_count": 6
        }
      ]
    },
    {
      "cell_type": "code",
      "source": [
        ""
      ],
      "metadata": {
        "id": "TIQZ4OS54MZw"
      },
      "execution_count": null,
      "outputs": []
    },
    {
      "cell_type": "code",
      "source": [
        ""
      ],
      "metadata": {
        "id": "ElMpzr8C3eN7"
      },
      "execution_count": null,
      "outputs": []
    }
  ]
}