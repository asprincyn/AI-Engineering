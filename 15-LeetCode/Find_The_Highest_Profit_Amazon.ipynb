{
  "nbformat": 4,
  "nbformat_minor": 0,
  "metadata": {
    "colab": {
      "name": "Find The Highest Profit Amazon.ipynb",
      "provenance": [],
      "authorship_tag": "ABX9TyNBKSIFkgqfyz+3YA2klMQc",
      "include_colab_link": true
    },
    "kernelspec": {
      "name": "python3",
      "display_name": "Python 3"
    },
    "language_info": {
      "name": "python"
    }
  },
  "cells": [
    {
      "cell_type": "markdown",
      "metadata": {
        "id": "view-in-github",
        "colab_type": "text"
      },
      "source": [
        "<a href=\"https://colab.research.google.com/github/plthiyagu/AI-Engineering/blob/master/15-LeetCode/Find_The_Highest_Profit_Amazon.ipynb\" target=\"_parent\"><img src=\"https://colab.research.google.com/assets/colab-badge.svg\" alt=\"Open In Colab\"/></a>"
      ]
    },
    {
      "cell_type": "code",
      "execution_count": 1,
      "metadata": {
        "id": "tM46w84cRE5k"
      },
      "outputs": [],
      "source": [
        "import heapq\n",
        "\n",
        "def highestProfit(numSuppliers, inventory, order):\n",
        "    maxheap, profit = [], 0\n",
        "    \n",
        "    for item in inventory:\n",
        "        heapq.heappush(maxheap, -item)\n",
        "    while order:\n",
        "        cherry = heapq.heappop(maxheap)\n",
        "        profit -= cherry\n",
        "        heapq.heappush(maxheap, cherry + 1)\n",
        "        order -= 1\n",
        "    \n",
        "    return profit"
      ]
    },
    {
      "cell_type": "code",
      "source": [
        "inventories = [4, 6] \n",
        "order = 4\n",
        "numSuppliers=10"
      ],
      "metadata": {
        "id": "ADU8YQ3RRFy1"
      },
      "execution_count": 3,
      "outputs": []
    },
    {
      "cell_type": "code",
      "source": [
        "highestProfit(numSuppliers, inventories, order)"
      ],
      "metadata": {
        "colab": {
          "base_uri": "https://localhost:8080/"
        },
        "id": "6SSkFUX0RMq2",
        "outputId": "5a090c0e-6c0d-401d-9f6c-467ef060e1ee"
      },
      "execution_count": 4,
      "outputs": [
        {
          "output_type": "execute_result",
          "data": {
            "text/plain": [
              "19"
            ]
          },
          "metadata": {},
          "execution_count": 4
        }
      ]
    },
    {
      "cell_type": "code",
      "source": [
        "from collections import Counter\n",
        "\n",
        "def seq_sum(start, stop):\n",
        "    return (start + stop - 1) * (stop - start) // 2\n",
        "\n",
        "def highestProfit(numSuppliers, inventory, order):\n",
        "\n",
        "    count = sorted(Counter(inventory).items(), reverse=True)\n",
        "    suppliers = 0\n",
        "    profit = 0\n",
        "    left = order\n",
        "    \n",
        "    for i, (stock, extra) in enumerate(count):\n",
        "        next_stock = count[i + 1][0] if i < len(count) - 1 else 0\n",
        "        suppliers += extra\n",
        "        supply = suppliers * (stock - next_stock)\n",
        "        full, part = divmod(min(left, supply), suppliers)\n",
        "        profit += suppliers * seq_sum(stock - full + 1, stock + 1) \\\n",
        "            + part * (stock - full)\n",
        "        left -= supply\n",
        "        if left <= 0:\n",
        "            break\n",
        "        \n",
        "    return profit"
      ],
      "metadata": {
        "id": "HXCDDSZSRayF"
      },
      "execution_count": null,
      "outputs": []
    }
  ]
}