{
  "nbformat": 4,
  "nbformat_minor": 0,
  "metadata": {
    "colab": {
      "name": "228 Summary Ranges LeetCode.ipynb",
      "provenance": [],
      "collapsed_sections": [],
      "authorship_tag": "ABX9TyN9v1Waf3/YsGM1W09q3B+e",
      "include_colab_link": true
    },
    "kernelspec": {
      "name": "python3",
      "display_name": "Python 3"
    },
    "language_info": {
      "name": "python"
    }
  },
  "cells": [
    {
      "cell_type": "markdown",
      "metadata": {
        "id": "view-in-github",
        "colab_type": "text"
      },
      "source": [
        "<a href=\"https://colab.research.google.com/github/plthiyagu/AI-Engineering/blob/master/15-LeetCode/228_Summary_Ranges_LeetCode.ipynb\" target=\"_parent\"><img src=\"https://colab.research.google.com/assets/colab-badge.svg\" alt=\"Open In Colab\"/></a>"
      ]
    },
    {
      "cell_type": "code",
      "execution_count": 2,
      "metadata": {
        "id": "9xKixAKaXUcl"
      },
      "outputs": [],
      "source": [
        "from typing import List\n",
        "class Solution:\n",
        "    def summaryRanges(self, nums: List[int]) -> List[str]:\n",
        "        l= len(nums)\n",
        "        if l ==0:\n",
        "            return []\n",
        "        nums.append(float('inf'))\n",
        "        res, start = [], 0\n",
        "        for i in range(l):\n",
        "            if nums[i+1] != nums[i] +1:\n",
        "                res.append(str(nums[i]) if i == start else \"%s->%s\" % (nums[start], nums[i]))\n",
        "                start = i +1\n",
        "        return res "
      ]
    },
    {
      "cell_type": "code",
      "source": [
        "nums=[0,1,2,4,5,7]\n",
        "sol = Solution()\n",
        "sol.summaryRanges(nums)"
      ],
      "metadata": {
        "colab": {
          "base_uri": "https://localhost:8080/"
        },
        "id": "aQp1zYBSXVd6",
        "outputId": "9c9a9ee9-3fea-465b-8cc6-e6ce792d1bc1"
      },
      "execution_count": 3,
      "outputs": [
        {
          "output_type": "execute_result",
          "data": {
            "text/plain": [
              "['0->2', '4->5', '7']"
            ]
          },
          "metadata": {},
          "execution_count": 3
        }
      ]
    },
    {
      "cell_type": "code",
      "source": [
        ""
      ],
      "metadata": {
        "id": "7bzNTqaBXnTy"
      },
      "execution_count": null,
      "outputs": []
    }
  ]
}