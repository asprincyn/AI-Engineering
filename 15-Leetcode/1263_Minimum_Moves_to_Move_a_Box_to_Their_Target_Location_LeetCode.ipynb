{
  "nbformat": 4,
  "nbformat_minor": 0,
  "metadata": {
    "colab": {
      "name": "1263 Minimum Moves to Move a Box to Their Target Location LeetCode.ipynb",
      "provenance": [],
      "collapsed_sections": [],
      "authorship_tag": "ABX9TyOPRth/ogiqVGJ+wckV8ATw",
      "include_colab_link": true
    },
    "kernelspec": {
      "name": "python3",
      "display_name": "Python 3"
    },
    "language_info": {
      "name": "python"
    }
  },
  "cells": [
    {
      "cell_type": "markdown",
      "metadata": {
        "id": "view-in-github",
        "colab_type": "text"
      },
      "source": [
        "<a href=\"https://colab.research.google.com/github/plthiyagu/AI-Engineering/blob/master/15-Leetcode/1263_Minimum_Moves_to_Move_a_Box_to_Their_Target_Location_LeetCode.ipynb\" target=\"_parent\"><img src=\"https://colab.research.google.com/assets/colab-badge.svg\" alt=\"Open In Colab\"/></a>"
      ]
    },
    {
      "cell_type": "code",
      "execution_count": 3,
      "metadata": {
        "id": "wIy7zDrLb2eH"
      },
      "outputs": [],
      "source": [
        "from typing import List\n",
        "from collections import deque\n",
        "class Solution:\n",
        "    def minPushBox(self, grid: List[List[str]]) -> int:\n",
        "         # find person, target, box\n",
        "        for i in range(len(grid)):\n",
        "            for j in range(len(grid[0])):\n",
        "                if grid[i][j] == 'S':\n",
        "                    person = (i,j)\n",
        "                if grid[i][j] == 'T':\n",
        "                    target = (i,j)\n",
        "                if grid[i][j] == 'B':\n",
        "                    box = (i,j)\n",
        "        # \n",
        "        def valid(i, j):\n",
        "            return 0 <= i < len(grid) and 0 <= j < len(grid[0]) and grid[i][j] != '#'\n",
        "        \n",
        "        def check(cur, dest, box):\n",
        "            q = deque([cur])\n",
        "            v = set()\n",
        "            while q:\n",
        "                pos = q.popleft()\n",
        "                if pos == dest:\n",
        "                    return True\n",
        "                newPos = [(pos[0]+1, pos[1]), (pos[0]-1, pos[1]), (pos[0], pos[1]+1), (pos[0], pos[1]-1)]\n",
        "                for x, y in newPos:\n",
        "                    if valid(x, y) and (x,y) not in v and (x,y) != box:\n",
        "                        v.add((x,y))\n",
        "                        q.append((x,y))\n",
        "            return False\n",
        "        \n",
        "        # since we need to know the distance to walk, tuple contains dis\n",
        "        q = deque([(0, box, person)])\n",
        "        visited = {box+person}\n",
        "        \n",
        "        while q:\n",
        "            dis, box, person = q.popleft()\n",
        "            if box == target:\n",
        "                return dis\n",
        "            \n",
        "            b_coord = [(box[0]+1, box[1]),(box[0]-1, box[1]),(box[0], box[1]+1),(box[0], box[1]-1)]\n",
        "            p_coord = [(box[0]-1, box[1]),(box[0]+1, box[1]),(box[0], box[1]-1),(box[0], box[1]+1)]\n",
        "            for newBox, newPerson in zip(b_coord, p_coord):\n",
        "                if valid(*newBox) and newBox+box not in visited:\n",
        "                    if valid(*newPerson) and check(person, newPerson, box):\n",
        "                        visited.add(newBox+box)\n",
        "                        q.append((dis+1, newBox, box))\n",
        "        return -1\n",
        "        "
      ]
    },
    {
      "cell_type": "code",
      "source": [
        "grid = [[\"#\",\"#\",\"#\",\"#\",\"#\",\"#\"],\n",
        "               [\"#\",\"T\",\"#\",\"#\",\"#\",\"#\"],\n",
        "               [\"#\",\".\",\".\",\"B\",\".\",\"#\"],\n",
        "               [\"#\",\".\",\"#\",\"#\",\".\",\"#\"],\n",
        "               [\"#\",\".\",\".\",\".\",\"S\",\"#\"],\n",
        "               [\"#\",\"#\",\"#\",\"#\",\"#\",\"#\"]]\n",
        "sol= Solution()\n",
        "sol.minPushBox(grid)"
      ],
      "metadata": {
        "colab": {
          "base_uri": "https://localhost:8080/"
        },
        "id": "NXpH1nYQb3UO",
        "outputId": "b5b7c22f-fcc4-4fbd-e242-4df03e813899"
      },
      "execution_count": 4,
      "outputs": [
        {
          "output_type": "execute_result",
          "data": {
            "text/plain": [
              "3"
            ]
          },
          "metadata": {},
          "execution_count": 4
        }
      ]
    },
    {
      "cell_type": "code",
      "source": [
        ""
      ],
      "metadata": {
        "id": "mNsq9wTycIJW"
      },
      "execution_count": null,
      "outputs": []
    }
  ]
}