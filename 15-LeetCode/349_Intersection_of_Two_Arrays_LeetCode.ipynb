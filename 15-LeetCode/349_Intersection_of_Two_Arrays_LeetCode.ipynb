{
  "nbformat": 4,
  "nbformat_minor": 0,
  "metadata": {
    "colab": {
      "name": "349 Intersection of Two Arrays LeetCode.ipynb",
      "provenance": [],
      "authorship_tag": "ABX9TyNfR5IP7pKHK0GFeXwLonhl",
      "include_colab_link": true
    },
    "kernelspec": {
      "name": "python3",
      "display_name": "Python 3"
    },
    "language_info": {
      "name": "python"
    }
  },
  "cells": [
    {
      "cell_type": "markdown",
      "metadata": {
        "id": "view-in-github",
        "colab_type": "text"
      },
      "source": [
        "<a href=\"https://colab.research.google.com/github/plthiyagu/AI-Engineering/blob/master/15-LeetCode/349_Intersection_of_Two_Arrays_LeetCode.ipynb\" target=\"_parent\"><img src=\"https://colab.research.google.com/assets/colab-badge.svg\" alt=\"Open In Colab\"/></a>"
      ]
    },
    {
      "cell_type": "code",
      "execution_count": 1,
      "metadata": {
        "id": "XbWtRbewJX2H"
      },
      "outputs": [],
      "source": [
        "class Solution:\n",
        "    def set_intersection(self, set1, set2):\n",
        "        return [x for x in set1 if x in set2]\n",
        "        \n",
        "    def intersection(self, nums1, nums2):\n",
        "        \"\"\"\n",
        "        :type nums1: List[int]\n",
        "        :type nums2: List[int]\n",
        "        :rtype: List[int]\n",
        "        \"\"\"  \n",
        "        set1 = set(nums1)\n",
        "        set2 = set(nums2)\n",
        "        \n",
        "        if len(set1) < len(set2):\n",
        "            return self.set_intersection(set1, set2)\n",
        "        else:\n",
        "            return self.set_intersection(set2, set1)"
      ]
    },
    {
      "cell_type": "code",
      "source": [
        "sol = Solution()\n",
        "nums1 = [1,2,2,1]\n",
        "nums2 = [2,2]\n",
        "sol.set_intersection(nums1,nums2)"
      ],
      "metadata": {
        "colab": {
          "base_uri": "https://localhost:8080/"
        },
        "id": "kbU5y9ezJlXJ",
        "outputId": "7e64ab27-4c04-410a-f0e9-e15363d83112"
      },
      "execution_count": 2,
      "outputs": [
        {
          "output_type": "execute_result",
          "data": {
            "text/plain": [
              "[2, 2]"
            ]
          },
          "metadata": {},
          "execution_count": 2
        }
      ]
    },
    {
      "cell_type": "code",
      "source": [
        "class Solution:\n",
        "    def intersection(self, nums1, nums2):\n",
        "        return list(set(nums1) & set(nums2))"
      ],
      "metadata": {
        "id": "aBpYuQFEJxFP"
      },
      "execution_count": 3,
      "outputs": []
    },
    {
      "cell_type": "code",
      "source": [
        "sol = Solution()\n",
        "nums1 = [1,2,2,1]\n",
        "nums2 = [2,2]\n",
        "sol.intersection(nums1,nums2)"
      ],
      "metadata": {
        "colab": {
          "base_uri": "https://localhost:8080/"
        },
        "id": "7eZSpfmyJcsc",
        "outputId": "cce80962-088c-433d-cd40-66eab10ff0af"
      },
      "execution_count": 5,
      "outputs": [
        {
          "output_type": "execute_result",
          "data": {
            "text/plain": [
              "[2]"
            ]
          },
          "metadata": {},
          "execution_count": 5
        }
      ]
    },
    {
      "cell_type": "code",
      "source": [
        ""
      ],
      "metadata": {
        "id": "r0MCxNisJ2yF"
      },
      "execution_count": null,
      "outputs": []
    }
  ]
}