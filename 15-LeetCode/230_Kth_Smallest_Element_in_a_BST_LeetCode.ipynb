{
  "nbformat": 4,
  "nbformat_minor": 0,
  "metadata": {
    "colab": {
      "name": "230 Kth Smallest Element in a BST LeetCode.ipynb",
      "provenance": [],
      "authorship_tag": "ABX9TyNPt3xPOq8FXzsEtYVcVa87",
      "include_colab_link": true
    },
    "kernelspec": {
      "name": "python3",
      "display_name": "Python 3"
    },
    "language_info": {
      "name": "python"
    }
  },
  "cells": [
    {
      "cell_type": "markdown",
      "metadata": {
        "id": "view-in-github",
        "colab_type": "text"
      },
      "source": [
        "<a href=\"https://colab.research.google.com/github/plthiyagu/AI-Engineering/blob/master/15-LeetCode/230_Kth_Smallest_Element_in_a_BST_LeetCode.ipynb\" target=\"_parent\"><img src=\"https://colab.research.google.com/assets/colab-badge.svg\" alt=\"Open In Colab\"/></a>"
      ]
    },
    {
      "cell_type": "code",
      "execution_count": null,
      "metadata": {
        "id": "kW6h3YeIKC2h"
      },
      "outputs": [],
      "source": [
        "# Definition for a binary tree node.\n",
        "# class TreeNode:\n",
        "#     def __init__(self, val=0, left=None, right=None):\n",
        "#         self.val = val\n",
        "#         self.left = left\n",
        "#         self.right = right\n",
        "class Solution:\n",
        "    def kthSmallest(self, root: Optional[TreeNode], k: int) -> int:\n",
        "        def inorder(root):\n",
        "            if not root:\n",
        "                return\n",
        "            res = inorder(root.left)\n",
        "            if res is not None:\n",
        "                return res\n",
        "            self.k -= 1\n",
        "            if self.k == 0:\n",
        "                return root.val\n",
        "            else:\n",
        "                return inorder(root.right)\n",
        "            \n",
        "        self.k = k\n",
        "        return inorder(root)\n",
        "        "
      ]
    }
  ]
}