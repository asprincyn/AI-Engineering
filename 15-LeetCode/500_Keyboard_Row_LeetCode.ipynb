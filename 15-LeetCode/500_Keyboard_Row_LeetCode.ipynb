{
  "nbformat": 4,
  "nbformat_minor": 0,
  "metadata": {
    "colab": {
      "name": "500 Keyboard Row LeetCode.ipynb",
      "provenance": [],
      "authorship_tag": "ABX9TyMohCHNlZufcm2EE4C4DIXk",
      "include_colab_link": true
    },
    "kernelspec": {
      "name": "python3",
      "display_name": "Python 3"
    },
    "language_info": {
      "name": "python"
    }
  },
  "cells": [
    {
      "cell_type": "markdown",
      "metadata": {
        "id": "view-in-github",
        "colab_type": "text"
      },
      "source": [
        "<a href=\"https://colab.research.google.com/github/plthiyagu/AI-Engineering/blob/master/15-LeetCode/500_Keyboard_Row_LeetCode.ipynb\" target=\"_parent\"><img src=\"https://colab.research.google.com/assets/colab-badge.svg\" alt=\"Open In Colab\"/></a>"
      ]
    },
    {
      "cell_type": "code",
      "execution_count": 2,
      "metadata": {
        "id": "RPSu14wkTlQ8"
      },
      "outputs": [],
      "source": [
        "from typing import  List\n",
        "class Solution:\n",
        "    def findWords(self, words: List[str]) -> List[str]:\n",
        "        ans=[]\n",
        "        set1=set(\"qwertyuiop\")\n",
        "        set2=set(\"asdfghjkl\")\n",
        "        set3=set(\"zxcvbnm\")\n",
        "        for i in words:\n",
        "            if set(i.lower()) <= set1:\n",
        "                ans.append(i)\n",
        "            elif set(i.lower()) <= set2:\n",
        "                ans.append(i)\n",
        "            elif set(i.lower()) <= set3:\n",
        "                ans.append(i)\n",
        "        return ans"
      ]
    },
    {
      "cell_type": "code",
      "source": [
        "words = [\"Hello\",\"Alaska\",\"Dad\",\"Peace\"]\n",
        "sol = Solution()\n",
        "sol.findWords(words)"
      ],
      "metadata": {
        "colab": {
          "base_uri": "https://localhost:8080/"
        },
        "id": "xAkYSlX9TmYT",
        "outputId": "3e203e39-a0cc-452e-ef89-964857d86e30"
      },
      "execution_count": 3,
      "outputs": [
        {
          "output_type": "execute_result",
          "data": {
            "text/plain": [
              "['Alaska', 'Dad']"
            ]
          },
          "metadata": {},
          "execution_count": 3
        }
      ]
    },
    {
      "cell_type": "code",
      "source": [
        ""
      ],
      "metadata": {
        "id": "SHf4CrR4T2jt"
      },
      "execution_count": null,
      "outputs": []
    }
  ]
}