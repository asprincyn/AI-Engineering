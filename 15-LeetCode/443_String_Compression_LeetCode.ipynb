{
  "nbformat": 4,
  "nbformat_minor": 0,
  "metadata": {
    "colab": {
      "name": "443 String Compression LeetCode.ipynb",
      "provenance": [],
      "authorship_tag": "ABX9TyN1PmoWSwHokrbN/0HZOGVO",
      "include_colab_link": true
    },
    "kernelspec": {
      "name": "python3",
      "display_name": "Python 3"
    },
    "language_info": {
      "name": "python"
    }
  },
  "cells": [
    {
      "cell_type": "markdown",
      "metadata": {
        "id": "view-in-github",
        "colab_type": "text"
      },
      "source": [
        "<a href=\"https://colab.research.google.com/github/plthiyagu/AI-Engineering/blob/master/15-LeetCode/443_String_Compression_LeetCode.ipynb\" target=\"_parent\"><img src=\"https://colab.research.google.com/assets/colab-badge.svg\" alt=\"Open In Colab\"/></a>"
      ]
    },
    {
      "cell_type": "code",
      "execution_count": 2,
      "metadata": {
        "id": "UVrkAB9xOrWR"
      },
      "outputs": [],
      "source": [
        "\n",
        "from typing import List\n",
        "class Solution:\n",
        "    def compress(self, chars: List[str]) -> int:\n",
        "        i=0\n",
        "        while i < len(chars):\n",
        "            count =0\n",
        "            for char in chars[i:]:\n",
        "                if char !=chars[i]:\n",
        "                    break\n",
        "                count +=1\n",
        "            if count !=1:\n",
        "                list_appending = list(str(count))\n",
        "                chars[i+1:i+count] = list_appending\n",
        "                i += 1 + len(list_appending)  \n",
        "            else:\n",
        "                i += 1"
      ]
    },
    {
      "cell_type": "code",
      "source": [
        "chars = [\"a\",\"a\",\"b\",\"b\",\"c\",\"c\",\"c\"]\n",
        "sol = Solution()\n",
        "sol.compress(chars)"
      ],
      "metadata": {
        "id": "qvEkHCkdOsWQ"
      },
      "execution_count": 3,
      "outputs": []
    },
    {
      "cell_type": "code",
      "source": [
        ""
      ],
      "metadata": {
        "id": "bn-YVh4VO6Un"
      },
      "execution_count": null,
      "outputs": []
    }
  ]
}