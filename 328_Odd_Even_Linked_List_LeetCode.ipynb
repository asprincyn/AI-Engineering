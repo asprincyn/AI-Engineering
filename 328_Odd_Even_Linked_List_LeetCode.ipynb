{
  "nbformat": 4,
  "nbformat_minor": 0,
  "metadata": {
    "colab": {
      "name": "328 Odd Even Linked List  LeetCode.ipynb",
      "provenance": [],
      "authorship_tag": "ABX9TyN1SrnnhPjnWTOnKLKwPfWW",
      "include_colab_link": true
    },
    "kernelspec": {
      "name": "python3",
      "display_name": "Python 3"
    },
    "language_info": {
      "name": "python"
    }
  },
  "cells": [
    {
      "cell_type": "markdown",
      "metadata": {
        "id": "view-in-github",
        "colab_type": "text"
      },
      "source": [
        "<a href=\"https://colab.research.google.com/github/plthiyagu/AI-Engineering/blob/master/328_Odd_Even_Linked_List_LeetCode.ipynb\" target=\"_parent\"><img src=\"https://colab.research.google.com/assets/colab-badge.svg\" alt=\"Open In Colab\"/></a>"
      ]
    },
    {
      "cell_type": "code",
      "execution_count": 2,
      "metadata": {
        "id": "INw-U974nfo-"
      },
      "outputs": [],
      "source": [
        "from typing import Optional\n",
        "\n",
        "# Definition for singly-linked list.\n",
        "class ListNode:\n",
        "    def __init__(self, val=0, next=None):\n",
        "        self.val = val\n",
        "        self.next = next\n",
        "class Solution:\n",
        "    def oddEvenList(self, head: Optional[ListNode]) -> Optional[ListNode]:\n",
        "        if not head:\n",
        "            return head\n",
        "        odd, even, even_head = head, head.next, head.next\n",
        "        while even and even.next:\n",
        "            odd.next = even.next\n",
        "            odd = odd.next\n",
        "            even.next = odd.next\n",
        "            even = even.next\n",
        "        odd.next = even_head\n",
        "        return head\n",
        "        "
      ]
    },
    {
      "cell_type": "code",
      "source": [
        ""
      ],
      "metadata": {
        "id": "hT5zZ1HJnmf-"
      },
      "execution_count": null,
      "outputs": []
    }
  ]
}