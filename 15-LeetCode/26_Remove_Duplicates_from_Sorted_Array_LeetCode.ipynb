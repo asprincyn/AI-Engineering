{
  "nbformat": 4,
  "nbformat_minor": 0,
  "metadata": {
    "colab": {
      "name": "26 Remove Duplicates from Sorted Array LeetCode.ipynb",
      "provenance": [],
      "collapsed_sections": [],
      "authorship_tag": "ABX9TyMZlMH9xo7mYNmjtYhrwypG",
      "include_colab_link": true
    },
    "kernelspec": {
      "name": "python3",
      "display_name": "Python 3"
    },
    "language_info": {
      "name": "python"
    }
  },
  "cells": [
    {
      "cell_type": "markdown",
      "metadata": {
        "id": "view-in-github",
        "colab_type": "text"
      },
      "source": [
        "<a href=\"https://colab.research.google.com/github/plthiyagu/AI-Engineering/blob/master/15-LeetCode/26_Remove_Duplicates_from_Sorted_Array_LeetCode.ipynb\" target=\"_parent\"><img src=\"https://colab.research.google.com/assets/colab-badge.svg\" alt=\"Open In Colab\"/></a>"
      ]
    },
    {
      "cell_type": "code",
      "execution_count": 1,
      "metadata": {
        "id": "sAJgmtg6m3KY"
      },
      "outputs": [],
      "source": [
        "class Solution(object):\n",
        "    def removeDuplicates(self, nums):\n",
        "        \"\"\"\n",
        "        :type nums: List[int]\n",
        "        :rtype: int\n",
        "        \"\"\"\n",
        "        # Length of the update array\n",
        "        count =0\n",
        "        # Loop for all the elements in the array\n",
        "        for i in range(len(nums)):\n",
        "            # If the current element is equal to the next element, we skip\n",
        "            if i < len(nums) - 2 and nums[i] == nums[i + 1]:\n",
        "                continue\n",
        "            # We will update the array in place\n",
        "            nums[count] = nums[i]\n",
        "            count += 1\n",
        "        return count"
      ]
    },
    {
      "cell_type": "code",
      "source": [
        "nums = [0,0,1,1,1,2,2,3,3,4]\n",
        "sol= Solution()\n",
        "sol.removeDuplicates(nums)"
      ],
      "metadata": {
        "colab": {
          "base_uri": "https://localhost:8080/"
        },
        "id": "3LD5qE2MnYLz",
        "outputId": "c566d2a9-1ed0-4271-c4cb-a666ff2935db"
      },
      "execution_count": 3,
      "outputs": [
        {
          "output_type": "execute_result",
          "data": {
            "text/plain": [
              "5"
            ]
          },
          "metadata": {},
          "execution_count": 3
        }
      ]
    },
    {
      "cell_type": "code",
      "source": [
        ""
      ],
      "metadata": {
        "id": "0mnc6ArNnf8p"
      },
      "execution_count": null,
      "outputs": []
    }
  ]
}