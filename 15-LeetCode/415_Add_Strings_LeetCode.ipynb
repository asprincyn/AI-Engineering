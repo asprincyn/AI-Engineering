{
  "nbformat": 4,
  "nbformat_minor": 0,
  "metadata": {
    "colab": {
      "name": "415 Add Strings LeetCode.ipynb",
      "provenance": [],
      "authorship_tag": "ABX9TyMLHjedeikTVskUDvtDjQHX",
      "include_colab_link": true
    },
    "kernelspec": {
      "name": "python3",
      "display_name": "Python 3"
    },
    "language_info": {
      "name": "python"
    }
  },
  "cells": [
    {
      "cell_type": "markdown",
      "metadata": {
        "id": "view-in-github",
        "colab_type": "text"
      },
      "source": [
        "<a href=\"https://colab.research.google.com/github/plthiyagu/AI-Engineering/blob/master/15-LeetCode/415_Add_Strings_LeetCode.ipynb\" target=\"_parent\"><img src=\"https://colab.research.google.com/assets/colab-badge.svg\" alt=\"Open In Colab\"/></a>"
      ]
    },
    {
      "cell_type": "code",
      "execution_count": 1,
      "metadata": {
        "id": "MlchshEOFL22"
      },
      "outputs": [],
      "source": [
        "class Solution:\n",
        "    def addStrings(self, num1: str, num2: str) -> str:\n",
        "        res = []\n",
        "        carry=0\n",
        "        p1 = len(num1) - 1\n",
        "        p2 = len(num2) - 1\n",
        "        while p1 >= 0 or p2 >= 0:\n",
        "            x1 = ord(num1[p1]) - ord('0') if p1 >= 0 else 0\n",
        "            x2 = ord(num2[p2]) - ord('0') if p2 >= 0 else 0\n",
        "            value = (x1 + x2 + carry) % 10\n",
        "            carry = (x1 + x2 + carry) // 10\n",
        "            res.append(value)\n",
        "            p1 -= 1\n",
        "            p2 -= 1\n",
        "        \n",
        "        if carry:\n",
        "            res.append(carry)\n",
        "        \n",
        "        return ''.join(str(x) for x in res[::-1])\n",
        "        "
      ]
    },
    {
      "cell_type": "code",
      "source": [
        "num1 = \"456\"\n",
        "num2 = \"77\"\n",
        "sol= Solution()\n",
        "sol.addStrings(num1,num2)"
      ],
      "metadata": {
        "colab": {
          "base_uri": "https://localhost:8080/",
          "height": 35
        },
        "id": "K5v8r2XNFMsd",
        "outputId": "c8bedd79-1dc4-4964-cf54-b626cdf8e8aa"
      },
      "execution_count": 2,
      "outputs": [
        {
          "output_type": "execute_result",
          "data": {
            "text/plain": [
              "'533'"
            ],
            "application/vnd.google.colaboratory.intrinsic+json": {
              "type": "string"
            }
          },
          "metadata": {},
          "execution_count": 2
        }
      ]
    },
    {
      "cell_type": "code",
      "source": [
        ""
      ],
      "metadata": {
        "id": "pKf9tCewFZVO"
      },
      "execution_count": null,
      "outputs": []
    }
  ]
}