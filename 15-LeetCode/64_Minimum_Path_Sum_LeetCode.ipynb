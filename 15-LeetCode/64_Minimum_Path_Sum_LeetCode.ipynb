{
  "nbformat": 4,
  "nbformat_minor": 0,
  "metadata": {
    "colab": {
      "name": "64 Minimum Path Sum LeetCode.ipynb",
      "provenance": [],
      "authorship_tag": "ABX9TyPresM2evbCww9AEBYW5jaU",
      "include_colab_link": true
    },
    "kernelspec": {
      "name": "python3",
      "display_name": "Python 3"
    },
    "language_info": {
      "name": "python"
    }
  },
  "cells": [
    {
      "cell_type": "markdown",
      "metadata": {
        "id": "view-in-github",
        "colab_type": "text"
      },
      "source": [
        "<a href=\"https://colab.research.google.com/github/plthiyagu/AI-Engineering/blob/master/15-LeetCode/64_Minimum_Path_Sum_LeetCode.ipynb\" target=\"_parent\"><img src=\"https://colab.research.google.com/assets/colab-badge.svg\" alt=\"Open In Colab\"/></a>"
      ]
    },
    {
      "cell_type": "code",
      "execution_count": 3,
      "metadata": {
        "id": "CYcZnD0v81iv"
      },
      "outputs": [],
      "source": [
        "from typing import List\n",
        "class Solution:\n",
        "    def minPathSum(self, grid: List[List[int]]) -> int:\n",
        "        if not grid: return\n",
        "        m, n = len(grid), len(grid[0])\n",
        "        for i in range(1,m):\n",
        "            grid[i][0] += grid[i-1][0]\n",
        "        for j in range(1,n):\n",
        "            grid[0][j] += grid[0][j-1]\n",
        "        for i in range(1,m):\n",
        "            for j in range(1,n):\n",
        "                grid[i][j]+=min(grid[i-1][j],grid[i][j-1])\n",
        "        return grid[m-1][n-1]"
      ]
    },
    {
      "cell_type": "code",
      "source": [
        "grid = [[1,3,1],[1,5,1],[4,2,1]]\n",
        "sol = Solution()\n",
        "sol.minPathSum(grid)"
      ],
      "metadata": {
        "colab": {
          "base_uri": "https://localhost:8080/"
        },
        "id": "NRBA9ama9MZK",
        "outputId": "d70f6ac4-2536-4ff9-a952-a94c1be0d641"
      },
      "execution_count": 4,
      "outputs": [
        {
          "output_type": "execute_result",
          "data": {
            "text/plain": [
              "7"
            ]
          },
          "metadata": {},
          "execution_count": 4
        }
      ]
    },
    {
      "cell_type": "code",
      "source": [
        ""
      ],
      "metadata": {
        "id": "-rYsd7rA9V7y"
      },
      "execution_count": null,
      "outputs": []
    },
    {
      "cell_type": "code",
      "source": [
        ""
      ],
      "metadata": {
        "id": "6i2pwObN83IR"
      },
      "execution_count": null,
      "outputs": []
    }
  ]
}