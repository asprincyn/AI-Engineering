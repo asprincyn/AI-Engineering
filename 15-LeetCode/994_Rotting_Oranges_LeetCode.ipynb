{
  "nbformat": 4,
  "nbformat_minor": 0,
  "metadata": {
    "colab": {
      "name": "994 Rotting Oranges  LeetCode.ipynb",
      "provenance": [],
      "authorship_tag": "ABX9TyN2dgqticO9Z00/YF6PiM3r",
      "include_colab_link": true
    },
    "kernelspec": {
      "name": "python3",
      "display_name": "Python 3"
    },
    "language_info": {
      "name": "python"
    }
  },
  "cells": [
    {
      "cell_type": "markdown",
      "metadata": {
        "id": "view-in-github",
        "colab_type": "text"
      },
      "source": [
        "<a href=\"https://colab.research.google.com/github/plthiyagu/AI-Engineering/blob/master/15-LeetCode/994_Rotting_Oranges_LeetCode.ipynb\" target=\"_parent\"><img src=\"https://colab.research.google.com/assets/colab-badge.svg\" alt=\"Open In Colab\"/></a>"
      ]
    },
    {
      "cell_type": "code",
      "execution_count": 3,
      "metadata": {
        "id": "Se0OXkhcsn-k"
      },
      "outputs": [],
      "source": [
        "from typing import List\n",
        "import collections\n",
        "class Solution:\n",
        "    def orangesRotting(self, grid: List[List[int]]) -> int:\n",
        "        row, col = len(grid), len(grid[0])\n",
        "        dirs = [(-1,0),(0,1),(1,0),(0,-1)]\n",
        "        fresh_set=set()\n",
        "        rotten = collections.deque()\n",
        "        step = 0\n",
        "        for x in range(row):\n",
        "            for y in range(col):\n",
        "                if grid[x][y]==1:\n",
        "                    fresh_set.add((x,y))\n",
        "                elif grid[x][y]==2:\n",
        "                    rotten.append([x,y,step])\n",
        "        while rotten:\n",
        "            x,y,step = rotten.popleft()\n",
        "            for dx, dy in dirs:\n",
        "                if 0<=x+dx<row and 0<=y+dy<col and grid[x+dx][y+dy] == 1:\n",
        "                    grid[x+dx][y+dy]=2\n",
        "                    fresh_set.remove((x+dx,y+dy))\n",
        "                    rotten.append([x+dx,y+dy,step+1])\n",
        "        return step if not fresh_set else -1\n",
        "        "
      ]
    },
    {
      "cell_type": "code",
      "source": [
        "grid = [[2,1,1],[0,1,1],[1,0,1]]\n",
        "sol= Solution()\n",
        "sol.orangesRotting(grid)"
      ],
      "metadata": {
        "colab": {
          "base_uri": "https://localhost:8080/"
        },
        "id": "un-WhcQPsuJ1",
        "outputId": "cb69c53b-0c7f-404f-f7e3-166bf123e6d0"
      },
      "execution_count": 4,
      "outputs": [
        {
          "output_type": "execute_result",
          "data": {
            "text/plain": [
              "-1"
            ]
          },
          "metadata": {},
          "execution_count": 4
        }
      ]
    },
    {
      "cell_type": "code",
      "source": [
        ""
      ],
      "metadata": {
        "id": "8HXxpx6Fs8fg"
      },
      "execution_count": null,
      "outputs": []
    }
  ]
}