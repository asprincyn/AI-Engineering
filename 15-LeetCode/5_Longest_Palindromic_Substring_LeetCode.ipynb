{
  "nbformat": 4,
  "nbformat_minor": 0,
  "metadata": {
    "colab": {
      "name": "5. Longest Palindromic Substring LeetCode.ipynb",
      "provenance": [],
      "authorship_tag": "ABX9TyNeb8AKH9yTpUs2uD82sq2R",
      "include_colab_link": true
    },
    "kernelspec": {
      "name": "python3",
      "display_name": "Python 3"
    },
    "language_info": {
      "name": "python"
    }
  },
  "cells": [
    {
      "cell_type": "markdown",
      "metadata": {
        "id": "view-in-github",
        "colab_type": "text"
      },
      "source": [
        "<a href=\"https://colab.research.google.com/github/plthiyagu/AI-Engineering/blob/master/15-LeetCode/5_Longest_Palindromic_Substring_LeetCode.ipynb\" target=\"_parent\"><img src=\"https://colab.research.google.com/assets/colab-badge.svg\" alt=\"Open In Colab\"/></a>"
      ]
    },
    {
      "cell_type": "code",
      "execution_count": 5,
      "metadata": {
        "id": "Rws75EhfosjX"
      },
      "outputs": [],
      "source": [
        "class Solution:\n",
        "\n",
        "  def longestPalindrome(self, s: str) -> str: \n",
        "    if not s:\n",
        "      return \"\"\n",
        "    longest =\" \"\n",
        "    for middle in range(len(s)):\n",
        "      sub = self.find_ispalindrome(s,middle,middle)\n",
        "      if len(sub) > len(longest):\n",
        "        longest = sub\n",
        "    for middle in range(len(s)):\n",
        "      sub = self.find_ispalindrome(s,middle,middle+1)\n",
        "      if len(sub) > len(longest):\n",
        "        longest = sub\n",
        "    return longest\n",
        "\n",
        "\n",
        "  def find_ispalindrome(self,string,left,right):\n",
        "    while left >= 0 and right < len(string):\n",
        "      if string[left] != string[right]:\n",
        "        break\n",
        "      left -= 1\n",
        "      right += 1\n",
        "    return string[left+1:right]\n"
      ]
    },
    {
      "cell_type": "code",
      "source": [
        "s = \"babad\"\n",
        "sol= Solution()\n",
        "sol.longestPalindrome(s)"
      ],
      "metadata": {
        "colab": {
          "base_uri": "https://localhost:8080/",
          "height": 35
        },
        "id": "0QGkSyxQr2RD",
        "outputId": "777f96bc-4158-4771-c4fd-f97e73d1f491"
      },
      "execution_count": 6,
      "outputs": [
        {
          "output_type": "execute_result",
          "data": {
            "text/plain": [
              "'bab'"
            ],
            "application/vnd.google.colaboratory.intrinsic+json": {
              "type": "string"
            }
          },
          "metadata": {},
          "execution_count": 6
        }
      ]
    },
    {
      "cell_type": "code",
      "source": [
        ""
      ],
      "metadata": {
        "id": "EhP1RELlsHKD"
      },
      "execution_count": null,
      "outputs": []
    }
  ]
}