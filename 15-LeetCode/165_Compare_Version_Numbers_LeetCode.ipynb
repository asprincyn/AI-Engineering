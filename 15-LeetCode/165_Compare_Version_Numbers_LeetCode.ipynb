{
  "nbformat": 4,
  "nbformat_minor": 0,
  "metadata": {
    "colab": {
      "name": "165 Compare Version Numbers LeetCode.ipynb",
      "provenance": [],
      "authorship_tag": "ABX9TyO+pAGXHGmAE0zPYEB5400l",
      "include_colab_link": true
    },
    "kernelspec": {
      "name": "python3",
      "display_name": "Python 3"
    },
    "language_info": {
      "name": "python"
    }
  },
  "cells": [
    {
      "cell_type": "markdown",
      "metadata": {
        "id": "view-in-github",
        "colab_type": "text"
      },
      "source": [
        "<a href=\"https://colab.research.google.com/github/plthiyagu/AI-Engineering/blob/master/15-LeetCode/165_Compare_Version_Numbers_LeetCode.ipynb\" target=\"_parent\"><img src=\"https://colab.research.google.com/assets/colab-badge.svg\" alt=\"Open In Colab\"/></a>"
      ]
    },
    {
      "cell_type": "code",
      "execution_count": 4,
      "metadata": {
        "id": "FUKFiUdvNEOm"
      },
      "outputs": [],
      "source": [
        "class Solution:\n",
        "    def compareVersion(self, version1: str, version2: str) -> int:\n",
        "      v1,v2= version1.split('.'),version2.split('.')\n",
        "      l1,l2 = len(v1),len(v2)\n",
        "      for i in range(max(l1,l2)):\n",
        "        p1 = int(v1[i]) if i <l1 else 0\n",
        "        p2 = int(v2[i]) if i <l2 else 0\n",
        "\n",
        "        if p1 >p2:\n",
        "          return 1\n",
        "        elif p1<p2:\n",
        "          return -1\n",
        "\n",
        "      return 0\n",
        "\n"
      ]
    },
    {
      "cell_type": "code",
      "source": [
        "sol= Solution()\n",
        "version1 = \"1.0\"\n",
        "version2 = \"1.0.0\"\n",
        "sol.compareVersion(version1,version2)"
      ],
      "metadata": {
        "colab": {
          "base_uri": "https://localhost:8080/"
        },
        "id": "DYtZXeb2TCB8",
        "outputId": "34dfa8fb-8f2c-476e-ca53-7b996acc7f0e"
      },
      "execution_count": 5,
      "outputs": [
        {
          "output_type": "execute_result",
          "data": {
            "text/plain": [
              "0"
            ]
          },
          "metadata": {},
          "execution_count": 5
        }
      ]
    },
    {
      "cell_type": "code",
      "source": [
        ""
      ],
      "metadata": {
        "id": "jxEu5ymhTR3D"
      },
      "execution_count": null,
      "outputs": []
    }
  ]
}