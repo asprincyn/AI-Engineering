{
  "nbformat": 4,
  "nbformat_minor": 0,
  "metadata": {
    "colab": {
      "name": "345 Reverse Vowels of a String LeetCode.ipynb",
      "provenance": [],
      "authorship_tag": "ABX9TyNo/hZP3oOU6gSfnl3BpvUL",
      "include_colab_link": true
    },
    "kernelspec": {
      "name": "python3",
      "display_name": "Python 3"
    },
    "language_info": {
      "name": "python"
    }
  },
  "cells": [
    {
      "cell_type": "markdown",
      "metadata": {
        "id": "view-in-github",
        "colab_type": "text"
      },
      "source": [
        "<a href=\"https://colab.research.google.com/github/plthiyagu/AI-Engineering/blob/master/15-LeetCode/345_Reverse_Vowels_of_a_String_LeetCode.ipynb\" target=\"_parent\"><img src=\"https://colab.research.google.com/assets/colab-badge.svg\" alt=\"Open In Colab\"/></a>"
      ]
    },
    {
      "cell_type": "code",
      "execution_count": 1,
      "metadata": {
        "id": "SmC_Q-iXeefR"
      },
      "outputs": [],
      "source": [
        "def reverseVowels(s: str) -> str:\n",
        "    res = list(s)\n",
        "    vowels = ['a', 'e', 'i', 'o', 'u']\n",
        "    i = 0; j = len(s) - 1\n",
        "    while i < j:\n",
        "        if res[i].lower() not in vowels:\n",
        "            i += 1\n",
        "        elif res[j].lower() not in vowels:      \n",
        "            j -= 1\n",
        "        else:\n",
        "            res[i],res[j] = res[j],res[i]\n",
        "            i += 1\n",
        "            j -= 1\n",
        "    return \"\".join(res)"
      ]
    },
    {
      "cell_type": "code",
      "source": [
        "s = \"hello\"\n",
        "reverseVowels(s)"
      ],
      "metadata": {
        "colab": {
          "base_uri": "https://localhost:8080/",
          "height": 35
        },
        "id": "I-bHsJF4ejjE",
        "outputId": "a289c0b0-13fb-4224-db5b-3f0f686ca0a1"
      },
      "execution_count": 2,
      "outputs": [
        {
          "output_type": "execute_result",
          "data": {
            "application/vnd.google.colaboratory.intrinsic+json": {
              "type": "string"
            },
            "text/plain": [
              "'holle'"
            ]
          },
          "metadata": {},
          "execution_count": 2
        }
      ]
    },
    {
      "cell_type": "code",
      "source": [
        ""
      ],
      "metadata": {
        "id": "MKx2df-kepHh"
      },
      "execution_count": null,
      "outputs": []
    }
  ]
}