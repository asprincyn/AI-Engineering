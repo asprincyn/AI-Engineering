{
  "nbformat": 4,
  "nbformat_minor": 0,
  "metadata": {
    "colab": {
      "name": "1668 Maximum Repeating Substring  LeetCode.ipynb",
      "provenance": [],
      "collapsed_sections": [],
      "authorship_tag": "ABX9TyMWTF3f3YtOqTZ5LzgJixoN",
      "include_colab_link": true
    },
    "kernelspec": {
      "name": "python3",
      "display_name": "Python 3"
    },
    "language_info": {
      "name": "python"
    }
  },
  "cells": [
    {
      "cell_type": "markdown",
      "metadata": {
        "id": "view-in-github",
        "colab_type": "text"
      },
      "source": [
        "<a href=\"https://colab.research.google.com/github/plthiyagu/AI-Engineering/blob/master/15-LeetCode/1668_Maximum_Repeating_Substring_LeetCode.ipynb\" target=\"_parent\"><img src=\"https://colab.research.google.com/assets/colab-badge.svg\" alt=\"Open In Colab\"/></a>"
      ]
    },
    {
      "cell_type": "code",
      "execution_count": 1,
      "metadata": {
        "id": "g16NJ1NSCcOb"
      },
      "outputs": [],
      "source": [
        "class Solution:\n",
        "    def maxRepeating(self, sequence: str, word: str) -> int:\n",
        "        result =0\n",
        "        count= len(sequence)//len(word)\n",
        "        for n in range(1,count+1):\n",
        "            if sequence.find(word *n) != -1:\n",
        "                result +=1\n",
        "            else:\n",
        "                break\n",
        "        return result\n",
        "        "
      ]
    },
    {
      "cell_type": "code",
      "source": [
        "sequence = \"ababc\"\n",
        "word = \"ab\"\n",
        "sol = Solution()\n",
        "sol.maxRepeating(sequence,word)"
      ],
      "metadata": {
        "colab": {
          "base_uri": "https://localhost:8080/"
        },
        "id": "SHsw-zjSCdHo",
        "outputId": "ff123967-b4c3-4637-b57d-38123a2b7d9a"
      },
      "execution_count": 2,
      "outputs": [
        {
          "output_type": "execute_result",
          "data": {
            "text/plain": [
              "2"
            ]
          },
          "metadata": {},
          "execution_count": 2
        }
      ]
    },
    {
      "cell_type": "code",
      "source": [
        ""
      ],
      "metadata": {
        "id": "2A5puEcOCmXS"
      },
      "execution_count": null,
      "outputs": []
    }
  ]
}