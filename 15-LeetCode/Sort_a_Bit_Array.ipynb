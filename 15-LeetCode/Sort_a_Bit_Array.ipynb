{
  "nbformat": 4,
  "nbformat_minor": 0,
  "metadata": {
    "colab": {
      "name": "Sort a Bit Array.ipynb",
      "provenance": [],
      "authorship_tag": "ABX9TyO+DJU7yXfaunyX5lH2eFtG",
      "include_colab_link": true
    },
    "kernelspec": {
      "name": "python3",
      "display_name": "Python 3"
    },
    "language_info": {
      "name": "python"
    }
  },
  "cells": [
    {
      "cell_type": "markdown",
      "metadata": {
        "id": "view-in-github",
        "colab_type": "text"
      },
      "source": [
        "<a href=\"https://colab.research.google.com/github/plthiyagu/AI-Engineering/blob/master/15-LeetCode/Sort_a_Bit_Array.ipynb\" target=\"_parent\"><img src=\"https://colab.research.google.com/assets/colab-badge.svg\" alt=\"Open In Colab\"/></a>"
      ]
    },
    {
      "cell_type": "code",
      "execution_count": 11,
      "metadata": {
        "id": "IqfQqEQwl31E"
      },
      "outputs": [],
      "source": [
        "# A Python program to sort a\n",
        "# binary array\n",
        "def sortBinaryArray(a, n):\n",
        "  j = -1\n",
        "  for i in range(n):\n",
        "   # if number is smaller\n",
        "   # than 1 then swap it\n",
        "   # with j-th number\n",
        "   if a[i] < 1:\n",
        "     j = j + 1\n",
        "     # swap\n",
        "     a[i], a[j] = a[j], a[i]\n",
        "  return a\n"
      ]
    },
    {
      "cell_type": "code",
      "source": [
        "# Driver program\n",
        "a = [1, 0, 0, 1, 0, 1, 0, 1, 1, 1, 1,\n",
        "\t\t1, 1, 0, 0, 1, 1, 0, 1, 0, 0]\n",
        "n = len(a)\n",
        "print(sortBinaryArray(a, n))\n"
      ],
      "metadata": {
        "colab": {
          "base_uri": "https://localhost:8080/"
        },
        "id": "6x_99QZUmDO1",
        "outputId": "25c5da51-c4d1-4f6c-cda9-897a3a68d4dd"
      },
      "execution_count": 12,
      "outputs": [
        {
          "output_type": "stream",
          "name": "stdout",
          "text": [
            "[0, 0, 0, 0, 0, 0, 0, 0, 0, 1, 1, 1, 1, 1, 1, 1, 1, 1, 1, 1, 1]\n"
          ]
        }
      ]
    },
    {
      "cell_type": "code",
      "source": [
        ""
      ],
      "metadata": {
        "id": "A0NFQ6TDmD0Z"
      },
      "execution_count": null,
      "outputs": []
    }
  ]
}