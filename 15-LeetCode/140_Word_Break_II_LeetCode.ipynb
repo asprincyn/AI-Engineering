{
  "nbformat": 4,
  "nbformat_minor": 0,
  "metadata": {
    "colab": {
      "name": "140 Word Break II LeetCode.ipynb",
      "provenance": [],
      "authorship_tag": "ABX9TyP29ufC55Wl7draHcMMF0su",
      "include_colab_link": true
    },
    "kernelspec": {
      "name": "python3",
      "display_name": "Python 3"
    },
    "language_info": {
      "name": "python"
    }
  },
  "cells": [
    {
      "cell_type": "markdown",
      "metadata": {
        "id": "view-in-github",
        "colab_type": "text"
      },
      "source": [
        "<a href=\"https://colab.research.google.com/github/plthiyagu/AI-Engineering/blob/master/15-LeetCode/140_Word_Break_II_LeetCode.ipynb\" target=\"_parent\"><img src=\"https://colab.research.google.com/assets/colab-badge.svg\" alt=\"Open In Colab\"/></a>"
      ]
    },
    {
      "cell_type": "code",
      "execution_count": 3,
      "metadata": {
        "id": "05QZHN3H_diQ"
      },
      "outputs": [],
      "source": [
        "from typing import List\n",
        "def wordBreak(s: str, wordDict: List[str]) -> List[str]:\n",
        "    res =[]\n",
        "    memo = dict()\n",
        "    return dfs(s,res,wordDict,memo)\n",
        "\n",
        "def dfs(s,res,wordDict,memo):\n",
        "    if s in memo: return memo[s]\n",
        "    if not s:\n",
        "        return [\"\"]\n",
        "    res =[]\n",
        "    for word in wordDict:\n",
        "        if s[:len(word)] != word : continue\n",
        "        for r in dfs(s[len(word):],res,wordDict,memo):\n",
        "            res.append(word + (\"\" if not r else  \" \" + r))\n",
        "    memo[s] = res\n",
        "    return res"
      ]
    },
    {
      "cell_type": "code",
      "source": [
        "s = \"catsanddog\"\n",
        "wordDict = [\"cat\",\"cats\",\"and\",\"sand\",\"dog\"]\n",
        "wordBreak(s,wordDict)"
      ],
      "metadata": {
        "colab": {
          "base_uri": "https://localhost:8080/"
        },
        "id": "dJxoWw5C_qp8",
        "outputId": "3438594a-0335-4843-b733-588d6b5c215b"
      },
      "execution_count": 4,
      "outputs": [
        {
          "output_type": "execute_result",
          "data": {
            "text/plain": [
              "['cat sand dog', 'cats and dog']"
            ]
          },
          "metadata": {},
          "execution_count": 4
        }
      ]
    },
    {
      "cell_type": "code",
      "source": [
        ""
      ],
      "metadata": {
        "id": "cUxroTkA_xrV"
      },
      "execution_count": null,
      "outputs": []
    },
    {
      "cell_type": "code",
      "source": [
        ""
      ],
      "metadata": {
        "id": "hFrDQYej_j-m"
      },
      "execution_count": null,
      "outputs": []
    }
  ]
}