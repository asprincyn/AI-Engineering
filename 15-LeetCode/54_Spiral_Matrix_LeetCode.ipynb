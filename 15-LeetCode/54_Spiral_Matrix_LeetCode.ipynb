{
  "nbformat": 4,
  "nbformat_minor": 0,
  "metadata": {
    "colab": {
      "name": "54 Spiral Matrix LeetCode.ipynb",
      "provenance": [],
      "authorship_tag": "ABX9TyPtr5PfKzBSxbhVcP/XCro9",
      "include_colab_link": true
    },
    "kernelspec": {
      "name": "python3",
      "display_name": "Python 3"
    },
    "language_info": {
      "name": "python"
    }
  },
  "cells": [
    {
      "cell_type": "markdown",
      "metadata": {
        "id": "view-in-github",
        "colab_type": "text"
      },
      "source": [
        "<a href=\"https://colab.research.google.com/github/plthiyagu/AI-Engineering/blob/master/15-LeetCode/54_Spiral_Matrix_LeetCode.ipynb\" target=\"_parent\"><img src=\"https://colab.research.google.com/assets/colab-badge.svg\" alt=\"Open In Colab\"/></a>"
      ]
    },
    {
      "cell_type": "code",
      "execution_count": 2,
      "metadata": {
        "id": "P6vM0PCOBQ4S"
      },
      "outputs": [],
      "source": [
        "from typing import List\n",
        "\n",
        "class Solution:\n",
        "    def spiralOrder(self, matrix: List[List[int]]) -> List[int]:\n",
        "        result = []\n",
        "        rows, columns = len(matrix), len(matrix[0])\n",
        "        up = left = 0\n",
        "        right = columns - 1\n",
        "        down = rows - 1\n",
        "\n",
        "        while len(result) < rows * columns:\n",
        "            # Traverse from left to right.\n",
        "            for col in range(left, right + 1):\n",
        "                result.append(matrix[up][col])\n",
        "\n",
        "            # Traverse downwards.\n",
        "            for row in range(up + 1, down + 1):\n",
        "                result.append(matrix[row][right])\n",
        "\n",
        "            # Make sure we are now on a different row.\n",
        "            if up != down:\n",
        "                # Traverse from right to left.\n",
        "                for col in range(right - 1, left - 1, -1):\n",
        "                    result.append(matrix[down][col])\n",
        "\n",
        "            # Make sure we are now on a different column.\n",
        "            if left != right:\n",
        "                # Traverse upwards.\n",
        "                for row in range(down - 1, up, -1):\n",
        "                    result.append(matrix[row][left])\n",
        "\n",
        "            left += 1\n",
        "            right -= 1\n",
        "            up += 1\n",
        "            down -= 1\n",
        "        return result"
      ]
    },
    {
      "cell_type": "code",
      "source": [
        "matrix = [[1,2,3],[4,5,6],[7,8,9]]\n",
        "sol=Solution()\n",
        "sol.spiralOrder(matrix)"
      ],
      "metadata": {
        "colab": {
          "base_uri": "https://localhost:8080/"
        },
        "id": "Lx7uw40bBRku",
        "outputId": "85177ad6-7341-411e-908b-e3a32806a2a8"
      },
      "execution_count": 3,
      "outputs": [
        {
          "output_type": "execute_result",
          "data": {
            "text/plain": [
              "[1, 2, 3, 6, 9, 8, 7, 4, 5]"
            ]
          },
          "metadata": {},
          "execution_count": 3
        }
      ]
    },
    {
      "cell_type": "code",
      "source": [
        ""
      ],
      "metadata": {
        "id": "BsDg33u5BwnH"
      },
      "execution_count": null,
      "outputs": []
    }
  ]
}