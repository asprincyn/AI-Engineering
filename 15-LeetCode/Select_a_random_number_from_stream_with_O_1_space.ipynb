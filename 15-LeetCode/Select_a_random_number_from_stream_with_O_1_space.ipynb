{
  "nbformat": 4,
  "nbformat_minor": 0,
  "metadata": {
    "colab": {
      "name": "Select a random number from stream with O 1 space.ipynb",
      "provenance": [],
      "authorship_tag": "ABX9TyNNlB+ISN+YLFgFT7K1u3Xn",
      "include_colab_link": true
    },
    "kernelspec": {
      "name": "python3",
      "display_name": "Python 3"
    },
    "language_info": {
      "name": "python"
    }
  },
  "cells": [
    {
      "cell_type": "markdown",
      "metadata": {
        "id": "view-in-github",
        "colab_type": "text"
      },
      "source": [
        "<a href=\"https://colab.research.google.com/github/plthiyagu/AI-Engineering/blob/master/15-LeetCode/Select_a_random_number_from_stream_with_O_1_space.ipynb\" target=\"_parent\"><img src=\"https://colab.research.google.com/assets/colab-badge.svg\" alt=\"Open In Colab\"/></a>"
      ]
    },
    {
      "cell_type": "code",
      "execution_count": 1,
      "metadata": {
        "colab": {
          "base_uri": "https://localhost:8080/"
        },
        "id": "a0JFves8HHpD",
        "outputId": "c28e7ac0-7ea8-4d94-f6cf-4825281e20dd"
      },
      "outputs": [
        {
          "output_type": "stream",
          "name": "stdout",
          "text": [
            "Random number from first 1 numbers is 1\n",
            "Random number from first 2 numbers is 2\n",
            "Random number from first 3 numbers is 3\n",
            "Random number from first 4 numbers is 4\n"
          ]
        }
      ],
      "source": [
        "# An efficient python3 program\n",
        "# to randomly select a number\n",
        "# from stream of numbers.\n",
        "import random\n",
        "\n",
        "# A function to randomly select a item\n",
        "# from stream[0], stream[1], .. stream[i-1]\n",
        "def selectRandom(x):\n",
        "\t\n",
        "\t# The resultant random number\n",
        "\tres = 0;\n",
        "\t\n",
        "\t# Count of numbers visited\n",
        "\t# so far in stream\n",
        "\tcount = 0;\n",
        "\n",
        "\t# increment count of numbers\n",
        "\t# seen so far\n",
        "\tcount += 1;\n",
        "\n",
        "\t# If this is the first element\n",
        "\t# from stream, return it\n",
        "\tif (count == 1):\n",
        "\t\tres = x;\n",
        "\telse:\n",
        "\t\t\n",
        "\t\t# Generate a random number\n",
        "\t\t# from 0 to count - 1\n",
        "\t\ti = random.randrange(count);\n",
        "\n",
        "\t\t# Replace the prev random number\n",
        "\t\t# with new number with 1/count\n",
        "\t\t# probability\n",
        "\t\tif (i == count - 1):\n",
        "\t\t\tres = x;\n",
        "\treturn res;\n",
        "\n",
        "# Driver Code\n",
        "stream = [1, 2, 3, 4];\n",
        "n = len(stream);\n",
        "\n",
        "# Use a different seed value\n",
        "# for every run.\n",
        "for i in range (n):\n",
        "\tprint(\"Random number from first\",\n",
        "\t\t(i + 1), \"numbers is\",\n",
        "\t\tselectRandom(stream[i]));\n",
        "\n",
        "# This code is contributed by mits\n"
      ]
    },
    {
      "cell_type": "code",
      "source": [
        ""
      ],
      "metadata": {
        "id": "AKcS1UWoHIhA"
      },
      "execution_count": null,
      "outputs": []
    }
  ]
}