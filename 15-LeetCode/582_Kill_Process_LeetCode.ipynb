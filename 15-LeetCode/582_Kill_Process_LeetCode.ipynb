{
  "nbformat": 4,
  "nbformat_minor": 0,
  "metadata": {
    "colab": {
      "name": "582 Kill Process LeetCode.ipynb",
      "provenance": [],
      "authorship_tag": "ABX9TyP5hNcoewND/oqq54X0c7sb",
      "include_colab_link": true
    },
    "kernelspec": {
      "name": "python3",
      "display_name": "Python 3"
    },
    "language_info": {
      "name": "python"
    }
  },
  "cells": [
    {
      "cell_type": "markdown",
      "metadata": {
        "id": "view-in-github",
        "colab_type": "text"
      },
      "source": [
        "<a href=\"https://colab.research.google.com/github/plthiyagu/AI-Engineering/blob/master/15-LeetCode/582_Kill_Process_LeetCode.ipynb\" target=\"_parent\"><img src=\"https://colab.research.google.com/assets/colab-badge.svg\" alt=\"Open In Colab\"/></a>"
      ]
    },
    {
      "cell_type": "code",
      "execution_count": 7,
      "metadata": {
        "id": "XoP-lmKjmois"
      },
      "outputs": [],
      "source": [
        "def killProcess( pid, ppid, kill):\n",
        "      \"\"\"\n",
        "      @solution: hashmap + dfs\n",
        "      @runtime:  400ms\n",
        "      @timecomplexity: O(n)\n",
        "      \"\"\"\n",
        "\n",
        "      ret = []\n",
        "      hm = dict()\n",
        "      def dfs( hm, node, ret):\n",
        "        ret.append(node)\n",
        "        if node in hm:\n",
        "          for child in hm.get(node):\n",
        "            dfs(hm, child, ret)\n",
        "\n",
        "      for i in range(len(ppid)):\n",
        "          group = hm.setdefault(ppid[i], [])\n",
        "          group.append(pid[i])\n",
        "      dfs(hm, kill, ret)\n",
        "      return ret\n",
        "\n"
      ]
    },
    {
      "cell_type": "code",
      "source": [
        "pid =  [1, 3, 10, 5]\n",
        "ppid = [3, 0, 5, 3]\n",
        "kill = 5\n",
        "killProcess( pid, ppid, kill)"
      ],
      "metadata": {
        "colab": {
          "base_uri": "https://localhost:8080/"
        },
        "id": "109D4xzCmuB3",
        "outputId": "17863fb7-c53b-4ade-99bc-a43fd926a608"
      },
      "execution_count": 8,
      "outputs": [
        {
          "output_type": "execute_result",
          "data": {
            "text/plain": [
              "[5, 10]"
            ]
          },
          "metadata": {},
          "execution_count": 8
        }
      ]
    },
    {
      "cell_type": "code",
      "source": [
        ""
      ],
      "metadata": {
        "id": "yZy3lj5EnAD6"
      },
      "execution_count": null,
      "outputs": []
    }
  ]
}