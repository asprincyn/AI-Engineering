{
  "nbformat": 4,
  "nbformat_minor": 0,
  "metadata": {
    "colab": {
      "name": "287 Find the Duplicate Number LeetCode.ipynb",
      "provenance": [],
      "authorship_tag": "ABX9TyMZdstjshFYVcgQxFGnnLWg",
      "include_colab_link": true
    },
    "kernelspec": {
      "name": "python3",
      "display_name": "Python 3"
    },
    "language_info": {
      "name": "python"
    }
  },
  "cells": [
    {
      "cell_type": "markdown",
      "metadata": {
        "id": "view-in-github",
        "colab_type": "text"
      },
      "source": [
        "<a href=\"https://colab.research.google.com/github/plthiyagu/AI-Engineering/blob/master/15-LeetCode/287_Find_the_Duplicate_Number_LeetCode.ipynb\" target=\"_parent\"><img src=\"https://colab.research.google.com/assets/colab-badge.svg\" alt=\"Open In Colab\"/></a>"
      ]
    },
    {
      "cell_type": "code",
      "execution_count": 1,
      "metadata": {
        "id": "yogZfhHHnVzb"
      },
      "outputs": [],
      "source": [
        "from typing import List\n",
        "class Solution:\n",
        "    def findDuplicate(self, nums: List[int]) -> int:\n",
        "        slow, fast = nums[0], nums[nums[0]]\n",
        "        while slow != fast:\n",
        "            slow = nums[slow]\n",
        "            fast = nums[nums[fast]]\n",
        "        slow = 0\n",
        "        while slow != fast:\n",
        "            slow = nums[slow]\n",
        "            fast = nums[fast]\n",
        "        return fast"
      ]
    },
    {
      "cell_type": "code",
      "source": [
        "sol = Solution()\n",
        "nums =[1,3,4,2,2]\n",
        "sol.findDuplicate(nums)"
      ],
      "metadata": {
        "colab": {
          "base_uri": "https://localhost:8080/"
        },
        "id": "dv44BUIynfbr",
        "outputId": "9d3f9ec3-5499-4834-fdac-db9f31b4ef03"
      },
      "execution_count": 2,
      "outputs": [
        {
          "output_type": "execute_result",
          "data": {
            "text/plain": [
              "2"
            ]
          },
          "metadata": {},
          "execution_count": 2
        }
      ]
    },
    {
      "cell_type": "code",
      "source": [
        ""
      ],
      "metadata": {
        "id": "AAp8pBpLnqs0"
      },
      "execution_count": null,
      "outputs": []
    }
  ]
}