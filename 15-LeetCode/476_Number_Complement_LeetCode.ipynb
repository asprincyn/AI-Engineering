{
  "nbformat": 4,
  "nbformat_minor": 0,
  "metadata": {
    "colab": {
      "name": "476 Number Complement LeetCode.ipynb",
      "provenance": [],
      "authorship_tag": "ABX9TyPxXK515+mwn+ItrAIzWBT5",
      "include_colab_link": true
    },
    "kernelspec": {
      "name": "python3",
      "display_name": "Python 3"
    },
    "language_info": {
      "name": "python"
    }
  },
  "cells": [
    {
      "cell_type": "markdown",
      "metadata": {
        "id": "view-in-github",
        "colab_type": "text"
      },
      "source": [
        "<a href=\"https://colab.research.google.com/github/plthiyagu/AI-Engineering/blob/master/15-LeetCode/476_Number_Complement_LeetCode.ipynb\" target=\"_parent\"><img src=\"https://colab.research.google.com/assets/colab-badge.svg\" alt=\"Open In Colab\"/></a>"
      ]
    },
    {
      "cell_type": "code",
      "execution_count": 3,
      "metadata": {
        "id": "IMBH-nyCAuz-"
      },
      "outputs": [],
      "source": [
        "def findComplement( num: int) -> int:\n",
        "    binary = bin(num)[2:]\n",
        "    \n",
        "    result = \"\"\n",
        "    for bit in binary:\n",
        "\n",
        "        if bit == \"1\":\n",
        "            result += \"0\"\n",
        "        else:\n",
        "            result += \"1\"\n",
        "\n",
        "        \n",
        "    return int(result, 2)"
      ]
    },
    {
      "cell_type": "code",
      "source": [
        "def findComplement(num: int) -> int:\n",
        "  return int(\"\".join([str(1-int(num)) for num in bin(num)[2:]]), 2)"
      ],
      "metadata": {
        "id": "OdCucBr9A8h6"
      },
      "execution_count": 2,
      "outputs": []
    },
    {
      "cell_type": "code",
      "source": [
        "num=27\n",
        "findComplement(num)"
      ],
      "metadata": {
        "colab": {
          "base_uri": "https://localhost:8080/"
        },
        "id": "jK2mCh4SAxO5",
        "outputId": "b9cc8d9b-24b1-4ed7-c00d-b0d7178d0b05"
      },
      "execution_count": 4,
      "outputs": [
        {
          "output_type": "execute_result",
          "data": {
            "text/plain": [
              "4"
            ]
          },
          "metadata": {},
          "execution_count": 4
        }
      ]
    },
    {
      "cell_type": "code",
      "source": [
        ""
      ],
      "metadata": {
        "id": "-leGUIs3BGs_"
      },
      "execution_count": null,
      "outputs": []
    }
  ]
}