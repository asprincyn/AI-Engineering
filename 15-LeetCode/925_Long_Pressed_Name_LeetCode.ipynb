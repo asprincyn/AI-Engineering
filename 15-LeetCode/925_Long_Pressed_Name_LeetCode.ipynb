{
  "nbformat": 4,
  "nbformat_minor": 0,
  "metadata": {
    "colab": {
      "name": "925 Long Pressed Name LeetCode.ipynb",
      "provenance": [],
      "authorship_tag": "ABX9TyOzHNFf4oqJvifZa7VSdDhl",
      "include_colab_link": true
    },
    "kernelspec": {
      "name": "python3",
      "display_name": "Python 3"
    },
    "language_info": {
      "name": "python"
    }
  },
  "cells": [
    {
      "cell_type": "markdown",
      "metadata": {
        "id": "view-in-github",
        "colab_type": "text"
      },
      "source": [
        "<a href=\"https://colab.research.google.com/github/plthiyagu/AI-Engineering/blob/master/15-LeetCode/925_Long_Pressed_Name_LeetCode.ipynb\" target=\"_parent\"><img src=\"https://colab.research.google.com/assets/colab-badge.svg\" alt=\"Open In Colab\"/></a>"
      ]
    },
    {
      "cell_type": "code",
      "execution_count": 1,
      "metadata": {
        "id": "XQzVufDOVA-R"
      },
      "outputs": [],
      "source": [
        "class Solution:\n",
        "    def isLongPressedName(self, name: str, typed: str) -> bool:\n",
        "        i=0\n",
        "        for j in range(len(typed)):\n",
        "            if i < len(name)  and name[i] == typed[j]:\n",
        "                i +=1\n",
        "            elif j ==0  or typed[j] != typed[j-1]:\n",
        "                return False\n",
        "        return  i == len(name)"
      ]
    },
    {
      "cell_type": "code",
      "source": [
        "sol = Solution()\n",
        "name = \"alex\"\n",
        "typed = \"aaleex\"\n",
        "sol.isLongPressedName(name,typed)"
      ],
      "metadata": {
        "colab": {
          "base_uri": "https://localhost:8080/"
        },
        "id": "0M94tSi9VCEn",
        "outputId": "2cf3aad0-b531-41a5-8c25-c3212634f351"
      },
      "execution_count": 2,
      "outputs": [
        {
          "output_type": "execute_result",
          "data": {
            "text/plain": [
              "True"
            ]
          },
          "metadata": {},
          "execution_count": 2
        }
      ]
    },
    {
      "cell_type": "code",
      "source": [
        ""
      ],
      "metadata": {
        "id": "g2nbbhbPVJoY"
      },
      "execution_count": null,
      "outputs": []
    }
  ]
}