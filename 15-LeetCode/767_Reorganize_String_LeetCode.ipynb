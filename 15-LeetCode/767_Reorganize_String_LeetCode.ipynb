{
  "nbformat": 4,
  "nbformat_minor": 0,
  "metadata": {
    "colab": {
      "name": "767 Reorganize String LeetCode.ipynb",
      "provenance": [],
      "authorship_tag": "ABX9TyPw6w3RyxHWs0rJvWjgv2NW",
      "include_colab_link": true
    },
    "kernelspec": {
      "name": "python3",
      "display_name": "Python 3"
    },
    "language_info": {
      "name": "python"
    }
  },
  "cells": [
    {
      "cell_type": "markdown",
      "metadata": {
        "id": "view-in-github",
        "colab_type": "text"
      },
      "source": [
        "<a href=\"https://colab.research.google.com/github/plthiyagu/AI-Engineering/blob/master/15-LeetCode/767_Reorganize_String_LeetCode.ipynb\" target=\"_parent\"><img src=\"https://colab.research.google.com/assets/colab-badge.svg\" alt=\"Open In Colab\"/></a>"
      ]
    },
    {
      "cell_type": "code",
      "execution_count": 6,
      "metadata": {
        "id": "8uCUFbIxK42e"
      },
      "outputs": [],
      "source": [
        "import collections \n",
        "import heapq\n",
        "class Solution:\n",
        "    def reorganizeString(self, s: str) -> str:\n",
        "        if not s: return \"\" \n",
        "        # create a counter \n",
        "        heap = []\n",
        "        for key, value in collections.Counter(s).items():\n",
        "            heapq.heappush(heap,[-value,key])\n",
        "\n",
        "        res = \"\"\n",
        "        pre = heapq.heappop(heap)\n",
        "        res+= pre[1]\n",
        "\n",
        "        while heap: \n",
        "            curr = heapq.heappop(heap)\n",
        "            res+=curr[1]\n",
        "\n",
        "            pre[0]+=1\n",
        "            if pre[0]<0:\n",
        "                heapq.heappush(heap,pre)\n",
        "            pre = curr \n",
        "\n",
        "        return \"\" if len(res)!=len(s) else res"
      ]
    },
    {
      "cell_type": "code",
      "source": [
        "sol = Solution()\n",
        "s = \"aab\"\n",
        "sol.reorganizeString(s)"
      ],
      "metadata": {
        "colab": {
          "base_uri": "https://localhost:8080/",
          "height": 35
        },
        "id": "i0vHXP1zK6Ry",
        "outputId": "a1af697c-4a4d-4635-bf01-4155ac7409b7"
      },
      "execution_count": 7,
      "outputs": [
        {
          "output_type": "execute_result",
          "data": {
            "application/vnd.google.colaboratory.intrinsic+json": {
              "type": "string"
            },
            "text/plain": [
              "'aba'"
            ]
          },
          "metadata": {},
          "execution_count": 7
        }
      ]
    },
    {
      "cell_type": "code",
      "source": [
        ""
      ],
      "metadata": {
        "id": "KeITqa6NLB6T"
      },
      "execution_count": null,
      "outputs": []
    }
  ]
}