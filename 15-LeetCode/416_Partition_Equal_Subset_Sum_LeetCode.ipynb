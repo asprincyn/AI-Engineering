{
  "nbformat": 4,
  "nbformat_minor": 0,
  "metadata": {
    "colab": {
      "name": "416 Partition Equal Subset Sum LeetCode.ipynb",
      "provenance": [],
      "authorship_tag": "ABX9TyOLELoNezMD7snrXseQMyOz",
      "include_colab_link": true
    },
    "kernelspec": {
      "name": "python3",
      "display_name": "Python 3"
    },
    "language_info": {
      "name": "python"
    }
  },
  "cells": [
    {
      "cell_type": "markdown",
      "metadata": {
        "id": "view-in-github",
        "colab_type": "text"
      },
      "source": [
        "<a href=\"https://colab.research.google.com/github/plthiyagu/AI-Engineering/blob/master/15-LeetCode/416_Partition_Equal_Subset_Sum_LeetCode.ipynb\" target=\"_parent\"><img src=\"https://colab.research.google.com/assets/colab-badge.svg\" alt=\"Open In Colab\"/></a>"
      ]
    },
    {
      "cell_type": "code",
      "execution_count": 1,
      "metadata": {
        "id": "HIuGf46zdgra"
      },
      "outputs": [],
      "source": [
        "from typing import List,Tuple"
      ]
    },
    {
      "cell_type": "code",
      "source": [
        "class Solution:\n",
        "    def canPartition(self, nums: List[int]) -> bool:\n",
        "        def dfs(nums:Tuple[int],n:int,subset_sum:int) -> bool:\n",
        "            if subset_sum ==0:\n",
        "                return True\n",
        "            if n==0 or subset_sum <0:\n",
        "                return False\n",
        "            result = (dfs(nums,n-1,subset_sum-nums[n-1])) or dfs(nums,n-1,subset_sum)\n",
        "            return result\n",
        "        \n",
        "        total_sum = sum(nums)\n",
        "        if total_sum%2 !=0:\n",
        "            return False\n",
        "        \n",
        "        subset_sum = total_sum //2\n",
        "        n= len(nums)\n",
        "        return dfs(tuple(nums),n-1,subset_sum)\n",
        "        "
      ],
      "metadata": {
        "id": "8nybpU_0dm3j"
      },
      "execution_count": 4,
      "outputs": []
    },
    {
      "cell_type": "code",
      "source": [
        "nums = [1,5,11,5]\n",
        "sol =Solution()\n",
        "sol.canPartition(nums)"
      ],
      "metadata": {
        "colab": {
          "base_uri": "https://localhost:8080/"
        },
        "id": "g1HgXbSvjls8",
        "outputId": "c533b397-df09-4a03-ca1d-4502f46c36c7"
      },
      "execution_count": 5,
      "outputs": [
        {
          "output_type": "execute_result",
          "data": {
            "text/plain": [
              "True"
            ]
          },
          "metadata": {},
          "execution_count": 5
        }
      ]
    },
    {
      "cell_type": "code",
      "source": [
        ""
      ],
      "metadata": {
        "id": "re6xvGdAjscM"
      },
      "execution_count": null,
      "outputs": []
    }
  ]
}