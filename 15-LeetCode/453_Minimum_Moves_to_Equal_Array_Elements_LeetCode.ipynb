{
  "nbformat": 4,
  "nbformat_minor": 0,
  "metadata": {
    "colab": {
      "name": "453 Minimum Moves to Equal Array Elements LeetCode.ipynb",
      "provenance": [],
      "authorship_tag": "ABX9TyN8rKd3RB/0Q+3ciODvdsnW",
      "include_colab_link": true
    },
    "kernelspec": {
      "name": "python3",
      "display_name": "Python 3"
    },
    "language_info": {
      "name": "python"
    }
  },
  "cells": [
    {
      "cell_type": "markdown",
      "metadata": {
        "id": "view-in-github",
        "colab_type": "text"
      },
      "source": [
        "<a href=\"https://colab.research.google.com/github/plthiyagu/AI-Engineering/blob/master/15-LeetCode/453_Minimum_Moves_to_Equal_Array_Elements_LeetCode.ipynb\" target=\"_parent\"><img src=\"https://colab.research.google.com/assets/colab-badge.svg\" alt=\"Open In Colab\"/></a>"
      ]
    },
    {
      "cell_type": "code",
      "execution_count": 2,
      "metadata": {
        "id": "thXaqRmD57pO"
      },
      "outputs": [],
      "source": [
        "from typing import List\n",
        "class Solution:\n",
        "    def minMoves(self, nums: List[int]) -> int:\n",
        "        return sum(nums) - len(nums) * min(nums)        "
      ]
    },
    {
      "cell_type": "code",
      "source": [
        "sol = Solution()\n",
        "nums = [1,2,3]\n",
        "sol.minMoves(nums)"
      ],
      "metadata": {
        "colab": {
          "base_uri": "https://localhost:8080/"
        },
        "id": "9G5vZWsF5_zI",
        "outputId": "ea187aba-1a9b-46ef-e7cc-90009c4dee02"
      },
      "execution_count": 3,
      "outputs": [
        {
          "output_type": "execute_result",
          "data": {
            "text/plain": [
              "3"
            ]
          },
          "metadata": {},
          "execution_count": 3
        }
      ]
    },
    {
      "cell_type": "code",
      "source": [
        ""
      ],
      "metadata": {
        "id": "Y2aa0Rv76KmT"
      },
      "execution_count": null,
      "outputs": []
    }
  ]
}