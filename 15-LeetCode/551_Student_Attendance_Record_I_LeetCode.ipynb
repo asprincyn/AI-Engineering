{
  "nbformat": 4,
  "nbformat_minor": 0,
  "metadata": {
    "colab": {
      "name": "551 Student Attendance Record I LeetCode.ipynb",
      "provenance": [],
      "authorship_tag": "ABX9TyPQxin8HJV8tYNMKGIK4nLg",
      "include_colab_link": true
    },
    "kernelspec": {
      "name": "python3",
      "display_name": "Python 3"
    },
    "language_info": {
      "name": "python"
    }
  },
  "cells": [
    {
      "cell_type": "markdown",
      "metadata": {
        "id": "view-in-github",
        "colab_type": "text"
      },
      "source": [
        "<a href=\"https://colab.research.google.com/github/plthiyagu/AI-Engineering/blob/master/15-LeetCode/551_Student_Attendance_Record_I_LeetCode.ipynb\" target=\"_parent\"><img src=\"https://colab.research.google.com/assets/colab-badge.svg\" alt=\"Open In Colab\"/></a>"
      ]
    },
    {
      "cell_type": "code",
      "execution_count": 1,
      "metadata": {
        "id": "0A4ROlCuPzmt"
      },
      "outputs": [],
      "source": [
        "class Solution:\n",
        "    def checkRecord(self, s: str) -> bool:\n",
        "        answer=True\n",
        "        a_count=0\n",
        "        \n",
        "        for i in range(len(s)):\n",
        "            if s[i]=='A':\n",
        "                a_count +=1\n",
        "                if a_count==2:\n",
        "                    answer=False\n",
        "                    break\n",
        "            elif s[i]=='L' and i+2 <len(s):\n",
        "                if s[i+1] =='L' and s[i+2]=='L':\n",
        "                    answer=False\n",
        "                    break\n",
        "        return answer\n",
        "                \n",
        "        "
      ]
    },
    {
      "cell_type": "code",
      "source": [
        "class Solution:\n",
        "    def checkRecord(self, s: str) -> bool:\n",
        "        return s.count('A')<=1 and not 'LLL' in s"
      ],
      "metadata": {
        "id": "Umk3bFWvP0qg"
      },
      "execution_count": 2,
      "outputs": []
    },
    {
      "cell_type": "code",
      "source": [
        "sol= Solution()\n",
        "s=\"PPALLP\"\n",
        "sol.checkRecord(s)"
      ],
      "metadata": {
        "colab": {
          "base_uri": "https://localhost:8080/"
        },
        "id": "dhcuS8QOQALX",
        "outputId": "7204781c-2ac1-4b08-937f-cbbf5f046a6e"
      },
      "execution_count": 4,
      "outputs": [
        {
          "output_type": "execute_result",
          "data": {
            "text/plain": [
              "True"
            ]
          },
          "metadata": {},
          "execution_count": 4
        }
      ]
    }
  ]
}