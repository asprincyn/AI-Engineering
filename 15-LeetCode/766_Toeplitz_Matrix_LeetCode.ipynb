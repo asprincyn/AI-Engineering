{
  "nbformat": 4,
  "nbformat_minor": 0,
  "metadata": {
    "colab": {
      "name": "766 Toeplitz Matrix LeetCode.ipynb",
      "provenance": [],
      "collapsed_sections": [],
      "authorship_tag": "ABX9TyO3eU7TBjGQtegC9I+2Dq6A",
      "include_colab_link": true
    },
    "kernelspec": {
      "name": "python3",
      "display_name": "Python 3"
    },
    "language_info": {
      "name": "python"
    }
  },
  "cells": [
    {
      "cell_type": "markdown",
      "metadata": {
        "id": "view-in-github",
        "colab_type": "text"
      },
      "source": [
        "<a href=\"https://colab.research.google.com/github/plthiyagu/AI-Engineering/blob/master/15-LeetCode/766_Toeplitz_Matrix_LeetCode.ipynb\" target=\"_parent\"><img src=\"https://colab.research.google.com/assets/colab-badge.svg\" alt=\"Open In Colab\"/></a>"
      ]
    },
    {
      "cell_type": "code",
      "execution_count": 1,
      "metadata": {
        "id": "xErVUeir6u1S"
      },
      "outputs": [],
      "source": [
        "class Solution(object):\n",
        "    def isToeplitzMatrix(self, matrix):\n",
        "      groups ={}\n",
        "      for r,row in enumerate(matrix):\n",
        "        for c,val in enumerate(row):\n",
        "          if r-c not in groups:\n",
        "            groups[r-c]= val\n",
        "          elif groups[r-c] != val :\n",
        "            return False\n",
        "      return True"
      ]
    },
    {
      "cell_type": "code",
      "source": [
        "from typing import List\n",
        "class Solution:\n",
        "    def isToeplitzMatrix(self, matrix: List[List[int]]) -> bool:\n",
        "         return all(r == 0 or c == 0 or matrix[r-1][c-1] == val\n",
        "                   for r, row in enumerate(matrix)\n",
        "                   for c, val in enumerate(row))"
      ],
      "metadata": {
        "id": "s4SdcSUEPdPT"
      },
      "execution_count": 2,
      "outputs": []
    },
    {
      "cell_type": "code",
      "source": [
        ""
      ],
      "metadata": {
        "id": "o2x83MmzPjGL"
      },
      "execution_count": null,
      "outputs": []
    }
  ]
}