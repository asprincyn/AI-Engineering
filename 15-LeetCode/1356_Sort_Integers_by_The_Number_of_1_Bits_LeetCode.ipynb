{
  "nbformat": 4,
  "nbformat_minor": 0,
  "metadata": {
    "colab": {
      "name": "1356 Sort Integers by The Number of 1 Bits LeetCode.ipynb",
      "provenance": [],
      "collapsed_sections": [],
      "authorship_tag": "ABX9TyMrtD0Tq7QELiO1mdrWYmvv",
      "include_colab_link": true
    },
    "kernelspec": {
      "name": "python3",
      "display_name": "Python 3"
    },
    "language_info": {
      "name": "python"
    }
  },
  "cells": [
    {
      "cell_type": "markdown",
      "metadata": {
        "id": "view-in-github",
        "colab_type": "text"
      },
      "source": [
        "<a href=\"https://colab.research.google.com/github/plthiyagu/AI-Engineering/blob/master/15-LeetCode/1356_Sort_Integers_by_The_Number_of_1_Bits_LeetCode.ipynb\" target=\"_parent\"><img src=\"https://colab.research.google.com/assets/colab-badge.svg\" alt=\"Open In Colab\"/></a>"
      ]
    },
    {
      "cell_type": "code",
      "execution_count": 2,
      "metadata": {
        "id": "E9TorJhkFi1Q"
      },
      "outputs": [],
      "source": [
        "from typing import List\n",
        "class Solution:\n",
        "    def sortByBits(self, arr: List[int]) -> List[int]:\n",
        "        d=[]\n",
        "        for i in sorted(arr):\n",
        "            d.append((i,bin(i).count('1')))\n",
        "        sd = sorted(d, key=lambda i: i[1])\n",
        "        ans=[]\n",
        "        for i in sd:\n",
        "            ans.append(i[0])\n",
        "        return ans"
      ]
    },
    {
      "cell_type": "code",
      "source": [
        "arr = [0,1,2,3,4,5,6,7,8]\n",
        "sol = Solution()\n",
        "sol.sortByBits(arr)"
      ],
      "metadata": {
        "colab": {
          "base_uri": "https://localhost:8080/"
        },
        "id": "lQqi0VDnFkOk",
        "outputId": "e24fed49-9b77-4d08-ed84-673b50543bfd"
      },
      "execution_count": 3,
      "outputs": [
        {
          "output_type": "execute_result",
          "data": {
            "text/plain": [
              "[0, 1, 2, 4, 8, 3, 5, 6, 7]"
            ]
          },
          "metadata": {},
          "execution_count": 3
        }
      ]
    },
    {
      "cell_type": "code",
      "source": [
        ""
      ],
      "metadata": {
        "id": "F9QJsPzuFu2d"
      },
      "execution_count": null,
      "outputs": []
    }
  ]
}