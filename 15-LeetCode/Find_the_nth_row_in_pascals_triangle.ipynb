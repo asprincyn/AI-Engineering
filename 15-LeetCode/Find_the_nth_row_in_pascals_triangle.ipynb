{
  "nbformat": 4,
  "nbformat_minor": 0,
  "metadata": {
    "colab": {
      "name": "Find the nth row in pascals triangle.ipynb",
      "provenance": [],
      "authorship_tag": "ABX9TyO/Uoc01rxorkiB9htlSNvR",
      "include_colab_link": true
    },
    "kernelspec": {
      "name": "python3",
      "display_name": "Python 3"
    },
    "language_info": {
      "name": "python"
    }
  },
  "cells": [
    {
      "cell_type": "markdown",
      "metadata": {
        "id": "view-in-github",
        "colab_type": "text"
      },
      "source": [
        "<a href=\"https://colab.research.google.com/github/plthiyagu/AI-Engineering/blob/master/15-LeetCode/Find_the_nth_row_in_pascals_triangle.ipynb\" target=\"_parent\"><img src=\"https://colab.research.google.com/assets/colab-badge.svg\" alt=\"Open In Colab\"/></a>"
      ]
    },
    {
      "cell_type": "code",
      "execution_count": 3,
      "metadata": {
        "id": "VfoiaKj8Re3S"
      },
      "outputs": [],
      "source": [
        "def generateNthRow (N):\n",
        "  prev =1\n",
        "  results=[]\n",
        "  results.append(prev)\n",
        "  for i in range(1, N+1):\n",
        "    curr = (prev * (N-i+1)) //i\n",
        "    prev = curr\n",
        "    results.append(prev)\n",
        "  return results"
      ]
    },
    {
      "cell_type": "code",
      "source": [
        "N=5\n",
        "generateNthRow (N)"
      ],
      "metadata": {
        "colab": {
          "base_uri": "https://localhost:8080/"
        },
        "id": "3Tm6mSFcSA_8",
        "outputId": "893dbef5-6fd0-4839-f529-df4e5edca99b"
      },
      "execution_count": 4,
      "outputs": [
        {
          "output_type": "execute_result",
          "data": {
            "text/plain": [
              "[1, 5, 10, 10, 5, 1]"
            ]
          },
          "metadata": {},
          "execution_count": 4
        }
      ]
    },
    {
      "cell_type": "code",
      "source": [
        ""
      ],
      "metadata": {
        "id": "Ph1SMkxWSDzC"
      },
      "execution_count": null,
      "outputs": []
    }
  ]
}