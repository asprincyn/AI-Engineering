{
  "nbformat": 4,
  "nbformat_minor": 0,
  "metadata": {
    "colab": {
      "name": "Check if a given graph is tree or not.ipynb",
      "provenance": [],
      "authorship_tag": "ABX9TyOr21sYfzSQZFC3tQQQUEeb",
      "include_colab_link": true
    },
    "kernelspec": {
      "name": "python3",
      "display_name": "Python 3"
    },
    "language_info": {
      "name": "python"
    }
  },
  "cells": [
    {
      "cell_type": "markdown",
      "metadata": {
        "id": "view-in-github",
        "colab_type": "text"
      },
      "source": [
        "<a href=\"https://colab.research.google.com/github/plthiyagu/AI-Engineering/blob/master/15-LeetCode/Check_if_a_given_graph_is_tree_or_not.ipynb\" target=\"_parent\"><img src=\"https://colab.research.google.com/assets/colab-badge.svg\" alt=\"Open In Colab\"/></a>"
      ]
    },
    {
      "cell_type": "code",
      "execution_count": null,
      "metadata": {
        "id": "1QdNwwk_D-jT"
      },
      "outputs": [],
      "source": [
        "# Python Program to check whether\n",
        "# a graph is tree or not\n",
        "\n",
        "from collections import defaultdict\n",
        "\n",
        "class Graph():\n",
        "\n",
        "\tdef __init__(self, V):\n",
        "\t\tself.V = V\n",
        "\t\tself.graph = defaultdict(list)\n",
        "\n",
        "\tdef addEdge(self, v, w):\n",
        "\t\t# Add w to v ist.\n",
        "\t\tself.graph[v].append(w)\n",
        "\t\t# Add v to w list.\n",
        "\t\tself.graph[w].append(v)\n",
        "\n",
        "\t# A recursive function that uses visited[]\n",
        "\t# and parent to detect cycle in subgraph\n",
        "\t# reachable from vertex v.\n",
        "\tdef isCyclicUtil(self, v, visited, parent):\n",
        "\n",
        "\t\t# Mark current node as visited\n",
        "\t\tvisited[v] = True\n",
        "\n",
        "\t\t# Recur for all the vertices adjacent\n",
        "\t\t# for this vertex\n",
        "\t\tfor i in self.graph[v]:\n",
        "\t\t\t# If an adjacent is not visited,\n",
        "\t\t\t# then recur for that adjacent\n",
        "\t\t\tif visited[i] == False:\n",
        "\t\t\t\tif self.isCyclicUtil(i, visited, v) == True:\n",
        "\t\t\t\t\treturn True\n",
        "\n",
        "\t\t\t# If an adjacent is visited and not\n",
        "\t\t\t# parent of current vertex, then there\n",
        "\t\t\t# is a cycle.\n",
        "\t\t\telif i != parent:\n",
        "\t\t\t\treturn True\n",
        "\n",
        "\t\treturn False\n",
        "\n",
        "\t# Returns true if the graph is a tree,\n",
        "\t# else false.\n",
        "\tdef isTree(self):\n",
        "\t\t# Mark all the vertices as not visited\n",
        "\t\t# and not part of recursion stack\n",
        "\t\tvisited = [False] * self.V\n",
        "\n",
        "\t\t# The call to isCyclicUtil serves multiple\n",
        "\t\t# purposes. It returns true if graph reachable\n",
        "\t\t# from vertex 0 is cyclcic. It also marks\n",
        "\t\t# all vertices reachable from 0.\n",
        "\t\tif self.isCyclicUtil(0, visited, -1) == True:\n",
        "\t\t\treturn False\n",
        "\n",
        "\t\t# If we find a vertex which is not reachable\n",
        "\t\t# from 0 (not marked by isCyclicUtil(),\n",
        "\t\t# then we return false\n",
        "\t\tfor i in range(self.V):\n",
        "\t\t\tif visited[i] == False:\n",
        "\t\t\t\treturn False\n",
        "\n",
        "\t\treturn True\n",
        "\n",
        "# Driver program to test above functions\n",
        "g1 = Graph(5)\n",
        "g1.addEdge(1, 0)\n",
        "g1.addEdge(0, 2)\n",
        "g1.addEdge(0, 3)\n",
        "g1.addEdge(3, 4)\n",
        "print (\"Graph is a Tree\" if g1.isTree() == True \\\n",
        "\t\t\t\t\t\telse \"Graph is a not a Tree\")\n",
        "\n",
        "g2 = Graph(5)\n",
        "g2.addEdge(1, 0)\n",
        "g2.addEdge(0, 2)\n",
        "g2.addEdge(2, 1)\n",
        "g2.addEdge(0, 3)\n",
        "g2.addEdge(3, 4)\n",
        "print (\"Graph is a Tree\" if g2.isTree() == True \\\n",
        "\t\t\t\t\t\telse \"Graph is a not a Tree\")\n",
        "\t\t\t\t\t\t\n",
        "# This code is contributed by Divyanshu Mehta\t\n"
      ]
    }
  ]
}