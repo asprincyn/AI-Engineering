{
  "nbformat": 4,
  "nbformat_minor": 0,
  "metadata": {
    "colab": {
      "name": "590 N-ary Tree Postorder Traversal LeetCode.ipynb",
      "provenance": [],
      "collapsed_sections": [],
      "authorship_tag": "ABX9TyNJvHdXuW6K8LbmsRXfLDQB",
      "include_colab_link": true
    },
    "kernelspec": {
      "name": "python3",
      "display_name": "Python 3"
    },
    "language_info": {
      "name": "python"
    }
  },
  "cells": [
    {
      "cell_type": "markdown",
      "metadata": {
        "id": "view-in-github",
        "colab_type": "text"
      },
      "source": [
        "<a href=\"https://colab.research.google.com/github/plthiyagu/AI-Engineering/blob/master/15-LeetCode/590_N_ary_Tree_Postorder_Traversal_LeetCode.ipynb\" target=\"_parent\"><img src=\"https://colab.research.google.com/assets/colab-badge.svg\" alt=\"Open In Colab\"/></a>"
      ]
    },
    {
      "cell_type": "code",
      "execution_count": 2,
      "metadata": {
        "id": "G3gA5Seyelgr"
      },
      "outputs": [],
      "source": [
        "from typing import List\n",
        "# Definition for a Node.\n",
        "class Node:\n",
        "    def __init__(self, val=None, children=None):\n",
        "        self.val = val\n",
        "        self.children = children\n",
        "\n",
        "\n",
        "class Solution:\n",
        "    def postorder(self, root: 'Node') -> List[int]:\n",
        "            \n",
        "        results = []\n",
        "        \n",
        "        self.helper(root, results)\n",
        "        \n",
        "        return results\n",
        "        \n",
        "        \n",
        "    def helper(self, root, results):\n",
        "        if not root:\n",
        "            return\n",
        "        \n",
        "        for child in root.children:\n",
        "            self.helper(child, results)\n",
        "            \n",
        "        \n",
        "        results.append(root.val)\n",
        "        "
      ]
    },
    {
      "cell_type": "code",
      "source": [
        "root = [1,None,2,3,4,5,None,None,6,7,None,8,None,9,10,None,None,11,None,12,None,13,None,None,14]"
      ],
      "metadata": {
        "id": "1sUkRhv5etKA"
      },
      "execution_count": null,
      "outputs": []
    }
  ]
}