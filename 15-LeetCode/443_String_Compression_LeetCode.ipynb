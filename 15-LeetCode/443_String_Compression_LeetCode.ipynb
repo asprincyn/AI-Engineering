{
  "nbformat": 4,
  "nbformat_minor": 0,
  "metadata": {
    "colab": {
      "name": "443 String Compression  LeetCode.ipynb",
      "provenance": [],
      "authorship_tag": "ABX9TyN62C5Os6D0Xx7dRdZpmski",
      "include_colab_link": true
    },
    "kernelspec": {
      "name": "python3",
      "display_name": "Python 3"
    },
    "language_info": {
      "name": "python"
    }
  },
  "cells": [
    {
      "cell_type": "markdown",
      "metadata": {
        "id": "view-in-github",
        "colab_type": "text"
      },
      "source": [
        "<a href=\"https://colab.research.google.com/github/plthiyagu/AI-Engineering/blob/master/15-LeetCode/443_String_Compression_LeetCode.ipynb\" target=\"_parent\"><img src=\"https://colab.research.google.com/assets/colab-badge.svg\" alt=\"Open In Colab\"/></a>"
      ]
    },
    {
      "cell_type": "code",
      "execution_count": 3,
      "metadata": {
        "id": "6lj9nsKWpXC7"
      },
      "outputs": [],
      "source": [
        "from typing import List\n",
        "class Solution:\n",
        "    def compress(self, chars: List[str]) -> int:\n",
        "        here = 0 # start replacing from here\n",
        "        i = 0 # iterator\n",
        "        while i < len(chars): #iterate through array\n",
        "            char = chars[i] # current character \n",
        "            length = 1 # current characters length\n",
        "            while i+1 < len(chars) and char == chars[i+1]: # the last char\n",
        "                length += 1 # increase current chars length\n",
        "                i += 1  # increment pointer/iterator\n",
        "            chars[here] = char # replace the character at poisition with current char\n",
        "            if length > 1: # only replace if current char is seen more than once\n",
        "                len_str = str(length)\n",
        "                chars[here+1:here + 1 + len(str(length))] = str(length) # here to there = length = repeat length of current char\n",
        "                here += len(str(length)) # if length > 10, replace it as \"1\", \"0\" so \"there\" value changes\n",
        "            here += 1 # if no repetitions, move on to the next char\n",
        "            i += 1 # incrementing the iterator\n",
        "        #print(chars[:here])\n",
        "        return here\n",
        "        "
      ]
    },
    {
      "cell_type": "code",
      "source": [
        "class Solution:\n",
        "    def compress(self, chars: List[str]) -> int:\n",
        "        stack = [] \n",
        "        nums = 1 \n",
        "        idx = 0 \n",
        "        if len(chars) > 0:            \n",
        "            stack.append(chars[0]) \n",
        "        for i in range(1, len(chars)): \n",
        "            if chars[i] == stack[idx]: \n",
        "                nums = nums + 1 \n",
        "                if i == len(chars) - 1: \n",
        "                    num_list = list(str(nums)) \n",
        "                    idx = idx + 1 + len(num_list) \n",
        "                    stack = stack + num_list \n",
        "            elif chars[i] != stack[idx]: \n",
        "                if nums == 1: \n",
        "                    idx = idx + 1 \n",
        "                num_list = list(str(nums)) \n",
        "                if num_list != ['1']: \n",
        "                    idx = idx + 1 + len(num_list) \n",
        "                    stack = stack + num_list \n",
        "                stack.append(chars[i]) \n",
        "                nums = 1 \n",
        "        for i in range(len(stack)): \n",
        "            chars[i] = stack[i] \n",
        "        chars = chars[0:len(stack)] \n",
        "        return len(chars)"
      ],
      "metadata": {
        "id": "9JxnfUSYrRbE"
      },
      "execution_count": 5,
      "outputs": []
    },
    {
      "cell_type": "code",
      "source": [
        "chars = [\"a\",\"a\",\"b\",\"b\",\"c\",\"c\",\"c\"]\n",
        "sol =Solution()\n",
        "sol.compress(chars)"
      ],
      "metadata": {
        "colab": {
          "base_uri": "https://localhost:8080/"
        },
        "id": "5ZJKPI2spXsG",
        "outputId": "65d04f3e-6448-45b4-b8e4-75f242113586"
      },
      "execution_count": 6,
      "outputs": [
        {
          "output_type": "execute_result",
          "data": {
            "text/plain": [
              "6"
            ]
          },
          "metadata": {},
          "execution_count": 6
        }
      ]
    },
    {
      "cell_type": "code",
      "source": [
        ""
      ],
      "metadata": {
        "id": "J3YLmj_erfcO"
      },
      "execution_count": null,
      "outputs": []
    }
  ]
}