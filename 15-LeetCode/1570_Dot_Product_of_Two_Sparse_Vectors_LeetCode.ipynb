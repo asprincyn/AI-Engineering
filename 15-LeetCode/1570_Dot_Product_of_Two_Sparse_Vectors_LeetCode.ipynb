{
  "nbformat": 4,
  "nbformat_minor": 0,
  "metadata": {
    "colab": {
      "name": "1570 Dot Product of Two Sparse Vectors LeetCode.ipynb",
      "provenance": [],
      "authorship_tag": "ABX9TyMlumo4usneWzC0pRKWgWg1",
      "include_colab_link": true
    },
    "kernelspec": {
      "name": "python3",
      "display_name": "Python 3"
    },
    "language_info": {
      "name": "python"
    }
  },
  "cells": [
    {
      "cell_type": "markdown",
      "metadata": {
        "id": "view-in-github",
        "colab_type": "text"
      },
      "source": [
        "<a href=\"https://colab.research.google.com/github/plthiyagu/AI-Engineering/blob/master/15-LeetCode/1570_Dot_Product_of_Two_Sparse_Vectors_LeetCode.ipynb\" target=\"_parent\"><img src=\"https://colab.research.google.com/assets/colab-badge.svg\" alt=\"Open In Colab\"/></a>"
      ]
    },
    {
      "cell_type": "code",
      "execution_count": 3,
      "metadata": {
        "id": "Axhc2nNVGmUd"
      },
      "outputs": [],
      "source": [
        "from typing import List\n",
        "class SparseVector:\n",
        "    def __init__(self, nums: List[int]):\n",
        "        self.array= nums\n",
        "        \n",
        "        \n",
        "\n",
        "    # Return the dotProduct of two sparse vectors\n",
        "    def dotProduct(self, vec: 'SparseVector') -> int:\n",
        "        result=0\n",
        "        for num1,num2 in zip(self.array,vec.array):\n",
        "            result += num1* num2\n",
        "        return result\n",
        "\n",
        "# Your SparseVector object will be instantiated and called as such:\n",
        "nums1 = [1,0,0,2,3]\n",
        "nums2 = [0,3,0,4,0]\n",
        "v1 = SparseVector(nums1)\n",
        "v2 = SparseVector(nums2)\n",
        "ans = v1.dotProduct(v2)"
      ]
    },
    {
      "cell_type": "code",
      "source": [
        "ans"
      ],
      "metadata": {
        "colab": {
          "base_uri": "https://localhost:8080/"
        },
        "id": "wPe6UASsGsA_",
        "outputId": "a7fa1216-4967-483a-a4a9-da17bf75c58d"
      },
      "execution_count": 4,
      "outputs": [
        {
          "output_type": "execute_result",
          "data": {
            "text/plain": [
              "8"
            ]
          },
          "metadata": {},
          "execution_count": 4
        }
      ]
    }
  ]
}