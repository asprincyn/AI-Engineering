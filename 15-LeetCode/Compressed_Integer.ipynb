{
  "nbformat": 4,
  "nbformat_minor": 0,
  "metadata": {
    "colab": {
      "name": "Compressed Integer.ipynb",
      "provenance": [],
      "collapsed_sections": [],
      "authorship_tag": "ABX9TyNOQOuU2PLgbbKXDjxN+gJk",
      "include_colab_link": true
    },
    "kernelspec": {
      "name": "python3",
      "display_name": "Python 3"
    },
    "language_info": {
      "name": "python"
    }
  },
  "cells": [
    {
      "cell_type": "markdown",
      "metadata": {
        "id": "view-in-github",
        "colab_type": "text"
      },
      "source": [
        "<a href=\"https://colab.research.google.com/github/plthiyagu/AI-Engineering/blob/master/15-LeetCode/Compressed_Integer.ipynb\" target=\"_parent\"><img src=\"https://colab.research.google.com/assets/colab-badge.svg\" alt=\"Open In Colab\"/></a>"
      ]
    },
    {
      "cell_type": "code",
      "execution_count": null,
      "metadata": {
        "id": "qzM0QFx1GC-c"
      },
      "outputs": [],
      "source": [
        "#!/usr/bin/env python2\n",
        "# encoding: utf-8\n",
        "\n",
        "\"\"\"\n",
        "Compressed Sequence.\n",
        "Challenge Description:\n",
        "Assume that someone dictates you a sequence of numbers and you need to write it\n",
        "down. For brevity, he dictates it as follows: first says the number of\n",
        "consecutive identical numbers and then says the number itself. E.g. The\n",
        "sequence 1 1 3 3 3 2 2 2 2 14 14 14 11 11 11 2 will be dictated as \"Two times\n",
        "one, three times three, four times two, three times fourteen, three times\n",
        "eleven, one time two\", so you will write down the sequence 2 1 3 3 4 2 3 14 3\n",
        "11 1 2. The challenge is to write the program which compresses the given\n",
        "sequence using this approach.\n",
        "Input sample:\n",
        "Your program should accept as its first argument a path to a filename. The\n",
        "input file contains T lines. Each line is a test case represented by a sequence\n",
        "of integers L, where each integer is N, separated by a whitespace. E.g\n",
        "40 40 40 40 29 29 29 29 29 29 29 29 57 57 92 92 92 92 92 86 86 86 86 86 86 86 86 86 86\n",
        "73 73 73 73 41 41 41 41 41 41 41 41 41 41\n",
        "1 1 3 3 3 2 2 2 2 14 14 14 11 11 11 2\n",
        "7\n",
        "Output sample:\n",
        "For each test case produce a single line of output containing a compressed\n",
        "sequence of numbers separated by a single space char. E.g.\n",
        "4 40 8 29 2 57 5 92 10 86\n",
        "4 73 10 41\n",
        "2 1 3 3 4 2 3 14 3 11 1 2\n",
        "1 7\n",
        "Constraints:\n",
        "T is in range [20, 50]\n",
        "N is in range [0, 99]\n",
        "L length is in range [1, 400]\n",
        "\"\"\"\n",
        "\n",
        "import sys\n",
        "\n",
        "with open(sys.argv[1], 'r') as input:\n",
        "    test_cases = input.read().strip().splitlines()\n",
        "\n",
        "for test in test_cases:\n",
        "    sequence = test.split()\n",
        "    number, count, output = sequence[0], 0, []\n",
        "\n",
        "    for i in sequence:\n",
        "        if i == number:\n",
        "            count += 1\n",
        "        else:\n",
        "            output.append('{0} {1}'.format(count, number))\n",
        "            number, count = i, 1\n",
        "\n",
        "    output.append('{0} {1}'.format(count, number))\n",
        "    print ' '.join(output)"
      ]
    },
    {
      "cell_type": "code",
      "source": [
        "#https://github.com/joedicastro/code_eval/blob/master/easy/compressed_sequence.py2"
      ],
      "metadata": {
        "id": "WSQjWA4AGKCH"
      },
      "execution_count": null,
      "outputs": []
    }
  ]
}