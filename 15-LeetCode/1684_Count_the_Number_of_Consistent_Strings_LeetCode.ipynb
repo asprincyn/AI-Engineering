{
  "nbformat": 4,
  "nbformat_minor": 0,
  "metadata": {
    "colab": {
      "name": "1684 Count the Number of Consistent Strings LeetCode.ipynb",
      "provenance": [],
      "collapsed_sections": [],
      "authorship_tag": "ABX9TyPs9ej9OX+bwd0vNj4+56RB",
      "include_colab_link": true
    },
    "kernelspec": {
      "name": "python3",
      "display_name": "Python 3"
    },
    "language_info": {
      "name": "python"
    }
  },
  "cells": [
    {
      "cell_type": "markdown",
      "metadata": {
        "id": "view-in-github",
        "colab_type": "text"
      },
      "source": [
        "<a href=\"https://colab.research.google.com/github/plthiyagu/AI-Engineering/blob/master/15-LeetCode/1684_Count_the_Number_of_Consistent_Strings_LeetCode.ipynb\" target=\"_parent\"><img src=\"https://colab.research.google.com/assets/colab-badge.svg\" alt=\"Open In Colab\"/></a>"
      ]
    },
    {
      "cell_type": "code",
      "execution_count": 1,
      "metadata": {
        "id": "ssaqW5k2xSeY"
      },
      "outputs": [],
      "source": [
        "from typing import List\n",
        "class Solution:\n",
        "    def countConsistentStrings(self, allowed: str, words: List[str]) -> int:\n",
        "      not_match =0\n",
        "      for word in words:\n",
        "        for w in word:\n",
        "          if w not in allowed:\n",
        "            not_match +=1\n",
        "            break\n",
        "      ans = len(words)-not_match\n",
        "      return ans"
      ]
    },
    {
      "cell_type": "code",
      "source": [
        "allowed = \"ab\"\n",
        "words = [\"ad\",\"bd\",\"aaab\",\"baa\",\"badab\"]\n",
        "sol = Solution()\n",
        "sol.countConsistentStrings(allowed, words)"
      ],
      "metadata": {
        "colab": {
          "base_uri": "https://localhost:8080/"
        },
        "id": "AhrT9Tfm6Kri",
        "outputId": "b01af6bd-f1da-40e2-bd7a-1bfee8dd0d5e"
      },
      "execution_count": 2,
      "outputs": [
        {
          "output_type": "execute_result",
          "data": {
            "text/plain": [
              "2"
            ]
          },
          "metadata": {},
          "execution_count": 2
        }
      ]
    },
    {
      "cell_type": "code",
      "source": [
        ""
      ],
      "metadata": {
        "id": "GjA-Kyu06Sic"
      },
      "execution_count": null,
      "outputs": []
    }
  ]
}