{
  "nbformat": 4,
  "nbformat_minor": 0,
  "metadata": {
    "colab": {
      "name": "504 Base 7 LeetCode.ipynb",
      "provenance": [],
      "authorship_tag": "ABX9TyNXw/P3Fz8vnPPER1y12nyF",
      "include_colab_link": true
    },
    "kernelspec": {
      "name": "python3",
      "display_name": "Python 3"
    },
    "language_info": {
      "name": "python"
    }
  },
  "cells": [
    {
      "cell_type": "markdown",
      "metadata": {
        "id": "view-in-github",
        "colab_type": "text"
      },
      "source": [
        "<a href=\"https://colab.research.google.com/github/plthiyagu/AI-Engineering/blob/master/15-LeetCode/504_Base_7_LeetCode.ipynb\" target=\"_parent\"><img src=\"https://colab.research.google.com/assets/colab-badge.svg\" alt=\"Open In Colab\"/></a>"
      ]
    },
    {
      "cell_type": "code",
      "execution_count": 1,
      "metadata": {
        "id": "dlH_v2N_Ywut"
      },
      "outputs": [],
      "source": [
        "class Solution:\n",
        "    def convertToBase7(self, num: int) -> str:\n",
        "        is_negative = False\n",
        "        if num < 0:\n",
        "            num = -num\n",
        "            is_negative = True\n",
        "        \n",
        "        result = \"\"\n",
        "        while num >= 7:\n",
        "            result += str(num % 7)\n",
        "            num = num // 7\n",
        "            \n",
        "        result += str(num)\n",
        "        \n",
        "        if is_negative:\n",
        "            return \"-\" + result[::-1]\n",
        "        \n",
        "        return result[::-1]"
      ]
    },
    {
      "cell_type": "code",
      "source": [
        "sol = Solution()\n",
        "num = 100\n",
        "sol.convertToBase7(num)"
      ],
      "metadata": {
        "colab": {
          "base_uri": "https://localhost:8080/",
          "height": 35
        },
        "id": "fp7HfzONYyYD",
        "outputId": "5634594a-6734-4531-b47b-541d59aa9ff7"
      },
      "execution_count": 2,
      "outputs": [
        {
          "output_type": "execute_result",
          "data": {
            "text/plain": [
              "'202'"
            ],
            "application/vnd.google.colaboratory.intrinsic+json": {
              "type": "string"
            }
          },
          "metadata": {},
          "execution_count": 2
        }
      ]
    },
    {
      "cell_type": "code",
      "source": [
        ""
      ],
      "metadata": {
        "id": "qGFCGKDGY7VX"
      },
      "execution_count": null,
      "outputs": []
    }
  ]
}