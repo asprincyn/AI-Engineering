{
  "nbformat": 4,
  "nbformat_minor": 0,
  "metadata": {
    "colab": {
      "name": "198 House Robber LeetCode.ipynb",
      "provenance": [],
      "authorship_tag": "ABX9TyP89kHoVSZDA0lzJ8GCoCN+",
      "include_colab_link": true
    },
    "kernelspec": {
      "name": "python3",
      "display_name": "Python 3"
    },
    "language_info": {
      "name": "python"
    }
  },
  "cells": [
    {
      "cell_type": "markdown",
      "metadata": {
        "id": "view-in-github",
        "colab_type": "text"
      },
      "source": [
        "<a href=\"https://colab.research.google.com/github/plthiyagu/AI-Engineering/blob/master/15-LeetCode/198_House_Robber_LeetCode.ipynb\" target=\"_parent\"><img src=\"https://colab.research.google.com/assets/colab-badge.svg\" alt=\"Open In Colab\"/></a>"
      ]
    },
    {
      "cell_type": "code",
      "execution_count": 2,
      "metadata": {
        "id": "EWO6ExnhkO1h"
      },
      "outputs": [],
      "source": [
        "from typing import List\n",
        "class Solution:\n",
        "    def rob(self, nums: List[int]) -> int:\n",
        "        if not nums:\n",
        "            return 0\n",
        "        N= len(nums)\n",
        "        \n",
        "        rob_next_plus_one =0\n",
        "        rob_next = nums[N-1]\n",
        "        \n",
        "        for i in range(N-2,-1,-1):\n",
        "            current = max(rob_next, rob_next_plus_one + nums[i])\n",
        "            \n",
        "            rob_next_plus_one= rob_next\n",
        "            rob_next = current\n",
        "            \n",
        "            \n",
        "        return rob_next"
      ]
    },
    {
      "cell_type": "code",
      "source": [
        "sol = Solution()\n",
        "nums = [1,2,3,1]\n",
        "sol.rob(nums)"
      ],
      "metadata": {
        "colab": {
          "base_uri": "https://localhost:8080/"
        },
        "id": "KPATRZsRkQq7",
        "outputId": "2a7ea04b-8e1b-40d6-836d-f16e5224612e"
      },
      "execution_count": 3,
      "outputs": [
        {
          "output_type": "execute_result",
          "data": {
            "text/plain": [
              "4"
            ]
          },
          "metadata": {},
          "execution_count": 3
        }
      ]
    },
    {
      "cell_type": "code",
      "source": [
        ""
      ],
      "metadata": {
        "id": "LMaOSRsbkbz_"
      },
      "execution_count": null,
      "outputs": []
    }
  ]
}