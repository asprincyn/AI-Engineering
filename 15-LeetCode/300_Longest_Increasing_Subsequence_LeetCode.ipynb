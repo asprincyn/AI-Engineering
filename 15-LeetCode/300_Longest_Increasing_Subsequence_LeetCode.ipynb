{
  "nbformat": 4,
  "nbformat_minor": 0,
  "metadata": {
    "colab": {
      "name": "300 Longest Increasing Subsequence LeetCode.ipynb",
      "provenance": [],
      "authorship_tag": "ABX9TyN9FsAlSLXYQ5se8I0Sbc6D",
      "include_colab_link": true
    },
    "kernelspec": {
      "name": "python3",
      "display_name": "Python 3"
    },
    "language_info": {
      "name": "python"
    }
  },
  "cells": [
    {
      "cell_type": "markdown",
      "metadata": {
        "id": "view-in-github",
        "colab_type": "text"
      },
      "source": [
        "<a href=\"https://colab.research.google.com/github/plthiyagu/AI-Engineering/blob/master/15-LeetCode/300_Longest_Increasing_Subsequence_LeetCode.ipynb\" target=\"_parent\"><img src=\"https://colab.research.google.com/assets/colab-badge.svg\" alt=\"Open In Colab\"/></a>"
      ]
    },
    {
      "cell_type": "code",
      "execution_count": 4,
      "metadata": {
        "id": "7n81MKzntLvZ"
      },
      "outputs": [],
      "source": [
        "from typing import List\n",
        "import bisect\n",
        "class Solution:\n",
        "    def lengthOfLIS(self, nums: List[int]) -> int:\n",
        "        sub=[]\n",
        "        for num in nums:\n",
        "            i= bisect.bisect_left(sub,num)\n",
        "            if i == len(sub):\n",
        "                sub.append(num)\n",
        "            else:\n",
        "                sub[i]=num\n",
        "        return len(sub)"
      ]
    },
    {
      "cell_type": "code",
      "source": [
        "nums = [10,9,2,5,3,7,101,18]\n",
        "sol= Solution()\n",
        "sol.lengthOfLIS(nums)"
      ],
      "metadata": {
        "colab": {
          "base_uri": "https://localhost:8080/"
        },
        "id": "OTr4-dXQth8E",
        "outputId": "ecdc0124-5b09-4d39-e32f-9a7e2e393b6f"
      },
      "execution_count": 5,
      "outputs": [
        {
          "output_type": "execute_result",
          "data": {
            "text/plain": [
              "4"
            ]
          },
          "metadata": {},
          "execution_count": 5
        }
      ]
    },
    {
      "cell_type": "code",
      "source": [
        ""
      ],
      "metadata": {
        "id": "JQfil69Dt3qe"
      },
      "execution_count": null,
      "outputs": []
    },
    {
      "cell_type": "code",
      "source": [
        ""
      ],
      "metadata": {
        "id": "KWzvRuwBtVp5"
      },
      "execution_count": null,
      "outputs": []
    }
  ]
}