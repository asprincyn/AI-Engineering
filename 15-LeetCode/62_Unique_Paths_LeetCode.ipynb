{
  "nbformat": 4,
  "nbformat_minor": 0,
  "metadata": {
    "colab": {
      "name": "62 Unique Paths LeetCode.ipynb",
      "provenance": [],
      "authorship_tag": "ABX9TyNT0ycx/5aaHHSwEI4zYD7Z",
      "include_colab_link": true
    },
    "kernelspec": {
      "name": "python3",
      "display_name": "Python 3"
    },
    "language_info": {
      "name": "python"
    }
  },
  "cells": [
    {
      "cell_type": "markdown",
      "metadata": {
        "id": "view-in-github",
        "colab_type": "text"
      },
      "source": [
        "<a href=\"https://colab.research.google.com/github/plthiyagu/AI-Engineering/blob/master/15-LeetCode/62_Unique_Paths_LeetCode.ipynb\" target=\"_parent\"><img src=\"https://colab.research.google.com/assets/colab-badge.svg\" alt=\"Open In Colab\"/></a>"
      ]
    },
    {
      "cell_type": "code",
      "execution_count": 1,
      "metadata": {
        "id": "ObjxxnjRSbgr"
      },
      "outputs": [],
      "source": [
        "def uniquePaths(m: int, n: int) -> int:\n",
        "    dp = [[0 for j in range(0, n)] for i in range(0, m)]\n",
        "        \n",
        "    for i in range(0, m):\n",
        "        dp[i][0] = 1\n",
        "    \n",
        "    for j in range(0, n):\n",
        "        dp[0][j] = 1\n",
        "        \n",
        "    for i in range(1, m):            \n",
        "        for j in range(1, n):\n",
        "            dp[i][j] = dp[i - 1][j] + dp[i][j - 1]\n",
        "            \n",
        "    \n",
        "    return dp[m - 1][n - 1]\n",
        "\n",
        "    "
      ]
    },
    {
      "cell_type": "code",
      "source": [
        "m = 3\n",
        "n = 2\n",
        "uniquePaths(m,n)"
      ],
      "metadata": {
        "colab": {
          "base_uri": "https://localhost:8080/"
        },
        "id": "cRMkcKA4SgBy",
        "outputId": "0282ded0-c53a-497a-aeca-82fb172d80d0"
      },
      "execution_count": 2,
      "outputs": [
        {
          "output_type": "execute_result",
          "data": {
            "text/plain": [
              "3"
            ]
          },
          "metadata": {},
          "execution_count": 2
        }
      ]
    },
    {
      "cell_type": "code",
      "source": [
        ""
      ],
      "metadata": {
        "id": "YabvAcyNSq2L"
      },
      "execution_count": null,
      "outputs": []
    }
  ]
}