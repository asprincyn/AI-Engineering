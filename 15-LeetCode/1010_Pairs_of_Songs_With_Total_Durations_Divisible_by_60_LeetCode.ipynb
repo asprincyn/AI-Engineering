{
  "nbformat": 4,
  "nbformat_minor": 0,
  "metadata": {
    "colab": {
      "name": "1010 Pairs of Songs With Total Durations Divisible by 60  LeetCode.ipynb",
      "provenance": [],
      "authorship_tag": "ABX9TyN9KNcwAe9qB4v2NjJHyHMH",
      "include_colab_link": true
    },
    "kernelspec": {
      "name": "python3",
      "display_name": "Python 3"
    },
    "language_info": {
      "name": "python"
    }
  },
  "cells": [
    {
      "cell_type": "markdown",
      "metadata": {
        "id": "view-in-github",
        "colab_type": "text"
      },
      "source": [
        "<a href=\"https://colab.research.google.com/github/plthiyagu/AI-Engineering/blob/master/15-LeetCode/1010_Pairs_of_Songs_With_Total_Durations_Divisible_by_60_LeetCode.ipynb\" target=\"_parent\"><img src=\"https://colab.research.google.com/assets/colab-badge.svg\" alt=\"Open In Colab\"/></a>"
      ]
    },
    {
      "cell_type": "code",
      "execution_count": 7,
      "metadata": {
        "id": "H2mIse2VP6Dn"
      },
      "outputs": [],
      "source": [
        "from typing import List\n",
        "from collections import Counter\n",
        "class Solution:\n",
        "    def numPairsDivisibleBy60(self, time: List[int]) -> int:\n",
        "        ct = Counter([t % 60 for t in time])\n",
        "        res = 0\n",
        "        res += ct[0] * (ct[0] - 1) // 2\n",
        "        res += ct[30] * (ct[30] - 1) // 2\n",
        "        res += sum([ct[i] * ct[60 - i] for i in range(1, 30)])\n",
        "        return res"
      ]
    },
    {
      "cell_type": "code",
      "source": [
        "time = [30,20,150,100,40]\n",
        "numpair = Solution()\n",
        "numpair.numPairsDivisibleBy60(time)"
      ],
      "metadata": {
        "colab": {
          "base_uri": "https://localhost:8080/"
        },
        "id": "3WXhy_uRP9wm",
        "outputId": "3f4a8ea9-5b37-4bec-c496-e8ddc1740a8f"
      },
      "execution_count": 8,
      "outputs": [
        {
          "output_type": "execute_result",
          "data": {
            "text/plain": [
              "3"
            ]
          },
          "metadata": {},
          "execution_count": 8
        }
      ]
    },
    {
      "cell_type": "code",
      "source": [
        ""
      ],
      "metadata": {
        "id": "6CzjHYc9QGH2"
      },
      "execution_count": null,
      "outputs": []
    }
  ]
}