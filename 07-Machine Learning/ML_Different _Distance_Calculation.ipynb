{
  "nbformat": 4,
  "nbformat_minor": 0,
  "metadata": {
    "colab": {
      "name": "Import ML Distance Calculation .ipynb",
      "provenance": [],
      "collapsed_sections": [],
      "authorship_tag": "ABX9TyOWJLT0BLn1Lx/SDQbS/Olb",
      "include_colab_link": true
    },
    "kernelspec": {
      "name": "python3",
      "display_name": "Python 3"
    },
    "language_info": {
      "name": "python"
    }
  },
  "cells": [
    {
      "cell_type": "markdown",
      "metadata": {
        "id": "view-in-github",
        "colab_type": "text"
      },
      "source": [
        "<a href=\"https://colab.research.google.com/github/plthiyagu/AI-Engineering/blob/master/07-Machine%20Learning/ML_Different%20_Distance_Calculation.ipynb\" target=\"_parent\"><img src=\"https://colab.research.google.com/assets/colab-badge.svg\" alt=\"Open In Colab\"/></a>"
      ]
    },
    {
      "cell_type": "code",
      "execution_count": 13,
      "metadata": {
        "colab": {
          "base_uri": "https://localhost:8080/"
        },
        "id": "0ud3MOPlT3C3",
        "outputId": "e7ae3bf1-0b1d-4c32-c7e4-d13e9a407986"
      },
      "outputs": [
        {
          "output_type": "stream",
          "name": "stdout",
          "text": [
            "Euclidean Distance: 2.0\n"
          ]
        }
      ],
      "source": [
        "import math\n",
        "def euclidean(x,y):\n",
        "  distance=0\n",
        "  for a,b in zip (x,y):\n",
        "    distance+=(sum([(pow((a-b),2))]))\n",
        "    return math.sqrt(distance)\n",
        "print(\"Euclidean Distance:\",euclidean([1,3,4,1],[3,2,1,1]))"
      ]
    },
    {
      "cell_type": "code",
      "source": [
        "def manhattan(x,y):\n",
        "  distance=0\n",
        "  for a,b in zip (x,y):\n",
        "    distance+=sum([abs(a-b)])\n",
        "    return math.sqrt(distance)\n",
        "print(\"Manhattan Distance:\",manhattan([1,3,4,1],[3,2,1,1]))"
      ],
      "metadata": {
        "colab": {
          "base_uri": "https://localhost:8080/"
        },
        "id": "oJwhFDxSVIhh",
        "outputId": "779e30f0-270d-44ac-89ce-a96086f145b3"
      },
      "execution_count": 8,
      "outputs": [
        {
          "output_type": "stream",
          "name": "stdout",
          "text": [
            "Manhattan Distance: 1.4142135623730951\n"
          ]
        }
      ]
    },
    {
      "cell_type": "code",
      "source": [
        "def chebyshev(x,y):\n",
        "  distance=[]\n",
        "  for a,b in zip (x,y):\n",
        "   distance.append(abs(a-b))\n",
        "   print(distance)\n",
        "  return max(distance)\n",
        "print(\"Chebyshev Distance:\",chebyshev([1,3,4,1],[3,2,1,1]))"
      ],
      "metadata": {
        "colab": {
          "base_uri": "https://localhost:8080/"
        },
        "id": "CqZ3huqmVYM-",
        "outputId": "56d9cea5-02ac-4b49-d43e-75c45badc8ff"
      },
      "execution_count": 11,
      "outputs": [
        {
          "output_type": "stream",
          "name": "stdout",
          "text": [
            "[2]\n",
            "[2, 1]\n",
            "[2, 1, 3]\n",
            "[2, 1, 3, 0]\n",
            "Chebyshev Distance: 3\n"
          ]
        }
      ]
    },
    {
      "cell_type": "code",
      "source": [
        "def hamming(x,y):\n",
        "  distance=0\n",
        "  for a,b in zip(x,y):\n",
        "    if a !=b:\n",
        "      distance +=1\n",
        "      return distance\n",
        "print(\"Hamming Distance:\",hamming(\"hello world\",\"hallo warld\"))"
      ],
      "metadata": {
        "colab": {
          "base_uri": "https://localhost:8080/"
        },
        "id": "NPGgdEjHWHqf",
        "outputId": "ec3649a8-37b5-41d8-bd4e-cc73ede18819"
      },
      "execution_count": 12,
      "outputs": [
        {
          "output_type": "stream",
          "name": "stdout",
          "text": [
            "Hamming Distance: 1\n"
          ]
        }
      ]
    },
    {
      "cell_type": "code",
      "source": [
        "def cosine_similarity(x,y):\n",
        "  numerator=0\n",
        "  sum_x=0\n",
        "  sum_y=0\n",
        "  for a,b in zip(x,y):\n",
        "    numerator += sum([a*b])\n",
        "    sum_x += sum([a**2])\n",
        "    sum_y +=sum([b**2])\n",
        "    denominator=round(math.sqrt(sum_x)*math.sqrt(sum_y))\n",
        "  return numerator/denominator\n",
        "print(\"Cosine Similarity:\",cosine_similarity([1,3,4,1],[3,2,1,1]))"
      ],
      "metadata": {
        "colab": {
          "base_uri": "https://localhost:8080/"
        },
        "id": "QCtpFJ8fW8j4",
        "outputId": "63f3c48d-d61f-4088-99c3-603f90c8f82c"
      },
      "execution_count": 15,
      "outputs": [
        {
          "output_type": "stream",
          "name": "stdout",
          "text": [
            "Cosine Similarity: 0.7\n"
          ]
        }
      ]
    },
    {
      "cell_type": "code",
      "source": [
        "def jaccard_similarity(x,y):\n",
        "  intersection=len(set(x).intersection(set(y)))\n",
        "  union=len(set(x).union(set(y)))\n",
        "  return (intersection/union)\n",
        "print(\"Jaccard Similarity:\",jaccard_similarity([0,1,2,5,6],[0,2,3,4,5,7,9]))\n",
        "print(\"Jaccard Distance:\",1-jaccard_similarity([0,1,2,5,6],[0,2,3,4,5,7,9]))"
      ],
      "metadata": {
        "colab": {
          "base_uri": "https://localhost:8080/"
        },
        "id": "nQea6mfvYQPt",
        "outputId": "1ef45414-5d02-4eb4-db45-a85c1e2e3e68"
      },
      "execution_count": 16,
      "outputs": [
        {
          "output_type": "stream",
          "name": "stdout",
          "text": [
            "Jaccard Similarity: 0.3333333333333333\n",
            "Jaccard Distance: 0.6666666666666667\n"
          ]
        }
      ]
    },
    {
      "cell_type": "code",
      "source": [
        ""
      ],
      "metadata": {
        "id": "X8tWmw9gZYAT"
      },
      "execution_count": null,
      "outputs": []
    },
    {
      "cell_type": "code",
      "source": [
        ""
      ],
      "metadata": {
        "id": "Iwy7cA_NYLsI"
      },
      "execution_count": null,
      "outputs": []
    },
    {
      "cell_type": "code",
      "source": [
        ""
      ],
      "metadata": {
        "id": "oVQbMiIuU-cw"
      },
      "execution_count": null,
      "outputs": []
    },
    {
      "cell_type": "code",
      "source": [
        ""
      ],
      "metadata": {
        "id": "O69LSkh9UtTO"
      },
      "execution_count": null,
      "outputs": []
    }
  ]
}