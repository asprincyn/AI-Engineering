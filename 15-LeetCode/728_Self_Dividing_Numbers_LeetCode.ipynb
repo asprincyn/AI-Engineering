{
  "nbformat": 4,
  "nbformat_minor": 0,
  "metadata": {
    "colab": {
      "name": "728 Self Dividing Numbers LeetCode.ipynb",
      "provenance": [],
      "authorship_tag": "ABX9TyPE5Lj5zYc0ndyHbMmpQogD",
      "include_colab_link": true
    },
    "kernelspec": {
      "name": "python3",
      "display_name": "Python 3"
    },
    "language_info": {
      "name": "python"
    }
  },
  "cells": [
    {
      "cell_type": "markdown",
      "metadata": {
        "id": "view-in-github",
        "colab_type": "text"
      },
      "source": [
        "<a href=\"https://colab.research.google.com/github/plthiyagu/AI-Engineering/blob/master/15-LeetCode/728_Self_Dividing_Numbers_LeetCode.ipynb\" target=\"_parent\"><img src=\"https://colab.research.google.com/assets/colab-badge.svg\" alt=\"Open In Colab\"/></a>"
      ]
    },
    {
      "cell_type": "code",
      "execution_count": 2,
      "metadata": {
        "id": "bjWjFDY13oR8"
      },
      "outputs": [],
      "source": [
        "from typing import List\n",
        "class Solution:\n",
        "    def selfDividingNumbers(self, left: int, right: int) -> List[int]:\n",
        "        ans = []\n",
        "        for n in range(left, right + 1):\n",
        "            if self.isDividing(n):\n",
        "                ans.append(n)\n",
        "        return ans\n",
        "        \n",
        "    def isDividing(self, num):\n",
        "        temp = num\n",
        "        while temp:\n",
        "            div = temp % 10\n",
        "            if not div or num % div != 0:\n",
        "                return False\n",
        "            temp //= 10\n",
        "        return True"
      ]
    },
    {
      "cell_type": "code",
      "source": [
        "sol =Solution()\n",
        "left = 1\n",
        "right = 22\n",
        "sol.selfDividingNumbers(left,right)"
      ],
      "metadata": {
        "colab": {
          "base_uri": "https://localhost:8080/"
        },
        "id": "v70MePWQ3pDl",
        "outputId": "043a647f-86ba-43e2-eb4b-27786a18fda6"
      },
      "execution_count": 4,
      "outputs": [
        {
          "output_type": "execute_result",
          "data": {
            "text/plain": [
              "[1, 2, 3, 4, 5, 6, 7, 8, 9, 11, 12, 15, 22]"
            ]
          },
          "metadata": {},
          "execution_count": 4
        }
      ]
    },
    {
      "cell_type": "code",
      "source": [
        ""
      ],
      "metadata": {
        "id": "G-1AmPRk36S4"
      },
      "execution_count": null,
      "outputs": []
    },
    {
      "cell_type": "code",
      "source": [
        ""
      ],
      "metadata": {
        "id": "zp0N-BFo33GZ"
      },
      "execution_count": null,
      "outputs": []
    }
  ]
}