{
  "nbformat": 4,
  "nbformat_minor": 0,
  "metadata": {
    "colab": {
      "name": "709 To Lower Case LeetCode.ipynb",
      "provenance": [],
      "collapsed_sections": [],
      "authorship_tag": "ABX9TyMAa4jf2jpczy7PJuLDMKG2",
      "include_colab_link": true
    },
    "kernelspec": {
      "name": "python3",
      "display_name": "Python 3"
    },
    "language_info": {
      "name": "python"
    }
  },
  "cells": [
    {
      "cell_type": "markdown",
      "metadata": {
        "id": "view-in-github",
        "colab_type": "text"
      },
      "source": [
        "<a href=\"https://colab.research.google.com/github/plthiyagu/AI-Engineering/blob/master/15-LeetCode/709_To_Lower_Case_LeetCode.ipynb\" target=\"_parent\"><img src=\"https://colab.research.google.com/assets/colab-badge.svg\" alt=\"Open In Colab\"/></a>"
      ]
    },
    {
      "cell_type": "code",
      "execution_count": 5,
      "metadata": {
        "id": "uqygo0SB-zT6"
      },
      "outputs": [],
      "source": [
        "class Solution:\n",
        "    def toLowerCase(self, s: str) -> str:\n",
        "        upper = \"ABCDEFGHIJKLMNOPQRSTUVWXYZ\"\n",
        "        lower = \"abcdefghijklmnopqrstuvwxyz\"\n",
        "        h = dict(zip(upper, lower))\n",
        "        return ''.join([h[x] if x in h else x for x in s])"
      ]
    },
    {
      "cell_type": "code",
      "source": [
        "sol = Solution()\n",
        "s = \"Hello\"\n",
        "sol.toLowerCase(s)"
      ],
      "metadata": {
        "colab": {
          "base_uri": "https://localhost:8080/",
          "height": 35
        },
        "id": "UwTeYBxe_FwK",
        "outputId": "9411569e-e0aa-4946-a135-49b4bc5e3ee8"
      },
      "execution_count": 6,
      "outputs": [
        {
          "output_type": "execute_result",
          "data": {
            "text/plain": [
              "'hello'"
            ],
            "application/vnd.google.colaboratory.intrinsic+json": {
              "type": "string"
            }
          },
          "metadata": {},
          "execution_count": 6
        }
      ]
    },
    {
      "cell_type": "code",
      "source": [
        "class Solution:\n",
        "    def toLowerCase(self, s: str) -> str: \n",
        "        is_upper = lambda x : 'A' <= x <= 'Z'\n",
        "        to_lower = lambda x : chr(ord(x) | 32)\n",
        "        \n",
        "        return ''.join([to_lower(x) if is_upper(x) else x for x in s])"
      ],
      "metadata": {
        "id": "W_zawU8K_hcu"
      },
      "execution_count": 7,
      "outputs": []
    },
    {
      "cell_type": "code",
      "source": [
        "sol = Solution()\n",
        "s = \"Hello\"\n",
        "sol.toLowerCase(s)"
      ],
      "metadata": {
        "colab": {
          "base_uri": "https://localhost:8080/",
          "height": 35
        },
        "id": "RBiqTGpcAoLr",
        "outputId": "cfb06290-9053-4d32-d544-55e3aec34b90"
      },
      "execution_count": 8,
      "outputs": [
        {
          "output_type": "execute_result",
          "data": {
            "text/plain": [
              "'hello'"
            ],
            "application/vnd.google.colaboratory.intrinsic+json": {
              "type": "string"
            }
          },
          "metadata": {},
          "execution_count": 8
        }
      ]
    },
    {
      "cell_type": "code",
      "source": [
        ""
      ],
      "metadata": {
        "id": "7lfb4JOUApmD"
      },
      "execution_count": null,
      "outputs": []
    }
  ]
}