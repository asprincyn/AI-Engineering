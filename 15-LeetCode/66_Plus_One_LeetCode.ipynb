{
  "nbformat": 4,
  "nbformat_minor": 0,
  "metadata": {
    "colab": {
      "name": "66 Plus One LeetCode.ipynb",
      "provenance": [],
      "collapsed_sections": [],
      "authorship_tag": "ABX9TyNQsafByEOoK1CSDaJYE/f7",
      "include_colab_link": true
    },
    "kernelspec": {
      "name": "python3",
      "display_name": "Python 3"
    },
    "language_info": {
      "name": "python"
    }
  },
  "cells": [
    {
      "cell_type": "markdown",
      "metadata": {
        "id": "view-in-github",
        "colab_type": "text"
      },
      "source": [
        "<a href=\"https://colab.research.google.com/github/plthiyagu/AI-Engineering/blob/master/15-LeetCode/66_Plus_One_LeetCode.ipynb\" target=\"_parent\"><img src=\"https://colab.research.google.com/assets/colab-badge.svg\" alt=\"Open In Colab\"/></a>"
      ]
    },
    {
      "cell_type": "code",
      "execution_count": 4,
      "metadata": {
        "id": "WAgJpGeFMk7g"
      },
      "outputs": [],
      "source": [
        "from typing import List\n",
        "class Solution:\n",
        "    def plusOne(self, digits: List[int]) -> List[int]:\n",
        "        # move along the input array starting from the end\n",
        "        for i in range(len(digits)-1, -1, -1):\n",
        "           # set all the nines at the end of array to zeros\n",
        "            if digits[i] == 9:\n",
        "                digits[i] = 0\n",
        "            # here we have the rightmost not-nine\n",
        "            else:\n",
        "\n",
        "              # increase this rightmost not-nine by 1\n",
        "              digits[i] += 1\n",
        "              return digits\n",
        "\n",
        "         # we're here because all the digits are nines\n",
        "        return [1] + digits\n",
        "        "
      ]
    },
    {
      "cell_type": "code",
      "source": [
        "digits = [4,3,2,1]\n",
        "sol = Solution()\n",
        "sol.plusOne(digits)"
      ],
      "metadata": {
        "colab": {
          "base_uri": "https://localhost:8080/"
        },
        "id": "e6NVxEpxMloY",
        "outputId": "6487c314-9689-489c-9634-40d4c9f5dcc6"
      },
      "execution_count": 5,
      "outputs": [
        {
          "output_type": "execute_result",
          "data": {
            "text/plain": [
              "[4, 3, 2, 2]"
            ]
          },
          "metadata": {},
          "execution_count": 5
        }
      ]
    },
    {
      "cell_type": "code",
      "source": [
        ""
      ],
      "metadata": {
        "id": "19JTFaMqM1IN"
      },
      "execution_count": null,
      "outputs": []
    }
  ]
}