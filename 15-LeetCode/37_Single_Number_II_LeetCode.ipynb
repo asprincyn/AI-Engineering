{
  "nbformat": 4,
  "nbformat_minor": 0,
  "metadata": {
    "colab": {
      "name": "37 Single Number II LeetCode.ipynb",
      "provenance": [],
      "authorship_tag": "ABX9TyOwCBnVpuYlHtQNG/WZCNAw",
      "include_colab_link": true
    },
    "kernelspec": {
      "name": "python3",
      "display_name": "Python 3"
    },
    "language_info": {
      "name": "python"
    }
  },
  "cells": [
    {
      "cell_type": "markdown",
      "metadata": {
        "id": "view-in-github",
        "colab_type": "text"
      },
      "source": [
        "<a href=\"https://colab.research.google.com/github/plthiyagu/AI-Engineering/blob/master/15-LeetCode/37_Single_Number_II_LeetCode.ipynb\" target=\"_parent\"><img src=\"https://colab.research.google.com/assets/colab-badge.svg\" alt=\"Open In Colab\"/></a>"
      ]
    },
    {
      "cell_type": "code",
      "execution_count": 2,
      "metadata": {
        "id": "MfSWbXoKD-93"
      },
      "outputs": [],
      "source": [
        "from typing import List\n",
        "class Solution:\n",
        "    def singleNumber(self, nums: List[int]) -> int:\n",
        "        seen_once = seen_twice =0\n",
        "        for num in nums:\n",
        "            \n",
        "            seen_once= ~seen_twice & (seen_once ^ num)\n",
        "            seen_twice= ~seen_once &(seen_twice ^ num)\n",
        "        return seen_once\n",
        "        "
      ]
    },
    {
      "cell_type": "code",
      "source": [
        "nums=[2,2,3,2]\n",
        "sol= Solution()\n",
        "sol.singleNumber(nums)"
      ],
      "metadata": {
        "colab": {
          "base_uri": "https://localhost:8080/"
        },
        "id": "i0jYjCpKEADa",
        "outputId": "0a246002-fa8c-46b8-96be-81ab252ee28a"
      },
      "execution_count": 4,
      "outputs": [
        {
          "output_type": "execute_result",
          "data": {
            "text/plain": [
              "3"
            ]
          },
          "metadata": {},
          "execution_count": 4
        }
      ]
    },
    {
      "cell_type": "code",
      "source": [
        "from collections  import Counter\n",
        "from typing import List\n",
        "class Solution:\n",
        "    def singleNumber(self, nums: List[int]) -> int:\n",
        "      hashmap = Counter(nums)\n",
        "\n",
        "      for k in hashmap.keys():\n",
        "        if hashmap[k]==1:\n",
        "          return k\n"
      ],
      "metadata": {
        "id": "YIIY9ZFHERhA"
      },
      "execution_count": 5,
      "outputs": []
    },
    {
      "cell_type": "code",
      "source": [
        "nums=[2,2,3,2]\n",
        "sol= Solution()\n",
        "sol.singleNumber(nums)"
      ],
      "metadata": {
        "colab": {
          "base_uri": "https://localhost:8080/"
        },
        "id": "b1J2lftcEyCZ",
        "outputId": "4faa0116-cc60-4a3f-c15e-35dbe9b46e9e"
      },
      "execution_count": 6,
      "outputs": [
        {
          "output_type": "execute_result",
          "data": {
            "text/plain": [
              "3"
            ]
          },
          "metadata": {},
          "execution_count": 6
        }
      ]
    },
    {
      "cell_type": "code",
      "source": [
        ""
      ],
      "metadata": {
        "id": "qEdoUic6Ezv9"
      },
      "execution_count": null,
      "outputs": []
    }
  ]
}