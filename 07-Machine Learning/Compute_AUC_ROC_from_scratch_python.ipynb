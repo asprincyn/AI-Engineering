{
  "nbformat": 4,
  "nbformat_minor": 0,
  "metadata": {
    "colab": {
      "name": "Compute-AUC-ROC-from-scratch-python.ipynb",
      "provenance": [],
      "collapsed_sections": [],
      "authorship_tag": "ABX9TyM9t5EKm0iQ+ZA+vxVvxBK7",
      "include_colab_link": true
    },
    "kernelspec": {
      "name": "python3",
      "display_name": "Python 3"
    },
    "language_info": {
      "name": "python"
    }
  },
  "cells": [
    {
      "cell_type": "markdown",
      "metadata": {
        "id": "view-in-github",
        "colab_type": "text"
      },
      "source": [
        "<a href=\"https://colab.research.google.com/github/plthiyagu/AI-Engineering/blob/master/07-Machine%20Learning/Compute_AUC_ROC_from_scratch_python.ipynb\" target=\"_parent\"><img src=\"https://colab.research.google.com/assets/colab-badge.svg\" alt=\"Open In Colab\"/></a>"
      ]
    },
    {
      "cell_type": "code",
      "execution_count": 16,
      "metadata": {
        "id": "wHeGKZRrSVMn"
      },
      "outputs": [],
      "source": [
        "#Importing the libraries\n",
        "import pandas as pd\n",
        "import numpy as np\n",
        "import matplotlib.pyplot as plt\n",
        "%matplotlib inline\n",
        "from numpy import trapz\n",
        "from scipy.io import loadmat\n",
        "import matplotlib.pyplot as plt"
      ]
    },
    {
      "cell_type": "code",
      "source": [
        "lbls = [1, 1, 0, 0]\n",
        "scores = [0.9, 0.7, 0.6, 0.3]\n",
        "num_points =5\n",
        "thresholds =(np.arange(0, 1.01, 1.0/(num_points-1))).tolist()"
      ],
      "metadata": {
        "id": "n8DV_RfyTr0z"
      },
      "execution_count": 27,
      "outputs": []
    },
    {
      "cell_type": "code",
      "source": [
        "thresholds"
      ],
      "metadata": {
        "colab": {
          "base_uri": "https://localhost:8080/"
        },
        "id": "hDnh7eBEZ2Lw",
        "outputId": "043ebb3c-f508-4fd5-95b0-26930ae53be8"
      },
      "execution_count": 28,
      "outputs": [
        {
          "output_type": "execute_result",
          "data": {
            "text/plain": [
              "[0.0, 0.25, 0.5, 0.75, 1.0]"
            ]
          },
          "metadata": {},
          "execution_count": 28
        }
      ]
    },
    {
      "cell_type": "code",
      "source": [
        "def perf_metrics(y_actual, y_hat,threshold):\n",
        "    tp = 0\n",
        "    fp = 0\n",
        "    tn = 0\n",
        "    fn = 0\n",
        "    \n",
        "    for i in range(len(y_hat)): \n",
        "        if(y_hat[i] >= threshold):\n",
        "            if(y_actual[i] == 1):\n",
        "                tp += 1\n",
        "            else:\n",
        "                fp += 1\n",
        "        elif(y_hat[i] < threshold):\n",
        "            if(y_actual[i] == 0):\n",
        "                tn += 1\n",
        "            else:\n",
        "                fn += 1\n",
        "    \n",
        "    #We find the True positive rate and False positive rate based on the threshold\n",
        "            \n",
        "    tpr = tp/(tp+fn)\n",
        "    fpr = fp/(tn+fp)\n",
        "\n",
        "    return [fpr,tpr]"
      ],
      "metadata": {
        "id": "LPaHJ5dVTZ-e"
      },
      "execution_count": 11,
      "outputs": []
    },
    {
      "cell_type": "code",
      "source": [
        "fpr,tpr =perf_metrics(lbls,scores,0.5)"
      ],
      "metadata": {
        "id": "fFcm2YlnTffk"
      },
      "execution_count": 17,
      "outputs": []
    },
    {
      "cell_type": "code",
      "source": [
        "print('Sensitivity: {} ,'.format(round(tpr,2)),'Specificity: {}'.format(round(1-fpr,2)))"
      ],
      "metadata": {
        "colab": {
          "base_uri": "https://localhost:8080/"
        },
        "id": "zP6R8-1iVGuT",
        "outputId": "845e26e4-7989-4877-ec08-2f8e3619c3a7"
      },
      "execution_count": 18,
      "outputs": [
        {
          "output_type": "stream",
          "name": "stdout",
          "text": [
            "Sensitivity: 1.0 , Specificity: 0.5\n"
          ]
        }
      ]
    },
    {
      "cell_type": "code",
      "source": [
        "roc_points = []\n",
        "for threshold in thresholds:\n",
        "    rates = perf_metrics(lbls, scores, threshold)\n",
        "    roc_points.append(rates)"
      ],
      "metadata": {
        "id": "9klenrd6UApp"
      },
      "execution_count": 29,
      "outputs": []
    },
    {
      "cell_type": "code",
      "source": [
        "fpr_array = []\n",
        "tpr_array = []\n",
        "for i in range(len(roc_points)-1):\n",
        "    point1 = roc_points[i];\n",
        "    point2 = roc_points[i+1]\n",
        "    tpr_array.append([point1[0], point2[0]])\n",
        "    fpr_array.append([point1[1], point2[1]])"
      ],
      "metadata": {
        "id": "_bScs3DTdG38"
      },
      "execution_count": 30,
      "outputs": []
    },
    {
      "cell_type": "code",
      "source": [
        "#We use Trapezoidal rule to calculate the area under the curve and approximating the intergral  \n",
        "auc = sum(np.trapz(tpr_array,fpr_array))+1\n",
        "print('Area under curve={}'.format(auc))"
      ],
      "metadata": {
        "colab": {
          "base_uri": "https://localhost:8080/"
        },
        "id": "osQP-NGsdHYN",
        "outputId": "41a8b8b9-8069-4b6f-e03d-1ac014e9be96"
      },
      "execution_count": 31,
      "outputs": [
        {
          "output_type": "stream",
          "name": "stdout",
          "text": [
            "Area under curve=0.875\n"
          ]
        }
      ]
    },
    {
      "cell_type": "code",
      "source": [
        "plt.plot(tpr_array,fpr_array, 'r', lw=2)\n",
        "plt.plot([0, 1], [0, 1], 'k-', lw=2)\n",
        "plt.xlabel('False Positive Rate')\n",
        "plt.ylabel('True Positive Rate')\n",
        "plt.title('AUC={}'.format(round(auc,3)))\n",
        "plt.show()"
      ],
      "metadata": {
        "colab": {
          "base_uri": "https://localhost:8080/",
          "height": 295
        },
        "id": "j4uaB74YdJOJ",
        "outputId": "81147ce7-efcc-4dda-eead-01922b258274"
      },
      "execution_count": 32,
      "outputs": [
        {
          "output_type": "display_data",
          "data": {
            "text/plain": [
              "<Figure size 432x288 with 1 Axes>"
            ],
            "image/png": "[encoded data removed]"
          },
          "metadata": {
            "needs_background": "light"
          }
        }
      ]
    },
    {
      "cell_type": "code",
      "source": [
        ""
      ],
      "metadata": {
        "id": "nKGZNwdAdLqc"
      },
      "execution_count": null,
      "outputs": []
    }
  ]
}