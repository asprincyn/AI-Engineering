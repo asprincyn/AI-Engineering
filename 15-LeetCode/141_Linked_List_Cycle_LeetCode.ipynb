{
  "nbformat": 4,
  "nbformat_minor": 0,
  "metadata": {
    "colab": {
      "name": "141 Linked List Cycle LeetCode.ipynb",
      "provenance": [],
      "authorship_tag": "ABX9TyMSbOB78GDuk4T/qwIUYI8F",
      "include_colab_link": true
    },
    "kernelspec": {
      "name": "python3",
      "display_name": "Python 3"
    },
    "language_info": {
      "name": "python"
    }
  },
  "cells": [
    {
      "cell_type": "markdown",
      "metadata": {
        "id": "view-in-github",
        "colab_type": "text"
      },
      "source": [
        "<a href=\"https://colab.research.google.com/github/plthiyagu/AI-Engineering/blob/master/15-LeetCode/141_Linked_List_Cycle_LeetCode.ipynb\" target=\"_parent\"><img src=\"https://colab.research.google.com/assets/colab-badge.svg\" alt=\"Open In Colab\"/></a>"
      ]
    },
    {
      "cell_type": "code",
      "execution_count": 2,
      "metadata": {
        "id": "yM5im1hjrAyV"
      },
      "outputs": [],
      "source": [
        "from typing import Optional\n",
        "# Definition for singly-linked list.\n",
        "class ListNode:\n",
        "    def __init__(self, x):\n",
        "        self.val = x\n",
        "        self.next = None\n",
        "\n",
        "class Solution:\n",
        "    def hasCycle(self, head: Optional[ListNode]) -> bool:\n",
        "        nodes_seen = set()\n",
        "        while head is not None:\n",
        "            if head in nodes_seen:\n",
        "                return True\n",
        "            nodes_seen.add(head)\n",
        "            head = head.next\n",
        "        return False\n",
        "        "
      ]
    },
    {
      "cell_type": "code",
      "source": [
        "head = [1,2]\n",
        "pos = 0"
      ],
      "metadata": {
        "id": "-3QBX69OrCyF"
      },
      "execution_count": null,
      "outputs": []
    }
  ]
}