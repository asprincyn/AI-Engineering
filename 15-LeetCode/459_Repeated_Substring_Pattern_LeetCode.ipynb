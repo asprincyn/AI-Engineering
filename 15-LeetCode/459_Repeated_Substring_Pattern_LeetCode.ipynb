{
  "nbformat": 4,
  "nbformat_minor": 0,
  "metadata": {
    "colab": {
      "name": "459 Repeated Substring Pattern LeetCode.ipynb",
      "provenance": [],
      "authorship_tag": "ABX9TyOcljxWOHLa8efUkmvFmve8",
      "include_colab_link": true
    },
    "kernelspec": {
      "name": "python3",
      "display_name": "Python 3"
    },
    "language_info": {
      "name": "python"
    }
  },
  "cells": [
    {
      "cell_type": "markdown",
      "metadata": {
        "id": "view-in-github",
        "colab_type": "text"
      },
      "source": [
        "<a href=\"https://colab.research.google.com/github/plthiyagu/AI-Engineering/blob/master/15-LeetCode/459_Repeated_Substring_Pattern_LeetCode.ipynb\" target=\"_parent\"><img src=\"https://colab.research.google.com/assets/colab-badge.svg\" alt=\"Open In Colab\"/></a>"
      ]
    },
    {
      "cell_type": "code",
      "execution_count": 1,
      "metadata": {
        "id": "Cbu3QqTIx_2n"
      },
      "outputs": [],
      "source": [
        "class Solution:\n",
        "    def repeatedSubstringPattern(self, s: str) -> bool:\n",
        "        size = len(s)\n",
        "        next = [0] * size\n",
        "        for i in range(1, size):\n",
        "            k = next[i - 1]\n",
        "            \n",
        "            while s[i] != s[k] and k :\n",
        "                k = next[k - 1] \n",
        "            if s[i] == s[k]:\n",
        "                next[i] = k + 1\n",
        "        p = next[-1]\n",
        "        return p > 0 and size % (size - p) == 0"
      ]
    },
    {
      "cell_type": "code",
      "source": [
        "sol = Solution()\n",
        "s = \"abab\"\n",
        "sol.repeatedSubstringPattern(s)"
      ],
      "metadata": {
        "colab": {
          "base_uri": "https://localhost:8080/"
        },
        "id": "ppa04egSyGKL",
        "outputId": "a5e968b6-68c8-4b83-c3b0-7593a989101f"
      },
      "execution_count": 3,
      "outputs": [
        {
          "output_type": "execute_result",
          "data": {
            "text/plain": [
              "True"
            ]
          },
          "metadata": {},
          "execution_count": 3
        }
      ]
    },
    {
      "cell_type": "code",
      "source": [
        ""
      ],
      "metadata": {
        "id": "uCvh4ptlySIF"
      },
      "execution_count": null,
      "outputs": []
    }
  ]
}