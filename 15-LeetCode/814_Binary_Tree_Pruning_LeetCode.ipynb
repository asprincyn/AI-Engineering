{
  "nbformat": 4,
  "nbformat_minor": 0,
  "metadata": {
    "colab": {
      "name": "814 Binary Tree Pruning LeetCode.ipynb",
      "provenance": [],
      "authorship_tag": "ABX9TyPBPmqm4lPCtS2RCgjeXm8E",
      "include_colab_link": true
    },
    "kernelspec": {
      "name": "python3",
      "display_name": "Python 3"
    },
    "language_info": {
      "name": "python"
    }
  },
  "cells": [
    {
      "cell_type": "markdown",
      "metadata": {
        "id": "view-in-github",
        "colab_type": "text"
      },
      "source": [
        "<a href=\"https://colab.research.google.com/github/plthiyagu/AI-Engineering/blob/master/15-LeetCode/814_Binary_Tree_Pruning_LeetCode.ipynb\" target=\"_parent\"><img src=\"https://colab.research.google.com/assets/colab-badge.svg\" alt=\"Open In Colab\"/></a>"
      ]
    },
    {
      "cell_type": "code",
      "execution_count": null,
      "metadata": {
        "id": "JFoA668Eandk"
      },
      "outputs": [],
      "source": [
        "# Definition for a binary tree node.\n",
        "# class TreeNode:\n",
        "#     def __init__(self, val=0, left=None, right=None):\n",
        "#         self.val = val\n",
        "#         self.left = left\n",
        "#         self.right = right\n",
        "class Solution:\n",
        "    def pruneTree(self, root: Optional[TreeNode]) -> Optional[TreeNode]:\n",
        "        \n",
        "        if not self.helper(root):\n",
        "            return None\n",
        "                \n",
        "        return root\n",
        "    \n",
        "    \n",
        "    def helper(self, root):\n",
        "        if not root:\n",
        "            return False\n",
        "                \n",
        "        left = self.helper(root.left)\n",
        "        right = self.helper(root.right)\n",
        "        \n",
        "        \n",
        "        if not left:\n",
        "            root.left = None\n",
        "            \n",
        "        if not right:\n",
        "            root.right = None\n",
        "            \n",
        "            \n",
        "        return root.val == 1 or left or right"
      ]
    }
  ]
}