{
  "nbformat": 4,
  "nbformat_minor": 0,
  "metadata": {
    "colab": {
      "name": "Flatten List.ipynb",
      "provenance": [],
      "collapsed_sections": [],
      "authorship_tag": "ABX9TyP6HMgSdVy5ff34Mk+ULEWb",
      "include_colab_link": true
    },
    "kernelspec": {
      "name": "python3",
      "display_name": "Python 3"
    },
    "language_info": {
      "name": "python"
    }
  },
  "cells": [
    {
      "cell_type": "markdown",
      "metadata": {
        "id": "view-in-github",
        "colab_type": "text"
      },
      "source": [
        "<a href=\"https://colab.research.google.com/github/plthiyagu/AI-Engineering/blob/master/15-LeetCode/Flatten_List.ipynb\" target=\"_parent\"><img src=\"https://colab.research.google.com/assets/colab-badge.svg\" alt=\"Open In Colab\"/></a>"
      ]
    },
    {
      "cell_type": "code",
      "execution_count": 12,
      "metadata": {
        "id": "j_grZ2U_II54"
      },
      "outputs": [],
      "source": [
        "flatten_lst= []\n",
        "def flatten(lst):  \n",
        "  for element in lst:\n",
        "    if isinstance(element,list):\n",
        "      flatten(element)\n",
        "    else:\n",
        "      flatten_lst.append(element)\n",
        "  return flatten_lst"
      ]
    },
    {
      "cell_type": "code",
      "source": [
        "nested_list = [[1, 2, 3, 4], [5, 6, 7], [8, 9, 10]]\n",
        "print(\"Original\",nested_list)\n",
        "print(flatten(nested_list))"
      ],
      "metadata": {
        "colab": {
          "base_uri": "https://localhost:8080/"
        },
        "id": "guqd5RMJJeKu",
        "outputId": "9043b923-055e-4a11-9cb0-1d0a36be5006"
      },
      "execution_count": 13,
      "outputs": [
        {
          "output_type": "stream",
          "name": "stdout",
          "text": [
            "Original [[1, 2, 3, 4], [5, 6, 7], [8, 9, 10]]\n",
            "[1, 2, 3, 4, 5, 6, 7, 8, 9, 10]\n"
          ]
        }
      ]
    },
    {
      "cell_type": "code",
      "source": [
        ""
      ],
      "metadata": {
        "id": "5g3oedM_KEI1"
      },
      "execution_count": null,
      "outputs": []
    },
    {
      "cell_type": "code",
      "source": [
        ""
      ],
      "metadata": {
        "id": "jqWw8O6UJxm3"
      },
      "execution_count": null,
      "outputs": []
    }
  ]
}