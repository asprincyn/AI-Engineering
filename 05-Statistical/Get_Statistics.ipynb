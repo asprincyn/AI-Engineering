{
  "nbformat": 4,
  "nbformat_minor": 0,
  "metadata": {
    "colab": {
      "name": "Get_Statistics.ipynb",
      "provenance": [],
      "authorship_tag": "ABX9TyPerxG5+/pDF/mEauhFQc26",
      "include_colab_link": true
    },
    "kernelspec": {
      "name": "python3",
      "display_name": "Python 3"
    },
    "language_info": {
      "name": "python"
    }
  },
  "cells": [
    {
      "cell_type": "markdown",
      "metadata": {
        "id": "view-in-github",
        "colab_type": "text"
      },
      "source": [
        "<a href=\"https://colab.research.google.com/github/plthiyagu/AI-Engineering/blob/master/05-Statistical/Get_Statistics.ipynb\" target=\"_parent\"><img src=\"https://colab.research.google.com/assets/colab-badge.svg\" alt=\"Open In Colab\"/></a>"
      ]
    },
    {
      "cell_type": "code",
      "execution_count": 3,
      "metadata": {
        "id": "RFaHD3m9T4eI"
      },
      "outputs": [],
      "source": [
        "def get_statistics(input_list):\n",
        "  sorted_input = sorted(input_list)\n",
        "  input_length = len(sorted_input)\n",
        "\n",
        "  mean = sum(sorted_input)/input_length\n",
        "  middle_idx =  (len(sorted_input)-1)//2\n",
        "  median = sorted_input[middle_idx]\n",
        "  if input_length %2 ==0:\n",
        "        middle_number_1= sorted_input[middle_idx]\n",
        "        middle_number_2= sorted_input[middle_idx +1]\n",
        "        median=(middle_number_1 +middle_number_2)/2\n",
        "\n",
        "  number_counts = {x:sorted_input.count(x) for x in set(sorted_input)}\n",
        "  mode = max(number_counts.keys(),key= lambda unique_number:number_counts[unique_number])\n",
        "  sample_variance=sum([(number-mean) ** 2/ (input_length-1) for number in sorted_input])\n",
        "  sample_standard_deviation = sample_variance ** 0.5\n",
        "\n",
        "  mean_standard_error = sample_standard_deviation/ input_length ** 0.5\n",
        "  print(mean)\n",
        "  print(median)\n",
        "  print(mode)\n",
        "  print(sample_variance)\n",
        "  print(sample_standard_deviation)\n",
        "  print(mean_standard_error)"
      ]
    },
    {
      "cell_type": "code",
      "source": [
        "get_statistics([10,4,7,20,4,5])"
      ],
      "metadata": {
        "colab": {
          "base_uri": "https://localhost:8080/"
        },
        "id": "WbAeGYBbWzO3",
        "outputId": "71ae799e-d229-497e-bff6-380f7213ba91"
      },
      "execution_count": 4,
      "outputs": [
        {
          "output_type": "stream",
          "name": "stdout",
          "text": [
            "8.333333333333334\n",
            "6.0\n"
          ]
        }
      ]
    },
    {
      "cell_type": "code",
      "source": [
        "def get_statistics(input_list):\n",
        "    # Write your code here.\n",
        "    sorted_input = sorted(input_list)\n",
        "    input_length = len(input_list)\n",
        "\n",
        "    mean = sum(sorted_input)/input_length\n",
        "\n",
        "    middle_idx =  (len(sorted_input)-1)//2\n",
        "    median = sorted_input[middle_idx]\n",
        "     \n",
        "    if input_length %2 ==0:\n",
        "       middle_number_1= sorted_input[middle_idx]\n",
        "       middle_number_2= sorted_input[middle_idx +1]\n",
        "       median=(middle_number_1 +middle_number_2)/2\n",
        "\n",
        "    number_counts = {x:sorted_input.count(x) for x in set(sorted_input)}\n",
        "\n",
        "    mode = max(number_counts.keys(),key= lambda unique_number:number_counts[unique_number])\n",
        "\n",
        "    sample_variance=sum([(number-mean) ** 2/ (input_length-1) for number in sorted_input])\n",
        "    \n",
        "    sample_standard_deviation = sample_variance ** 0.5\n",
        "\n",
        "    mean_standard_error = sample_standard_deviation/ input_length ** 0.5\n",
        "    z_score_standard_error = 1.96 * mean_standard_error\n",
        "    mean_confidence_interval = [mean - z_score_standard_error , mean + z_score_standard_error]\n",
        "     \n",
        "    return {\n",
        "        \"mean\": mean,\n",
        "        \"median\": median,\n",
        "        \"mode\": mode,\n",
        "        \"sample_variance\": sample_variance,\n",
        "        \"sample_standard_deviation\": sample_standard_deviation,\n",
        "        \"mean_confidence_interval\": [mean_confidence_interval],\n",
        "    }"
      ],
      "metadata": {
        "id": "xmSXlPhiW80S"
      },
      "execution_count": 8,
      "outputs": []
    },
    {
      "cell_type": "code",
      "source": [
        "dic = get_statistics([10,4,7,20,4,5])"
      ],
      "metadata": {
        "id": "0dH9gftPnB1O"
      },
      "execution_count": 9,
      "outputs": []
    },
    {
      "cell_type": "code",
      "source": [
        "dic"
      ],
      "metadata": {
        "colab": {
          "base_uri": "https://localhost:8080/"
        },
        "id": "mNiUHpDHnHBX",
        "outputId": "34a9e800-277e-47c6-cdfd-e712f065f987"
      },
      "execution_count": 10,
      "outputs": [
        {
          "output_type": "execute_result",
          "data": {
            "text/plain": [
              "{'mean': 8.333333333333334,\n",
              " 'mean_confidence_interval': [[3.4094360512564164, 13.25723061541025]],\n",
              " 'median': 6.0,\n",
              " 'mode': 4,\n",
              " 'sample_standard_deviation': 6.153589738247641,\n",
              " 'sample_variance': 37.86666666666667}"
            ]
          },
          "metadata": {},
          "execution_count": 10
        }
      ]
    },
    {
      "cell_type": "code",
      "source": [
        ""
      ],
      "metadata": {
        "id": "j5jza8vGnHqS"
      },
      "execution_count": null,
      "outputs": []
    }
  ]
}