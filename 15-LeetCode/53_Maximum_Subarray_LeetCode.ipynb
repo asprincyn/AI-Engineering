{
  "nbformat": 4,
  "nbformat_minor": 0,
  "metadata": {
    "colab": {
      "name": "53 Maximum Subarray LeetCode.ipynb",
      "provenance": [],
      "authorship_tag": "ABX9TyP3v6KkADtpvWl2RNJUSEwi",
      "include_colab_link": true
    },
    "kernelspec": {
      "name": "python3",
      "display_name": "Python 3"
    },
    "language_info": {
      "name": "python"
    }
  },
  "cells": [
    {
      "cell_type": "markdown",
      "metadata": {
        "id": "view-in-github",
        "colab_type": "text"
      },
      "source": [
        "<a href=\"https://colab.research.google.com/github/plthiyagu/AI-Engineering/blob/master/15-LeetCode/53_Maximum_Subarray_LeetCode.ipynb\" target=\"_parent\"><img src=\"https://colab.research.google.com/assets/colab-badge.svg\" alt=\"Open In Colab\"/></a>"
      ]
    },
    {
      "cell_type": "code",
      "execution_count": 2,
      "metadata": {
        "id": "PDSgHezoQWPs"
      },
      "outputs": [],
      "source": [
        "from typing import List\n",
        "def maxSubArray(nums: List[int]) -> int:\n",
        "    dp = [0]*len(nums)\n",
        "    dp[0] = nums[0]\n",
        "    max_num = nums[0]\n",
        "    for i in range(1, len(nums)):\n",
        "        dp[i] = max(dp[i-1]+nums[i], nums[i])\n",
        "        if dp[i]>max_num: max_num = dp[i]\n",
        "    return max_num"
      ]
    },
    {
      "cell_type": "code",
      "source": [
        "nums = [-2,1,-3,4,-1,2,1,-5,4]\n",
        "maxSubArray(nums)"
      ],
      "metadata": {
        "colab": {
          "base_uri": "https://localhost:8080/"
        },
        "id": "bv_-lqzhQbh_",
        "outputId": "6d7a419c-7042-4e68-b95f-53d0c9c0f0a4"
      },
      "execution_count": 3,
      "outputs": [
        {
          "output_type": "execute_result",
          "data": {
            "text/plain": [
              "6"
            ]
          },
          "metadata": {},
          "execution_count": 3
        }
      ]
    }
  ]
}