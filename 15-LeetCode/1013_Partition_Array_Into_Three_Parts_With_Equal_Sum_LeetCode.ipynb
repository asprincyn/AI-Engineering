{
  "nbformat": 4,
  "nbformat_minor": 0,
  "metadata": {
    "colab": {
      "name": "1013 Partition Array Into Three Parts With Equal Sum LeetCode.ipynb",
      "provenance": [],
      "collapsed_sections": [],
      "authorship_tag": "ABX9TyOdQfzfWbaPZqeGOjV2PPf4",
      "include_colab_link": true
    },
    "kernelspec": {
      "name": "python3",
      "display_name": "Python 3"
    },
    "language_info": {
      "name": "python"
    }
  },
  "cells": [
    {
      "cell_type": "markdown",
      "metadata": {
        "id": "view-in-github",
        "colab_type": "text"
      },
      "source": [
        "<a href=\"https://colab.research.google.com/github/plthiyagu/AI-Engineering/blob/master/15-LeetCode/1013_Partition_Array_Into_Three_Parts_With_Equal_Sum_LeetCode.ipynb\" target=\"_parent\"><img src=\"https://colab.research.google.com/assets/colab-badge.svg\" alt=\"Open In Colab\"/></a>"
      ]
    },
    {
      "cell_type": "code",
      "execution_count": 2,
      "metadata": {
        "id": "Fa0dX4AtPQAG"
      },
      "outputs": [],
      "source": [
        "from typing import List\n",
        "class Solution:\n",
        "    def canThreePartsEqualSum(self, arr: List[int]) -> bool:\n",
        "        if len(arr)==3: return True\n",
        "        total = sum(arr)\n",
        "        if total %3 != 0 : return False\n",
        "        tmp =0\n",
        "        count =0\n",
        "        for i in arr:\n",
        "            tmp += i\n",
        "            if tmp != total/3:\n",
        "                continue\n",
        "            else:\n",
        "                count +=1\n",
        "                tmp =0\n",
        "        return count ==3  "
      ]
    },
    {
      "cell_type": "code",
      "source": [
        "arr = [0,2,1,-6,6,-7,9,1,2,0,1]\n",
        "sol = Solution()\n",
        "sol.canThreePartsEqualSum(arr)"
      ],
      "metadata": {
        "colab": {
          "base_uri": "https://localhost:8080/"
        },
        "id": "fUYhbmGtPSnL",
        "outputId": "3a44e484-0033-491e-9e21-eed4ab6d9ac5"
      },
      "execution_count": 3,
      "outputs": [
        {
          "output_type": "execute_result",
          "data": {
            "text/plain": [
              "True"
            ]
          },
          "metadata": {},
          "execution_count": 3
        }
      ]
    },
    {
      "cell_type": "code",
      "source": [
        ""
      ],
      "metadata": {
        "id": "JCiWtYIvPdjI"
      },
      "execution_count": null,
      "outputs": []
    }
  ]
}