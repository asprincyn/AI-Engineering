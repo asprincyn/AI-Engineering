{
  "nbformat": 4,
  "nbformat_minor": 0,
  "metadata": {
    "colab": {
      "name": "Delete nth.ipynb",
      "provenance": [],
      "authorship_tag": "ABX9TyNIzlAKNyxeOuHdnKT3bgw/",
      "include_colab_link": true
    },
    "kernelspec": {
      "name": "python3",
      "display_name": "Python 3"
    },
    "language_info": {
      "name": "python"
    }
  },
  "cells": [
    {
      "cell_type": "markdown",
      "metadata": {
        "id": "view-in-github",
        "colab_type": "text"
      },
      "source": [
        "<a href=\"https://colab.research.google.com/github/plthiyagu/AI-Engineering/blob/master/15-LeetCode/Delete_nth.ipynb\" target=\"_parent\"><img src=\"https://colab.research.google.com/assets/colab-badge.svg\" alt=\"Open In Colab\"/></a>"
      ]
    },
    {
      "cell_type": "code",
      "execution_count": 6,
      "metadata": {
        "id": "_pBExJzlcXeh"
      },
      "outputs": [],
      "source": [
        "import collections\n",
        "def delete_nth(array, n):\n",
        " results= []\n",
        " counts= collections.defaultdict(int)\n",
        " for i in array:\n",
        "   if counts[i] <n:\n",
        "     results.append(i)\n",
        "     counts[i] +=1\n",
        " return results\n"
      ]
    },
    {
      "cell_type": "code",
      "source": [
        "input =[1,2,3,1,2,1,2,3]\n",
        "n=2\n",
        "delete_nth(input,n)"
      ],
      "metadata": {
        "colab": {
          "base_uri": "https://localhost:8080/"
        },
        "id": "9L5bugktdkOJ",
        "outputId": "fe632b57-76f6-4de4-cc38-0ffbd487d613"
      },
      "execution_count": 7,
      "outputs": [
        {
          "output_type": "execute_result",
          "data": {
            "text/plain": [
              "[1, 2, 3, 1, 2, 3]"
            ]
          },
          "metadata": {},
          "execution_count": 7
        }
      ]
    },
    {
      "cell_type": "code",
      "source": [
        ""
      ],
      "metadata": {
        "id": "77YVYV5neAdH"
      },
      "execution_count": null,
      "outputs": []
    }
  ]
}