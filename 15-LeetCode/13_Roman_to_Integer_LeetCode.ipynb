{
  "nbformat": 4,
  "nbformat_minor": 0,
  "metadata": {
    "colab": {
      "name": "13 Roman to Integer  LeetCode.ipynb",
      "provenance": [],
      "authorship_tag": "ABX9TyMxFlU7SvwPACVA3jNau/hh",
      "include_colab_link": true
    },
    "kernelspec": {
      "name": "python3",
      "display_name": "Python 3"
    },
    "language_info": {
      "name": "python"
    }
  },
  "cells": [
    {
      "cell_type": "markdown",
      "metadata": {
        "id": "view-in-github",
        "colab_type": "text"
      },
      "source": [
        "<a href=\"https://colab.research.google.com/github/plthiyagu/AI-Engineering/blob/master/15-LeetCode/13_Roman_to_Integer_LeetCode.ipynb\" target=\"_parent\"><img src=\"https://colab.research.google.com/assets/colab-badge.svg\" alt=\"Open In Colab\"/></a>"
      ]
    },
    {
      "cell_type": "code",
      "execution_count": 3,
      "metadata": {
        "id": "lfs_dvqdV8jL"
      },
      "outputs": [],
      "source": [
        "values = {\n",
        "    \"I\": 1,\n",
        "    \"V\": 5,\n",
        "    \"X\": 10,\n",
        "    \"L\": 50,\n",
        "    \"C\": 100,\n",
        "    \"D\": 500,\n",
        "    \"M\": 1000,\n",
        "    \"IV\": 4,\n",
        "    \"IX\": 9,\n",
        "    \"XL\": 40, \n",
        "    \"XC\": 90,\n",
        "    \"CD\": 400,\n",
        "    \"CM\": 900\n",
        "}\n",
        "class Solution:\n",
        "    def romanToInt(self, s: str) -> int:\n",
        "      total =0\n",
        "      i=0\n",
        "      while i < len(s):\n",
        "        if i < len(s) -1  and s[i:i+2] in values:\n",
        "          total += values[s[i:i+2]]\n",
        "          i +=2\n",
        "        else:\n",
        "          total += values[s[i]]\n",
        "          i += 1\n",
        "      return total"
      ]
    },
    {
      "cell_type": "code",
      "source": [
        "s = \"MCMXCIV\"\n",
        "sol = Solution()\n",
        "sol.romanToInt(s)"
      ],
      "metadata": {
        "colab": {
          "base_uri": "https://localhost:8080/"
        },
        "id": "0ilREpSjUtg7",
        "outputId": "693fced5-8260-43df-d4d8-29d0ef232853"
      },
      "execution_count": 5,
      "outputs": [
        {
          "output_type": "execute_result",
          "data": {
            "text/plain": [
              "1994"
            ]
          },
          "metadata": {},
          "execution_count": 5
        }
      ]
    },
    {
      "cell_type": "code",
      "source": [
        ""
      ],
      "metadata": {
        "id": "pnCSfAH3U1hT"
      },
      "execution_count": null,
      "outputs": []
    }
  ]
}