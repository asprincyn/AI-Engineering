{
  "nbformat": 4,
  "nbformat_minor": 0,
  "metadata": {
    "colab": {
      "name": "Flatten array.ipynb",
      "provenance": [],
      "collapsed_sections": [],
      "authorship_tag": "ABX9TyNwlsVVyQN5kgwEglVduJms",
      "include_colab_link": true
    },
    "kernelspec": {
      "name": "python3",
      "display_name": "Python 3"
    },
    "language_info": {
      "name": "python"
    }
  },
  "cells": [
    {
      "cell_type": "markdown",
      "metadata": {
        "id": "view-in-github",
        "colab_type": "text"
      },
      "source": [
        "<a href=\"https://colab.research.google.com/github/plthiyagu/AI-Engineering/blob/master/15-LeetCode/Flatten_Array.ipynb\" target=\"_parent\"><img src=\"https://colab.research.google.com/assets/colab-badge.svg\" alt=\"Open In Colab\"/></a>"
      ]
    },
    {
      "cell_type": "code",
      "execution_count": 33,
      "metadata": {
        "id": "FJSHragJppSh"
      },
      "outputs": [],
      "source": [
        "# return list\n",
        "def flatten(input_arr):\n",
        "  output_arr =[]\n",
        "  for ele in input_arr:\n",
        "    if isinstance(ele,list):\n",
        "       output_arr.extend(flatten(ele))\n",
        "    else:\n",
        "      output_arr.append(ele)\n",
        "  return output_arr"
      ]
    },
    {
      "cell_type": "code",
      "source": [
        "regular_list = [[1, 2, 3, 4], [5, 6, 7], [8, 9]]\n",
        "flatten(regular_list)"
      ],
      "metadata": {
        "colab": {
          "base_uri": "https://localhost:8080/"
        },
        "id": "kkz-t4jLtw5h",
        "outputId": "1f673a58-5c18-4ef0-ae19-088b420ec790"
      },
      "execution_count": 34,
      "outputs": [
        {
          "output_type": "execute_result",
          "data": {
            "text/plain": [
              "[1, 2, 3, 4, 5, 6, 7, 8, 9]"
            ]
          },
          "metadata": {},
          "execution_count": 34
        }
      ]
    },
    {
      "cell_type": "code",
      "source": [
        "from collections.abc import Iterable"
      ],
      "metadata": {
        "id": "0sGsiwZ9vsQT"
      },
      "execution_count": 35,
      "outputs": []
    },
    {
      "cell_type": "code",
      "source": [
        "# return list\n",
        "def flatten(input_arr, output_arr=None):\n",
        "    if output_arr is None:\n",
        "        output_arr = []\n",
        "    for ele in input_arr:\n",
        "        if not isinstance(ele, str) and isinstance(ele, Iterable):\n",
        "            flatten(ele, output_arr)    #tail-recursion\n",
        "        else:\n",
        "            output_arr.append(ele)      #produce the result\n",
        "    return output_arr\n"
      ],
      "metadata": {
        "id": "u4wNrxyfxbw_"
      },
      "execution_count": 36,
      "outputs": []
    },
    {
      "cell_type": "code",
      "source": [
        "# returns iterator\n",
        "def flatten_iter(iterable):\n",
        "    \"\"\"\n",
        "    Takes as input multi dimensional iterable and\n",
        "    returns generator which produces one dimensional output.\n",
        "    \"\"\"\n",
        "    for element in iterable:\n",
        "        if not isinstance(element, str) and isinstance(element, Iterable):\n",
        "            yield from flatten_iter(element)    \n",
        "        else:\n",
        "            yield element"
      ],
      "metadata": {
        "id": "6j6_ArwGxohX"
      },
      "execution_count": 37,
      "outputs": []
    },
    {
      "cell_type": "code",
      "source": [
        ""
      ],
      "metadata": {
        "id": "TpA3W3tAxr6T"
      },
      "execution_count": null,
      "outputs": []
    }
  ]
}