{
  "nbformat": 4,
  "nbformat_minor": 0,
  "metadata": {
    "colab": {
      "name": "53 Maximum Subarray LeetCode.ipynb",
      "provenance": [],
      "collapsed_sections": [],
      "authorship_tag": "ABX9TyMHzPg8kPVv8Z4i3DGJb1yX",
      "include_colab_link": true
    },
    "kernelspec": {
      "name": "python3",
      "display_name": "Python 3"
    },
    "language_info": {
      "name": "python"
    }
  },
  "cells": [
    {
      "cell_type": "markdown",
      "metadata": {
        "id": "view-in-github",
        "colab_type": "text"
      },
      "source": [
        "<a href=\"https://colab.research.google.com/github/plthiyagu/AI-Engineering/blob/master/15-LeetCode/53_Maximum_Subarray_LeetCode.ipynb\" target=\"_parent\"><img src=\"https://colab.research.google.com/assets/colab-badge.svg\" alt=\"Open In Colab\"/></a>"
      ]
    },
    {
      "cell_type": "code",
      "execution_count": 1,
      "metadata": {
        "id": "tg9sdvTAg-kd"
      },
      "outputs": [],
      "source": [
        "from typing import List\n",
        "class Solution:\n",
        "    def maxSubArray(self, nums: List[int]) -> int:\n",
        "      current_subarray = max_subarray = nums[0]\n",
        "      for num in nums[1:]:\n",
        "        current_subarray= max(num,current_subarray+num)\n",
        "        max_subarray= max(max_subarray,current_subarray)\n",
        "      return max_subarray"
      ]
    },
    {
      "cell_type": "code",
      "source": [
        "nums=[-2,1,-3,4,-1,2,1,-5,4]\n",
        "sol = Solution()\n",
        "sol.maxSubArray(nums)"
      ],
      "metadata": {
        "colab": {
          "base_uri": "https://localhost:8080/"
        },
        "id": "TKmDAuhmhjOc",
        "outputId": "599c2c4c-9184-4ddb-bf6a-7d91873b8024"
      },
      "execution_count": 2,
      "outputs": [
        {
          "output_type": "execute_result",
          "data": {
            "text/plain": [
              "6"
            ]
          },
          "metadata": {},
          "execution_count": 2
        }
      ]
    },
    {
      "cell_type": "code",
      "source": [
        ""
      ],
      "metadata": {
        "id": "IY6LN6R3hsjV"
      },
      "execution_count": null,
      "outputs": []
    }
  ]
}