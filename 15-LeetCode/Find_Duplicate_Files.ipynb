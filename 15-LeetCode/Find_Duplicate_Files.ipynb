{
  "nbformat": 4,
  "nbformat_minor": 0,
  "metadata": {
    "colab": {
      "name": "Find Duplicate Files.ipynb",
      "provenance": [],
      "authorship_tag": "ABX9TyPBEljRyjWH6ZOsEtbt0cbw",
      "include_colab_link": true
    },
    "kernelspec": {
      "name": "python3",
      "display_name": "Python 3"
    },
    "language_info": {
      "name": "python"
    }
  },
  "cells": [
    {
      "cell_type": "markdown",
      "metadata": {
        "id": "view-in-github",
        "colab_type": "text"
      },
      "source": [
        "<a href=\"https://colab.research.google.com/github/plthiyagu/AI-Engineering/blob/master/15-LeetCode/Find_Duplicate_Files.ipynb\" target=\"_parent\"><img src=\"https://colab.research.google.com/assets/colab-badge.svg\" alt=\"Open In Colab\"/></a>"
      ]
    },
    {
      "cell_type": "code",
      "execution_count": null,
      "metadata": {
        "id": "sXTJdbADfr-U"
      },
      "outputs": [],
      "source": [
        "  import os\n",
        "import hashlib\n",
        "\n",
        "def find_duplicate_files(starting_directory):\n",
        "    files_seen_already = {}\n",
        "    stack = [starting_directory]\n",
        "\n",
        "    # We'll track tuples of (duplicate_file, original_file)\n",
        "    duplicates = []\n",
        "\n",
        "    while len(stack) > 0:\n",
        "        current_path = stack.pop()\n",
        "\n",
        "        # If it's a directory,\n",
        "        # put the contents in our stack\n",
        "        if os.path.isdir(current_path):\n",
        "            for path in os.listdir(current_path):\n",
        "                full_path = os.path.join(current_path, path)\n",
        "                stack.append(full_path)\n",
        "\n",
        "        # If it's a file\n",
        "        else:\n",
        "            # Get its hash\n",
        "            file_hash = sample_hash_file(current_path)\n",
        "\n",
        "            # Get its last edited time\n",
        "            current_last_edited_time = os.path.getmtime(current_path)\n",
        "\n",
        "            # If we've seen it before\n",
        "            if file_hash in files_seen_already:\n",
        "                existing_last_edited_time, existing_path = files_seen_already[file_hash]\n",
        "                if current_last_edited_time > existing_last_edited_time:\n",
        "                    # Current file is the dupe!\n",
        "                    duplicates.append((current_path, existing_path))\n",
        "                else:\n",
        "                    # Old file is the dupe!\n",
        "                    duplicates.append((existing_path, current_path))\n",
        "                    # But also update files_seen_already to have\n",
        "                    # the new file's info\n",
        "                    files_seen_already[file_hash] = (current_last_edited_time, current_path)\n",
        "\n",
        "            # If it's a new file, throw it in files_seen_already\n",
        "            # and record its path and last edited time,\n",
        "            # so we can tell later if it's a dupe\n",
        "            else:\n",
        "                files_seen_already[file_hash] = (current_last_edited_time, current_path)\n",
        "\n",
        "    return duplicates\n",
        "\n",
        "\n",
        "def sample_hash_file(path):\n",
        "    num_bytes_to_read_per_sample = 4000\n",
        "    total_bytes = os.path.getsize(path)\n",
        "    hasher = hashlib.sha512()\n",
        "\n",
        "    with open(path, 'rb') as file:\n",
        "        # If the file is too short to take 3 samples, hash the entire file\n",
        "        if total_bytes < num_bytes_to_read_per_sample * 3:\n",
        "            hasher.update(file.read())\n",
        "        else:\n",
        "            num_bytes_between_samples = (\n",
        "                (total_bytes - num_bytes_to_read_per_sample * 3) / 2\n",
        "            )\n",
        "\n",
        "            # Read first, middle, and last bytes\n",
        "            for offset_multiplier in range(3):\n",
        "                start_of_sample = (\n",
        "                    offset_multiplier\n",
        "                    * (num_bytes_to_read_per_sample + num_bytes_between_samples)\n",
        "                )\n",
        "                file.seek(start_of_sample)\n",
        "                sample = file.read(num_bytes_to_read_per_sample)\n",
        "                hasher.update(sample)\n",
        "\n",
        "    return hasher.hexdigest()"
      ]
    }
  ]
}