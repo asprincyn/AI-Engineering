{
  "nbformat": 4,
  "nbformat_minor": 0,
  "metadata": {
    "colab": {
      "name": "1160 Find Words That Can Be Formed by Characters LeetCode.ipynb",
      "provenance": [],
      "collapsed_sections": [],
      "authorship_tag": "ABX9TyPi53TKDm3iQDACpONowCt3",
      "include_colab_link": true
    },
    "kernelspec": {
      "name": "python3",
      "display_name": "Python 3"
    },
    "language_info": {
      "name": "python"
    }
  },
  "cells": [
    {
      "cell_type": "markdown",
      "metadata": {
        "id": "view-in-github",
        "colab_type": "text"
      },
      "source": [
        "<a href=\"https://colab.research.google.com/github/plthiyagu/AI-Engineering/blob/master/15-LeetCode/1160_Find_Words_That_Can_Be_Formed_by_Characters_LeetCode.ipynb\" target=\"_parent\"><img src=\"https://colab.research.google.com/assets/colab-badge.svg\" alt=\"Open In Colab\"/></a>"
      ]
    },
    {
      "cell_type": "code",
      "execution_count": 3,
      "metadata": {
        "id": "hFvDjLD57W2y"
      },
      "outputs": [],
      "source": [
        "\n",
        "from typing import List\n",
        "class Solution:\n",
        "    def countCharacters(self, words: List[str], chars: str) -> int:\n",
        "      flag = False\n",
        "      ans =0\n",
        "      for word in words:\n",
        "        for char in word:\n",
        "          if word.count(char )<= chars.count(char):\n",
        "            flag = True\n",
        "          else:\n",
        "            flag = False\n",
        "            break\n",
        "        if flag == True:\n",
        "          ans += len(word)\n",
        "      return ans"
      ]
    },
    {
      "cell_type": "code",
      "source": [
        "words = [\"cat\",\"bt\",\"hat\",\"tree\"]\n",
        "chars = \"atach\"\n",
        "sol = Solution()\n",
        "sol.countCharacters(words,chars)"
      ],
      "metadata": {
        "colab": {
          "base_uri": "https://localhost:8080/"
        },
        "id": "4K8Pg8K774Co",
        "outputId": "6f1b1154-36e8-4d5a-fa71-04b8c115cbcb"
      },
      "execution_count": 4,
      "outputs": [
        {
          "output_type": "execute_result",
          "data": {
            "text/plain": [
              "6"
            ]
          },
          "metadata": {},
          "execution_count": 4
        }
      ]
    },
    {
      "cell_type": "code",
      "source": [
        ""
      ],
      "metadata": {
        "id": "II2htIzm8AFI"
      },
      "execution_count": null,
      "outputs": []
    }
  ]
}