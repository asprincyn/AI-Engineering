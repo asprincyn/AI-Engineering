{
  "nbformat": 4,
  "nbformat_minor": 0,
  "metadata": {
    "colab": {
      "name": "300 Longest Increasing Subsequence LeetCode.ipynb",
      "provenance": [],
      "authorship_tag": "ABX9TyP77MOXOyzPaMIyVfzlbIut",
      "include_colab_link": true
    },
    "kernelspec": {
      "name": "python3",
      "display_name": "Python 3"
    },
    "language_info": {
      "name": "python"
    }
  },
  "cells": [
    {
      "cell_type": "markdown",
      "metadata": {
        "id": "view-in-github",
        "colab_type": "text"
      },
      "source": [
        "<a href=\"https://colab.research.google.com/github/plthiyagu/AI-Engineering/blob/master/15-LeetCode/300_Longest_Increasing_Subsequence_LeetCode.ipynb\" target=\"_parent\"><img src=\"https://colab.research.google.com/assets/colab-badge.svg\" alt=\"Open In Colab\"/></a>"
      ]
    },
    {
      "cell_type": "code",
      "execution_count": 3,
      "metadata": {
        "id": "d1TWowF4_cIG"
      },
      "outputs": [],
      "source": [
        "from typing import List\n",
        "def lengthOfLIS(nums: List[int]) -> int:\n",
        "    if not nums: return 0\n",
        "    L = len(nums)\n",
        "    dp=[1]*L\n",
        "    pre_max = nums[0]\n",
        "    for i in range(1,L):\n",
        "        pre_max = nums[i-1] if nums[i-1]>pre_max else pre_max\n",
        "        for j in range(i-1,-1,-1):\n",
        "            if nums[j]<nums[i]:\n",
        "                if nums[j] == pre_max:\n",
        "                    dp[i] = max(dp[i],dp[j]+1)\n",
        "                    break\n",
        "                dp[i] = max(dp[i],dp[j]+1)\n",
        "    return max(dp)"
      ]
    },
    {
      "cell_type": "code",
      "source": [
        "nums = [10,9,2,5,3,7,101,18]\n",
        "lengthOfLIS(nums)"
      ],
      "metadata": {
        "colab": {
          "base_uri": "https://localhost:8080/"
        },
        "id": "5TuWVW5l_pei",
        "outputId": "362e4c35-cf6f-47be-a06f-dc63ae9e51ca"
      },
      "execution_count": 4,
      "outputs": [
        {
          "output_type": "execute_result",
          "data": {
            "text/plain": [
              "4"
            ]
          },
          "metadata": {},
          "execution_count": 4
        }
      ]
    },
    {
      "cell_type": "code",
      "source": [
        ""
      ],
      "metadata": {
        "id": "a0H29kXy_ubB"
      },
      "execution_count": null,
      "outputs": []
    },
    {
      "cell_type": "code",
      "source": [
        ""
      ],
      "metadata": {
        "id": "C3ENlmeC_g_s"
      },
      "execution_count": null,
      "outputs": []
    }
  ]
}