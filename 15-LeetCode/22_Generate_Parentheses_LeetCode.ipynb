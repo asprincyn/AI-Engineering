{
  "nbformat": 4,
  "nbformat_minor": 0,
  "metadata": {
    "colab": {
      "name": "22. Generate Parentheses LeetCode.ipynb",
      "provenance": [],
      "collapsed_sections": [],
      "authorship_tag": "ABX9TyPGuswJL3LDpFYlnqyTter/",
      "include_colab_link": true
    },
    "kernelspec": {
      "name": "python3",
      "display_name": "Python 3"
    },
    "language_info": {
      "name": "python"
    }
  },
  "cells": [
    {
      "cell_type": "markdown",
      "metadata": {
        "id": "view-in-github",
        "colab_type": "text"
      },
      "source": [
        "<a href=\"https://colab.research.google.com/github/plthiyagu/AI-Engineering/blob/master/15-LeetCode/22_Generate_Parentheses_LeetCode.ipynb\" target=\"_parent\"><img src=\"https://colab.research.google.com/assets/colab-badge.svg\" alt=\"Open In Colab\"/></a>"
      ]
    },
    {
      "cell_type": "code",
      "metadata": {
        "id": "J-DI9CVaETTC"
      },
      "source": [
        "from typing import List\n",
        "def generateParenthesis( n: int) -> List[str]:\n",
        "    result = []\n",
        "    \n",
        "    helper(n, n, \"\", result)\n",
        "        \n",
        "    return result\n",
        "\n",
        "def helper( left, right, out, result):\n",
        "    if left < 0 or right < 0 or left > right:\n",
        "        return\n",
        "    \n",
        "    if left == 0 and right == 0:           \n",
        "        result.append(out)\n",
        "        return\n",
        "    \n",
        "    helper(left - 1, right, out + \"(\", result)\n",
        "    helper(left, right - 1, out + \")\", result)"
      ],
      "execution_count": 6,
      "outputs": []
    },
    {
      "cell_type": "code",
      "metadata": {
        "colab": {
          "base_uri": "https://localhost:8080/"
        },
        "id": "NFNzHmOtEYWE",
        "outputId": "78109786-5ea5-438f-c6d6-6d9536d96d00"
      },
      "source": [
        "n=3\n",
        "generateParenthesis(3)"
      ],
      "execution_count": 7,
      "outputs": [
        {
          "output_type": "execute_result",
          "data": {
            "text/plain": [
              "['((()))', '(()())', '(())()', '()(())', '()()()']"
            ]
          },
          "metadata": {},
          "execution_count": 7
        }
      ]
    },
    {
      "cell_type": "code",
      "metadata": {
        "id": "47i2_XCCElY_"
      },
      "source": [
        ""
      ],
      "execution_count": null,
      "outputs": []
    }
  ]
}