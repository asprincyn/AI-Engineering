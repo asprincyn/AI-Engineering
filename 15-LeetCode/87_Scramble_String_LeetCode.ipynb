{
  "nbformat": 4,
  "nbformat_minor": 0,
  "metadata": {
    "colab": {
      "name": "87 Scramble String LeetCode.ipynb",
      "provenance": [],
      "authorship_tag": "ABX9TyP/BpjmiMPFqpQD5jFQSGXM",
      "include_colab_link": true
    },
    "kernelspec": {
      "name": "python3",
      "display_name": "Python 3"
    },
    "language_info": {
      "name": "python"
    }
  },
  "cells": [
    {
      "cell_type": "markdown",
      "metadata": {
        "id": "view-in-github",
        "colab_type": "text"
      },
      "source": [
        "<a href=\"https://colab.research.google.com/github/plthiyagu/AI-Engineering/blob/master/15-LeetCode/87_Scramble_String_LeetCode.ipynb\" target=\"_parent\"><img src=\"https://colab.research.google.com/assets/colab-badge.svg\" alt=\"Open In Colab\"/></a>"
      ]
    },
    {
      "cell_type": "code",
      "execution_count": 1,
      "metadata": {
        "id": "S50jxuvpB3QI"
      },
      "outputs": [],
      "source": [
        "map = {} # key: (s1, s2), value: bool\n",
        "def isScramble(self, s1: str, s2: str) -> bool:\n",
        "    if (s1, s2) in self.map:\n",
        "        return self.map[(s1, s2)]\n",
        "\n",
        "    if len(s1) != len(s2):\n",
        "        # Memorization\n",
        "        self.map[(s1, s2)] = False\n",
        "        return False\n",
        "\n",
        "    if s1 == s2:\n",
        "        # Memorization\n",
        "        self.map[(s1, s2)] = True\n",
        "        return True\n",
        "\n",
        "    # Prunning\n",
        "    if sorted(s1) != sorted(s2):\n",
        "        # Memorization\n",
        "        self.map[(s1, s2)] = False\n",
        "        return False\n",
        "\n",
        "    # i starts from 1, otherwise s[0:0] causes RecursionError\n",
        "    for i in range(1, len(s1)):\n",
        "        if self.isScramble(s1[:i], s2[:i]) and self.isScramble(s1[i:], s2[i:]):\n",
        "            return True\n",
        "\n",
        "        if self.isScramble(s1[:i], s2[len(s2)-i:]) and self.isScramble(s1[i:], s2[:len(s2)-i]):\n",
        "            return True\n",
        "\n",
        "    # Memorization\n",
        "    map[(s1, s2)] = False\n",
        "    return False"
      ]
    },
    {
      "cell_type": "code",
      "source": [
        ""
      ],
      "metadata": {
        "id": "1nzrQTonB4r0"
      },
      "execution_count": null,
      "outputs": []
    }
  ]
}