{
  "nbformat": 4,
  "nbformat_minor": 0,
  "metadata": {
    "colab": {
      "name": "696 Count Binary Substrings LeetCode.ipynb",
      "provenance": [],
      "authorship_tag": "ABX9TyP+Os8OfhQstqzk3heEp1tq",
      "include_colab_link": true
    },
    "kernelspec": {
      "name": "python3",
      "display_name": "Python 3"
    },
    "language_info": {
      "name": "python"
    }
  },
  "cells": [
    {
      "cell_type": "markdown",
      "metadata": {
        "id": "view-in-github",
        "colab_type": "text"
      },
      "source": [
        "<a href=\"https://colab.research.google.com/github/plthiyagu/AI-Engineering/blob/master/15-LeetCode/696_Count_Binary_Substrings_LeetCode.ipynb\" target=\"_parent\"><img src=\"https://colab.research.google.com/assets/colab-badge.svg\" alt=\"Open In Colab\"/></a>"
      ]
    },
    {
      "cell_type": "code",
      "execution_count": 1,
      "metadata": {
        "id": "01cMBuG1n-eK"
      },
      "outputs": [],
      "source": [
        "class Solution:\n",
        "    def countBinarySubstrings(self, s: str) -> int:\n",
        "      groups =[1]\n",
        "      for i in range(1,len(s)):\n",
        "        if s[i-1] != s[i]:\n",
        "          groups.append(1)\n",
        "        else:\n",
        "          groups [-1] +=1\n",
        "      ans =0\n",
        "      for i in range(1,len(groups)):\n",
        "         ans += min(groups[i-1], groups[i])\n",
        "      return ans\n"
      ]
    },
    {
      "cell_type": "code",
      "source": [
        "s = \"00110011\"\n",
        "sol = Solution()\n",
        "sol.countBinarySubstrings(s)"
      ],
      "metadata": {
        "colab": {
          "base_uri": "https://localhost:8080/"
        },
        "id": "KyeLcqgbouqx",
        "outputId": "ff9b077f-fcd7-4c49-ddc3-b0058812b1aa"
      },
      "execution_count": 2,
      "outputs": [
        {
          "output_type": "execute_result",
          "data": {
            "text/plain": [
              "6"
            ]
          },
          "metadata": {},
          "execution_count": 2
        }
      ]
    },
    {
      "cell_type": "code",
      "source": [
        ""
      ],
      "metadata": {
        "id": "Wjsc1IwTpBRq"
      },
      "execution_count": null,
      "outputs": []
    }
  ]
}