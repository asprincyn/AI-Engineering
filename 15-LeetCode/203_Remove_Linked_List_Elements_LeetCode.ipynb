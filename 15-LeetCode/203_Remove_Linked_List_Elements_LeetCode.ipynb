{
  "nbformat": 4,
  "nbformat_minor": 0,
  "metadata": {
    "colab": {
      "name": "203 Remove Linked List Elements LeetCode.ipynb",
      "provenance": [],
      "authorship_tag": "ABX9TyOLOHJOYRlMk6HYLnx7SCvI",
      "include_colab_link": true
    },
    "kernelspec": {
      "name": "python3",
      "display_name": "Python 3"
    },
    "language_info": {
      "name": "python"
    }
  },
  "cells": [
    {
      "cell_type": "markdown",
      "metadata": {
        "id": "view-in-github",
        "colab_type": "text"
      },
      "source": [
        "<a href=\"https://colab.research.google.com/github/plthiyagu/AI-Engineering/blob/master/15-LeetCode/203_Remove_Linked_List_Elements_LeetCode.ipynb\" target=\"_parent\"><img src=\"https://colab.research.google.com/assets/colab-badge.svg\" alt=\"Open In Colab\"/></a>"
      ]
    },
    {
      "cell_type": "code",
      "execution_count": null,
      "metadata": {
        "id": "hWnSzuHxcXCi"
      },
      "outputs": [],
      "source": [
        "# Definition for singly-linked list.\n",
        "class ListNode:\n",
        "    def __init__(self, val=0, next=None):\n",
        "        self.val = val\n",
        "        self.next = next\n",
        "class Solution:\n",
        "    def removeElements(self, head: Optional[ListNode], val: int) -> Optional[ListNode]:\n",
        "        sentinel= ListNode(0)\n",
        "        sentinel.next= head\n",
        "        prev,curr= sentinel,head\n",
        "        while curr:\n",
        "            if curr.val == val:\n",
        "                prev.next= curr.next\n",
        "            else:\n",
        "                prev= curr\n",
        "            curr= curr.next\n",
        "        return sentinel.next\n",
        "        "
      ]
    }
  ]
}