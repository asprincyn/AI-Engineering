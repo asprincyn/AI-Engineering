{
  "nbformat": 4,
  "nbformat_minor": 0,
  "metadata": {
    "colab": {
      "name": "1624 Largest Substring Between Two Equal Characters LeetCode.ipynb",
      "provenance": [],
      "authorship_tag": "ABX9TyPBSy5LJhxyYR28zTG9Y+wR",
      "include_colab_link": true
    },
    "kernelspec": {
      "name": "python3",
      "display_name": "Python 3"
    },
    "language_info": {
      "name": "python"
    }
  },
  "cells": [
    {
      "cell_type": "markdown",
      "metadata": {
        "id": "view-in-github",
        "colab_type": "text"
      },
      "source": [
        "<a href=\"https://colab.research.google.com/github/plthiyagu/AI-Engineering/blob/master/15-LeetCode/1624_Largest_Substring_Between_Two_Equal_Characters_LeetCode.ipynb\" target=\"_parent\"><img src=\"https://colab.research.google.com/assets/colab-badge.svg\" alt=\"Open In Colab\"/></a>"
      ]
    },
    {
      "cell_type": "code",
      "execution_count": 3,
      "metadata": {
        "id": "tNujItNXpx5i"
      },
      "outputs": [],
      "source": [
        "class Solution:\n",
        "    def maxLengthBetweenEqualCharacters(self, s: str) -> int:\n",
        "      longest =-1\n",
        "      visited ={}\n",
        "      for i,c in enumerate(s):\n",
        "        if c in visited:\n",
        "          longest = max(longest,i-visited[c]-1)\n",
        "        else:\n",
        "          visited[c]=i\n",
        "      return longest"
      ]
    },
    {
      "cell_type": "code",
      "source": [
        "s = \"aa\"\n",
        "sol =Solution()\n",
        "sol.maxLengthBetweenEqualCharacters(s)"
      ],
      "metadata": {
        "colab": {
          "base_uri": "https://localhost:8080/"
        },
        "id": "DNF2yL9fqKSv",
        "outputId": "b3bc19ab-f10d-41c2-c595-d4ea7bd4582e"
      },
      "execution_count": 4,
      "outputs": [
        {
          "output_type": "execute_result",
          "data": {
            "text/plain": [
              "0"
            ]
          },
          "metadata": {},
          "execution_count": 4
        }
      ]
    },
    {
      "cell_type": "code",
      "source": [
        ""
      ],
      "metadata": {
        "id": "dNJFpvfpqPb9"
      },
      "execution_count": null,
      "outputs": []
    }
  ]
}