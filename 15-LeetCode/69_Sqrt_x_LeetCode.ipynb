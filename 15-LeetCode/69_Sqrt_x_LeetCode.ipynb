{
  "nbformat": 4,
  "nbformat_minor": 0,
  "metadata": {
    "colab": {
      "name": "69 Sqrt x  LeetCode.ipynb",
      "provenance": [],
      "collapsed_sections": [],
      "authorship_tag": "ABX9TyMjWbNTHLal0D+Y1jlarsBj",
      "include_colab_link": true
    },
    "kernelspec": {
      "name": "python3",
      "display_name": "Python 3"
    },
    "language_info": {
      "name": "python"
    }
  },
  "cells": [
    {
      "cell_type": "markdown",
      "metadata": {
        "id": "view-in-github",
        "colab_type": "text"
      },
      "source": [
        "<a href=\"https://colab.research.google.com/github/plthiyagu/AI-Engineering/blob/master/15-LeetCode/69_Sqrt_x_LeetCode.ipynb\" target=\"_parent\"><img src=\"https://colab.research.google.com/assets/colab-badge.svg\" alt=\"Open In Colab\"/></a>"
      ]
    },
    {
      "cell_type": "code",
      "execution_count": 5,
      "metadata": {
        "id": "MLcBerGBNKQi"
      },
      "outputs": [],
      "source": [
        "class Solution:\n",
        "  def mySqrt(self, x: int) -> int:\n",
        "    start= 0\n",
        "    end = x\n",
        "\n",
        "    while start+1 < end:\n",
        "      mid = start + (end - start) // 2\n",
        "\n",
        "      if mid * mid ==x:\n",
        "        return mid\n",
        "      elif mid * mid < x:\n",
        "        start = mid\n",
        "      else:\n",
        "        end = mid\n",
        "    if end * end == x:\n",
        "      return end\n",
        "      \n",
        "    return start\n",
        "    "
      ]
    },
    {
      "cell_type": "code",
      "source": [
        "sol = Solution()\n",
        "sol.mySqrt(16)"
      ],
      "metadata": {
        "colab": {
          "base_uri": "https://localhost:8080/"
        },
        "id": "eqWVoHmoOidG",
        "outputId": "47e4ed65-f37b-411f-b1f3-0f21f9ee543d"
      },
      "execution_count": 7,
      "outputs": [
        {
          "output_type": "execute_result",
          "data": {
            "text/plain": [
              "4"
            ]
          },
          "metadata": {},
          "execution_count": 7
        }
      ]
    },
    {
      "cell_type": "code",
      "source": [
        ""
      ],
      "metadata": {
        "id": "8LALMRwWOpxU"
      },
      "execution_count": null,
      "outputs": []
    }
  ]
}