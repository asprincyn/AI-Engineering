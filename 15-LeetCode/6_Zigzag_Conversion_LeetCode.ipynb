{
  "nbformat": 4,
  "nbformat_minor": 0,
  "metadata": {
    "colab": {
      "name": "6 Zigzag Conversion LeetCode.ipynb",
      "provenance": [],
      "authorship_tag": "ABX9TyPvzTeIvtYy23s9w9UzHvPL",
      "include_colab_link": true
    },
    "kernelspec": {
      "name": "python3",
      "display_name": "Python 3"
    },
    "language_info": {
      "name": "python"
    }
  },
  "cells": [
    {
      "cell_type": "markdown",
      "metadata": {
        "id": "view-in-github",
        "colab_type": "text"
      },
      "source": [
        "<a href=\"https://colab.research.google.com/github/plthiyagu/AI-Engineering/blob/master/15-LeetCode/6_Zigzag_Conversion_LeetCode.ipynb\" target=\"_parent\"><img src=\"https://colab.research.google.com/assets/colab-badge.svg\" alt=\"Open In Colab\"/></a>"
      ]
    },
    {
      "cell_type": "code",
      "execution_count": 1,
      "metadata": {
        "id": "ACfIJWMwx51v"
      },
      "outputs": [],
      "source": [
        "class Solution:\n",
        "    def convert(self, s: str, numRows: int) -> str:\n",
        "      result =[\"\"] * numRows\n",
        "      row=0\n",
        "      direction =1\n",
        "      for i in range(len(s)):\n",
        "        result[row]= result[row]+ s[i]\n",
        "        if row<numRows-1 and direction==1:\n",
        "          row += 1\n",
        "        elif row >0 and direction ==-1:\n",
        "          row -=1\n",
        "        else:\n",
        "          direction *= -1\n",
        "          row += direction\n",
        "      return ''.join(result)\n"
      ]
    },
    {
      "cell_type": "code",
      "source": [
        "s=\"PAYPALISHIRING\"\n",
        "numRows=3\n",
        "sol= Solution()\n",
        "sol.convert(s,numRows)"
      ],
      "metadata": {
        "colab": {
          "base_uri": "https://localhost:8080/",
          "height": 35
        },
        "id": "lN0o6hYL9KRt",
        "outputId": "690fc519-ca54-4236-ac4d-c235830e417e"
      },
      "execution_count": 2,
      "outputs": [
        {
          "output_type": "execute_result",
          "data": {
            "text/plain": [
              "'PAHNAPLSIIGYIR'"
            ],
            "application/vnd.google.colaboratory.intrinsic+json": {
              "type": "string"
            }
          },
          "metadata": {},
          "execution_count": 2
        }
      ]
    },
    {
      "cell_type": "code",
      "source": [
        ""
      ],
      "metadata": {
        "id": "sYrI68SN9Weg"
      },
      "execution_count": null,
      "outputs": []
    }
  ]
}