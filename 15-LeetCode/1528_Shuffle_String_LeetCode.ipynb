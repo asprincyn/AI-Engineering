{
  "nbformat": 4,
  "nbformat_minor": 0,
  "metadata": {
    "colab": {
      "name": "1528 Shuffle String LeetCode.ipynb",
      "provenance": [],
      "authorship_tag": "ABX9TyNFVmA1fwJ1/phYWBUeZCgV",
      "include_colab_link": true
    },
    "kernelspec": {
      "name": "python3",
      "display_name": "Python 3"
    },
    "language_info": {
      "name": "python"
    }
  },
  "cells": [
    {
      "cell_type": "markdown",
      "metadata": {
        "id": "view-in-github",
        "colab_type": "text"
      },
      "source": [
        "<a href=\"https://colab.research.google.com/github/plthiyagu/AI-Engineering/blob/master/15-LeetCode/1528_Shuffle_String_LeetCode.ipynb\" target=\"_parent\"><img src=\"https://colab.research.google.com/assets/colab-badge.svg\" alt=\"Open In Colab\"/></a>"
      ]
    },
    {
      "cell_type": "code",
      "execution_count": 2,
      "metadata": {
        "id": "LZDkNocxybr2"
      },
      "outputs": [],
      "source": [
        "from typing import List\n",
        "class Solution:\n",
        "    def restoreString(self, s: str, indices: List[int]) -> str:\n",
        "      shuffled = [None] * len(s)\n",
        "      for i in range(len(s)):\n",
        "        shuffled[indices[i]] = s[i]\n",
        "      return \"\".join(shuffled)"
      ]
    },
    {
      "cell_type": "code",
      "source": [
        "s = \"codeleet\"\n",
        "indices = [4,5,6,7,0,2,1,3]\n",
        "sol = Solution()\n",
        "sol.restoreString(s,indices)"
      ],
      "metadata": {
        "colab": {
          "base_uri": "https://localhost:8080/",
          "height": 35
        },
        "id": "MMKc9xCKyxOK",
        "outputId": "23aa17ac-3f8b-4a34-81e9-1f8f1b7a12f9"
      },
      "execution_count": 3,
      "outputs": [
        {
          "output_type": "execute_result",
          "data": {
            "text/plain": [
              "'leetcode'"
            ],
            "application/vnd.google.colaboratory.intrinsic+json": {
              "type": "string"
            }
          },
          "metadata": {},
          "execution_count": 3
        }
      ]
    },
    {
      "cell_type": "code",
      "source": [
        ""
      ],
      "metadata": {
        "id": "q12dKa1by_aF"
      },
      "execution_count": null,
      "outputs": []
    }
  ]
}