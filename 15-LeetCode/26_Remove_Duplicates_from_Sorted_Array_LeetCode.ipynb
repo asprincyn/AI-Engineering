{
  "nbformat": 4,
  "nbformat_minor": 0,
  "metadata": {
    "colab": {
      "name": "26 Remove Duplicates from Sorted Array LeetCode.ipynb",
      "provenance": [],
      "collapsed_sections": [],
      "authorship_tag": "ABX9TyO/T0HqxmLQ0ghYYEjTaONv",
      "include_colab_link": true
    },
    "kernelspec": {
      "name": "python3",
      "display_name": "Python 3"
    },
    "language_info": {
      "name": "python"
    }
  },
  "cells": [
    {
      "cell_type": "markdown",
      "metadata": {
        "id": "view-in-github",
        "colab_type": "text"
      },
      "source": [
        "<a href=\"https://colab.research.google.com/github/plthiyagu/AI-Engineering/blob/master/15-LeetCode/26_Remove_Duplicates_from_Sorted_Array_LeetCode.ipynb\" target=\"_parent\"><img src=\"https://colab.research.google.com/assets/colab-badge.svg\" alt=\"Open In Colab\"/></a>"
      ]
    },
    {
      "cell_type": "code",
      "execution_count": 7,
      "metadata": {
        "id": "sAJgmtg6m3KY"
      },
      "outputs": [],
      "source": [
        "class Solution:\n",
        "    def removeDuplicates(self, nums):\n",
        "        if not nums:\n",
        "            return 0\n",
        "        \n",
        "        i = 0\n",
        "        j = 0\n",
        "\n",
        "        while j < len(nums):\n",
        "            if nums[j] == nums[i]:\n",
        "                j += 1\n",
        "            else:\n",
        "                i += 1\n",
        "                nums[i] = nums[j]\n",
        "\n",
        "        return i + 1"
      ]
    },
    {
      "cell_type": "code",
      "source": [
        "nums = [0,0,1,1,1,2,2,3,3,4]\n",
        "sol= Solution()\n",
        "sol.removeDuplicates(nums)"
      ],
      "metadata": {
        "colab": {
          "base_uri": "https://localhost:8080/"
        },
        "id": "3LD5qE2MnYLz",
        "outputId": "9cc79b95-c22c-4caf-f408-f6e91895e48a"
      },
      "execution_count": 8,
      "outputs": [
        {
          "output_type": "execute_result",
          "data": {
            "text/plain": [
              "5"
            ]
          },
          "metadata": {},
          "execution_count": 8
        }
      ]
    },
    {
      "cell_type": "code",
      "source": [
        ""
      ],
      "metadata": {
        "id": "0mnc6ArNnf8p"
      },
      "execution_count": null,
      "outputs": []
    }
  ]
}