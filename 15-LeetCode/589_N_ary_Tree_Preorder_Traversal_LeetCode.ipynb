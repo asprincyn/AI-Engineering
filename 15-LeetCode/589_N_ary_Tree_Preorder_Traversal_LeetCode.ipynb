{
  "nbformat": 4,
  "nbformat_minor": 0,
  "metadata": {
    "colab": {
      "name": "589 N-ary Tree Preorder Traversal LeetCode.ipynb",
      "provenance": [],
      "authorship_tag": "ABX9TyMR/2X3Kv1sumWyU1GjP9iL",
      "include_colab_link": true
    },
    "kernelspec": {
      "name": "python3",
      "display_name": "Python 3"
    },
    "language_info": {
      "name": "python"
    }
  },
  "cells": [
    {
      "cell_type": "markdown",
      "metadata": {
        "id": "view-in-github",
        "colab_type": "text"
      },
      "source": [
        "<a href=\"https://colab.research.google.com/github/plthiyagu/AI-Engineering/blob/master/15-LeetCode/589_N_ary_Tree_Preorder_Traversal_LeetCode.ipynb\" target=\"_parent\"><img src=\"https://colab.research.google.com/assets/colab-badge.svg\" alt=\"Open In Colab\"/></a>"
      ]
    },
    {
      "cell_type": "code",
      "execution_count": null,
      "metadata": {
        "id": "epzcrI5vCagI"
      },
      "outputs": [],
      "source": [
        "\n",
        "# Definition for a Node.\n",
        "class Node:\n",
        "    def __init__(self, val=None, children=None):\n",
        "        self.val = val\n",
        "        self.children = children\n",
        "\n",
        "\n",
        "class Solution:\n",
        "    def preorder(self, root: 'Node') -> List[int]:\n",
        "        if root is None:\n",
        "            return []\n",
        "        stack,output=[root,],[]\n",
        "        while stack:\n",
        "            root = stack.pop()\n",
        "            output.append(root.val)\n",
        "            stack.extend(root.children[::-1])\n",
        "        return output"
      ]
    },
    {
      "cell_type": "code",
      "source": [
        ""
      ],
      "metadata": {
        "id": "n6SgTcRFCbVN"
      },
      "execution_count": null,
      "outputs": []
    }
  ]
}