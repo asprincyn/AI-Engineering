{
  "nbformat": 4,
  "nbformat_minor": 0,
  "metadata": {
    "colab": {
      "name": "384 Shuffle an Array LeetCode.ipynb",
      "provenance": [],
      "authorship_tag": "ABX9TyMu7nfFtfwdsxOiYRQZVC+V",
      "include_colab_link": true
    },
    "kernelspec": {
      "name": "python3",
      "display_name": "Python 3"
    },
    "language_info": {
      "name": "python"
    }
  },
  "cells": [
    {
      "cell_type": "markdown",
      "metadata": {
        "id": "view-in-github",
        "colab_type": "text"
      },
      "source": [
        "<a href=\"https://colab.research.google.com/github/plthiyagu/AI-Engineering/blob/master/15-LeetCode/384_Shuffle_an_Array_LeetCode.ipynb\" target=\"_parent\"><img src=\"https://colab.research.google.com/assets/colab-badge.svg\" alt=\"Open In Colab\"/></a>"
      ]
    },
    {
      "cell_type": "code",
      "execution_count": 4,
      "metadata": {
        "id": "hRCOlceTnfB2"
      },
      "outputs": [],
      "source": [
        "from typing import List\n",
        "from random import randint\n",
        "class Solution:\n",
        "\n",
        "    def __init__(self, nums: List[int]):\n",
        "        self.original_nums = nums\n",
        "        \n",
        "\n",
        "    def reset(self) -> List[int]:\n",
        "        return self.original_nums\n",
        "        \n",
        "\n",
        "    def shuffle(self) -> List[int]:\n",
        "        shuffle_nums = [0 for i in range(0, len(self.original_nums))]\n",
        "        \n",
        "        new_positions = set()\n",
        "        \n",
        "        for i in range(0, len(self.original_nums)):\n",
        "            num = self.original_nums[i]\n",
        "\n",
        "            new_position = randint(0, len(self.original_nums) - 1)\n",
        "            while new_position in new_positions:\n",
        "                new_position = randint(0, len(self.original_nums) - 1)\n",
        "    \n",
        "            new_positions.add(new_position)\n",
        "            shuffle_nums[new_position] = num\n",
        "    \n",
        "        return shuffle_nums \n",
        "        \n",
        "\n",
        "nums =[[[1, 2, 3]], [], [], []]\n",
        "#Your Solution object will be instantiated and called as such:\n",
        "obj = Solution(nums)\n",
        "param_1 = obj.reset()\n",
        "param_2 = obj.shuffle()"
      ]
    },
    {
      "cell_type": "code",
      "source": [
        ""
      ],
      "metadata": {
        "id": "9eqGQIWknpB9"
      },
      "execution_count": null,
      "outputs": []
    }
  ]
}