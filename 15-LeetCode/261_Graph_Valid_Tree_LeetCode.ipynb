{
  "nbformat": 4,
  "nbformat_minor": 0,
  "metadata": {
    "colab": {
      "name": "261 Graph Valid Tree LeetCode.ipynb",
      "provenance": [],
      "collapsed_sections": [],
      "authorship_tag": "ABX9TyM+n54I4C1+BxOH1/i1U8I4",
      "include_colab_link": true
    },
    "kernelspec": {
      "name": "python3",
      "display_name": "Python 3"
    },
    "language_info": {
      "name": "python"
    }
  },
  "cells": [
    {
      "cell_type": "markdown",
      "metadata": {
        "id": "view-in-github",
        "colab_type": "text"
      },
      "source": [
        "<a href=\"https://colab.research.google.com/github/plthiyagu/AI-Engineering/blob/master/15-LeetCode/261_Graph_Valid_Tree_LeetCode.ipynb\" target=\"_parent\"><img src=\"https://colab.research.google.com/assets/colab-badge.svg\" alt=\"Open In Colab\"/></a>"
      ]
    },
    {
      "cell_type": "code",
      "execution_count": 2,
      "metadata": {
        "id": "gOe1clsa_ZNp"
      },
      "outputs": [],
      "source": [
        "from typing import List\n",
        "import collections\n",
        "class Solution:\n",
        "    def validTree(self, n: int, edges: List[List[int]]) -> bool:\n",
        "        if len(edges) != n-1: return False\n",
        "        dist = collections.defaultdict(list)\n",
        "        for n1,n2 in edges:\n",
        "            dist[n1].append(n2)\n",
        "            dist[n2].append(n1)\n",
        "        visited = set()\n",
        "        queue = collections.deque([0])\n",
        "        while queue:\n",
        "            node= queue.popleft()\n",
        "            visited.add(node)\n",
        "            for related in dist[node]:\n",
        "                if related not in visited:\n",
        "                    visited.add(related)\n",
        "                    queue.append(related)\n",
        "        return len(visited) ==n"
      ]
    },
    {
      "cell_type": "code",
      "source": [
        "n=5\n",
        "edges =[[0,1],[0,2],[0,3],[1,4]]\n",
        "sol = Solution()\n",
        "sol.validTree(n,edges)"
      ],
      "metadata": {
        "colab": {
          "base_uri": "https://localhost:8080/"
        },
        "id": "yZ6eljEr_evv",
        "outputId": "fae40fa5-1cb8-4d9c-df58-97a651cb067a"
      },
      "execution_count": 3,
      "outputs": [
        {
          "output_type": "execute_result",
          "data": {
            "text/plain": [
              "True"
            ]
          },
          "metadata": {},
          "execution_count": 3
        }
      ]
    },
    {
      "cell_type": "code",
      "source": [
        ""
      ],
      "metadata": {
        "id": "DXiwm5yb_qH3"
      },
      "execution_count": null,
      "outputs": []
    }
  ]
}