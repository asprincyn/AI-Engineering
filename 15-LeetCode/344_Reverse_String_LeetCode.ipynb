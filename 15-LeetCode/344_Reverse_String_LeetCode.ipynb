{
  "nbformat": 4,
  "nbformat_minor": 0,
  "metadata": {
    "colab": {
      "name": "344 Reverse String LeetCode.ipynb",
      "provenance": [],
      "authorship_tag": "ABX9TyPJZnthwSzqyjqUFxI/rVYs",
      "include_colab_link": true
    },
    "kernelspec": {
      "name": "python3",
      "display_name": "Python 3"
    },
    "language_info": {
      "name": "python"
    }
  },
  "cells": [
    {
      "cell_type": "markdown",
      "metadata": {
        "id": "view-in-github",
        "colab_type": "text"
      },
      "source": [
        "<a href=\"https://colab.research.google.com/github/plthiyagu/AI-Engineering/blob/master/15-LeetCode/344_Reverse_String_LeetCode.ipynb\" target=\"_parent\"><img src=\"https://colab.research.google.com/assets/colab-badge.svg\" alt=\"Open In Colab\"/></a>"
      ]
    },
    {
      "cell_type": "code",
      "execution_count": 3,
      "metadata": {
        "id": "yypAYzsfYIEh"
      },
      "outputs": [],
      "source": [
        "from typing import List\n",
        "class Solution:\n",
        "    def reverseString(self, s: List[str]) -> None:\n",
        "        \"\"\"\n",
        "        Do not return anything, modify s in-place instead.\n",
        "        \"\"\"\n",
        "        def helper(left,right):\n",
        "            if left< right:\n",
        "                s[left],s[right] = s[right],s[left]\n",
        "                helper(left+1, right -1)\n",
        "        \n",
        "        \n",
        "        helper(0,len(s)-1)\n",
        "        "
      ]
    },
    {
      "cell_type": "code",
      "source": [
        "sol = Solution()\n",
        "s = [\"h\",\"e\",\"l\",\"l\",\"o\"]\n",
        "sol.reverseString(s)"
      ],
      "metadata": {
        "id": "j3xTVbsXYNed"
      },
      "execution_count": 4,
      "outputs": []
    },
    {
      "cell_type": "code",
      "source": [
        "from typing import List\n",
        "class Solution:\n",
        "    def reverseString(self, s: List[str]) -> None:\n",
        "      left,right =0,len(s)-1\n",
        "      while left<right:\n",
        "        s[left],s[right]=s[right],s[left]\n",
        "        left,right = left+1, right-1"
      ],
      "metadata": {
        "id": "y-36PwLrYUsX"
      },
      "execution_count": null,
      "outputs": []
    }
  ]
}