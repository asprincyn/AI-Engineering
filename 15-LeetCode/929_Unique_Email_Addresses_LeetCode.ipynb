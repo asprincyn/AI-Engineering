{
  "nbformat": 4,
  "nbformat_minor": 0,
  "metadata": {
    "colab": {
      "name": "929 Unique Email Addresses LeetCode.ipynb",
      "provenance": [],
      "authorship_tag": "ABX9TyOCie+60NgtQcA+h8GUN0yL",
      "include_colab_link": true
    },
    "kernelspec": {
      "name": "python3",
      "display_name": "Python 3"
    },
    "language_info": {
      "name": "python"
    }
  },
  "cells": [
    {
      "cell_type": "markdown",
      "metadata": {
        "id": "view-in-github",
        "colab_type": "text"
      },
      "source": [
        "<a href=\"https://colab.research.google.com/github/plthiyagu/AI-Engineering/blob/master/15-LeetCode/929_Unique_Email_Addresses_LeetCode.ipynb\" target=\"_parent\"><img src=\"https://colab.research.google.com/assets/colab-badge.svg\" alt=\"Open In Colab\"/></a>"
      ]
    },
    {
      "cell_type": "code",
      "execution_count": 3,
      "metadata": {
        "id": "pFqipRkVk-Uj"
      },
      "outputs": [],
      "source": [
        "from typing import List\n",
        "class Solution:\n",
        "    def numUniqueEmails(self, emails: List[str]) -> int:\n",
        "        ans = {''}\n",
        "        for email in emails:\n",
        "            acc, dom = email.split(\"@\")\n",
        "            print(acc,dom)\n",
        "            acc = acc.split(\"+\")[0].replace(\".\", \"\")\n",
        "            ans.add(acc + \"@\" + dom)\n",
        "        return len(ans)-1"
      ]
    },
    {
      "cell_type": "code",
      "source": [
        "emails = [\"test.email+alex@leetcode.com\",\"test.e.mail+bob.cathy@leetcode.com\",\"testemail+david@lee.tcode.com\"]\n",
        "sol= Solution()\n",
        "sol.numUniqueEmails(emails)"
      ],
      "metadata": {
        "colab": {
          "base_uri": "https://localhost:8080/"
        },
        "id": "xRCMnfaalAel",
        "outputId": "0576c133-ae2d-455c-c61e-9c980cc4222d"
      },
      "execution_count": 4,
      "outputs": [
        {
          "output_type": "stream",
          "name": "stdout",
          "text": [
            "test.email+alex leetcode.com\n",
            "test.e.mail+bob.cathy leetcode.com\n",
            "testemail+david lee.tcode.com\n"
          ]
        },
        {
          "output_type": "execute_result",
          "data": {
            "text/plain": [
              "2"
            ]
          },
          "metadata": {},
          "execution_count": 4
        }
      ]
    },
    {
      "cell_type": "code",
      "source": [
        ""
      ],
      "metadata": {
        "id": "Rr79GWOTlNdg"
      },
      "execution_count": null,
      "outputs": []
    }
  ]
}