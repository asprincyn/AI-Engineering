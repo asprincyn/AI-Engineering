{
  "nbformat": 4,
  "nbformat_minor": 0,
  "metadata": {
    "colab": {
      "name": "1464 Maximum Product of Two Elements in an Array LeetCode.ipynb",
      "provenance": [],
      "authorship_tag": "ABX9TyNAy2rpWq81XOmtLYwLWGlc",
      "include_colab_link": true
    },
    "kernelspec": {
      "name": "python3",
      "display_name": "Python 3"
    },
    "language_info": {
      "name": "python"
    }
  },
  "cells": [
    {
      "cell_type": "markdown",
      "metadata": {
        "id": "view-in-github",
        "colab_type": "text"
      },
      "source": [
        "<a href=\"https://colab.research.google.com/github/plthiyagu/AI-Engineering/blob/master/15-LeetCode/1464_Maximum_Product_of_Two_Elements_in_an_Array_LeetCode.ipynb\" target=\"_parent\"><img src=\"https://colab.research.google.com/assets/colab-badge.svg\" alt=\"Open In Colab\"/></a>"
      ]
    },
    {
      "cell_type": "code",
      "execution_count": 1,
      "metadata": {
        "id": "MVTF7qIIeSF5"
      },
      "outputs": [],
      "source": [
        "class Solution:\n",
        "    def maxProduct(self, nums):\n",
        "        l=len(nums)\n",
        "        nums=sorted(nums,reverse=True)\n",
        "        return (nums[0]-1)*(nums[1]-1)"
      ]
    },
    {
      "cell_type": "code",
      "source": [
        "sol = Solution()\n",
        "nums = [3,4,5,2]\n",
        "sol.maxProduct(nums)"
      ],
      "metadata": {
        "colab": {
          "base_uri": "https://localhost:8080/"
        },
        "id": "FgcTejRCeYEw",
        "outputId": "6502c075-208e-4819-8589-5cce2db1fb61"
      },
      "execution_count": 2,
      "outputs": [
        {
          "output_type": "execute_result",
          "data": {
            "text/plain": [
              "12"
            ]
          },
          "metadata": {},
          "execution_count": 2
        }
      ]
    },
    {
      "cell_type": "code",
      "source": [
        ""
      ],
      "metadata": {
        "id": "z3dl-sy0ei5S"
      },
      "execution_count": null,
      "outputs": []
    }
  ]
}