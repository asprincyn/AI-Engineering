{
  "nbformat": 4,
  "nbformat_minor": 0,
  "metadata": {
    "colab": {
      "name": "1711 Count Good Meals LeetCode.ipynb",
      "provenance": [],
      "authorship_tag": "ABX9TyMDWzZiqNW62ZHaRKNqGZ1X",
      "include_colab_link": true
    },
    "kernelspec": {
      "name": "python3",
      "display_name": "Python 3"
    },
    "language_info": {
      "name": "python"
    }
  },
  "cells": [
    {
      "cell_type": "markdown",
      "metadata": {
        "id": "view-in-github",
        "colab_type": "text"
      },
      "source": [
        "<a href=\"https://colab.research.google.com/github/plthiyagu/AI-Engineering/blob/master/15-LeetCode/1711_Count_Good_Meals_LeetCode.ipynb\" target=\"_parent\"><img src=\"https://colab.research.google.com/assets/colab-badge.svg\" alt=\"Open In Colab\"/></a>"
      ]
    },
    {
      "cell_type": "code",
      "execution_count": 4,
      "metadata": {
        "id": "x2zGDET4H2p7"
      },
      "outputs": [],
      "source": [
        "from typing import List\n",
        "from collections import defaultdict\n",
        "\n",
        "def countPairs(deliciousness: List[int]) -> int:\n",
        "    d=defaultdict(int)\n",
        "    res=0\n",
        "    for num in deliciousness:\n",
        "        for i in range(22):\n",
        "            res+=d[2**i-num]\n",
        "        d[num]+=1\n",
        "    return res%(10**9+7)"
      ]
    },
    {
      "cell_type": "code",
      "source": [
        "deliciousness = [1,3,5,7,9]\n",
        "countPairs(deliciousness)"
      ],
      "metadata": {
        "colab": {
          "base_uri": "https://localhost:8080/"
        },
        "id": "s0j7bkS2H7fM",
        "outputId": "572cf7c7-5301-49ec-ce06-0100ff894ed9"
      },
      "execution_count": 5,
      "outputs": [
        {
          "output_type": "execute_result",
          "data": {
            "text/plain": [
              "4"
            ]
          },
          "metadata": {},
          "execution_count": 5
        }
      ]
    },
    {
      "cell_type": "code",
      "source": [
        ""
      ],
      "metadata": {
        "id": "E8-fVzzlIKYp"
      },
      "execution_count": null,
      "outputs": []
    }
  ]
}