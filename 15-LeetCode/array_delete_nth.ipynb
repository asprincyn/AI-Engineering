{
  "nbformat": 4,
  "nbformat_minor": 0,
  "metadata": {
    "colab": {
      "name": "array delete_nth.ipynb",
      "provenance": [],
      "authorship_tag": "ABX9TyMmDuOTHGidgNS23N30Hepz",
      "include_colab_link": true
    },
    "kernelspec": {
      "name": "python3",
      "display_name": "Python 3"
    },
    "language_info": {
      "name": "python"
    }
  },
  "cells": [
    {
      "cell_type": "markdown",
      "metadata": {
        "id": "view-in-github",
        "colab_type": "text"
      },
      "source": [
        "<a href=\"https://colab.research.google.com/github/plthiyagu/AI-Engineering/blob/master/15-LeetCode/array_delete_nth.ipynb\" target=\"_parent\"><img src=\"https://colab.research.google.com/assets/colab-badge.svg\" alt=\"Open In Colab\"/></a>"
      ]
    },
    {
      "cell_type": "code",
      "source": [
        "import collections"
      ],
      "metadata": {
        "id": "ItTjbIeRiwGI"
      },
      "execution_count": 10,
      "outputs": []
    },
    {
      "cell_type": "code",
      "execution_count": 7,
      "metadata": {
        "id": "ph1LNTxwheJB"
      },
      "outputs": [],
      "source": [
        "def delete_nth(nums,n):\n",
        "   arr = []\n",
        "   for i in nums:\n",
        "     if arr.count(n)<n:\n",
        "       arr.append(i)\n",
        "   return arr"
      ]
    },
    {
      "cell_type": "code",
      "source": [
        "N = 1\n",
        "input = [1,2,3,1,2,1,2,3]\n",
        "delete_nth(input,N)"
      ],
      "metadata": {
        "colab": {
          "base_uri": "https://localhost:8080/"
        },
        "id": "JJPckcl-ht38",
        "outputId": "f3de0f3c-a031-4db6-ba64-0069a3453795"
      },
      "execution_count": 14,
      "outputs": [
        {
          "output_type": "execute_result",
          "data": {
            "text/plain": [
              "[1, 2, 1, 2, 1, 2]"
            ]
          },
          "metadata": {},
          "execution_count": 14
        }
      ]
    },
    {
      "cell_type": "code",
      "source": [
        "def delete_nth(nums,n):\n",
        "\n",
        "   results = []\n",
        "   counts = collections.defaultdict(int)  # keep track of occurrences\n",
        "   for num in nums:\n",
        "     if counts[num] < n:\n",
        "       results.append(num)\n",
        "       counts[num] +=1\n",
        "   return results\n",
        "    "
      ],
      "metadata": {
        "id": "o4dmSbOlihzy"
      },
      "execution_count": 15,
      "outputs": []
    },
    {
      "cell_type": "code",
      "source": [
        "N = 1\n",
        "input = [1,2,3,1,2,1,2,3]\n",
        "delete_nth(input,N)"
      ],
      "metadata": {
        "colab": {
          "base_uri": "https://localhost:8080/"
        },
        "id": "bTvtYYk5nZMU",
        "outputId": "3bb81ed9-f0a8-468e-cc08-e271e6ed997c"
      },
      "execution_count": 16,
      "outputs": [
        {
          "output_type": "execute_result",
          "data": {
            "text/plain": [
              "[1, 2, 3]"
            ]
          },
          "metadata": {},
          "execution_count": 16
        }
      ]
    },
    {
      "cell_type": "code",
      "source": [
        ""
      ],
      "metadata": {
        "id": "v3UMS6hOncAD"
      },
      "execution_count": null,
      "outputs": []
    }
  ]
}