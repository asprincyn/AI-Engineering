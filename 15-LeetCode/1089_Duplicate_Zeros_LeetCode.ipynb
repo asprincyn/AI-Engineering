{
  "nbformat": 4,
  "nbformat_minor": 0,
  "metadata": {
    "colab": {
      "name": "1089 Duplicate Zeros  LeetCode.ipynb",
      "provenance": [],
      "authorship_tag": "ABX9TyNFNHYL9iZWCwq/t104J2Ih",
      "include_colab_link": true
    },
    "kernelspec": {
      "name": "python3",
      "display_name": "Python 3"
    },
    "language_info": {
      "name": "python"
    }
  },
  "cells": [
    {
      "cell_type": "markdown",
      "metadata": {
        "id": "view-in-github",
        "colab_type": "text"
      },
      "source": [
        "<a href=\"https://colab.research.google.com/github/plthiyagu/AI-Engineering/blob/master/15-LeetCode/1089_Duplicate_Zeros_LeetCode.ipynb\" target=\"_parent\"><img src=\"https://colab.research.google.com/assets/colab-badge.svg\" alt=\"Open In Colab\"/></a>"
      ]
    },
    {
      "cell_type": "code",
      "execution_count": 9,
      "metadata": {
        "id": "C2DoxsqRKGtQ"
      },
      "outputs": [],
      "source": [
        "from typing import List\n",
        "class Solution:\n",
        "    def duplicateZeros(self, arr: List[int]) -> None:\n",
        "        \"\"\"\n",
        "        Do not return anything, modify arr in-place instead.\n",
        "        \"\"\"\n",
        "        temp =[]\n",
        "        \n",
        "        for num in arr:\n",
        "            \n",
        "            if num ==0:\n",
        "                temp.append(0)\n",
        "                temp.append(0)\n",
        "            else:\n",
        "                temp.append(num)\n",
        "        print(\"temp\", len(temp))\n",
        "        \n",
        "        for i in range(len(arr)):\n",
        "            print(i)\n",
        "            arr[i]= temp[i]\n",
        "        print(\"arr\", len(arr))\n",
        "        for i in arr:\n",
        "            print(i)\n",
        "            arr[i]= temp[i]"
      ]
    },
    {
      "cell_type": "code",
      "source": [
        "sol = Solution()\n",
        "num=[1,0,2,3,0,4,5,0]\n",
        "sol.duplicateZeros(num)"
      ],
      "metadata": {
        "colab": {
          "base_uri": "https://localhost:8080/"
        },
        "id": "kWJzacGGKHRp",
        "outputId": "1c982702-869d-4d37-9a7b-4f4fd869e3fe"
      },
      "execution_count": 10,
      "outputs": [
        {
          "output_type": "stream",
          "name": "stdout",
          "text": [
            "temp 11\n",
            "0\n",
            "1\n",
            "2\n",
            "3\n",
            "4\n",
            "5\n",
            "6\n",
            "7\n",
            "arr 8\n",
            "1\n",
            "0\n",
            "0\n",
            "2\n",
            "3\n",
            "0\n",
            "0\n",
            "4\n"
          ]
        }
      ]
    },
    {
      "cell_type": "code",
      "source": [
        ""
      ],
      "metadata": {
        "id": "JMmUErZHKSc1"
      },
      "execution_count": null,
      "outputs": []
    }
  ]
}