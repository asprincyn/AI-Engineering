{
  "nbformat": 4,
  "nbformat_minor": 0,
  "metadata": {
    "colab": {
      "name": "507 Perfect Number LeetCode.ipynb",
      "provenance": [],
      "authorship_tag": "ABX9TyNX9JbcpfbzdMZKXoXWokrz",
      "include_colab_link": true
    },
    "kernelspec": {
      "name": "python3",
      "display_name": "Python 3"
    },
    "language_info": {
      "name": "python"
    }
  },
  "cells": [
    {
      "cell_type": "markdown",
      "metadata": {
        "id": "view-in-github",
        "colab_type": "text"
      },
      "source": [
        "<a href=\"https://colab.research.google.com/github/plthiyagu/AI-Engineering/blob/master/15-LeetCode/507_Perfect_Number_LeetCode.ipynb\" target=\"_parent\"><img src=\"https://colab.research.google.com/assets/colab-badge.svg\" alt=\"Open In Colab\"/></a>"
      ]
    },
    {
      "cell_type": "code",
      "execution_count": 3,
      "metadata": {
        "id": "sjm9g6KEsbs_"
      },
      "outputs": [],
      "source": [
        "import math\n",
        "class Solution:\n",
        "    def checkPerfectNumber(self, num: int) -> bool:\n",
        "        if num <=1:\n",
        "            return False\n",
        "        scale=int(math.sqrt(num))\n",
        "        ans=1\n",
        "  \n",
        "        for i in range(2,scale+1):\n",
        "            if num % i==0:\n",
        "                ans+=i+num/i\n",
        "        return num == ans"
      ]
    },
    {
      "cell_type": "code",
      "source": [
        "num = 28\n",
        "sol = Solution()\n",
        "sol.checkPerfectNumber(num)"
      ],
      "metadata": {
        "colab": {
          "base_uri": "https://localhost:8080/"
        },
        "id": "0lE2m9n4sdW1",
        "outputId": "b64f9d88-2211-4728-eade-3797e3584c97"
      },
      "execution_count": 4,
      "outputs": [
        {
          "output_type": "execute_result",
          "data": {
            "text/plain": [
              "True"
            ]
          },
          "metadata": {},
          "execution_count": 4
        }
      ]
    },
    {
      "cell_type": "code",
      "source": [
        ""
      ],
      "metadata": {
        "id": "a0ZLWjXrsmkZ"
      },
      "execution_count": null,
      "outputs": []
    }
  ]
}