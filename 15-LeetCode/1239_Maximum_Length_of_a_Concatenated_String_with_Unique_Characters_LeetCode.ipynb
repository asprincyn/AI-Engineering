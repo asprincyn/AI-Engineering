{
  "nbformat": 4,
  "nbformat_minor": 0,
  "metadata": {
    "colab": {
      "name": "1239 Maximum Length of a Concatenated String with Unique Characters LeetCode.ipynb",
      "provenance": [],
      "authorship_tag": "ABX9TyNxM9cdBWKB2SBzEAwctkgU",
      "include_colab_link": true
    },
    "kernelspec": {
      "name": "python3",
      "display_name": "Python 3"
    },
    "language_info": {
      "name": "python"
    }
  },
  "cells": [
    {
      "cell_type": "markdown",
      "metadata": {
        "id": "view-in-github",
        "colab_type": "text"
      },
      "source": [
        "<a href=\"https://colab.research.google.com/github/plthiyagu/AI-Engineering/blob/master/15-LeetCode/1239_Maximum_Length_of_a_Concatenated_String_with_Unique_Characters_LeetCode.ipynb\" target=\"_parent\"><img src=\"https://colab.research.google.com/assets/colab-badge.svg\" alt=\"Open In Colab\"/></a>"
      ]
    },
    {
      "cell_type": "code",
      "execution_count": null,
      "metadata": {
        "id": "9Ih96FBmsnHg"
      },
      "outputs": [],
      "source": [
        "class Solution:\n",
        "    def maxLength(self, arr: List[str]) -> int:\n",
        "        maxlen = 0\n",
        "        unique = ['']\n",
        "\n",
        "        def isvalid(s):\n",
        "            return len(s) == len(set(s))\n",
        "\n",
        "        for word in arr:\n",
        "            for j in unique:\n",
        "                tmp = word + j\n",
        "                if isvalid(tmp):\n",
        "                    unique.append(tmp)\n",
        "                    maxlen = max(maxlen, len(tmp))\n",
        "        return maxlen"
      ]
    }
  ]
}