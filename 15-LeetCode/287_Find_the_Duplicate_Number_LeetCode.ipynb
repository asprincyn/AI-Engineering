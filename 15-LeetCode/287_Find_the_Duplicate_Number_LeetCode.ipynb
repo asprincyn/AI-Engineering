{
  "nbformat": 4,
  "nbformat_minor": 0,
  "metadata": {
    "colab": {
      "name": "287 Find the Duplicate Number LeetCode.ipynb",
      "provenance": [],
      "authorship_tag": "ABX9TyPgtkEyRUURNgqr6ZTtNAPu",
      "include_colab_link": true
    },
    "kernelspec": {
      "name": "python3",
      "display_name": "Python 3"
    },
    "language_info": {
      "name": "python"
    }
  },
  "cells": [
    {
      "cell_type": "markdown",
      "metadata": {
        "id": "view-in-github",
        "colab_type": "text"
      },
      "source": [
        "<a href=\"https://colab.research.google.com/github/plthiyagu/AI-Engineering/blob/master/15-LeetCode/287_Find_the_Duplicate_Number_LeetCode.ipynb\" target=\"_parent\"><img src=\"https://colab.research.google.com/assets/colab-badge.svg\" alt=\"Open In Colab\"/></a>"
      ]
    },
    {
      "cell_type": "code",
      "execution_count": 2,
      "metadata": {
        "id": "Y7hgbUVI6BYy"
      },
      "outputs": [],
      "source": [
        "from typing import List\n",
        "\n",
        "class Solution:\n",
        "    def findDuplicate(self, nums: List[int]) -> int:\n",
        "        slow, fast = nums[0], nums[nums[0]]\n",
        "        while slow != fast:\n",
        "            slow = nums[slow]\n",
        "            fast = nums[nums[fast]]\n",
        "        slow = 0\n",
        "        while slow != fast:\n",
        "            slow = nums[slow]\n",
        "            fast = nums[fast]\n",
        "        return fast"
      ]
    },
    {
      "cell_type": "code",
      "source": [
        "nums = [1,3,4,2,2]\n",
        "sol = Solution()\n",
        "sol.findDuplicate(nums)"
      ],
      "metadata": {
        "colab": {
          "base_uri": "https://localhost:8080/"
        },
        "id": "2m1bzXAN6C7o",
        "outputId": "a0712292-9b7d-4764-8f7f-a9bb2b1bd7ce"
      },
      "execution_count": 3,
      "outputs": [
        {
          "output_type": "execute_result",
          "data": {
            "text/plain": [
              "2"
            ]
          },
          "metadata": {},
          "execution_count": 3
        }
      ]
    },
    {
      "cell_type": "code",
      "source": [
        ""
      ],
      "metadata": {
        "id": "AU_NQQzD7zx7"
      },
      "execution_count": null,
      "outputs": []
    }
  ]
}