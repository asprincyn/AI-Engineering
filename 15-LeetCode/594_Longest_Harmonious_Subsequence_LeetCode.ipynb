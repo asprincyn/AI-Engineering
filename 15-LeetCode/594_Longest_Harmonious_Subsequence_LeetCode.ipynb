{
  "nbformat": 4,
  "nbformat_minor": 0,
  "metadata": {
    "colab": {
      "name": "594 Longest Harmonious Subsequence LeetCode.ipynb",
      "provenance": [],
      "authorship_tag": "ABX9TyML2gtH8oBsCN6SFFO9Ogib",
      "include_colab_link": true
    },
    "kernelspec": {
      "name": "python3",
      "display_name": "Python 3"
    },
    "language_info": {
      "name": "python"
    }
  },
  "cells": [
    {
      "cell_type": "markdown",
      "metadata": {
        "id": "view-in-github",
        "colab_type": "text"
      },
      "source": [
        "<a href=\"https://colab.research.google.com/github/plthiyagu/AI-Engineering/blob/master/15-LeetCode/594_Longest_Harmonious_Subsequence_LeetCode.ipynb\" target=\"_parent\"><img src=\"https://colab.research.google.com/assets/colab-badge.svg\" alt=\"Open In Colab\"/></a>"
      ]
    },
    {
      "cell_type": "code",
      "execution_count": 5,
      "metadata": {
        "id": "YpZA0pJTJdcb"
      },
      "outputs": [],
      "source": [
        "from typing import List\n",
        "from collections import Counter\n",
        "class Solution:\n",
        "    def findLHS(self, nums: List[int]) -> int:\n",
        "        c= Counter(nums)\n",
        "        res =0\n",
        "        for x in c:\n",
        "            if x+1 in c:\n",
        "                res = max(res, c[x] + c[x + 1])\n",
        "        return res"
      ]
    },
    {
      "cell_type": "code",
      "source": [
        "nums = [1,3,2,2,5,2,3,7]\n",
        "sol = Solution()\n",
        "sol.findLHS(nums)\n"
      ],
      "metadata": {
        "colab": {
          "base_uri": "https://localhost:8080/"
        },
        "id": "ipNffyX8JjDA",
        "outputId": "33a5e498-bbf0-4296-8443-11e148132ae3"
      },
      "execution_count": 6,
      "outputs": [
        {
          "output_type": "execute_result",
          "data": {
            "text/plain": [
              "5"
            ]
          },
          "metadata": {},
          "execution_count": 6
        }
      ]
    },
    {
      "cell_type": "code",
      "source": [
        ""
      ],
      "metadata": {
        "id": "KGycV2BNJwlA"
      },
      "execution_count": null,
      "outputs": []
    },
    {
      "cell_type": "code",
      "source": [
        ""
      ],
      "metadata": {
        "id": "faGTnmaBJtdq"
      },
      "execution_count": null,
      "outputs": []
    }
  ]
}