{
  "nbformat": 4,
  "nbformat_minor": 0,
  "metadata": {
    "colab": {
      "name": "Python count element occurrence of list1 in list2.ipynb",
      "provenance": [],
      "authorship_tag": "ABX9TyNf/to9kJ/diHG6CbbuD5Hk",
      "include_colab_link": true
    },
    "kernelspec": {
      "name": "python3",
      "display_name": "Python 3"
    },
    "language_info": {
      "name": "python"
    }
  },
  "cells": [
    {
      "cell_type": "markdown",
      "metadata": {
        "id": "view-in-github",
        "colab_type": "text"
      },
      "source": [
        "<a href=\"https://colab.research.google.com/github/plthiyagu/AI-Engineering/blob/master/15-LeetCode/count_element_occurrence_of_list1_in_list2.ipynb\" target=\"_parent\"><img src=\"https://colab.research.google.com/assets/colab-badge.svg\" alt=\"Open In Colab\"/></a>"
      ]
    },
    {
      "cell_type": "code",
      "execution_count": 1,
      "metadata": {
        "colab": {
          "base_uri": "https://localhost:8080/"
        },
        "id": "Quq-JLCWxliH",
        "outputId": "efb9fd0e-07bd-44d4-d67a-582a3a78563d"
      },
      "outputs": [
        {
          "output_type": "stream",
          "name": "stdout",
          "text": [
            "[1, 0, 3, 0, 0]\n"
          ]
        }
      ],
      "source": [
        "word_list = [\"hello\", \"wonderful\", \"good\", \"flawless\", \"perfect\"]\n",
        "test = [\"abc\", \"hello\", \"vbf\", \"good\", \"dfdfdf\", \"good\", \"good\"]\n",
        "\n",
        "result = [0] * len(word_list)\n",
        "for i in range(len(word_list)):\n",
        "    for w in test:\n",
        "        if w == word_list[i]:\n",
        "            result[i] += 1\n",
        "\n",
        "print(result)"
      ]
    },
    {
      "cell_type": "code",
      "source": [
        ""
      ],
      "metadata": {
        "id": "POCw5Nc6xmVq"
      },
      "execution_count": null,
      "outputs": []
    }
  ]
}