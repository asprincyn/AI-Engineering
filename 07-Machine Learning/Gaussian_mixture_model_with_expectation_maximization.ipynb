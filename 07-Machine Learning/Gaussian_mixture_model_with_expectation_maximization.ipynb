{
  "nbformat": 4,
  "nbformat_minor": 0,
  "metadata": {
    "colab": {
      "name": "Gaussian mixture model with expectation maximization.ipynb",
      "provenance": [],
      "authorship_tag": "ABX9TyP+khwPgbawtOQ297uIFNK9",
      "include_colab_link": true
    },
    "kernelspec": {
      "name": "python3",
      "display_name": "Python 3"
    },
    "language_info": {
      "name": "python"
    }
  },
  "cells": [
    {
      "cell_type": "markdown",
      "metadata": {
        "id": "view-in-github",
        "colab_type": "text"
      },
      "source": [
        "<a href=\"https://colab.research.google.com/github/plthiyagu/AI-Engineering/blob/master/07-Machine%20Learning/Gaussian_mixture_model_with_expectation_maximization.ipynb\" target=\"_parent\"><img src=\"https://colab.research.google.com/assets/colab-badge.svg\" alt=\"Open In Colab\"/></a>"
      ]
    },
    {
      "cell_type": "markdown",
      "source": [
        "https://machinelearningmastery.com/expectation-maximization-em-algorithm/"
      ],
      "metadata": {
        "id": "IkW1VNbh5dps"
      }
    },
    {
      "cell_type": "code",
      "execution_count": 1,
      "metadata": {
        "colab": {
          "base_uri": "https://localhost:8080/"
        },
        "id": "U48yGP7i5Xs6",
        "outputId": "14453c4f-8cd2-4666-f7a1-799e0bfc1575"
      },
      "outputs": [
        {
          "output_type": "stream",
          "name": "stdout",
          "text": [
            "[0 0 0 0 0 0 0 0 0 0 0 0 0 0 0 0 0 0 0 0 0 0 0 0 0 0 0 0 0 0 0 0 0 0 0 0 0\n",
            " 0 0 0 0 0 0 0 0 0 0 0 0 0 0 0 0 0 0 0 0 0 0 0 0 0 0 0 0 0 0 0 0 0 0 0 0 0\n",
            " 0 0 0 0 0 0 0 0 0 0 0 0 0 0 0 0 0 0 0 0 0 0 0 0 0 0]\n",
            "[0 0 0 1 1 1 1 0 0 0 1 0 0 0 1 1 1 0 0 1 0 0 1 1 1 1 0 1 0 0 0 1 1 1 0 1 0\n",
            " 1 0 0 0 1 1 0 0 0 1 1 1 1 1 1 0 1 0 1 0 1 0 0 0 1 1 0 1 1 0 1 1 0 1 0 0 0\n",
            " 1 0 1 1 0 0 1 1 1 0 1 0 0 0 1 0 1 0 0 0 0 0 0 1 1 0]\n"
          ]
        }
      ],
      "source": [
        "# example of fitting a gaussian mixture model with expectation maximization\n",
        "from numpy import hstack\n",
        "from numpy.random import normal\n",
        "from sklearn.mixture import GaussianMixture\n",
        "# generate a sample\n",
        "X1 = normal(loc=20, scale=5, size=3000)\n",
        "X2 = normal(loc=40, scale=5, size=7000)\n",
        "X = hstack((X1, X2))\n",
        "# reshape into a table with one column\n",
        "X = X.reshape((len(X), 1))\n",
        "# fit model\n",
        "model = GaussianMixture(n_components=2, init_params='random')\n",
        "model.fit(X)\n",
        "# predict latent values\n",
        "yhat = model.predict(X)\n",
        "# check latent value for first few points\n",
        "print(yhat[:100])\n",
        "# check latent value for last few points\n",
        "print(yhat[-100:])"
      ]
    },
    {
      "cell_type": "code",
      "source": [
        ""
      ],
      "metadata": {
        "id": "sXoiAXXw5Yjx"
      },
      "execution_count": null,
      "outputs": []
    }
  ]
}