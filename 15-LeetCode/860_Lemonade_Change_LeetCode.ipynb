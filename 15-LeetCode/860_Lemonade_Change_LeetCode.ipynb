{
  "nbformat": 4,
  "nbformat_minor": 0,
  "metadata": {
    "colab": {
      "name": "860 Lemonade Change LeetCode.ipynb",
      "provenance": [],
      "authorship_tag": "ABX9TyOTbhVoD/I2iteu23/+XbGb",
      "include_colab_link": true
    },
    "kernelspec": {
      "name": "python3",
      "display_name": "Python 3"
    },
    "language_info": {
      "name": "python"
    }
  },
  "cells": [
    {
      "cell_type": "markdown",
      "metadata": {
        "id": "view-in-github",
        "colab_type": "text"
      },
      "source": [
        "<a href=\"https://colab.research.google.com/github/plthiyagu/AI-Engineering/blob/master/15-LeetCode/860_Lemonade_Change_LeetCode.ipynb\" target=\"_parent\"><img src=\"https://colab.research.google.com/assets/colab-badge.svg\" alt=\"Open In Colab\"/></a>"
      ]
    },
    {
      "cell_type": "code",
      "execution_count": 2,
      "metadata": {
        "id": "_9UodHBFkM0R"
      },
      "outputs": [],
      "source": [
        "from typing import List\n",
        "def lemonadeChange( bills: List[int]) -> bool:\n",
        "    price=[0,0,0]#Store the number of 5,10,20\n",
        "    for i in bills:\n",
        "        if i==5:\n",
        "            price[0]+=1\n",
        "        elif i==10:\n",
        "            if price[0]>=1:#There is 5 yuan for change\n",
        "                price[0]-=1\n",
        "                price[1]+=1\n",
        "            else:\n",
        "                return False\n",
        "        elif i==20:\n",
        "            if (price[0]>=1 and price[1]>=1):#There are 5 yuan and 10 yuan for change\n",
        "                price[0]-=1\n",
        "                price[1]-=1\n",
        "                price[2]+=1\n",
        "            elif price[0]>=3:# or 5 yuan is enough\n",
        "                price[0]-=3\n",
        "                price[2]+=1\n",
        "            else:\n",
        "                return False\n",
        "    return True"
      ]
    },
    {
      "cell_type": "code",
      "source": [
        "bills = [5,5,5,10,20]\n",
        "lemonadeChange(bills)"
      ],
      "metadata": {
        "colab": {
          "base_uri": "https://localhost:8080/"
        },
        "id": "MZm6kZ9OkR8t",
        "outputId": "c8e7035d-f925-4ef1-b98c-ea27334c47f5"
      },
      "execution_count": 3,
      "outputs": [
        {
          "output_type": "execute_result",
          "data": {
            "text/plain": [
              "True"
            ]
          },
          "metadata": {},
          "execution_count": 3
        }
      ]
    },
    {
      "cell_type": "code",
      "source": [
        ""
      ],
      "metadata": {
        "id": "_RV7lkfkke9b"
      },
      "execution_count": null,
      "outputs": []
    }
  ]
}