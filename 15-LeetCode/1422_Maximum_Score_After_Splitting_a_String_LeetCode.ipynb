{
  "nbformat": 4,
  "nbformat_minor": 0,
  "metadata": {
    "colab": {
      "name": "1422 Maximum Score After Splitting a String LeetCode.ipynb",
      "provenance": [],
      "authorship_tag": "ABX9TyPP9E1EeV+gQg6hFuyFFCus",
      "include_colab_link": true
    },
    "kernelspec": {
      "name": "python3",
      "display_name": "Python 3"
    },
    "language_info": {
      "name": "python"
    }
  },
  "cells": [
    {
      "cell_type": "markdown",
      "metadata": {
        "id": "view-in-github",
        "colab_type": "text"
      },
      "source": [
        "<a href=\"https://colab.research.google.com/github/plthiyagu/AI-Engineering/blob/master/15-LeetCode/1422_Maximum_Score_After_Splitting_a_String_LeetCode.ipynb\" target=\"_parent\"><img src=\"https://colab.research.google.com/assets/colab-badge.svg\" alt=\"Open In Colab\"/></a>"
      ]
    },
    {
      "cell_type": "code",
      "execution_count": 1,
      "metadata": {
        "id": "Iq5rd85kinsl"
      },
      "outputs": [],
      "source": [
        "class Solution:\n",
        "    def maxScore(self, s: str) -> int:\n",
        "        split =1\n",
        "        max_score =0\n",
        "        while split <len(s):\n",
        "            left = s[:split]\n",
        "            right = s[split:]\n",
        "            score = left.count('0') + right.count('1')\n",
        "            max_score = max(max_score, score)\n",
        "            \n",
        "            split +=1\n",
        "        return max_score"
      ]
    },
    {
      "cell_type": "code",
      "source": [
        "s = \"011101\"\n",
        "sol = Solution()\n",
        "sol.maxScore(s)"
      ],
      "metadata": {
        "colab": {
          "base_uri": "https://localhost:8080/"
        },
        "id": "dZHnmpGDipWH",
        "outputId": "9e721791-1b28-414f-a9fd-44b946dc8bb5"
      },
      "execution_count": 2,
      "outputs": [
        {
          "output_type": "execute_result",
          "data": {
            "text/plain": [
              "5"
            ]
          },
          "metadata": {},
          "execution_count": 2
        }
      ]
    },
    {
      "cell_type": "code",
      "source": [
        ""
      ],
      "metadata": {
        "id": "7REeHZtFivRs"
      },
      "execution_count": null,
      "outputs": []
    }
  ]
}