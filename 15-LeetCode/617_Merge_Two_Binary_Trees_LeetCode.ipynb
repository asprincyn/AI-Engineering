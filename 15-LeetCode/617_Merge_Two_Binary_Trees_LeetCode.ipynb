{
  "nbformat": 4,
  "nbformat_minor": 0,
  "metadata": {
    "colab": {
      "name": "617 Merge Two Binary Trees  LeetCode.ipynb",
      "provenance": [],
      "authorship_tag": "ABX9TyOjmm4YvyweMpQvOpLLPsrk",
      "include_colab_link": true
    },
    "kernelspec": {
      "name": "python3",
      "display_name": "Python 3"
    },
    "language_info": {
      "name": "python"
    }
  },
  "cells": [
    {
      "cell_type": "markdown",
      "metadata": {
        "id": "view-in-github",
        "colab_type": "text"
      },
      "source": [
        "<a href=\"https://colab.research.google.com/github/plthiyagu/AI-Engineering/blob/master/15-LeetCode/617_Merge_Two_Binary_Trees_LeetCode.ipynb\" target=\"_parent\"><img src=\"https://colab.research.google.com/assets/colab-badge.svg\" alt=\"Open In Colab\"/></a>"
      ]
    },
    {
      "cell_type": "code",
      "execution_count": null,
      "metadata": {
        "id": "clMpuY9OidtB"
      },
      "outputs": [],
      "source": [
        "# Definition for a binary tree node.\n",
        "class TreeNode:\n",
        "    def __init__(self, val=0, left=None, right=None):\n",
        "        self.val = val\n",
        "        self.left = left\n",
        "        self.right = right\n",
        "class Solution:\n",
        "    def mergeTrees(self, root1: Optional[TreeNode], root2: Optional[TreeNode]) -> Optional[TreeNode]:\n",
        "      if root1==None and root2==None:\n",
        "        return None\n",
        "      elif root1==None:\n",
        "        return root2\n",
        "      elif root2= =None:\n",
        "        return root1\n",
        "      else:\n",
        "        ans =  TreeNode(root1+root2)\n",
        "        ans.left= self.mergeTrees(root1.left,root2.left)\n",
        "        ans.right= self.mergeTrees(root1.right,root2.right)\n",
        "        return ans"
      ]
    }
  ]
}