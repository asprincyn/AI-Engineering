{
  "nbformat": 4,
  "nbformat_minor": 0,
  "metadata": {
    "colab": {
      "name": "168 Excel Sheet Column Title LeetCode.ipynb",
      "provenance": [],
      "authorship_tag": "ABX9TyP7Gc/Dy8nMzSPTG9VJF7gH",
      "include_colab_link": true
    },
    "kernelspec": {
      "name": "python3",
      "display_name": "Python 3"
    },
    "language_info": {
      "name": "python"
    }
  },
  "cells": [
    {
      "cell_type": "markdown",
      "metadata": {
        "id": "view-in-github",
        "colab_type": "text"
      },
      "source": [
        "<a href=\"https://colab.research.google.com/github/plthiyagu/AI-Engineering/blob/master/15-LeetCode/168_Excel_Sheet_Column_Title_LeetCode.ipynb\" target=\"_parent\"><img src=\"https://colab.research.google.com/assets/colab-badge.svg\" alt=\"Open In Colab\"/></a>"
      ]
    },
    {
      "cell_type": "code",
      "execution_count": 1,
      "metadata": {
        "id": "1X74wN4LpLyM"
      },
      "outputs": [],
      "source": [
        "class Solution:\n",
        "    def convertToTitle(self, columnNumber: int) -> str:\n",
        "      result = \"\"\n",
        "\n",
        "      while columnNumber > 0:\n",
        "        result = chr( ord('A') + (columnNumber -1) %26) + result\n",
        "        columnNumber = (columnNumber - 1) // 26\n",
        "      return result"
      ]
    },
    {
      "cell_type": "code",
      "source": [
        "columnNumber = 701\n",
        "sol = Solution()\n",
        "sol.convertToTitle(columnNumber)"
      ],
      "metadata": {
        "colab": {
          "base_uri": "https://localhost:8080/",
          "height": 35
        },
        "id": "p6Rkib_lqEVc",
        "outputId": "3ba65984-f304-428e-a6f7-991a0926e105"
      },
      "execution_count": 2,
      "outputs": [
        {
          "output_type": "execute_result",
          "data": {
            "text/plain": [
              "'ZY'"
            ],
            "application/vnd.google.colaboratory.intrinsic+json": {
              "type": "string"
            }
          },
          "metadata": {},
          "execution_count": 2
        }
      ]
    },
    {
      "cell_type": "code",
      "source": [
        ""
      ],
      "metadata": {
        "id": "rPE1MgQHqMfA"
      },
      "execution_count": null,
      "outputs": []
    }
  ]
}