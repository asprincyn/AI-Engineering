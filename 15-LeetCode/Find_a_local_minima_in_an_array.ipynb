{
  "nbformat": 4,
  "nbformat_minor": 0,
  "metadata": {
    "colab": {
      "name": "Find a local minima in an array.ipynb",
      "provenance": [],
      "authorship_tag": "ABX9TyPugvxWPPJtMX5sjnzWBt2k",
      "include_colab_link": true
    },
    "kernelspec": {
      "name": "python3",
      "display_name": "Python 3"
    },
    "language_info": {
      "name": "python"
    }
  },
  "cells": [
    {
      "cell_type": "markdown",
      "metadata": {
        "id": "view-in-github",
        "colab_type": "text"
      },
      "source": [
        "<a href=\"https://colab.research.google.com/github/plthiyagu/AI-Engineering/blob/master/15-LeetCode/Find_a_local_minima_in_an_array.ipynb\" target=\"_parent\"><img src=\"https://colab.research.google.com/assets/colab-badge.svg\" alt=\"Open In Colab\"/></a>"
      ]
    },
    {
      "cell_type": "code",
      "execution_count": 1,
      "metadata": {
        "colab": {
          "base_uri": "https://localhost:8080/"
        },
        "id": "a31N5dkvp46c",
        "outputId": "fffa4443-3f76-44b8-c8b2-8c646c8c33a9"
      },
      "outputs": [
        {
          "output_type": "stream",
          "name": "stdout",
          "text": [
            "Index of a local minima is  2\n"
          ]
        }
      ],
      "source": [
        "# Python3 program to find a\n",
        "# local minima in an array\n",
        "  \n",
        "# A binary search based function that \n",
        "# returns index of a local minima.\n",
        "def localMinUtil(arr, low, high, n):\n",
        "          \n",
        "    # Find index of middle element\n",
        "    mid = low + (high - low) // 2  \n",
        "          \n",
        "    # Compare middle element with its \n",
        "    # neighbours (if neighbours exist)\n",
        "    if(mid == 0 or arr[mid - 1] > arr[mid] and\n",
        "       mid == n - 1 or arr[mid] < arr[mid + 1]):\n",
        "        return mid\n",
        "          \n",
        "    # If middle element is not minima and its left\n",
        "    # neighbour is smaller than it, then left half\n",
        "    # must have a local minima.\n",
        "    elif(mid > 0 and arr[mid - 1] < arr[mid]):\n",
        "        return localMinUtil(arr, low, mid - 1, n)\n",
        "          \n",
        "    # If middle element is not minima and its right\n",
        "    # neighbour is smaller than it, then right half\n",
        "    # must have a local minima.\n",
        "    return localMinUtil(arr, mid + 1, high, n)\n",
        "      \n",
        "# A wrapper over recursive function localMinUtil()\n",
        "def localMin(arr, n):\n",
        "      \n",
        "    return localMinUtil(arr, 0, n - 1, n)\n",
        "      \n",
        "# Driver code\n",
        "arr = [4, 3, 1, 14, 16, 40]\n",
        "n = len(arr)\n",
        "print(\"Index of a local minima is \" ,\n",
        "                    localMin(arr, n))\n",
        "                      \n",
        "# This code is contributed by Anant Agarwal."
      ]
    },
    {
      "cell_type": "code",
      "source": [
        ""
      ],
      "metadata": {
        "id": "7NpvZL5Xp58W"
      },
      "execution_count": null,
      "outputs": []
    }
  ]
}