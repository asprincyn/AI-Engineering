{
  "nbformat": 4,
  "nbformat_minor": 0,
  "metadata": {
    "colab": {
      "name": "The Stolen Breakfast Drone.ipynb",
      "provenance": [],
      "collapsed_sections": [],
      "authorship_tag": "ABX9TyM43jusjzc98IOVxTu+QF3o",
      "include_colab_link": true
    },
    "kernelspec": {
      "name": "python3",
      "display_name": "Python 3"
    },
    "language_info": {
      "name": "python"
    }
  },
  "cells": [
    {
      "cell_type": "markdown",
      "metadata": {
        "id": "view-in-github",
        "colab_type": "text"
      },
      "source": [
        "<a href=\"https://colab.research.google.com/github/plthiyagu/AI-Engineering/blob/master/15-LeetCode/The_Stolen_Breakfast_Drone.ipynb\" target=\"_parent\"><img src=\"https://colab.research.google.com/assets/colab-badge.svg\" alt=\"Open In Colab\"/></a>"
      ]
    },
    {
      "cell_type": "code",
      "execution_count": 1,
      "metadata": {
        "id": "Bcs3II5ywQlp"
      },
      "outputs": [],
      "source": [
        "def find_unique_delivery_id(delivery_ids):\n",
        "  ids_to_occurrences = {}\n",
        "\n",
        "  for delivery_id in delivery_ids:\n",
        "      if delivery_id in ids_to_occurrences:\n",
        "          ids_to_occurrences[delivery_id] += 1\n",
        "      else:\n",
        "          ids_to_occurrences[delivery_id]  = 1\n",
        "\n",
        "  for delivery_id, occurrences in ids_to_occurrences.items():\n",
        "      if occurrences == 1:\n",
        "          return delivery_id"
      ]
    },
    {
      "cell_type": "code",
      "source": [
        "  def find_unique_delivery_id(delivery_ids):\n",
        "    unique_delivery_id = 0\n",
        "\n",
        "    for delivery_id in delivery_ids:\n",
        "        unique_delivery_id ^= delivery_id\n",
        "\n",
        "    return unique_delivery_id"
      ],
      "metadata": {
        "id": "HF-wH5qXwS1z"
      },
      "execution_count": 2,
      "outputs": []
    },
    {
      "cell_type": "code",
      "source": [
        "# We’re seeing every integer twice, except one. Is there a bitwise operation that would let the second occurrence of an integer cancel out the first?\n",
        "\n",
        "# If so, we could start with a variable unique_delivery_id set to 00 and run some bitwise operation with that variable and each number in our list. If duplicate integers cancel each other out, then we’d only be left with the unique integer at the end!\n",
        "\n"
      ],
      "metadata": {
        "id": "7zoEr-k0wYAg"
      },
      "execution_count": null,
      "outputs": []
    }
  ]
}