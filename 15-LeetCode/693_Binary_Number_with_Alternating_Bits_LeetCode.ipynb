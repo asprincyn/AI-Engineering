{
  "nbformat": 4,
  "nbformat_minor": 0,
  "metadata": {
    "colab": {
      "name": "693 Binary Number with Alternating Bits LeetCode.ipynb",
      "provenance": [],
      "authorship_tag": "ABX9TyPGTqfFLPIdOzDjl/ADgxBw",
      "include_colab_link": true
    },
    "kernelspec": {
      "name": "python3",
      "display_name": "Python 3"
    },
    "language_info": {
      "name": "python"
    }
  },
  "cells": [
    {
      "cell_type": "markdown",
      "metadata": {
        "id": "view-in-github",
        "colab_type": "text"
      },
      "source": [
        "<a href=\"https://colab.research.google.com/github/plthiyagu/AI-Engineering/blob/master/15-LeetCode/693_Binary_Number_with_Alternating_Bits_LeetCode.ipynb\" target=\"_parent\"><img src=\"https://colab.research.google.com/assets/colab-badge.svg\" alt=\"Open In Colab\"/></a>"
      ]
    },
    {
      "cell_type": "code",
      "execution_count": 1,
      "metadata": {
        "id": "Z-2Ea_kvceBU"
      },
      "outputs": [],
      "source": [
        "class Solution:\n",
        "    def hasAlternatingBits(self, n: int) -> bool:\n",
        "        r = ''\n",
        "        while n>0:\n",
        "            m = str(n%2)\n",
        "            if r and r[-1]==m:\n",
        "                return False\n",
        "            r += m\n",
        "            n//=2\n",
        "        return True"
      ]
    },
    {
      "cell_type": "code",
      "source": [
        "sol = Solution()\n",
        "n = 5\n",
        "sol.hasAlternatingBits(5)"
      ],
      "metadata": {
        "colab": {
          "base_uri": "https://localhost:8080/"
        },
        "id": "fgJ4oT6zchlp",
        "outputId": "3b2e6319-9d11-46c9-adbd-af4f07dd87fb"
      },
      "execution_count": 3,
      "outputs": [
        {
          "output_type": "execute_result",
          "data": {
            "text/plain": [
              "True"
            ]
          },
          "metadata": {},
          "execution_count": 3
        }
      ]
    },
    {
      "cell_type": "code",
      "source": [
        ""
      ],
      "metadata": {
        "id": "K4UfSOdRcphi"
      },
      "execution_count": null,
      "outputs": []
    }
  ]
}