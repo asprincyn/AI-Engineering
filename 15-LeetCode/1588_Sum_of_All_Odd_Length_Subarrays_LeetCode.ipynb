{
  "nbformat": 4,
  "nbformat_minor": 0,
  "metadata": {
    "colab": {
      "name": "1588 Sum of All Odd Length Subarrays LeetCode.ipynb",
      "provenance": [],
      "authorship_tag": "ABX9TyMNSxnswcFdlsP6MvfczDJn",
      "include_colab_link": true
    },
    "kernelspec": {
      "name": "python3",
      "display_name": "Python 3"
    },
    "language_info": {
      "name": "python"
    }
  },
  "cells": [
    {
      "cell_type": "markdown",
      "metadata": {
        "id": "view-in-github",
        "colab_type": "text"
      },
      "source": [
        "<a href=\"https://colab.research.google.com/github/plthiyagu/AI-Engineering/blob/master/15-LeetCode/1588_Sum_of_All_Odd_Length_Subarrays_LeetCode.ipynb\" target=\"_parent\"><img src=\"https://colab.research.google.com/assets/colab-badge.svg\" alt=\"Open In Colab\"/></a>"
      ]
    },
    {
      "cell_type": "code",
      "execution_count": 3,
      "metadata": {
        "id": "L5py2AEJ9J1F"
      },
      "outputs": [],
      "source": [
        "from typing import List\n",
        "class Solution:\n",
        "  def sumOddLengthSubarrays(self, arr: List[int]) -> int:\n",
        "    ans =0\n",
        "    for i in range(len(arr)):\n",
        "      j = i+1\n",
        "      while j <= len(arr):\n",
        "        ans += sum(arr[i:j])\n",
        "        j +=2\n",
        "    return ans\n"
      ]
    },
    {
      "cell_type": "code",
      "source": [
        "arr =[1,4,2,5,3]\n",
        "sol = Solution()\n",
        "sol.sumOddLengthSubarrays(arr)"
      ],
      "metadata": {
        "colab": {
          "base_uri": "https://localhost:8080/"
        },
        "id": "Qo5GeJ9C9xHm",
        "outputId": "d84428e6-955a-41d0-c120-7d8340ccf04d"
      },
      "execution_count": 4,
      "outputs": [
        {
          "output_type": "execute_result",
          "data": {
            "text/plain": [
              "58"
            ]
          },
          "metadata": {},
          "execution_count": 4
        }
      ]
    },
    {
      "cell_type": "code",
      "source": [
        ""
      ],
      "metadata": {
        "id": "8dRSOvww94T7"
      },
      "execution_count": null,
      "outputs": []
    }
  ]
}