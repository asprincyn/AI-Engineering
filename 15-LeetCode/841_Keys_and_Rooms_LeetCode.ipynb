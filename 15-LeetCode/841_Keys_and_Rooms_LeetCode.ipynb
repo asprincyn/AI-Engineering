{
  "nbformat": 4,
  "nbformat_minor": 0,
  "metadata": {
    "colab": {
      "name": "841 Keys and Rooms  LeetCode.ipynb",
      "provenance": [],
      "authorship_tag": "ABX9TyPh+rzwS8OZIoslpJs/CJSG",
      "include_colab_link": true
    },
    "kernelspec": {
      "name": "python3",
      "display_name": "Python 3"
    },
    "language_info": {
      "name": "python"
    }
  },
  "cells": [
    {
      "cell_type": "markdown",
      "metadata": {
        "id": "view-in-github",
        "colab_type": "text"
      },
      "source": [
        "<a href=\"https://colab.research.google.com/github/plthiyagu/AI-Engineering/blob/master/15-LeetCode/841_Keys_and_Rooms_LeetCode.ipynb\" target=\"_parent\"><img src=\"https://colab.research.google.com/assets/colab-badge.svg\" alt=\"Open In Colab\"/></a>"
      ]
    },
    {
      "cell_type": "code",
      "execution_count": 2,
      "metadata": {
        "id": "2Sj0w6yuWr99"
      },
      "outputs": [],
      "source": [
        "from typing import List\n",
        "class Solution:\n",
        "    def canVisitAllRooms(self, rooms: List[List[int]]) -> bool:\n",
        "        s = set([0])\n",
        "        q = [0]\n",
        "        while q:\n",
        "            cur = q.pop()\n",
        "            for n in rooms[cur]:\n",
        "                if n not in s:\n",
        "                    q.append(n)\n",
        "                    s.add(n)\n",
        "        return len(s) == len(rooms)\n",
        "    "
      ]
    },
    {
      "cell_type": "code",
      "source": [
        "rooms = [[1],[2],[3],[]]\n",
        "sol= Solution()\n",
        "sol.canVisitAllRooms(rooms)"
      ],
      "metadata": {
        "colab": {
          "base_uri": "https://localhost:8080/"
        },
        "id": "7yaGi20BXM08",
        "outputId": "bcb189e2-5e6e-4d5f-c4e3-37b2464fd0f2"
      },
      "execution_count": 3,
      "outputs": [
        {
          "output_type": "execute_result",
          "data": {
            "text/plain": [
              "True"
            ]
          },
          "metadata": {},
          "execution_count": 3
        }
      ]
    },
    {
      "cell_type": "code",
      "source": [
        ""
      ],
      "metadata": {
        "id": "VxxVIi65XYgq"
      },
      "execution_count": null,
      "outputs": []
    }
  ]
}