{
  "nbformat": 4,
  "nbformat_minor": 0,
  "metadata": {
    "colab": {
      "name": "669 Trim a Binary Search Tree LeetCode.ipynb",
      "provenance": [],
      "authorship_tag": "ABX9TyMmiDE6VFleInYdOj4O6+d7",
      "include_colab_link": true
    },
    "kernelspec": {
      "name": "python3",
      "display_name": "Python 3"
    },
    "language_info": {
      "name": "python"
    }
  },
  "cells": [
    {
      "cell_type": "markdown",
      "metadata": {
        "id": "view-in-github",
        "colab_type": "text"
      },
      "source": [
        "<a href=\"https://colab.research.google.com/github/plthiyagu/AI-Engineering/blob/master/15-LeetCode/669_Trim_a_Binary_Search_Tree_LeetCode.ipynb\" target=\"_parent\"><img src=\"https://colab.research.google.com/assets/colab-badge.svg\" alt=\"Open In Colab\"/></a>"
      ]
    },
    {
      "cell_type": "code",
      "execution_count": null,
      "metadata": {
        "id": "VJXwPCniuWwu"
      },
      "outputs": [],
      "source": [
        "# Definition for a binary tree node.\n",
        "class TreeNode(object):\n",
        "    def __init__(self, val=0, left=None, right=None):\n",
        "        self.val = val\n",
        "        self.left = left\n",
        "        self.right = right\n",
        "class Solution(object):\n",
        "    def trimBST(self, root, low, high):\n",
        "        \"\"\"\n",
        "        :type root: TreeNode\n",
        "        :type low: int\n",
        "        :type high: int\n",
        "        :rtype: TreeNode\n",
        "        \"\"\"\n",
        "        \n",
        "        def trim(node):\n",
        "            if not node:\n",
        "                return None\n",
        "            elif node.val > high:\n",
        "                return trim(node.left)\n",
        "            elif node.val < low:\n",
        "                return trim(node.right)\n",
        "            else:\n",
        "                node.left= trim(node.left)\n",
        "                node.right = trim(node.right)\n",
        "                return node\n",
        "            \n",
        "        return trim(root)\n",
        "    \n",
        "        "
      ]
    },
    {
      "cell_type": "code",
      "source": [
        "root = [3,0,4,null,2,null,null,1]\n",
        "low = 1\n",
        "high = 3"
      ],
      "metadata": {
        "id": "UJYmrkuDudNJ"
      },
      "execution_count": null,
      "outputs": []
    }
  ]
}