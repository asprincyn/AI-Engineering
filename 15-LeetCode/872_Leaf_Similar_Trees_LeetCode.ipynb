{
  "nbformat": 4,
  "nbformat_minor": 0,
  "metadata": {
    "colab": {
      "name": "872 Leaf-Similar Trees LeetCode.ipynb",
      "provenance": [],
      "authorship_tag": "ABX9TyMNrjtLcvkuxPJSeuuXDeDN",
      "include_colab_link": true
    },
    "kernelspec": {
      "name": "python3",
      "display_name": "Python 3"
    },
    "language_info": {
      "name": "python"
    }
  },
  "cells": [
    {
      "cell_type": "markdown",
      "metadata": {
        "id": "view-in-github",
        "colab_type": "text"
      },
      "source": [
        "<a href=\"https://colab.research.google.com/github/plthiyagu/AI-Engineering/blob/master/15-LeetCode/872_Leaf_Similar_Trees_LeetCode.ipynb\" target=\"_parent\"><img src=\"https://colab.research.google.com/assets/colab-badge.svg\" alt=\"Open In Colab\"/></a>"
      ]
    },
    {
      "cell_type": "code",
      "metadata": {
        "id": "BM3VJGnHVqQg"
      },
      "source": [
        "# Definition for a binary tree node.\n",
        "# class TreeNode:\n",
        "#     def __init__(self, val=0, left=None, right=None):\n",
        "#         self.val = val\n",
        "#         self.left = left\n",
        "#         self.right = right\n",
        "class Solution:\n",
        "    def leafSimilar(self, root1: Optional[TreeNode], root2: Optional[TreeNode]) -> bool:\n",
        "        def findLeaf(root, leaf_seq):\n",
        "            if not root: return\n",
        "            if not root.left and not root.right:\n",
        "                leaf_seq.append(root.val)\n",
        "            findLeaf(root.left, leaf_seq)\n",
        "            findLeaf(root.right, leaf_seq)\n",
        "            return leaf_seq\n",
        "        root1_leaf=findLeaf(root1, [])\n",
        "        root2_leaf=findLeaf(root2, [])\n",
        "        return root1_leaf == root2_leaf"
      ],
      "execution_count": null,
      "outputs": []
    }
  ]
}