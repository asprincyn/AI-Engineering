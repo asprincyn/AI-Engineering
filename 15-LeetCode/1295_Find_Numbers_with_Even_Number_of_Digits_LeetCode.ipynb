{
  "nbformat": 4,
  "nbformat_minor": 0,
  "metadata": {
    "colab": {
      "name": "1295 Find Numbers with Even Number of Digits LeetCode.ipynb",
      "provenance": [],
      "collapsed_sections": [],
      "authorship_tag": "ABX9TyNhSYtFGP1qNN14/IEFH4ak",
      "include_colab_link": true
    },
    "kernelspec": {
      "name": "python3",
      "display_name": "Python 3"
    },
    "language_info": {
      "name": "python"
    }
  },
  "cells": [
    {
      "cell_type": "markdown",
      "metadata": {
        "id": "view-in-github",
        "colab_type": "text"
      },
      "source": [
        "<a href=\"https://colab.research.google.com/github/plthiyagu/AI-Engineering/blob/master/15-LeetCode/1295_Find_Numbers_with_Even_Number_of_Digits_LeetCode.ipynb\" target=\"_parent\"><img src=\"https://colab.research.google.com/assets/colab-badge.svg\" alt=\"Open In Colab\"/></a>"
      ]
    },
    {
      "cell_type": "code",
      "execution_count": 1,
      "metadata": {
        "id": "2tWPdpFsn08m"
      },
      "outputs": [],
      "source": [
        "from typing import List\n",
        "class Solution:\n",
        "    def findNumbers(self, nums: List[int]) -> int:\n",
        "        return sum([len(str(x))%2==0 for x in nums])"
      ]
    },
    {
      "cell_type": "code",
      "source": [
        "nums = [12,345,2,6,7896]\n",
        "sol = Solution()\n",
        "sol.findNumbers(nums)"
      ],
      "metadata": {
        "colab": {
          "base_uri": "https://localhost:8080/"
        },
        "id": "DizKbUcVn5Un",
        "outputId": "02a5461e-fada-4640-f19b-948d9cca147d"
      },
      "execution_count": 2,
      "outputs": [
        {
          "output_type": "execute_result",
          "data": {
            "text/plain": [
              "2"
            ]
          },
          "metadata": {},
          "execution_count": 2
        }
      ]
    },
    {
      "cell_type": "code",
      "source": [
        ""
      ],
      "metadata": {
        "id": "jcjSg_gRn-7z"
      },
      "execution_count": null,
      "outputs": []
    }
  ]
}