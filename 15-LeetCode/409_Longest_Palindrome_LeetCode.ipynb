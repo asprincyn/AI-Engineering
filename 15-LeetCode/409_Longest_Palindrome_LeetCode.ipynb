{
  "nbformat": 4,
  "nbformat_minor": 0,
  "metadata": {
    "colab": {
      "name": "409 Longest Palindrome LeetCode.ipynb",
      "provenance": [],
      "authorship_tag": "ABX9TyNkzN4rljfA5eg+34YjqnIQ",
      "include_colab_link": true
    },
    "kernelspec": {
      "name": "python3",
      "display_name": "Python 3"
    },
    "language_info": {
      "name": "python"
    }
  },
  "cells": [
    {
      "cell_type": "markdown",
      "metadata": {
        "id": "view-in-github",
        "colab_type": "text"
      },
      "source": [
        "<a href=\"https://colab.research.google.com/github/plthiyagu/AI-Engineering/blob/master/15-LeetCode/409_Longest_Palindrome_LeetCode.ipynb\" target=\"_parent\"><img src=\"https://colab.research.google.com/assets/colab-badge.svg\" alt=\"Open In Colab\"/></a>"
      ]
    },
    {
      "cell_type": "code",
      "execution_count": 2,
      "metadata": {
        "id": "hTRyESXPJiML"
      },
      "outputs": [],
      "source": [
        "import collections\n",
        "class Solution:\n",
        "    def longestPalindrome(self, s: str) -> int:\n",
        "        res=0\n",
        "        f=0\n",
        "        ct = collections.Counter(s)\n",
        "        for v in ct.values():\n",
        "            if v % 2 == 0:\n",
        "                res += v\n",
        "            else:\n",
        "                res += v - 1\n",
        "                f = 1\n",
        "        return res + f\n",
        "\n",
        "        "
      ]
    },
    {
      "cell_type": "code",
      "source": [
        "sol =Solution()\n",
        "s = \"abccccdd\"\n",
        "sol.longestPalindrome(s)"
      ],
      "metadata": {
        "colab": {
          "base_uri": "https://localhost:8080/"
        },
        "id": "Hx4JU1HQJjOc",
        "outputId": "50e07851-e4cf-4fdc-defb-edeec8a041ed"
      },
      "execution_count": 3,
      "outputs": [
        {
          "output_type": "execute_result",
          "data": {
            "text/plain": [
              "7"
            ]
          },
          "metadata": {},
          "execution_count": 3
        }
      ]
    },
    {
      "cell_type": "code",
      "source": [
        ""
      ],
      "metadata": {
        "id": "UfRn78sQJvpC"
      },
      "execution_count": null,
      "outputs": []
    }
  ]
}