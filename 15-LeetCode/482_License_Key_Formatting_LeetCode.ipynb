{
  "nbformat": 4,
  "nbformat_minor": 0,
  "metadata": {
    "colab": {
      "name": "482 License Key Formatting  LeetCode.ipynb",
      "provenance": [],
      "authorship_tag": "ABX9TyM1hLn8HIQnoGKKQbzU9twQ",
      "include_colab_link": true
    },
    "kernelspec": {
      "name": "python3",
      "display_name": "Python 3"
    },
    "language_info": {
      "name": "python"
    }
  },
  "cells": [
    {
      "cell_type": "markdown",
      "metadata": {
        "id": "view-in-github",
        "colab_type": "text"
      },
      "source": [
        "<a href=\"https://colab.research.google.com/github/plthiyagu/AI-Engineering/blob/master/15-LeetCode/482_License_Key_Formatting_LeetCode.ipynb\" target=\"_parent\"><img src=\"https://colab.research.google.com/assets/colab-badge.svg\" alt=\"Open In Colab\"/></a>"
      ]
    },
    {
      "cell_type": "code",
      "execution_count": 1,
      "metadata": {
        "id": "jgQy22Bcyih7"
      },
      "outputs": [],
      "source": [
        "class Solution:\n",
        "    def licenseKeyFormatting(self, s: str, k: int) -> str:\n",
        "        List = s.split(\"-\")\n",
        "        new_str = \"\".join(List)\n",
        "        len_str = len(new_str)\n",
        "        off = len_str % k\n",
        "        string = \"\"\n",
        "\n",
        "        if off == 0:\n",
        "            off = k\n",
        "\n",
        "        string += new_str[:off].upper() + \"-\"\n",
        "        i = off\n",
        "        while i < len_str:\n",
        "            try:\n",
        "                string += new_str[i : i + k].upper()\n",
        "            except:\n",
        "                string += new_str[i:].upper()\n",
        "            string += \"-\"\n",
        "            i += k\n",
        "\n",
        "        return string[:-1]\n",
        "        "
      ]
    },
    {
      "cell_type": "code",
      "source": [
        "s = \"5F3Z-2e-9-w\"\n",
        "k = 4\n",
        "sol= Solution()\n",
        "sol.licenseKeyFormatting(s,k)"
      ],
      "metadata": {
        "colab": {
          "base_uri": "https://localhost:8080/",
          "height": 35
        },
        "id": "KdMyVtFnyjSf",
        "outputId": "7535ac30-63dc-4f3b-cb76-92dcdc250f7c"
      },
      "execution_count": 3,
      "outputs": [
        {
          "output_type": "execute_result",
          "data": {
            "text/plain": [
              "'5F3Z-2E9W'"
            ],
            "application/vnd.google.colaboratory.intrinsic+json": {
              "type": "string"
            }
          },
          "metadata": {},
          "execution_count": 3
        }
      ]
    }
  ]
}