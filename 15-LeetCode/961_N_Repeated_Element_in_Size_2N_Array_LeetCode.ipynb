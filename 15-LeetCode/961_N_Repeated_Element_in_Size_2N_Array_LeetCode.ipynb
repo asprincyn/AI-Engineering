{
  "nbformat": 4,
  "nbformat_minor": 0,
  "metadata": {
    "colab": {
      "name": "961 N-Repeated Element in Size 2N Array LeetCode.ipynb",
      "provenance": [],
      "collapsed_sections": [],
      "authorship_tag": "ABX9TyPDyn4fgUExP+r2D3S9JRw/",
      "include_colab_link": true
    },
    "kernelspec": {
      "name": "python3",
      "display_name": "Python 3"
    },
    "language_info": {
      "name": "python"
    }
  },
  "cells": [
    {
      "cell_type": "markdown",
      "metadata": {
        "id": "view-in-github",
        "colab_type": "text"
      },
      "source": [
        "<a href=\"https://colab.research.google.com/github/plthiyagu/AI-Engineering/blob/master/15-LeetCode/961_N_Repeated_Element_in_Size_2N_Array_LeetCode.ipynb\" target=\"_parent\"><img src=\"https://colab.research.google.com/assets/colab-badge.svg\" alt=\"Open In Colab\"/></a>"
      ]
    },
    {
      "cell_type": "code",
      "execution_count": 2,
      "metadata": {
        "id": "U2ZXuJ-B9Rm4"
      },
      "outputs": [],
      "source": [
        "from typing import List\n",
        "import collections\n",
        "\n",
        "class Solution:\n",
        "    def repeatedNTimes(self, nums: List[int]) -> int:\n",
        "        unique =set()\n",
        "        for a in nums:\n",
        "            if a not in unique:\n",
        "                unique.add(a)\n",
        "            else:\n",
        "                return a\n",
        "        "
      ]
    },
    {
      "cell_type": "code",
      "source": [
        "sol= Solution()\n",
        "nums = [1,2,3,3]\n",
        "sol.repeatedNTimes(nums)"
      ],
      "metadata": {
        "colab": {
          "base_uri": "https://localhost:8080/"
        },
        "id": "rtJkdMcH9XZ3",
        "outputId": "ac324d29-3983-4ad9-c159-58de468e7a83"
      },
      "execution_count": 6,
      "outputs": [
        {
          "output_type": "execute_result",
          "data": {
            "text/plain": [
              "3"
            ]
          },
          "metadata": {},
          "execution_count": 6
        }
      ]
    },
    {
      "cell_type": "code",
      "source": [
        "class Solution:\n",
        "    def repeatedNTimes(self, nums: List[int]) -> int:\n",
        "        count = collections.Counter(nums)\n",
        "        for k in count:\n",
        "            if count[k] > 1:\n",
        "                return k"
      ],
      "metadata": {
        "id": "b-73MmxP9-N7"
      },
      "execution_count": 4,
      "outputs": []
    },
    {
      "cell_type": "code",
      "source": [
        "sol= Solution()\n",
        "nums = [1,2,3,3]\n",
        "sol.repeatedNTimes(nums)"
      ],
      "metadata": {
        "colab": {
          "base_uri": "https://localhost:8080/"
        },
        "id": "lidGfg29-LsD",
        "outputId": "9d293e19-d002-442b-faba-2cccce4d642c"
      },
      "execution_count": 7,
      "outputs": [
        {
          "output_type": "execute_result",
          "data": {
            "text/plain": [
              "3"
            ]
          },
          "metadata": {},
          "execution_count": 7
        }
      ]
    },
    {
      "cell_type": "code",
      "source": [
        ""
      ],
      "metadata": {
        "id": "4S4kcnpI-Z0I"
      },
      "execution_count": null,
      "outputs": []
    }
  ]
}