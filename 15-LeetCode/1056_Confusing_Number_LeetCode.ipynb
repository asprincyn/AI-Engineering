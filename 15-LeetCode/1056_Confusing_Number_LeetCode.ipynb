{
  "nbformat": 4,
  "nbformat_minor": 0,
  "metadata": {
    "colab": {
      "name": "1056 Confusing Number  LeetCode.ipynb",
      "provenance": [],
      "collapsed_sections": [],
      "authorship_tag": "ABX9TyNSNpcsCo9ad+jepYH1FuZj",
      "include_colab_link": true
    },
    "kernelspec": {
      "name": "python3",
      "display_name": "Python 3"
    },
    "language_info": {
      "name": "python"
    }
  },
  "cells": [
    {
      "cell_type": "markdown",
      "metadata": {
        "id": "view-in-github",
        "colab_type": "text"
      },
      "source": [
        "<a href=\"https://colab.research.google.com/github/plthiyagu/AI-Engineering/blob/master/15-LeetCode/1056_Confusing_Number_LeetCode.ipynb\" target=\"_parent\"><img src=\"https://colab.research.google.com/assets/colab-badge.svg\" alt=\"Open In Colab\"/></a>"
      ]
    },
    {
      "cell_type": "code",
      "execution_count": 1,
      "metadata": {
        "id": "oDAYfoVSYpuF"
      },
      "outputs": [],
      "source": [
        "class Solution:\n",
        "    def confusingNumber(self, n: int) -> bool:\n",
        "        mapping = {\n",
        "            '0': '0',\n",
        "            '1': '1',            \n",
        "            '6': '9',\n",
        "            '8': '8',\n",
        "            '9': '6',            \n",
        "        }\n",
        "        \n",
        "        rotated_str = \"\"\n",
        "        n_str = str(n)\n",
        "        for c in n_str[::-1]:\n",
        "            if c not in mapping:\n",
        "                return False\n",
        "            else:\n",
        "                rotated_str += mapping[c]\n",
        "                \n",
        "        return rotated_str != n_str"
      ]
    },
    {
      "cell_type": "code",
      "source": [
        "sol = Solution()\n",
        "n=6\n",
        "sol.confusingNumber(n)"
      ],
      "metadata": {
        "colab": {
          "base_uri": "https://localhost:8080/"
        },
        "id": "Z9oJq8t6YrRv",
        "outputId": "61a3ac40-ca79-47cc-8a09-17fb92b2c092"
      },
      "execution_count": 2,
      "outputs": [
        {
          "output_type": "execute_result",
          "data": {
            "text/plain": [
              "True"
            ]
          },
          "metadata": {},
          "execution_count": 2
        }
      ]
    },
    {
      "cell_type": "code",
      "source": [
        ""
      ],
      "metadata": {
        "id": "DktDmi4rYwg0"
      },
      "execution_count": null,
      "outputs": []
    }
  ]
}