{
  "nbformat": 4,
  "nbformat_minor": 0,
  "metadata": {
    "colab": {
      "name": "1143 Longest Common Subsequence LeetCode.ipynb",
      "provenance": [],
      "authorship_tag": "ABX9TyOtQ8wZ2gubviEZlS+e4c5X",
      "include_colab_link": true
    },
    "kernelspec": {
      "name": "python3",
      "display_name": "Python 3"
    },
    "language_info": {
      "name": "python"
    }
  },
  "cells": [
    {
      "cell_type": "markdown",
      "metadata": {
        "id": "view-in-github",
        "colab_type": "text"
      },
      "source": [
        "<a href=\"https://colab.research.google.com/github/plthiyagu/AI-Engineering/blob/master/15-LeetCode/1143_Longest_Common_Subsequence_LeetCode.ipynb\" target=\"_parent\"><img src=\"https://colab.research.google.com/assets/colab-badge.svg\" alt=\"Open In Colab\"/></a>"
      ]
    },
    {
      "cell_type": "code",
      "execution_count": 1,
      "metadata": {
        "id": "aIDjhRrZOlDJ"
      },
      "outputs": [],
      "source": [
        "def longestCommonSubsequence( text1: str, text2: str) -> int:\n",
        "    l1, l2 = len(text1), len(text2)\n",
        "    #dp = [[0] * (l2 + 1) for _ in range(l1 + 1)]         \n",
        "    dp1 = [0] * (l2 + 1)\n",
        "    dp2 = [0] * (l2 + 1)\n",
        "    for i in range(1, l1 + 1):\n",
        "        for j in range(1, l2 + 1):\n",
        "            if text1[i - 1] == text2[j - 1]:\n",
        "                # dp[i][j] = dp[i - 1][j - 1] + 1                     \n",
        "                dp2[j] = dp1[j - 1] + 1\n",
        "            else:\n",
        "                # dp[i][j] = max(dp[i - 1][j], dp[i][j - 1])                     \n",
        "                dp2[j] = max(dp1[j], dp2[j - 1])\n",
        "        dp1 = dp2[:]\n",
        "    return dp1[-1]"
      ]
    },
    {
      "cell_type": "code",
      "source": [
        "text1 = \"abcde\"\n",
        "text2 = \"ace\" \n",
        "longestCommonSubsequence( text1, text2)"
      ],
      "metadata": {
        "colab": {
          "base_uri": "https://localhost:8080/"
        },
        "id": "-SeQGSyOOpbk",
        "outputId": "8b8cecb8-24d3-4003-ca13-2e4eb67f2465"
      },
      "execution_count": 2,
      "outputs": [
        {
          "output_type": "execute_result",
          "data": {
            "text/plain": [
              "3"
            ]
          },
          "metadata": {},
          "execution_count": 2
        }
      ]
    },
    {
      "cell_type": "code",
      "source": [
        ""
      ],
      "metadata": {
        "id": "mQ-rPCb1OzJ6"
      },
      "execution_count": null,
      "outputs": []
    }
  ]
}