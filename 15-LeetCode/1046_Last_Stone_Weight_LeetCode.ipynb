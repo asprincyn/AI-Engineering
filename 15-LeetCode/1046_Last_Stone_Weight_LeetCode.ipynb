{
  "nbformat": 4,
  "nbformat_minor": 0,
  "metadata": {
    "colab": {
      "name": "1046 Last Stone Weight LeetCode.ipynb",
      "provenance": [],
      "authorship_tag": "ABX9TyPKLu9dJ2lt2ii06pOe4dp/",
      "include_colab_link": true
    },
    "kernelspec": {
      "name": "python3",
      "display_name": "Python 3"
    },
    "language_info": {
      "name": "python"
    }
  },
  "cells": [
    {
      "cell_type": "markdown",
      "metadata": {
        "id": "view-in-github",
        "colab_type": "text"
      },
      "source": [
        "<a href=\"https://colab.research.google.com/github/plthiyagu/AI-Engineering/blob/master/15-LeetCode/1046_Last_Stone_Weight_LeetCode.ipynb\" target=\"_parent\"><img src=\"https://colab.research.google.com/assets/colab-badge.svg\" alt=\"Open In Colab\"/></a>"
      ]
    },
    {
      "cell_type": "code",
      "execution_count": 3,
      "metadata": {
        "id": "HFgOXv8gcR-d"
      },
      "outputs": [],
      "source": [
        "from typing import List\n",
        "\n",
        "def lastStoneWeight( stones: List[int]) -> int:\n",
        "    while (len(stones) > 1):\n",
        "        \n",
        "        max_stone = max(stones)\n",
        "        stones.remove(max_stone)\n",
        "        \n",
        "        second_max_stone = max(stones)\n",
        "        stones.remove(second_max_stone)\n",
        "        \n",
        "        new_stone = max_stone - second_max_stone\n",
        "        \n",
        "        if new_stone != 0:\n",
        "            stones.append(new_stone)\n",
        "        \n",
        "    if (len(stones) == 1):            \n",
        "        return stones[0]\n",
        "    \n",
        "    return 0"
      ]
    },
    {
      "cell_type": "code",
      "source": [
        "stones = [2,7,4,1,8,1]\n",
        "lastStoneWeight(stones)"
      ],
      "metadata": {
        "colab": {
          "base_uri": "https://localhost:8080/"
        },
        "id": "Ycs9kjICcV1a",
        "outputId": "480695d2-7cb9-4ad6-9c0c-c398781a9afb"
      },
      "execution_count": 4,
      "outputs": [
        {
          "output_type": "execute_result",
          "data": {
            "text/plain": [
              "1"
            ]
          },
          "metadata": {},
          "execution_count": 4
        }
      ]
    }
  ]
}