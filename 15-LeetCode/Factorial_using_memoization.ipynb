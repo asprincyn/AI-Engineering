{
  "nbformat": 4,
  "nbformat_minor": 0,
  "metadata": {
    "colab": {
      "name": "Factorial using memoization.ipynb",
      "provenance": [],
      "collapsed_sections": [],
      "authorship_tag": "ABX9TyMfEbmV4qaXqvPzjjI1FMUg",
      "include_colab_link": true
    },
    "kernelspec": {
      "name": "python3",
      "display_name": "Python 3"
    },
    "language_info": {
      "name": "python"
    }
  },
  "cells": [
    {
      "cell_type": "markdown",
      "metadata": {
        "id": "view-in-github",
        "colab_type": "text"
      },
      "source": [
        "<a href=\"https://colab.research.google.com/github/plthiyagu/AI-Engineering/blob/master/15-LeetCode/Factorial_using_memoization.ipynb\" target=\"_parent\"><img src=\"https://colab.research.google.com/assets/colab-badge.svg\" alt=\"Open In Colab\"/></a>"
      ]
    },
    {
      "cell_type": "code",
      "source": [
        "def factorial(n):\n",
        "  if n== 1:\n",
        "    return n\n",
        "  else:\n",
        "    n * factorial(n)\n",
        "  "
      ],
      "metadata": {
        "id": "2WgjtuuHp5DR"
      },
      "execution_count": 3,
      "outputs": []
    },
    {
      "cell_type": "code",
      "source": [
        "%%timeit\n",
        "factorial(100)"
      ],
      "metadata": {
        "id": "Lgnb1iyBwO7b"
      },
      "execution_count": null,
      "outputs": []
    },
    {
      "cell_type": "code",
      "source": [
        "import timeit\n",
        "%%timeit\n",
        "dic = {}\n",
        "def mem_factorial(n):\n",
        "  \n",
        "   if n < 2:\n",
        "     return 1\n",
        "   if n not in dic:\n",
        "     dic[n] = n * mem_factorial(n-1)\n",
        "   return dic[n]"
      ],
      "metadata": {
        "id": "xMsocvGouMi6"
      },
      "execution_count": 15,
      "outputs": []
    },
    {
      "cell_type": "code",
      "source": [
        "%%timeit\n",
        "mem_factorial(100)"
      ],
      "metadata": {
        "colab": {
          "base_uri": "https://localhost:8080/"
        },
        "id": "JVIyNJ2MvCT0",
        "outputId": "def936d7-3105-4fd1-a075-d5fe4534ae69"
      },
      "execution_count": 18,
      "outputs": [
        {
          "output_type": "stream",
          "name": "stdout",
          "text": [
            "The slowest run took 28.90 times longer than the fastest. This could mean that an intermediate result is being cached.\n",
            "1000000 loops, best of 5: 211 ns per loop\n"
          ]
        }
      ]
    }
  ]
}