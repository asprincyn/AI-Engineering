{
  "nbformat": 4,
  "nbformat_minor": 0,
  "metadata": {
    "colab": {
      "name": "326 Power of Three LeetCode.ipynb",
      "provenance": [],
      "authorship_tag": "ABX9TyPESL0dKDh6p3hwtKhGN3RD",
      "include_colab_link": true
    },
    "kernelspec": {
      "name": "python3",
      "display_name": "Python 3"
    },
    "language_info": {
      "name": "python"
    }
  },
  "cells": [
    {
      "cell_type": "markdown",
      "metadata": {
        "id": "view-in-github",
        "colab_type": "text"
      },
      "source": [
        "<a href=\"https://colab.research.google.com/github/plthiyagu/AI-Engineering/blob/master/15-LeetCode/326_Power_of_Three_LeetCode.ipynb\" target=\"_parent\"><img src=\"https://colab.research.google.com/assets/colab-badge.svg\" alt=\"Open In Colab\"/></a>"
      ]
    },
    {
      "cell_type": "code",
      "execution_count": 1,
      "metadata": {
        "id": "rvrj7r7Cd6Lr"
      },
      "outputs": [],
      "source": [
        "class Solution(object):\n",
        "    def isPowerOfThree(self, n):\n",
        "        \"\"\"\n",
        "        :type n: int\n",
        "        :rtype: bool\n",
        "        \"\"\"\n",
        "        if n==0:\n",
        "            return False\n",
        "        while n%3 ==0:\n",
        "            n /=3\n",
        "        return n==1"
      ]
    },
    {
      "cell_type": "code",
      "source": [
        "sol = Solution()\n",
        "n=27\n",
        "sol.isPowerOfThree(n)"
      ],
      "metadata": {
        "colab": {
          "base_uri": "https://localhost:8080/"
        },
        "id": "YHXiEpkMd6zT",
        "outputId": "4d882cb1-4702-4164-b759-e5d3c02ddefb"
      },
      "execution_count": 2,
      "outputs": [
        {
          "output_type": "execute_result",
          "data": {
            "text/plain": [
              "True"
            ]
          },
          "metadata": {},
          "execution_count": 2
        }
      ]
    },
    {
      "cell_type": "code",
      "source": [
        ""
      ],
      "metadata": {
        "id": "wzIhVgkMeA1i"
      },
      "execution_count": null,
      "outputs": []
    }
  ]
}