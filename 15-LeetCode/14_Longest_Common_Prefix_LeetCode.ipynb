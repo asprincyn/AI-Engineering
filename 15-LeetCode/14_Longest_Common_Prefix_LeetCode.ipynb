{
  "nbformat": 4,
  "nbformat_minor": 0,
  "metadata": {
    "colab": {
      "name": "14 Longest Common Prefix LeetCode.ipynb",
      "provenance": [],
      "authorship_tag": "ABX9TyPt69C6qG2OKcveuh0DrgQw",
      "include_colab_link": true
    },
    "kernelspec": {
      "name": "python3",
      "display_name": "Python 3"
    },
    "language_info": {
      "name": "python"
    }
  },
  "cells": [
    {
      "cell_type": "markdown",
      "metadata": {
        "id": "view-in-github",
        "colab_type": "text"
      },
      "source": [
        "<a href=\"https://colab.research.google.com/github/plthiyagu/AI-Engineering/blob/master/15-LeetCode/14_Longest_Common_Prefix_LeetCode.ipynb\" target=\"_parent\"><img src=\"https://colab.research.google.com/assets/colab-badge.svg\" alt=\"Open In Colab\"/></a>"
      ]
    },
    {
      "cell_type": "code",
      "execution_count": 2,
      "metadata": {
        "id": "SYFhgRwmW_JG"
      },
      "outputs": [],
      "source": [
        "from typing import List\n",
        "class Solution:\n",
        "    def longestCommonPrefix(self, strs: List[str]) -> str:\n",
        "        prefix=\"\"\n",
        "        if len(strs)==0: return prefix\n",
        "\n",
        "        for i in range(len(min(strs))):\n",
        "            c=strs[0][i]\n",
        "            if all(a[i]==c for a in strs):\n",
        "                prefix+=c\n",
        "            else:\n",
        "                break\n",
        "        return prefix\n"
      ]
    },
    {
      "cell_type": "code",
      "source": [
        "strs = [\"flower\",\"flow\",\"flight\"]\n",
        "sol = Solution()\n",
        "sol.longestCommonPrefix(strs)"
      ],
      "metadata": {
        "colab": {
          "base_uri": "https://localhost:8080/",
          "height": 35
        },
        "id": "nAKpKdnTaVUl",
        "outputId": "8cb95829-7835-4b7a-f2bb-cd06dceb2bd8"
      },
      "execution_count": 3,
      "outputs": [
        {
          "output_type": "execute_result",
          "data": {
            "text/plain": [
              "'fl'"
            ],
            "application/vnd.google.colaboratory.intrinsic+json": {
              "type": "string"
            }
          },
          "metadata": {},
          "execution_count": 3
        }
      ]
    },
    {
      "cell_type": "code",
      "source": [
        ""
      ],
      "metadata": {
        "id": "z9VTZ8M-adkk"
      },
      "execution_count": null,
      "outputs": []
    }
  ]
}