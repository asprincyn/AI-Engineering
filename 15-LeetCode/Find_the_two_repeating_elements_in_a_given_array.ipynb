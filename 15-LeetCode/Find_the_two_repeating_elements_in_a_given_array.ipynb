{
  "nbformat": 4,
  "nbformat_minor": 0,
  "metadata": {
    "colab": {
      "name": "Find the two repeating elements in a given array.ipynb",
      "provenance": [],
      "authorship_tag": "ABX9TyMsOT1xb2bbfxatUdfjDdyo",
      "include_colab_link": true
    },
    "kernelspec": {
      "name": "python3",
      "display_name": "Python 3"
    },
    "language_info": {
      "name": "python"
    }
  },
  "cells": [
    {
      "cell_type": "markdown",
      "metadata": {
        "id": "view-in-github",
        "colab_type": "text"
      },
      "source": [
        "<a href=\"https://colab.research.google.com/github/plthiyagu/AI-Engineering/blob/master/15-LeetCode/Find_the_two_repeating_elements_in_a_given_array.ipynb\" target=\"_parent\"><img src=\"https://colab.research.google.com/assets/colab-badge.svg\" alt=\"Open In Colab\"/></a>"
      ]
    },
    {
      "cell_type": "code",
      "execution_count": null,
      "metadata": {
        "id": "8CVZTuwwrmMV"
      },
      "outputs": [],
      "source": [
        "# Python3 code for Find the two repeating\n",
        "# elements in a given array\n",
        "\n",
        "\n",
        "def printRepeating(arr,size) :\n",
        "\tcount = [0] * size\n",
        "\tprint(\" Repeating elements are \",end = \"\")\n",
        "\tfor i in range(0, size) :\n",
        "\t\tif(count[arr[i]] == 1) :\n",
        "\t\t\tprint(arr[i], end = \" \")\n",
        "\t\telse :\n",
        "\t\t\tcount[arr[i]] = count[arr[i]] + 1\n",
        "\n",
        "\n",
        "# Driver code\n",
        "arr = [4, 2, 4, 5, 2, 3, 1]\n",
        "arr_size = len(arr)\n",
        "printRepeating(arr, arr_size)\n",
        "\n",
        "\n",
        "\t\t\n",
        "# This code is contributed by Nikita Tiwari.\n"
      ]
    }
  ]
}