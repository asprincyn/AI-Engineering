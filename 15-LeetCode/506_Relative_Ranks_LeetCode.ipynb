{
  "nbformat": 4,
  "nbformat_minor": 0,
  "metadata": {
    "colab": {
      "name": "506 Relative Ranks LeetCode.ipynb",
      "provenance": [],
      "authorship_tag": "ABX9TyPQzJcmKwaWRCCdUZT2miuj",
      "include_colab_link": true
    },
    "kernelspec": {
      "name": "python3",
      "display_name": "Python 3"
    },
    "language_info": {
      "name": "python"
    }
  },
  "cells": [
    {
      "cell_type": "markdown",
      "metadata": {
        "id": "view-in-github",
        "colab_type": "text"
      },
      "source": [
        "<a href=\"https://colab.research.google.com/github/plthiyagu/AI-Engineering/blob/master/15-LeetCode/506_Relative_Ranks_LeetCode.ipynb\" target=\"_parent\"><img src=\"https://colab.research.google.com/assets/colab-badge.svg\" alt=\"Open In Colab\"/></a>"
      ]
    },
    {
      "cell_type": "code",
      "execution_count": 5,
      "metadata": {
        "id": "i1K-LKyK6Rkq"
      },
      "outputs": [],
      "source": [
        "class Solution(object):\n",
        "    def findRelativeRanks(self, nums):\n",
        "        \"\"\"\n",
        "        :type nums: List[int]\n",
        "        :rtype: List[str]\n",
        "        \"\"\"\n",
        "        sorted_nums = sorted(nums, reverse=True)\n",
        "        nums_map= {}\n",
        "        for i in range(len(sorted_nums)):\n",
        "          if i ==0:\n",
        "            nums_map[sorted_nums[i]] = \"Gold Medal\"\n",
        "          elif i ==1:\n",
        "            nums_map[sorted_nums[i]] = \"Silver Medal\"\n",
        "          elif i ==2:\n",
        "            nums_map[sorted_nums[i]] = \"Bronze Medal\"\n",
        "          else:\n",
        "            nums_map[sorted_nums[i]] = str(i+1)\n",
        "        results =[]\n",
        "        for num in nums:\n",
        "          results.append(nums_map[num])\n",
        "        return results\n",
        "\n"
      ]
    },
    {
      "cell_type": "code",
      "source": [
        "sol = Solution()\n",
        "nums = [3, 1, 4, 2, 5]\n",
        "sol.findRelativeRanks(nums)"
      ],
      "metadata": {
        "colab": {
          "base_uri": "https://localhost:8080/"
        },
        "id": "Kg1207PyE6IU",
        "outputId": "262e10bd-396e-44a1-d200-63546be4ea81"
      },
      "execution_count": 6,
      "outputs": [
        {
          "output_type": "execute_result",
          "data": {
            "text/plain": [
              "['Bronze Medal', '5', 'Silver Medal', '4', 'Gold Medal']"
            ]
          },
          "metadata": {},
          "execution_count": 6
        }
      ]
    },
    {
      "cell_type": "code",
      "source": [
        "\n"
      ],
      "metadata": {
        "id": "H8ciHAjT6SB6"
      },
      "execution_count": null,
      "outputs": []
    }
  ]
}