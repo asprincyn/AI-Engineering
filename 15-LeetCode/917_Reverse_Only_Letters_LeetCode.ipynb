{
  "nbformat": 4,
  "nbformat_minor": 0,
  "metadata": {
    "colab": {
      "name": "917 Reverse Only Letters LeetCode.ipynb",
      "provenance": [],
      "collapsed_sections": [],
      "authorship_tag": "ABX9TyNDlep3mJRKWZnGHLGR/Hng",
      "include_colab_link": true
    },
    "kernelspec": {
      "name": "python3",
      "display_name": "Python 3"
    },
    "language_info": {
      "name": "python"
    }
  },
  "cells": [
    {
      "cell_type": "markdown",
      "metadata": {
        "id": "view-in-github",
        "colab_type": "text"
      },
      "source": [
        "<a href=\"https://colab.research.google.com/github/plthiyagu/AI-Engineering/blob/master/15-LeetCode/917_Reverse_Only_Letters_LeetCode.ipynb\" target=\"_parent\"><img src=\"https://colab.research.google.com/assets/colab-badge.svg\" alt=\"Open In Colab\"/></a>"
      ]
    },
    {
      "cell_type": "code",
      "execution_count": 2,
      "metadata": {
        "id": "85MTidcZDFJw"
      },
      "outputs": [],
      "source": [
        "class Solution(object):\n",
        "    def reverseOnlyLetters(self, S):\n",
        "      letters = [ c for c in S if c.isalpha()]\n",
        "      ans=[]\n",
        "      for c in S:\n",
        "        if c.isalpha():\n",
        "          ans.append(letters.pop())\n",
        "        else:\n",
        "          ans.append(c)\n",
        "      return \"\".join(ans)"
      ]
    },
    {
      "cell_type": "code",
      "source": [
        "sol = Solution()\n",
        "s = \"ab-cd\"\n",
        "sol.reverseOnlyLetters(s)"
      ],
      "metadata": {
        "colab": {
          "base_uri": "https://localhost:8080/",
          "height": 35
        },
        "id": "XeEwYef-F3f5",
        "outputId": "e46eb053-2e97-4cbd-d145-e2e0662edeb6"
      },
      "execution_count": 3,
      "outputs": [
        {
          "output_type": "execute_result",
          "data": {
            "text/plain": [
              "'dc-ba'"
            ],
            "application/vnd.google.colaboratory.intrinsic+json": {
              "type": "string"
            }
          },
          "metadata": {},
          "execution_count": 3
        }
      ]
    },
    {
      "cell_type": "code",
      "source": [
        "class Solution:\n",
        "    def reverseOnlyLetters(self, s: str) -> str:\n",
        "        ans = []\n",
        "        j = len(ans) -1\n",
        "        for i,x in enumerate(s):\n",
        "            if x.isalpha():\n",
        "                while not s[j].isalpha():\n",
        "                    j -=1\n",
        "                ans.append(s[j])\n",
        "                j -=1\n",
        "            else:\n",
        "                ans.append(x)\n",
        "        return \"\".join(ans)\n",
        "        "
      ],
      "metadata": {
        "id": "cjZdObg4GH-L"
      },
      "execution_count": 4,
      "outputs": []
    },
    {
      "cell_type": "code",
      "source": [
        "sol = Solution()\n",
        "s = \"Test1ng-Leet=code-Q!\"\n",
        "sol.reverseOnlyLetters(s)"
      ],
      "metadata": {
        "colab": {
          "base_uri": "https://localhost:8080/",
          "height": 35
        },
        "id": "z4F8vQvXGwXr",
        "outputId": "93536176-27b2-44b7-e88c-056eb612fb15"
      },
      "execution_count": 5,
      "outputs": [
        {
          "output_type": "execute_result",
          "data": {
            "text/plain": [
              "'Qedo1ct-eeLg=ntse-T!'"
            ],
            "application/vnd.google.colaboratory.intrinsic+json": {
              "type": "string"
            }
          },
          "metadata": {},
          "execution_count": 5
        }
      ]
    }
  ]
}