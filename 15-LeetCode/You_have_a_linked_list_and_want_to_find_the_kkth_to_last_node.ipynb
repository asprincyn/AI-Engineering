{
  "nbformat": 4,
  "nbformat_minor": 0,
  "metadata": {
    "colab": {
      "name": "You have a linked list and want to find the kkth to last node.ipynb",
      "provenance": [],
      "authorship_tag": "ABX9TyPRVFbGYwMRAkbFqq4VIo8M",
      "include_colab_link": true
    },
    "kernelspec": {
      "name": "python3",
      "display_name": "Python 3"
    },
    "language_info": {
      "name": "python"
    }
  },
  "cells": [
    {
      "cell_type": "markdown",
      "metadata": {
        "id": "view-in-github",
        "colab_type": "text"
      },
      "source": [
        "<a href=\"https://colab.research.google.com/github/plthiyagu/AI-Engineering/blob/master/15-LeetCode/You_have_a_linked_list_and_want_to_find_the_kkth_to_last_node.ipynb\" target=\"_parent\"><img src=\"https://colab.research.google.com/assets/colab-badge.svg\" alt=\"Open In Colab\"/></a>"
      ]
    },
    {
      "cell_type": "code",
      "execution_count": 2,
      "metadata": {
        "id": "veA61W6uPCbM"
      },
      "outputs": [],
      "source": [
        "class LinkedListNode:\n",
        "\n",
        "    def __init__(self, value):\n",
        "        self.value = value\n",
        "        self.next  = None\n",
        "\n",
        "\n",
        "a = LinkedListNode(\"Angel Food\")\n",
        "b = LinkedListNode(\"Bundt\")\n",
        "c = LinkedListNode(\"Cheese\")\n",
        "d = LinkedListNode(\"Devil's Food\")\n",
        "e = LinkedListNode(\"Eccles\")\n",
        "\n",
        "a.next = b\n",
        "b.next = c\n",
        "c.next = d\n",
        "d.next = e"
      ]
    },
    {
      "cell_type": "code",
      "source": [
        "def kth_to_last_node(k, head):\n",
        "    if k < 1:\n",
        "        raise ValueError(\n",
        "            'Impossible to find less than first to last node: %s' % k\n",
        "        )\n",
        "\n",
        "    # Step 1: get the length of the list\n",
        "    # Start at 1, not 0\n",
        "    # else we'd fail to count the head node!\n",
        "    list_length = 1\n",
        "    current_node = head\n",
        "\n",
        "    # Traverse the whole list,\n",
        "    # counting all the nodes\n",
        "    while current_node.next:\n",
        "        current_node = current_node.next\n",
        "        list_length += 1\n",
        "\n",
        "    # If k is greater than the length of the list, there can't\n",
        "    # be a kth-to-last node, so we'll return an error!\n",
        "    if k > list_length:\n",
        "        raise ValueError(\n",
        "            'k is larger than the length of the linked list: %s' % k\n",
        "        )\n",
        "\n",
        "    # Step 2: walk to the target node\n",
        "    # Calculate how far to go, from the head,\n",
        "    # to get to the kth to last node\n",
        "    how_far_to_go = list_length - k\n",
        "    current_node = head\n",
        "    for i in range(how_far_to_go):\n",
        "        current_node = current_node.next\n",
        "\n",
        "    return current_node"
      ],
      "metadata": {
        "id": "U0RjiCNTPEEG"
      },
      "execution_count": 3,
      "outputs": []
    },
    {
      "cell_type": "code",
      "source": [
        ""
      ],
      "metadata": {
        "id": "qPxV4jkVPTmK"
      },
      "execution_count": null,
      "outputs": []
    }
  ]
}