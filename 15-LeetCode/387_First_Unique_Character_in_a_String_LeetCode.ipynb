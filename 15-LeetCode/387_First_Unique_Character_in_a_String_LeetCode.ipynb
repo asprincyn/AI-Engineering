{
  "nbformat": 4,
  "nbformat_minor": 0,
  "metadata": {
    "colab": {
      "name": "387 First Unique Character in a String LeetCode.ipynb",
      "provenance": [],
      "authorship_tag": "ABX9TyNVP++kVLAXlfX4xx9zcIoc",
      "include_colab_link": true
    },
    "kernelspec": {
      "name": "python3",
      "display_name": "Python 3"
    },
    "language_info": {
      "name": "python"
    }
  },
  "cells": [
    {
      "cell_type": "markdown",
      "metadata": {
        "id": "view-in-github",
        "colab_type": "text"
      },
      "source": [
        "<a href=\"https://colab.research.google.com/github/plthiyagu/AI-Engineering/blob/master/15-LeetCode/387_First_Unique_Character_in_a_String_LeetCode.ipynb\" target=\"_parent\"><img src=\"https://colab.research.google.com/assets/colab-badge.svg\" alt=\"Open In Colab\"/></a>"
      ]
    },
    {
      "cell_type": "code",
      "execution_count": 2,
      "metadata": {
        "id": "7iDZkbjbDOZS"
      },
      "outputs": [],
      "source": [
        "import collections\n",
        "\n",
        "class Solution(object):\n",
        "    def firstUniqChar(self, s):\n",
        "        \"\"\"\n",
        "        :type s: str\n",
        "        :rtype: int\n",
        "        \"\"\"\n",
        "        \n",
        "        count = collections.Counter(s)\n",
        "        \n",
        "        for idx,ch in enumerate(s):\n",
        "            if count[ch] ==1:\n",
        "                return idx\n",
        "        return -1\n"
      ]
    },
    {
      "cell_type": "code",
      "source": [
        "s = \"loveleetcode\"\n",
        "sol = Solution()\n",
        "sol.firstUniqChar(s)"
      ],
      "metadata": {
        "colab": {
          "base_uri": "https://localhost:8080/"
        },
        "id": "o-zfv1jfDPxf",
        "outputId": "8037211b-e113-4440-f468-f667f44f23a0"
      },
      "execution_count": 3,
      "outputs": [
        {
          "output_type": "execute_result",
          "data": {
            "text/plain": [
              "2"
            ]
          },
          "metadata": {},
          "execution_count": 3
        }
      ]
    },
    {
      "cell_type": "code",
      "source": [
        ""
      ],
      "metadata": {
        "id": "bhQYgBh1DZxL"
      },
      "execution_count": null,
      "outputs": []
    }
  ]
}