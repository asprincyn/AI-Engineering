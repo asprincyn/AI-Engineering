{
  "nbformat": 4,
  "nbformat_minor": 0,
  "metadata": {
    "colab": {
      "name": "509 Fibonacci NumberLeetCode.ipynb",
      "provenance": [],
      "collapsed_sections": [],
      "authorship_tag": "ABX9TyOo0JvK/ay04CbcY/Nd3PPz",
      "include_colab_link": true
    },
    "kernelspec": {
      "name": "python3",
      "display_name": "Python 3"
    },
    "language_info": {
      "name": "python"
    }
  },
  "cells": [
    {
      "cell_type": "markdown",
      "metadata": {
        "id": "view-in-github",
        "colab_type": "text"
      },
      "source": [
        "<a href=\"https://colab.research.google.com/github/plthiyagu/AI-Engineering/blob/master/15-LeetCode/509_Fibonacci_NumberLeetCode.ipynb\" target=\"_parent\"><img src=\"https://colab.research.google.com/assets/colab-badge.svg\" alt=\"Open In Colab\"/></a>"
      ]
    },
    {
      "cell_type": "code",
      "execution_count": 1,
      "metadata": {
        "id": "Vp0m-HMpzMLJ"
      },
      "outputs": [],
      "source": [
        "class Solution:\n",
        "    memo= {0:0,1:1}\n",
        "    def fib(self, n: int) -> int:\n",
        "        if n in self.memo:\n",
        "            return self.memo[n]\n",
        "        self.memo[n]= self.fib(n-1)+self.fib(n-2)\n",
        "        return self.memo[n]"
      ]
    },
    {
      "cell_type": "code",
      "source": [
        "sol= Solution()\n",
        "sol.fib(10)"
      ],
      "metadata": {
        "colab": {
          "base_uri": "https://localhost:8080/"
        },
        "id": "YyhH41-szSlq",
        "outputId": "cdabaf83-085b-43d2-ee2c-fa8324c51f79"
      },
      "execution_count": 2,
      "outputs": [
        {
          "output_type": "execute_result",
          "data": {
            "text/plain": [
              "55"
            ]
          },
          "metadata": {},
          "execution_count": 2
        }
      ]
    },
    {
      "cell_type": "code",
      "source": [
        ""
      ],
      "metadata": {
        "id": "XkYR4KX6zWSd"
      },
      "execution_count": null,
      "outputs": []
    }
  ]
}