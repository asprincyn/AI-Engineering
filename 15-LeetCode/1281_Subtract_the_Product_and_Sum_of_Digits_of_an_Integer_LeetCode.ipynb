{
  "nbformat": 4,
  "nbformat_minor": 0,
  "metadata": {
    "colab": {
      "name": "1281 Subtract the Product and Sum of Digits of an Integer LeetCode.ipynb",
      "provenance": [],
      "authorship_tag": "ABX9TyNGJIBz3IXFj0xuMZuUZWL6",
      "include_colab_link": true
    },
    "kernelspec": {
      "name": "python3",
      "display_name": "Python 3"
    },
    "language_info": {
      "name": "python"
    }
  },
  "cells": [
    {
      "cell_type": "markdown",
      "metadata": {
        "id": "view-in-github",
        "colab_type": "text"
      },
      "source": [
        "<a href=\"https://colab.research.google.com/github/plthiyagu/AI-Engineering/blob/master/15-LeetCode/1281_Subtract_the_Product_and_Sum_of_Digits_of_an_Integer_LeetCode.ipynb\" target=\"_parent\"><img src=\"https://colab.research.google.com/assets/colab-badge.svg\" alt=\"Open In Colab\"/></a>"
      ]
    },
    {
      "cell_type": "code",
      "execution_count": 1,
      "metadata": {
        "id": "vqOzMeTOgYa5"
      },
      "outputs": [],
      "source": [
        "class Solution:\n",
        "    def subtractProductAndSum(self, n: int) -> int:\n",
        "        product =1\n",
        "        sum =0\n",
        "        while n >0:\n",
        "            product *= n %10\n",
        "            sum += n%10\n",
        "            n  = n//10\n",
        "        return product -sum"
      ]
    },
    {
      "cell_type": "code",
      "source": [
        "sol = Solution()\n",
        "n = 4421\n",
        "sol.subtractProductAndSum(n)"
      ],
      "metadata": {
        "colab": {
          "base_uri": "https://localhost:8080/"
        },
        "id": "sLYAB6mmgZ8W",
        "outputId": "f17ec53f-c854-4bc6-fcd3-0b4cd93cad4f"
      },
      "execution_count": 2,
      "outputs": [
        {
          "output_type": "execute_result",
          "data": {
            "text/plain": [
              "21"
            ]
          },
          "metadata": {},
          "execution_count": 2
        }
      ]
    },
    {
      "cell_type": "code",
      "source": [
        ""
      ],
      "metadata": {
        "id": "XjoOEDStggNF"
      },
      "execution_count": null,
      "outputs": []
    }
  ]
}