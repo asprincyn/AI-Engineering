{
  "nbformat": 4,
  "nbformat_minor": 0,
  "metadata": {
    "colab": {
      "name": "403 Frog Jump LeetCode.ipynb",
      "provenance": [],
      "authorship_tag": "ABX9TyMX0YHvB7KYCZtbycGfTped",
      "include_colab_link": true
    },
    "kernelspec": {
      "name": "python3",
      "display_name": "Python 3"
    },
    "language_info": {
      "name": "python"
    }
  },
  "cells": [
    {
      "cell_type": "markdown",
      "metadata": {
        "id": "view-in-github",
        "colab_type": "text"
      },
      "source": [
        "<a href=\"https://colab.research.google.com/github/plthiyagu/AI-Engineering/blob/master/15-LeetCode/403_Frog_Jump_LeetCode.ipynb\" target=\"_parent\"><img src=\"https://colab.research.google.com/assets/colab-badge.svg\" alt=\"Open In Colab\"/></a>"
      ]
    },
    {
      "cell_type": "code",
      "execution_count": 6,
      "metadata": {
        "id": "WJLakb4eQcXF"
      },
      "outputs": [],
      "source": [
        "from typing import List\n",
        "def canCross(stones: List[int]) -> bool:\n",
        "    F = {}\n",
        "    for stone in stones:\n",
        "        F[stone] = set()\n",
        "\n",
        "    F[0].add(0)\n",
        "    for stone in stones:\n",
        "        for step in F[stone]:\n",
        "            for i in (-1, 0, 1):\n",
        "                nxt = stone+step+i\n",
        "                if nxt != stone and nxt in F:\n",
        "                    F[nxt].add(step+i)\n",
        "\n",
        "    return True if F[stones[-1]] else False     "
      ]
    },
    {
      "cell_type": "code",
      "source": [
        "stones = [0,1,3,5,6,8,12,17]\n",
        "canCross(stones)"
      ],
      "metadata": {
        "colab": {
          "base_uri": "https://localhost:8080/"
        },
        "id": "EXA-03CPQocR",
        "outputId": "d19015f2-2e54-405d-e246-8689d9521d4a"
      },
      "execution_count": 7,
      "outputs": [
        {
          "output_type": "execute_result",
          "data": {
            "text/plain": [
              "True"
            ]
          },
          "metadata": {},
          "execution_count": 7
        }
      ]
    },
    {
      "cell_type": "code",
      "source": [
        ""
      ],
      "metadata": {
        "id": "6IEbz_cXQzql"
      },
      "execution_count": null,
      "outputs": []
    }
  ]
}