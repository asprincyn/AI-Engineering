{
  "nbformat": 4,
  "nbformat_minor": 0,
  "metadata": {
    "colab": {
      "name": "Graph Coloring.ipynb",
      "provenance": [],
      "collapsed_sections": [],
      "authorship_tag": "ABX9TyMiqcg8g4T6WnRd7xdIqC+x",
      "include_colab_link": true
    },
    "kernelspec": {
      "name": "python3",
      "display_name": "Python 3"
    },
    "language_info": {
      "name": "python"
    }
  },
  "cells": [
    {
      "cell_type": "markdown",
      "metadata": {
        "id": "view-in-github",
        "colab_type": "text"
      },
      "source": [
        "<a href=\"https://colab.research.google.com/github/plthiyagu/AI-Engineering/blob/master/15-LeetCode/Graph_Coloring.ipynb\" target=\"_parent\"><img src=\"https://colab.research.google.com/assets/colab-badge.svg\" alt=\"Open In Colab\"/></a>"
      ]
    },
    {
      "cell_type": "code",
      "execution_count": 1,
      "metadata": {
        "id": "d-Pkn6HY6SNV"
      },
      "outputs": [],
      "source": [
        "def color_graph(graph, colors):\n",
        "  for node in graph:\n",
        "      if node in node.neighbors:\n",
        "          raise Exception('Legal coloring impossible for node with loop: %s' %\n",
        "                          node.label)\n",
        "\n",
        "      # Get the node's neighbors' colors, as a set so we\n",
        "      # can check if a color is illegal in constant time\n",
        "      illegal_colors = set([\n",
        "          neighbor.color\n",
        "          for neighbor in node.neighbors\n",
        "          if neighbor.color\n",
        "      ])\n",
        "\n",
        "      # Assign the first legal color\n",
        "      for color in colors:\n",
        "          if color not in illegal_colors:\n",
        "              node.color = color\n",
        "              break"
      ]
    },
    {
      "cell_type": "code",
      "source": [
        ""
      ],
      "metadata": {
        "id": "peLIPeAz6X0I"
      },
      "execution_count": null,
      "outputs": []
    }
  ]
}