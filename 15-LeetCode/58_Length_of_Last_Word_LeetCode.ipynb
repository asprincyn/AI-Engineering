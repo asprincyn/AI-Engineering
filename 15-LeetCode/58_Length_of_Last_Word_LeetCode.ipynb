{
  "nbformat": 4,
  "nbformat_minor": 0,
  "metadata": {
    "colab": {
      "name": "58 Length of Last Word LeetCode.ipynb",
      "provenance": [],
      "authorship_tag": "ABX9TyMC8+zVo2dU+/M8dtU5cEt9",
      "include_colab_link": true
    },
    "kernelspec": {
      "name": "python3",
      "display_name": "Python 3"
    },
    "language_info": {
      "name": "python"
    }
  },
  "cells": [
    {
      "cell_type": "markdown",
      "metadata": {
        "id": "view-in-github",
        "colab_type": "text"
      },
      "source": [
        "<a href=\"https://colab.research.google.com/github/plthiyagu/AI-Engineering/blob/master/15-LeetCode/58_Length_of_Last_Word_LeetCode.ipynb\" target=\"_parent\"><img src=\"https://colab.research.google.com/assets/colab-badge.svg\" alt=\"Open In Colab\"/></a>"
      ]
    },
    {
      "cell_type": "code",
      "execution_count": 1,
      "metadata": {
        "id": "Cwh7e4rzEX0_"
      },
      "outputs": [],
      "source": [
        "class Solution:\n",
        "    def lengthOfLastWord(self, s: str) -> int:\n",
        "        s = s.strip()\n",
        "        return len(s.split()[-1]) if s else 0"
      ]
    },
    {
      "cell_type": "code",
      "source": [
        "sol =Solution()\n",
        "s = \"   fly me   to   the moon  \"\n",
        "sol.lengthOfLastWord(s)"
      ],
      "metadata": {
        "colab": {
          "base_uri": "https://localhost:8080/"
        },
        "id": "aW_lVxVzEeIc",
        "outputId": "706d8f99-b820-4bd4-ffe6-f74d8bd3043f"
      },
      "execution_count": 3,
      "outputs": [
        {
          "output_type": "execute_result",
          "data": {
            "text/plain": [
              "4"
            ]
          },
          "metadata": {},
          "execution_count": 3
        }
      ]
    },
    {
      "cell_type": "code",
      "source": [
        ""
      ],
      "metadata": {
        "id": "CwEeiS-7GEj_"
      },
      "execution_count": null,
      "outputs": []
    }
  ]
}