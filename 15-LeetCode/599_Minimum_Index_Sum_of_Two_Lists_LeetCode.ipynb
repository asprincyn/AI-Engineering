{
  "nbformat": 4,
  "nbformat_minor": 0,
  "metadata": {
    "colab": {
      "name": "599 Minimum Index Sum of Two Lists LeetCode.ipynb",
      "provenance": [],
      "collapsed_sections": [],
      "authorship_tag": "ABX9TyPhGD/y0ltuFsiJZEzGlrbL",
      "include_colab_link": true
    },
    "kernelspec": {
      "name": "python3",
      "display_name": "Python 3"
    },
    "language_info": {
      "name": "python"
    }
  },
  "cells": [
    {
      "cell_type": "markdown",
      "metadata": {
        "id": "view-in-github",
        "colab_type": "text"
      },
      "source": [
        "<a href=\"https://colab.research.google.com/github/plthiyagu/AI-Engineering/blob/master/15-LeetCode/599_Minimum_Index_Sum_of_Two_Lists_LeetCode.ipynb\" target=\"_parent\"><img src=\"https://colab.research.google.com/assets/colab-badge.svg\" alt=\"Open In Colab\"/></a>"
      ]
    },
    {
      "cell_type": "code",
      "execution_count": 1,
      "metadata": {
        "id": "rX8Qa-94TGyg"
      },
      "outputs": [],
      "source": [
        "class Solution(object):\n",
        "    def findRestaurant(self, list1, list2):\n",
        "        \"\"\"\n",
        "        :type list1: List[str]\n",
        "        :type list2: List[str]\n",
        "        :rtype: List[str]\n",
        "        \"\"\"\n",
        "        restaurant_map = {restaurant: i for i, restaurant in enumerate(list1)}\n",
        "        least_index_sum = len(list1) + len(list2)\n",
        "        result = []\n",
        "\n",
        "        for i, restaurant in enumerate(list2):\n",
        "            index_sum = i + restaurant_map.get(restaurant, least_index_sum)\n",
        "            if index_sum < least_index_sum:\n",
        "                least_index_sum = index_sum\n",
        "                result = [restaurant]\n",
        "            elif index_sum == least_index_sum:\n",
        "                result.append(restaurant)\n",
        "\n",
        "        return result"
      ]
    },
    {
      "cell_type": "code",
      "source": [
        "list1 = [\"Shogun\",\"Tapioca Express\",\"Burger King\",\"KFC\"]\n",
        "list2 = [\"Piatti\",\"The Grill at Torrey Pines\",\"Hungry Hunter Steakhouse\",\"Shogun\"]"
      ],
      "metadata": {
        "id": "LAejzfhNTLkE"
      },
      "execution_count": 2,
      "outputs": []
    },
    {
      "cell_type": "code",
      "source": [
        "sol= Solution()\n",
        "sol.findRestaurant(list1,list2)"
      ],
      "metadata": {
        "colab": {
          "base_uri": "https://localhost:8080/"
        },
        "id": "C-2unUgpTPb3",
        "outputId": "c42888af-aeee-44b5-d8d5-f4546a1bd3da"
      },
      "execution_count": 3,
      "outputs": [
        {
          "output_type": "execute_result",
          "data": {
            "text/plain": [
              "['Shogun']"
            ]
          },
          "metadata": {},
          "execution_count": 3
        }
      ]
    },
    {
      "cell_type": "code",
      "source": [
        ""
      ],
      "metadata": {
        "id": "Wenon_w5TW8F"
      },
      "execution_count": null,
      "outputs": []
    }
  ]
}