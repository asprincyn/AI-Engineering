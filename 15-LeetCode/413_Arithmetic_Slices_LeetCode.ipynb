{
  "nbformat": 4,
  "nbformat_minor": 0,
  "metadata": {
    "colab": {
      "name": "413 Arithmetic Slices LeetCode.ipynb",
      "provenance": [],
      "authorship_tag": "ABX9TyPjHQPeYeqYdUyQaKpyNzxd",
      "include_colab_link": true
    },
    "kernelspec": {
      "name": "python3",
      "display_name": "Python 3"
    },
    "language_info": {
      "name": "python"
    }
  },
  "cells": [
    {
      "cell_type": "markdown",
      "metadata": {
        "id": "view-in-github",
        "colab_type": "text"
      },
      "source": [
        "<a href=\"https://colab.research.google.com/github/plthiyagu/AI-Engineering/blob/master/15-LeetCode/413_Arithmetic_Slices_LeetCode.ipynb\" target=\"_parent\"><img src=\"https://colab.research.google.com/assets/colab-badge.svg\" alt=\"Open In Colab\"/></a>"
      ]
    },
    {
      "cell_type": "code",
      "metadata": {
        "id": "xztxZGn5NrGI"
      },
      "source": [
        "from typing import List\n",
        "def numberOfArithmeticSlices( nums: List[int]) -> int:\n",
        "    res = 0\n",
        "    t = 1\n",
        "    for i in range(2, len(nums)):\n",
        "        if nums[i] - nums[i - 1] == nums[i - 1] - nums[i - 2]:\n",
        "            res += t\n",
        "            t += 1\n",
        "        else:\n",
        "            t = 1\n",
        "    return res"
      ],
      "execution_count": 2,
      "outputs": []
    },
    {
      "cell_type": "code",
      "metadata": {
        "colab": {
          "base_uri": "https://localhost:8080/"
        },
        "id": "StIIelMKNwCW",
        "outputId": "d1e02be4-d89b-4030-82c5-21fe5c0d4729"
      },
      "source": [
        "nums = [1,2,3,4]\n",
        "numberOfArithmeticSlices(nums)"
      ],
      "execution_count": 3,
      "outputs": [
        {
          "output_type": "execute_result",
          "data": {
            "text/plain": [
              "3"
            ]
          },
          "metadata": {},
          "execution_count": 3
        }
      ]
    },
    {
      "cell_type": "code",
      "metadata": {
        "id": "8rmxPQCYN7J9"
      },
      "source": [
        ""
      ],
      "execution_count": null,
      "outputs": []
    }
  ]
}