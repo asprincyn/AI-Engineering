{
  "nbformat": 4,
  "nbformat_minor": 0,
  "metadata": {
    "colab": {
      "name": "290 Word Pattern LeetCode.ipynb",
      "provenance": [],
      "authorship_tag": "ABX9TyPvD1fanvdwTuhzUBB1YK9L",
      "include_colab_link": true
    },
    "kernelspec": {
      "name": "python3",
      "display_name": "Python 3"
    },
    "language_info": {
      "name": "python"
    }
  },
  "cells": [
    {
      "cell_type": "markdown",
      "metadata": {
        "id": "view-in-github",
        "colab_type": "text"
      },
      "source": [
        "<a href=\"https://colab.research.google.com/github/plthiyagu/AI-Engineering/blob/master/15-LeetCode/290_Word_Pattern_LeetCode.ipynb\" target=\"_parent\"><img src=\"https://colab.research.google.com/assets/colab-badge.svg\" alt=\"Open In Colab\"/></a>"
      ]
    },
    {
      "cell_type": "code",
      "execution_count": 1,
      "metadata": {
        "id": "D_J5uXh4-aNw"
      },
      "outputs": [],
      "source": [
        "class Solution:\n",
        "    def wordPattern(self, pattern: str, s: str) -> bool:\n",
        "        map_char = {}\n",
        "        map_word = {}\n",
        "        \n",
        "        words = s.split(' ')\n",
        "        if len(words) != len(pattern):\n",
        "            return False\n",
        "        \n",
        "        for c, w in zip(pattern, words):\n",
        "            if c not in map_char:\n",
        "                if w in map_word:\n",
        "                    return False\n",
        "                else:\n",
        "                    map_char[c] = w\n",
        "                    map_word[w] = c\n",
        "            else:\n",
        "                if map_char[c] != w:\n",
        "                    return False\n",
        "        return True"
      ]
    },
    {
      "cell_type": "code",
      "source": [
        "pattern = \"abba\"\n",
        "s = \"dog cat cat fish\"\n",
        "sol= Solution()\n",
        "sol.wordPattern(pattern,s)"
      ],
      "metadata": {
        "colab": {
          "base_uri": "https://localhost:8080/"
        },
        "id": "0lv6shQo_GMr",
        "outputId": "657883c2-0ae1-461d-af38-9dd8a39e9dcd"
      },
      "execution_count": 2,
      "outputs": [
        {
          "output_type": "execute_result",
          "data": {
            "text/plain": [
              "False"
            ]
          },
          "metadata": {},
          "execution_count": 2
        }
      ]
    },
    {
      "cell_type": "code",
      "source": [
        ""
      ],
      "metadata": {
        "id": "4INqOyAF_QqR"
      },
      "execution_count": null,
      "outputs": []
    }
  ]
}