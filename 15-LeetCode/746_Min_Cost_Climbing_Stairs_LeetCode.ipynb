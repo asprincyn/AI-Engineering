{
  "nbformat": 4,
  "nbformat_minor": 0,
  "metadata": {
    "colab": {
      "name": "746 Min Cost Climbing Stairs LeetCode.ipynb",
      "provenance": [],
      "authorship_tag": "ABX9TyP9N/hhTokfg0gG1b1tYmoK",
      "include_colab_link": true
    },
    "kernelspec": {
      "name": "python3",
      "display_name": "Python 3"
    },
    "language_info": {
      "name": "python"
    }
  },
  "cells": [
    {
      "cell_type": "markdown",
      "metadata": {
        "id": "view-in-github",
        "colab_type": "text"
      },
      "source": [
        "<a href=\"https://colab.research.google.com/github/plthiyagu/AI-Engineering/blob/master/15-LeetCode/746_Min_Cost_Climbing_Stairs_LeetCode.ipynb\" target=\"_parent\"><img src=\"https://colab.research.google.com/assets/colab-badge.svg\" alt=\"Open In Colab\"/></a>"
      ]
    },
    {
      "cell_type": "code",
      "execution_count": 2,
      "metadata": {
        "id": "hTbWce_kYhrr"
      },
      "outputs": [],
      "source": [
        "from typing import List\n",
        "def minCostClimbingStairs(cost: List[int]) -> int:\n",
        "    for i in range(2,len(cost)):\n",
        "        cost[i] += min(cost[i-1],cost[i-2])\n",
        "    return min(cost[-2],cost[-1])"
      ]
    },
    {
      "cell_type": "code",
      "source": [
        "cost = [10,15,20]\n",
        "minCostClimbingStairs(cost)"
      ],
      "metadata": {
        "colab": {
          "base_uri": "https://localhost:8080/"
        },
        "id": "sA6XkIdkYmAF",
        "outputId": "787eaccd-d630-4eea-e9b7-7ee0ef8b6440"
      },
      "execution_count": 3,
      "outputs": [
        {
          "output_type": "execute_result",
          "data": {
            "text/plain": [
              "15"
            ]
          },
          "metadata": {},
          "execution_count": 3
        }
      ]
    },
    {
      "cell_type": "code",
      "source": [
        ""
      ],
      "metadata": {
        "id": "BZjH73kzY1-i"
      },
      "execution_count": null,
      "outputs": []
    }
  ]
}