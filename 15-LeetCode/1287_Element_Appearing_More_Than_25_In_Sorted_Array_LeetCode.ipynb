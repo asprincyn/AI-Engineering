{
  "nbformat": 4,
  "nbformat_minor": 0,
  "metadata": {
    "colab": {
      "name": "1287 Element Appearing More Than 25 In Sorted Array LeetCode.ipynb",
      "provenance": [],
      "authorship_tag": "ABX9TyMncLu71PqVP3x7j2zZDGcE",
      "include_colab_link": true
    },
    "kernelspec": {
      "name": "python3",
      "display_name": "Python 3"
    },
    "language_info": {
      "name": "python"
    }
  },
  "cells": [
    {
      "cell_type": "markdown",
      "metadata": {
        "id": "view-in-github",
        "colab_type": "text"
      },
      "source": [
        "<a href=\"https://colab.research.google.com/github/plthiyagu/AI-Engineering/blob/master/15-LeetCode/1287_Element_Appearing_More_Than_25_In_Sorted_Array_LeetCode.ipynb\" target=\"_parent\"><img src=\"https://colab.research.google.com/assets/colab-badge.svg\" alt=\"Open In Colab\"/></a>"
      ]
    },
    {
      "cell_type": "code",
      "execution_count": 1,
      "metadata": {
        "id": "40lbmyzFs3su"
      },
      "outputs": [],
      "source": [
        "from typing import List\n",
        "class Solution:\n",
        "    def findSpecialInteger(self, arr: List[int]) -> int:\n",
        "        percent_25_count = len(arr) // 4\n",
        "                \n",
        "        counter = {}\n",
        "                \n",
        "        for num in arr:            \n",
        "            counter[num] = counter.get(num, 0) + 1\n",
        "            \n",
        "            \n",
        "        for key, value in counter.items():\n",
        "            if value > percent_25_count:\n",
        "                return key"
      ]
    },
    {
      "cell_type": "code",
      "source": [
        "arr = [1,2,2,6,6,6,6,7,10]\n",
        "sol = Solution()\n",
        "sol.findSpecialInteger(arr)"
      ],
      "metadata": {
        "colab": {
          "base_uri": "https://localhost:8080/"
        },
        "id": "rVCs850qs7PX",
        "outputId": "cebda372-5322-48d0-f66c-9125ffddb025"
      },
      "execution_count": 2,
      "outputs": [
        {
          "output_type": "execute_result",
          "data": {
            "text/plain": [
              "6"
            ]
          },
          "metadata": {},
          "execution_count": 2
        }
      ]
    },
    {
      "cell_type": "code",
      "source": [
        ""
      ],
      "metadata": {
        "id": "Dt81tzoEtB0X"
      },
      "execution_count": null,
      "outputs": []
    }
  ]
}