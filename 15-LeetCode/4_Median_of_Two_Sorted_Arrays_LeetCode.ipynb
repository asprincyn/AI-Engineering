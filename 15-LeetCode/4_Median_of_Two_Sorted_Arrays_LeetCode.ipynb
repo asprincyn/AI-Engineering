{
  "nbformat": 4,
  "nbformat_minor": 0,
  "metadata": {
    "colab": {
      "name": "4 Median of Two Sorted Arrays LeetCode.ipynb",
      "provenance": [],
      "authorship_tag": "ABX9TyPNQ2oJtxdWNeJTM0UuNoBn",
      "include_colab_link": true
    },
    "kernelspec": {
      "name": "python3",
      "display_name": "Python 3"
    },
    "language_info": {
      "name": "python"
    }
  },
  "cells": [
    {
      "cell_type": "markdown",
      "metadata": {
        "id": "view-in-github",
        "colab_type": "text"
      },
      "source": [
        "<a href=\"https://colab.research.google.com/github/plthiyagu/AI-Engineering/blob/master/15-LeetCode/4_Median_of_Two_Sorted_Arrays_LeetCode.ipynb\" target=\"_parent\"><img src=\"https://colab.research.google.com/assets/colab-badge.svg\" alt=\"Open In Colab\"/></a>"
      ]
    },
    {
      "cell_type": "code",
      "execution_count": 1,
      "metadata": {
        "id": "RMdDBIy_Alus"
      },
      "outputs": [],
      "source": [
        "class Solution(object):\n",
        "    def findMedianSortedArrays(self, nums1, nums2):\n",
        "        \"\"\"\n",
        "        :type nums1: List[int]\n",
        "        :type nums2: List[int]\n",
        "        :rtype: float\n",
        "        \"\"\"\n",
        "        output_list = []\n",
        "        while(nums1 and nums2):\n",
        "            if nums1[0] <= nums2[0]:\n",
        "                output_list.append(nums1.pop(0))\n",
        "            else:\n",
        "                output_list.append(nums2.pop(0))\n",
        "        while nums1:\n",
        "            output_list.append(nums1.pop(0))\n",
        "        while nums2:\n",
        "            output_list.append(nums2.pop(0))\n",
        "        mid = len(output_list)//2\n",
        "        if len(output_list)%2 != 0:\n",
        "            return(output_list[mid])\n",
        "        return(float(output_list[mid] + output_list[mid-1])/2)"
      ]
    },
    {
      "cell_type": "code",
      "source": [
        "sol = Solution()\n",
        "nums1 = [1,3]\n",
        "nums2 = [2]\n",
        "sol.findMedianSortedArrays(nums1,nums2)"
      ],
      "metadata": {
        "colab": {
          "base_uri": "https://localhost:8080/"
        },
        "id": "s5PFk4P9ArmE",
        "outputId": "6e60ce6d-3427-4fc3-c6f5-06eb79c64a76"
      },
      "execution_count": 2,
      "outputs": [
        {
          "output_type": "execute_result",
          "data": {
            "text/plain": [
              "2"
            ]
          },
          "metadata": {},
          "execution_count": 2
        }
      ]
    },
    {
      "cell_type": "code",
      "source": [
        ""
      ],
      "metadata": {
        "id": "e8DEEVNWAzyK"
      },
      "execution_count": null,
      "outputs": []
    }
  ]
}