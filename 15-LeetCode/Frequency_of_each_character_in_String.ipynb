{
  "nbformat": 4,
  "nbformat_minor": 0,
  "metadata": {
    "colab": {
      "name": "Frequency of each character in String.ipynb",
      "provenance": [],
      "authorship_tag": "ABX9TyO9V49JIZ4cYfKzv66f9PCh",
      "include_colab_link": true
    },
    "kernelspec": {
      "name": "python3",
      "display_name": "Python 3"
    },
    "language_info": {
      "name": "python"
    }
  },
  "cells": [
    {
      "cell_type": "markdown",
      "metadata": {
        "id": "view-in-github",
        "colab_type": "text"
      },
      "source": [
        "<a href=\"https://colab.research.google.com/github/plthiyagu/AI-Engineering/blob/master/15-LeetCode/Frequency_of_each_character_in_String.ipynb\" target=\"_parent\"><img src=\"https://colab.research.google.com/assets/colab-badge.svg\" alt=\"Open In Colab\"/></a>"
      ]
    },
    {
      "cell_type": "code",
      "execution_count": 1,
      "metadata": {
        "id": "mH4jSXeUoT00"
      },
      "outputs": [],
      "source": [
        "def getfrequency(strs):\n",
        "  all_freq={}\n",
        "  for i in strs:\n",
        "    if i in all_freq:\n",
        "      all_freq[i] +=1\n",
        "    else:\n",
        "      all_freq[i] =1\n",
        "  return all_freq"
      ]
    },
    {
      "cell_type": "code",
      "source": [
        "strs = \"GeeksforGeeks\"\n",
        "getfrequency(strs)"
      ],
      "metadata": {
        "colab": {
          "base_uri": "https://localhost:8080/"
        },
        "id": "7QI5ik1Gov_8",
        "outputId": "4e9b964e-02f2-4358-8b7d-0153c09abff7"
      },
      "execution_count": 2,
      "outputs": [
        {
          "output_type": "execute_result",
          "data": {
            "text/plain": [
              "{'G': 2, 'e': 4, 'f': 1, 'k': 2, 'o': 1, 'r': 1, 's': 2}"
            ]
          },
          "metadata": {},
          "execution_count": 2
        }
      ]
    },
    {
      "cell_type": "code",
      "source": [
        "def getfrequency(strs):\n",
        "  res={}\n",
        "  for i in strs:\n",
        "    res[i] = res.get(i,0) +1\n",
        "  return res"
      ],
      "metadata": {
        "id": "7j0U6BNdo3IF"
      },
      "execution_count": 3,
      "outputs": []
    },
    {
      "cell_type": "code",
      "source": [
        "strs = \"GeeksforGeeks\"\n",
        "getfrequency(strs)"
      ],
      "metadata": {
        "colab": {
          "base_uri": "https://localhost:8080/"
        },
        "id": "_UPiHYLIpKdR",
        "outputId": "0ddff603-2eaa-4189-a352-8831f943b33d"
      },
      "execution_count": 4,
      "outputs": [
        {
          "output_type": "execute_result",
          "data": {
            "text/plain": [
              "{'G': 2, 'e': 4, 'f': 1, 'k': 2, 'o': 1, 'r': 1, 's': 2}"
            ]
          },
          "metadata": {},
          "execution_count": 4
        }
      ]
    },
    {
      "cell_type": "code",
      "source": [
        ""
      ],
      "metadata": {
        "id": "WggAaitZpLod"
      },
      "execution_count": null,
      "outputs": []
    }
  ]
}