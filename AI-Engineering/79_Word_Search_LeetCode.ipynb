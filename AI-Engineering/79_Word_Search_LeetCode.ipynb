{
  "nbformat": 4,
  "nbformat_minor": 0,
  "metadata": {
    "colab": {
      "name": "79 Word Search LeetCode.ipynb",
      "provenance": [],
      "authorship_tag": "ABX9TyPmbc8DfWzJb3CG+pC2lGlF",
      "include_colab_link": true
    },
    "kernelspec": {
      "name": "python3",
      "display_name": "Python 3"
    },
    "language_info": {
      "name": "python"
    }
  },
  "cells": [
    {
      "cell_type": "markdown",
      "metadata": {
        "id": "view-in-github",
        "colab_type": "text"
      },
      "source": [
        "<a href=\"https://colab.research.google.com/github/plthiyagu/AI-Engineering/blob/master/AI-Engineering/79_Word_Search_LeetCode.ipynb\" target=\"_parent\"><img src=\"https://colab.research.google.com/assets/colab-badge.svg\" alt=\"Open In Colab\"/></a>"
      ]
    },
    {
      "cell_type": "code",
      "metadata": {
        "id": "TL5lFfRWas3I"
      },
      "source": [
        "from typing import List\n",
        "def exist( board: List[List[str]], word: str) -> bool:\n",
        "    if not board: return False\n",
        "    for i in range(len(board)):\n",
        "        for j in range(len(board[0])):\n",
        "            if dfs(board,i,j,word): return True\n",
        "    return False\n",
        "def dfs(board, i, j, word):\n",
        "    if len(word)==0: return True\n",
        "    if i<0 or i>=len(board) or j<0 or j>=len(board[0]) or word[0]!=board[i][j]: return False\n",
        "    tmp,board[i][j]=board[i][j],'#'\n",
        "    res=dfs(board,i-1,j,word[1:]) or dfs(board,i+1,j,word[1:]) or dfs(board,i,j-1,word[1:]) or dfs(board, i, j+1, word[1:])\n",
        "    board[i][j]=tmp\n",
        "    return res"
      ],
      "execution_count": 9,
      "outputs": []
    },
    {
      "cell_type": "code",
      "metadata": {
        "colab": {
          "base_uri": "https://localhost:8080/"
        },
        "id": "Koj91RWNaw35",
        "outputId": "bf342eff-3d83-4217-bfb1-a2d6023754d7"
      },
      "source": [
        "board = [[\"A\",\"B\",\"C\",\"E\"],[\"S\",\"F\",\"C\",\"S\"],[\"A\",\"D\",\"E\",\"E\"]]\n",
        "word = \"ABCCED\"\n",
        "exist(board,word)"
      ],
      "execution_count": 10,
      "outputs": [
        {
          "output_type": "execute_result",
          "data": {
            "text/plain": [
              "True"
            ]
          },
          "metadata": {},
          "execution_count": 10
        }
      ]
    },
    {
      "cell_type": "code",
      "metadata": {
        "id": "PCTC_Se1bA2Y"
      },
      "source": [
        ""
      ],
      "execution_count": null,
      "outputs": []
    }
  ]
}