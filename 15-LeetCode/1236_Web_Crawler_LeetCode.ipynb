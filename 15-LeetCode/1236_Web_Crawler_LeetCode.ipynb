{
  "nbformat": 4,
  "nbformat_minor": 0,
  "metadata": {
    "colab": {
      "name": "1236 Web Crawler LeetCode.ipynb",
      "provenance": [],
      "authorship_tag": "ABX9TyMVkizy2n9EfbI10Y88ycR9",
      "include_colab_link": true
    },
    "kernelspec": {
      "name": "python3",
      "display_name": "Python 3"
    },
    "language_info": {
      "name": "python"
    }
  },
  "cells": [
    {
      "cell_type": "markdown",
      "metadata": {
        "id": "view-in-github",
        "colab_type": "text"
      },
      "source": [
        "<a href=\"https://colab.research.google.com/github/plthiyagu/AI-Engineering/blob/master/15-LeetCode/1236_Web_Crawler_LeetCode.ipynb\" target=\"_parent\"><img src=\"https://colab.research.google.com/assets/colab-badge.svg\" alt=\"Open In Colab\"/></a>"
      ]
    },
    {
      "cell_type": "code",
      "source": [
        "class HtmlParser(object):\n",
        "   def getUrls(self, url):\n",
        "       \"\"\"\n",
        "       :type url: str\n",
        "       :rtype List[str]\n",
        "       \"\"\""
      ],
      "metadata": {
        "id": "sKmeygJlUcs7"
      },
      "execution_count": 3,
      "outputs": []
    },
    {
      "cell_type": "code",
      "execution_count": 2,
      "metadata": {
        "id": "o_zZk7U8T8Mn"
      },
      "outputs": [],
      "source": [
        "from typing import List\n",
        "class Solution:\n",
        "    def crawl(self, startUrl: str, htmlParser: 'HtmlParser') -> List[str]:\n",
        "        host_name = \"/\".join(startUrl.split(\"/\")[:3])\n",
        "\n",
        "        ans_set = {startUrl, }\n",
        "        check_set = {startUrl, }\n",
        "        while check_set:\n",
        "            next_check = set()\n",
        "            for url in check_set:\n",
        "                for next_url in htmlParser.getUrls(url):\n",
        "                    if next_url.startswith(host_name) and next_url not in ans_set:\n",
        "                        next_check.add(next_url)\n",
        "                        ans_set.add(next_url)\n",
        "            check_set = next_check\n",
        "        return list(ans_set)"
      ]
    },
    {
      "cell_type": "code",
      "source": [
        "sol= Solution()\n",
        "urls = [\n",
        "  \"http://news.yahoo.com\",\n",
        "  \"http://news.yahoo.com/news\",\n",
        "  \"http://news.yahoo.com/news/topics/\",\n",
        "  \"http://news.google.com\"\n",
        "]\n",
        "edges = [[0,2],[2,1],[3,2],[3,1],[3,0]]\n",
        "startUrl = \"http://news.google.com\"\n",
        "htmlParser = HtmlParser(urls)\n",
        "sol.crawl(startUrl,htmlParser ) "
      ],
      "metadata": {
        "id": "wYnRLyf6T9M8"
      },
      "execution_count": null,
      "outputs": []
    }
  ]
}