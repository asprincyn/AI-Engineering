{
  "nbformat": 4,
  "nbformat_minor": 0,
  "metadata": {
    "colab": {
      "name": "821 Shortest Distance to a Character LeetCode",
      "provenance": [],
      "authorship_tag": "ABX9TyPDhZWgmbUd6EkJfa/D2iCY",
      "include_colab_link": true
    },
    "kernelspec": {
      "name": "python3",
      "display_name": "Python 3"
    },
    "language_info": {
      "name": "python"
    }
  },
  "cells": [
    {
      "cell_type": "markdown",
      "metadata": {
        "id": "view-in-github",
        "colab_type": "text"
      },
      "source": [
        "<a href=\"https://colab.research.google.com/github/plthiyagu/AI-Engineering/blob/master/15-LeetCode/821_Shortest_Distance_to_a_Character_LeetCode.ipynb\" target=\"_parent\"><img src=\"https://colab.research.google.com/assets/colab-badge.svg\" alt=\"Open In Colab\"/></a>"
      ]
    },
    {
      "cell_type": "code",
      "execution_count": 1,
      "metadata": {
        "id": "v-vhjaAJBRot"
      },
      "outputs": [],
      "source": [
        "class Solution:\n",
        "    def shortestToChar(self, S, C):\n",
        "        index_nums=[]\n",
        "        for i, letter in enumerate(S):\n",
        "            if letter == C: \n",
        "                index_nums.append(i)\n",
        "        ans = []\n",
        "        l=len(S)\n",
        "        l2=len(index_nums)\n",
        "        d=[None]*l2\n",
        "        for j in range(l):\n",
        "            for k in range(l2):\n",
        "                d[k]=abs(j-index_nums[k])\n",
        "            ans.append(min(d))\n",
        "        return ans"
      ]
    },
    {
      "cell_type": "code",
      "source": [
        " s = \"loveleetcode\"\n",
        " c = \"e\"\n",
        " sol= Solution()\n",
        " sol.shortestToChar(s,c)"
      ],
      "metadata": {
        "colab": {
          "base_uri": "https://localhost:8080/"
        },
        "id": "dwObaoh1C7_A",
        "outputId": "6ff4e647-bd8e-49eb-edee-f219f2c75e13"
      },
      "execution_count": 2,
      "outputs": [
        {
          "output_type": "execute_result",
          "data": {
            "text/plain": [
              "[3, 2, 1, 0, 1, 0, 0, 1, 2, 2, 1, 0]"
            ]
          },
          "metadata": {},
          "execution_count": 2
        }
      ]
    },
    {
      "cell_type": "code",
      "source": [
        ""
      ],
      "metadata": {
        "id": "v7GT-oQEDEYB"
      },
      "execution_count": null,
      "outputs": []
    }
  ]
}