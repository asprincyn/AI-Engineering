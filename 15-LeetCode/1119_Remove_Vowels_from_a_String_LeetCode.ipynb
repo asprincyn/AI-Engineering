{
  "nbformat": 4,
  "nbformat_minor": 0,
  "metadata": {
    "colab": {
      "name": "1119 Remove Vowels from a String LeetCode.ipynb",
      "provenance": [],
      "authorship_tag": "ABX9TyMQ15APmCGQ3KvaV1C5uruM",
      "include_colab_link": true
    },
    "kernelspec": {
      "name": "python3",
      "display_name": "Python 3"
    },
    "language_info": {
      "name": "python"
    }
  },
  "cells": [
    {
      "cell_type": "markdown",
      "metadata": {
        "id": "view-in-github",
        "colab_type": "text"
      },
      "source": [
        "<a href=\"https://colab.research.google.com/github/plthiyagu/AI-Engineering/blob/master/15-LeetCode/1119_Remove_Vowels_from_a_String_LeetCode.ipynb\" target=\"_parent\"><img src=\"https://colab.research.google.com/assets/colab-badge.svg\" alt=\"Open In Colab\"/></a>"
      ]
    },
    {
      "cell_type": "code",
      "execution_count": 1,
      "metadata": {
        "id": "JQzKlT9UEJNJ"
      },
      "outputs": [],
      "source": [
        "class Solution:\n",
        "    def removeVowels(self, S: str) -> str:\n",
        "        vowels = ['a', 'e', 'i', 'o', 'u']\n",
        "        new_string = \"\"\n",
        "        for letter in range(len(S)):\n",
        "            if S[letter] not in vowels:\n",
        "                new_string += S[letter]\n",
        "        return new_string "
      ]
    },
    {
      "cell_type": "code",
      "source": [
        "sol = Solution()"
      ],
      "metadata": {
        "id": "_-lKk_0dEKFv"
      },
      "execution_count": 2,
      "outputs": []
    },
    {
      "cell_type": "code",
      "source": [
        "sentence = \"The urgent care center was flooded with patients after the news of a new deadly virus was made public.\""
      ],
      "metadata": {
        "id": "GGCclxrRELwl"
      },
      "execution_count": 3,
      "outputs": []
    },
    {
      "cell_type": "code",
      "source": [
        "sol.removeVowels(sentence)"
      ],
      "metadata": {
        "colab": {
          "base_uri": "https://localhost:8080/",
          "height": 35
        },
        "id": "bwPV_22YEPpn",
        "outputId": "357b666d-25bb-46af-c928-c612fcada586"
      },
      "execution_count": 4,
      "outputs": [
        {
          "output_type": "execute_result",
          "data": {
            "application/vnd.google.colaboratory.intrinsic+json": {
              "type": "string"
            },
            "text/plain": [
              "'Th rgnt cr cntr ws fldd wth ptnts ftr th nws f  nw ddly vrs ws md pblc.'"
            ]
          },
          "metadata": {},
          "execution_count": 4
        }
      ]
    },
    {
      "cell_type": "code",
      "source": [
        ""
      ],
      "metadata": {
        "id": "zaTgoJxwETjQ"
      },
      "execution_count": null,
      "outputs": []
    }
  ]
}