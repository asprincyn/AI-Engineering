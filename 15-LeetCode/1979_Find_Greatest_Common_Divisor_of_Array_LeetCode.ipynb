{
  "nbformat": 4,
  "nbformat_minor": 0,
  "metadata": {
    "colab": {
      "name": "1979 Find Greatest Common Divisor of Array LeetCode.ipynb",
      "provenance": [],
      "authorship_tag": "ABX9TyM4uJmWsnQUVhTwA8Q3zwc6",
      "include_colab_link": true
    },
    "kernelspec": {
      "name": "python3",
      "display_name": "Python 3"
    },
    "language_info": {
      "name": "python"
    }
  },
  "cells": [
    {
      "cell_type": "markdown",
      "metadata": {
        "id": "view-in-github",
        "colab_type": "text"
      },
      "source": [
        "<a href=\"https://colab.research.google.com/github/plthiyagu/AI-Engineering/blob/master/15-LeetCode/1979_Find_Greatest_Common_Divisor_of_Array_LeetCode.ipynb\" target=\"_parent\"><img src=\"https://colab.research.google.com/assets/colab-badge.svg\" alt=\"Open In Colab\"/></a>"
      ]
    },
    {
      "cell_type": "code",
      "execution_count": 2,
      "metadata": {
        "id": "zUWZbMD3t8Aa"
      },
      "outputs": [],
      "source": [
        "from typing import List\n",
        "def findGCD( nums: List[int]) -> int:\n",
        "    if set(nums) == 1:\n",
        "        return nums[0]\n",
        "    mn = min(nums)\n",
        "    mx = max(nums)\n",
        "    for i in range(mn, 0, -1):\n",
        "        if mx%i==0 and mn%i==0:\n",
        "            return i"
      ]
    },
    {
      "cell_type": "code",
      "source": [
        "nums = [2,5,6,9,10]\n",
        "findGCD(nums)"
      ],
      "metadata": {
        "colab": {
          "base_uri": "https://localhost:8080/"
        },
        "id": "qwjmncmEt_QO",
        "outputId": "9ab67b49-d1cc-4b82-9133-a4043f5056e1"
      },
      "execution_count": 3,
      "outputs": [
        {
          "output_type": "execute_result",
          "data": {
            "text/plain": [
              "2"
            ]
          },
          "metadata": {},
          "execution_count": 3
        }
      ]
    }
  ]
}