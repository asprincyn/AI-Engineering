{
  "nbformat": 4,
  "nbformat_minor": 0,
  "metadata": {
    "colab": {
      "name": "222 Count Complete Tree Nodes LeetCode.ipynb",
      "provenance": [],
      "collapsed_sections": [],
      "authorship_tag": "ABX9TyMPGEWnwlyTR8oWZEbOhcWI",
      "include_colab_link": true
    },
    "kernelspec": {
      "name": "python3",
      "display_name": "Python 3"
    },
    "language_info": {
      "name": "python"
    }
  },
  "cells": [
    {
      "cell_type": "markdown",
      "metadata": {
        "id": "view-in-github",
        "colab_type": "text"
      },
      "source": [
        "<a href=\"https://colab.research.google.com/github/plthiyagu/AI-Engineering/blob/master/15-LeetCode/222_Count_Complete_Tree_Nodes_LeetCode.ipynb\" target=\"_parent\"><img src=\"https://colab.research.google.com/assets/colab-badge.svg\" alt=\"Open In Colab\"/></a>"
      ]
    },
    {
      "cell_type": "code",
      "execution_count": 3,
      "metadata": {
        "id": "GfLpYalMBcpK"
      },
      "outputs": [],
      "source": [
        "from typing import Optional\n",
        "# Definition for a binary tree node.\n",
        "class TreeNode:\n",
        "    def __init__(self, val=0, left=None, right=None):\n",
        "        self.val = val\n",
        "        self.left = left\n",
        "        self.right = right\n",
        "class Solution:\n",
        "    def countNodes(self, root: Optional[TreeNode]) -> int:\n",
        "        \n",
        "        left_depth = self.find_left_depth(root)\n",
        "        right_depth = self.find_right_depth(root)\n",
        "        \n",
        "        if left_depth == right_depth:\n",
        "            return 2**left_depth - 1\n",
        "        \n",
        "        return self.countNodes(root.left) + self.countNodes(root.right) + 1\n",
        "        \n",
        "    def find_left_depth(self, root):\n",
        "        if not root:\n",
        "            return 0\n",
        "        \n",
        "        return self.find_left_depth(root.left) + 1\n",
        "    \n",
        "    \n",
        "    def find_right_depth(self, root):\n",
        "        if not root:\n",
        "            return 0\n",
        "        \n",
        "        return self.find_right_depth(root.right) + 1"
      ]
    },
    {
      "cell_type": "code",
      "source": [
        " root = [1,2,3,4,5,6]"
      ],
      "metadata": {
        "id": "2ENY43HDBdVE"
      },
      "execution_count": null,
      "outputs": []
    }
  ]
}