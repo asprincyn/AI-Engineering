{
  "nbformat": 4,
  "nbformat_minor": 0,
  "metadata": {
    "colab": {
      "name": "896 Monotonic Array LeetCode.ipynb",
      "provenance": [],
      "authorship_tag": "ABX9TyPztyj3fadqnm6UDoKzPsAO",
      "include_colab_link": true
    },
    "kernelspec": {
      "name": "python3",
      "display_name": "Python 3"
    },
    "language_info": {
      "name": "python"
    }
  },
  "cells": [
    {
      "cell_type": "markdown",
      "metadata": {
        "id": "view-in-github",
        "colab_type": "text"
      },
      "source": [
        "<a href=\"https://colab.research.google.com/github/plthiyagu/AI-Engineering/blob/master/15-LeetCode/896_Monotonic_Array_LeetCode.ipynb\" target=\"_parent\"><img src=\"https://colab.research.google.com/assets/colab-badge.svg\" alt=\"Open In Colab\"/></a>"
      ]
    },
    {
      "cell_type": "code",
      "execution_count": 2,
      "metadata": {
        "id": "erA8t7g67gfI"
      },
      "outputs": [],
      "source": [
        "from typing import List\n",
        "class Solution:\n",
        "    def isMonotonic(self, nums: List[int]) -> bool:\n",
        "        increasing = True\n",
        "        decreasing = True\n",
        "        \n",
        "        for i in range(len(nums)-1):\n",
        "            if nums[i] > nums[i+1]:\n",
        "                increasing = False\n",
        "            \n",
        "            if nums[i] < nums[i+1]:\n",
        "                decreasing = False\n",
        "                \n",
        "        return increasing or decreasing"
      ]
    },
    {
      "cell_type": "code",
      "source": [
        "nums = [6,5,4,4]\n",
        "sol =Solution()\n",
        "sol.isMonotonic(nums)"
      ],
      "metadata": {
        "colab": {
          "base_uri": "https://localhost:8080/"
        },
        "id": "aFgaeU1c7h2C",
        "outputId": "2a1bd220-db73-44a2-c80c-3ee5a486461f"
      },
      "execution_count": 3,
      "outputs": [
        {
          "output_type": "execute_result",
          "data": {
            "text/plain": [
              "True"
            ]
          },
          "metadata": {},
          "execution_count": 3
        }
      ]
    },
    {
      "cell_type": "code",
      "source": [
        ""
      ],
      "metadata": {
        "id": "FxoVxMNS7tr0"
      },
      "execution_count": null,
      "outputs": []
    }
  ]
}