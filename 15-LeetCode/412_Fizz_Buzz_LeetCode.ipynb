{
  "nbformat": 4,
  "nbformat_minor": 0,
  "metadata": {
    "colab": {
      "name": "412 Fizz Buzz LeetCode.ipynb",
      "provenance": [],
      "authorship_tag": "ABX9TyNvYqmMxcscocXRn0WeqJST",
      "include_colab_link": true
    },
    "kernelspec": {
      "name": "python3",
      "display_name": "Python 3"
    },
    "language_info": {
      "name": "python"
    }
  },
  "cells": [
    {
      "cell_type": "markdown",
      "metadata": {
        "id": "view-in-github",
        "colab_type": "text"
      },
      "source": [
        "<a href=\"https://colab.research.google.com/github/plthiyagu/AI-Engineering/blob/master/15-LeetCode/412_Fizz_Buzz_LeetCode.ipynb\" target=\"_parent\"><img src=\"https://colab.research.google.com/assets/colab-badge.svg\" alt=\"Open In Colab\"/></a>"
      ]
    },
    {
      "cell_type": "code",
      "execution_count": 5,
      "metadata": {
        "id": "r4Bp-F7bub3p"
      },
      "outputs": [],
      "source": [
        "from typing import List\n",
        "class Solution:\n",
        "    def fizzBuzz(self, n: int) -> List[str]:\n",
        "      ans =[]\n",
        "      fizz_buzz_dict ={3:\"Fizz\",5:\"Buzz\"}\n",
        "      for num in range(1,n+1):\n",
        "        num_ans_str =\"\"\n",
        "        for key in fizz_buzz_dict.keys():\n",
        "          if num%key ==0:\n",
        "            num_ans_str +=  fizz_buzz_dict[key]\n",
        "        if not num_ans_str:\n",
        "          num_ans_str= str(num)\n",
        "        ans.append(num_ans_str)\n",
        "      return ans"
      ]
    },
    {
      "cell_type": "code",
      "source": [
        "n = 3\n",
        "sol = Solution()\n",
        "sol.fizzBuzz(n)"
      ],
      "metadata": {
        "colab": {
          "base_uri": "https://localhost:8080/"
        },
        "id": "6Qvvc6l2waqf",
        "outputId": "d4851134-68a7-41bb-ed4b-ca4420dd08f1"
      },
      "execution_count": 6,
      "outputs": [
        {
          "output_type": "execute_result",
          "data": {
            "text/plain": [
              "['1', '2', 'Fizz']"
            ]
          },
          "metadata": {},
          "execution_count": 6
        }
      ]
    },
    {
      "cell_type": "code",
      "source": [
        ""
      ],
      "metadata": {
        "id": "aJpS8DMrwjIh"
      },
      "execution_count": null,
      "outputs": []
    }
  ]
}